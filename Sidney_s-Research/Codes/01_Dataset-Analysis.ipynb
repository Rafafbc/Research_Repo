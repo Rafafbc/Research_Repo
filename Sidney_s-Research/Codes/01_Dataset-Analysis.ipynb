{
 "cells": [
  {
   "cell_type": "markdown",
   "metadata": {},
   "source": [
    "# Unziping the Dataset (.zip) and save on the desired path"
   ]
  },
  {
   "cell_type": "markdown",
   "metadata": {},
   "source": [
    "## 1 - Lib imports and preset of the paths"
   ]
  },
  {
   "cell_type": "code",
   "execution_count": 59,
   "metadata": {},
   "outputs": [],
   "source": [
    "import zipfile\n",
    "import os\n",
    "\n",
    "# Path to the ZIP file of the Dataset\n",
    "zip_file_path = \"D:/Documentos/GitHub/Research_Repo/Sidney_s-Research/Dataset/Partitioned LCL Data.zip\"\n",
    "\n",
    "# Path where the ZIP file will be extract\n",
    "extracted_file_path = \"D:/Documentos/GitHub/Research_Repo/Sidney_s-Research/Dataset\"\n",
    "\n",
    "# Make the \"Dataset/\" directory as the extract directory if it doesn´t exist\n",
    "os.makedirs(extracted_file_path, exist_ok=True)"
   ]
  },
  {
   "cell_type": "markdown",
   "metadata": {},
   "source": [
    "## 2 - Config the number of CSV files that will be take and extract it"
   ]
  },
  {
   "cell_type": "code",
   "execution_count": 57,
   "metadata": {},
   "outputs": [
    {
     "name": "stdout",
     "output_type": "stream",
     "text": [
      "n: 5\n"
     ]
    }
   ],
   "source": [
    "# Input the total number of CSV files that will be extracted\n",
    "n = int(input(\"Escolha quantos arquivos CSV você quer extrair (de 1 à 168):\"))\n",
    "#n -= 1\n",
    "\n",
    "print(\"n:\", n)"
   ]
  },
  {
   "cell_type": "code",
   "execution_count": 52,
   "metadata": {},
   "outputs": [
    {
     "name": "stdout",
     "output_type": "stream",
     "text": [
      "0\n",
      "1\n",
      "2\n",
      "3\n",
      "4\n"
     ]
    }
   ],
   "source": [
    "i = 0\n",
    "for i in range(0, n):\n",
    "    print(i)"
   ]
  },
  {
   "cell_type": "code",
   "execution_count": 61,
   "metadata": {},
   "outputs": [
    {
     "name": "stdout",
     "output_type": "stream",
     "text": [
      "Small LCL Data/LCL-June2015v2_0.csv\n",
      "Small LCL Data/LCL-June2015v2_1.csv\n",
      "Small LCL Data/LCL-June2015v2_10.csv\n",
      "Small LCL Data/LCL-June2015v2_100.csv\n",
      "Small LCL Data/LCL-June2015v2_101.csv\n",
      "Small LCL Data/LCL-June2015v2_102.csv\n",
      "Small LCL Data/LCL-June2015v2_103.csv\n",
      "Small LCL Data/LCL-June2015v2_104.csv\n",
      "Small LCL Data/LCL-June2015v2_105.csv\n",
      "Small LCL Data/LCL-June2015v2_106.csv\n",
      "Small LCL Data/LCL-June2015v2_107.csv\n",
      "Small LCL Data/LCL-June2015v2_108.csv\n",
      "Small LCL Data/LCL-June2015v2_109.csv\n",
      "Small LCL Data/LCL-June2015v2_11.csv\n",
      "Small LCL Data/LCL-June2015v2_110.csv\n",
      "Small LCL Data/LCL-June2015v2_111.csv\n",
      "Small LCL Data/LCL-June2015v2_112.csv\n",
      "Small LCL Data/LCL-June2015v2_113.csv\n",
      "Small LCL Data/LCL-June2015v2_114.csv\n",
      "Small LCL Data/LCL-June2015v2_115.csv\n",
      "Small LCL Data/LCL-June2015v2_116.csv\n",
      "Small LCL Data/LCL-June2015v2_117.csv\n",
      "Small LCL Data/LCL-June2015v2_118.csv\n",
      "Small LCL Data/LCL-June2015v2_119.csv\n",
      "Small LCL Data/LCL-June2015v2_12.csv\n",
      "Small LCL Data/LCL-June2015v2_120.csv\n",
      "Small LCL Data/LCL-June2015v2_121.csv\n",
      "Small LCL Data/LCL-June2015v2_122.csv\n",
      "Small LCL Data/LCL-June2015v2_123.csv\n",
      "Small LCL Data/LCL-June2015v2_124.csv\n",
      "Small LCL Data/LCL-June2015v2_125.csv\n",
      "Small LCL Data/LCL-June2015v2_126.csv\n",
      "Small LCL Data/LCL-June2015v2_127.csv\n",
      "Small LCL Data/LCL-June2015v2_128.csv\n",
      "Small LCL Data/LCL-June2015v2_129.csv\n",
      "Small LCL Data/LCL-June2015v2_13.csv\n",
      "Small LCL Data/LCL-June2015v2_130.csv\n",
      "Small LCL Data/LCL-June2015v2_131.csv\n",
      "Small LCL Data/LCL-June2015v2_132.csv\n",
      "Small LCL Data/LCL-June2015v2_133.csv\n",
      "Small LCL Data/LCL-June2015v2_134.csv\n",
      "Small LCL Data/LCL-June2015v2_135.csv\n",
      "Small LCL Data/LCL-June2015v2_136.csv\n",
      "Small LCL Data/LCL-June2015v2_137.csv\n",
      "Small LCL Data/LCL-June2015v2_138.csv\n",
      "Small LCL Data/LCL-June2015v2_139.csv\n",
      "Small LCL Data/LCL-June2015v2_14.csv\n",
      "Small LCL Data/LCL-June2015v2_140.csv\n",
      "Small LCL Data/LCL-June2015v2_141.csv\n",
      "Small LCL Data/LCL-June2015v2_142.csv\n",
      "Small LCL Data/LCL-June2015v2_143.csv\n",
      "Small LCL Data/LCL-June2015v2_144.csv\n",
      "Small LCL Data/LCL-June2015v2_145.csv\n",
      "Small LCL Data/LCL-June2015v2_146.csv\n",
      "Small LCL Data/LCL-June2015v2_147.csv\n",
      "Small LCL Data/LCL-June2015v2_148.csv\n",
      "Small LCL Data/LCL-June2015v2_149.csv\n",
      "Small LCL Data/LCL-June2015v2_15.csv\n",
      "Small LCL Data/LCL-June2015v2_150.csv\n",
      "Small LCL Data/LCL-June2015v2_151.csv\n",
      "Small LCL Data/LCL-June2015v2_152.csv\n",
      "Small LCL Data/LCL-June2015v2_153.csv\n",
      "Small LCL Data/LCL-June2015v2_154.csv\n",
      "Small LCL Data/LCL-June2015v2_155.csv\n",
      "Small LCL Data/LCL-June2015v2_156.csv\n",
      "Small LCL Data/LCL-June2015v2_157.csv\n",
      "Small LCL Data/LCL-June2015v2_158.csv\n",
      "Small LCL Data/LCL-June2015v2_159.csv\n",
      "Small LCL Data/LCL-June2015v2_16.csv\n",
      "Small LCL Data/LCL-June2015v2_160.csv\n",
      "Small LCL Data/LCL-June2015v2_161.csv\n",
      "Small LCL Data/LCL-June2015v2_162.csv\n",
      "Small LCL Data/LCL-June2015v2_163.csv\n",
      "Small LCL Data/LCL-June2015v2_164.csv\n",
      "Small LCL Data/LCL-June2015v2_165.csv\n",
      "Small LCL Data/LCL-June2015v2_166.csv\n",
      "Small LCL Data/LCL-June2015v2_167.csv\n",
      "Small LCL Data/LCL-June2015v2_17.csv\n",
      "Small LCL Data/LCL-June2015v2_18.csv\n",
      "Small LCL Data/LCL-June2015v2_19.csv\n",
      "Small LCL Data/LCL-June2015v2_2.csv\n",
      "Small LCL Data/LCL-June2015v2_20.csv\n",
      "Small LCL Data/LCL-June2015v2_21.csv\n",
      "Small LCL Data/LCL-June2015v2_22.csv\n",
      "Small LCL Data/LCL-June2015v2_23.csv\n",
      "Small LCL Data/LCL-June2015v2_24.csv\n",
      "Small LCL Data/LCL-June2015v2_25.csv\n",
      "Small LCL Data/LCL-June2015v2_26.csv\n",
      "Small LCL Data/LCL-June2015v2_27.csv\n",
      "Small LCL Data/LCL-June2015v2_28.csv\n",
      "Small LCL Data/LCL-June2015v2_29.csv\n",
      "Small LCL Data/LCL-June2015v2_3.csv\n",
      "Small LCL Data/LCL-June2015v2_30.csv\n",
      "Small LCL Data/LCL-June2015v2_31.csv\n",
      "Small LCL Data/LCL-June2015v2_32.csv\n",
      "Small LCL Data/LCL-June2015v2_33.csv\n",
      "Small LCL Data/LCL-June2015v2_34.csv\n",
      "Small LCL Data/LCL-June2015v2_35.csv\n",
      "Small LCL Data/LCL-June2015v2_36.csv\n",
      "Small LCL Data/LCL-June2015v2_37.csv\n",
      "Small LCL Data/LCL-June2015v2_38.csv\n",
      "Small LCL Data/LCL-June2015v2_39.csv\n",
      "Small LCL Data/LCL-June2015v2_4.csv\n",
      "Small LCL Data/LCL-June2015v2_40.csv\n",
      "Small LCL Data/LCL-June2015v2_41.csv\n",
      "Small LCL Data/LCL-June2015v2_42.csv\n",
      "Small LCL Data/LCL-June2015v2_43.csv\n",
      "Small LCL Data/LCL-June2015v2_44.csv\n",
      "Small LCL Data/LCL-June2015v2_45.csv\n",
      "Small LCL Data/LCL-June2015v2_46.csv\n",
      "Small LCL Data/LCL-June2015v2_47.csv\n",
      "Small LCL Data/LCL-June2015v2_48.csv\n",
      "Small LCL Data/LCL-June2015v2_49.csv\n",
      "Small LCL Data/LCL-June2015v2_5.csv\n",
      "Small LCL Data/LCL-June2015v2_50.csv\n",
      "Small LCL Data/LCL-June2015v2_51.csv\n",
      "Small LCL Data/LCL-June2015v2_52.csv\n",
      "Small LCL Data/LCL-June2015v2_53.csv\n",
      "Small LCL Data/LCL-June2015v2_54.csv\n",
      "Small LCL Data/LCL-June2015v2_55.csv\n",
      "Small LCL Data/LCL-June2015v2_56.csv\n",
      "Small LCL Data/LCL-June2015v2_57.csv\n",
      "Small LCL Data/LCL-June2015v2_58.csv\n",
      "Small LCL Data/LCL-June2015v2_59.csv\n",
      "Small LCL Data/LCL-June2015v2_6.csv\n",
      "Small LCL Data/LCL-June2015v2_60.csv\n",
      "Small LCL Data/LCL-June2015v2_61.csv\n",
      "Small LCL Data/LCL-June2015v2_62.csv\n",
      "Small LCL Data/LCL-June2015v2_63.csv\n",
      "Small LCL Data/LCL-June2015v2_64.csv\n",
      "Small LCL Data/LCL-June2015v2_65.csv\n",
      "Small LCL Data/LCL-June2015v2_66.csv\n",
      "Small LCL Data/LCL-June2015v2_67.csv\n",
      "Small LCL Data/LCL-June2015v2_68.csv\n",
      "Small LCL Data/LCL-June2015v2_69.csv\n",
      "Small LCL Data/LCL-June2015v2_7.csv\n",
      "Small LCL Data/LCL-June2015v2_70.csv\n",
      "Small LCL Data/LCL-June2015v2_71.csv\n",
      "Small LCL Data/LCL-June2015v2_72.csv\n",
      "Small LCL Data/LCL-June2015v2_73.csv\n",
      "Small LCL Data/LCL-June2015v2_74.csv\n",
      "Small LCL Data/LCL-June2015v2_75.csv\n",
      "Small LCL Data/LCL-June2015v2_76.csv\n",
      "Small LCL Data/LCL-June2015v2_77.csv\n",
      "Small LCL Data/LCL-June2015v2_78.csv\n",
      "Small LCL Data/LCL-June2015v2_79.csv\n",
      "Small LCL Data/LCL-June2015v2_8.csv\n",
      "Small LCL Data/LCL-June2015v2_80.csv\n",
      "Small LCL Data/LCL-June2015v2_81.csv\n",
      "Small LCL Data/LCL-June2015v2_82.csv\n",
      "Small LCL Data/LCL-June2015v2_83.csv\n",
      "Small LCL Data/LCL-June2015v2_84.csv\n",
      "Small LCL Data/LCL-June2015v2_85.csv\n",
      "Small LCL Data/LCL-June2015v2_86.csv\n",
      "Small LCL Data/LCL-June2015v2_87.csv\n",
      "Small LCL Data/LCL-June2015v2_88.csv\n",
      "Small LCL Data/LCL-June2015v2_89.csv\n",
      "Small LCL Data/LCL-June2015v2_9.csv\n",
      "Small LCL Data/LCL-June2015v2_90.csv\n",
      "Small LCL Data/LCL-June2015v2_91.csv\n",
      "Small LCL Data/LCL-June2015v2_92.csv\n",
      "Small LCL Data/LCL-June2015v2_93.csv\n",
      "Small LCL Data/LCL-June2015v2_94.csv\n",
      "Small LCL Data/LCL-June2015v2_95.csv\n",
      "Small LCL Data/LCL-June2015v2_96.csv\n",
      "Small LCL Data/LCL-June2015v2_97.csv\n",
      "Small LCL Data/LCL-June2015v2_98.csv\n",
      "Small LCL Data/LCL-June2015v2_99.csv\n"
     ]
    }
   ],
   "source": [
    "# Verify the name of all the files inside the ZIP\n",
    "with zipfile.ZipFile(zip_file_path, \"r\") as z:\n",
    "    for file_name in z.namelist():\n",
    "        print(file_name)  # Show the name of each file inside the ZIP"
   ]
  },
  {
   "cell_type": "code",
   "execution_count": 62,
   "metadata": {},
   "outputs": [
    {
     "name": "stdout",
     "output_type": "stream",
     "text": [
      "Estraído: Small LCL Data/LCL-June2015v2_0.csv\n",
      "Estraído: Small LCL Data/LCL-June2015v2_1.csv\n",
      "Estraído: Small LCL Data/LCL-June2015v2_2.csv\n",
      "Estraído: Small LCL Data/LCL-June2015v2_3.csv\n",
      "Estraído: Small LCL Data/LCL-June2015v2_4.csv\n"
     ]
    }
   ],
   "source": [
    "# Open and extract the ZIP file\n",
    "with zipfile.ZipFile(zip_file_path, \"r\") as z:\n",
    "    i = 0\n",
    "    for i in range(0, n):                           # Iterate in all the CSV until the desired number\n",
    "        csv_file_name = f\"Small LCL Data/LCL-June2015v2_{i}.csv\"   # Adjust the CSV file name with the number of it\n",
    "        if csv_file_name in z.namelist():           # Verify if the file exist in ZIP file\n",
    "            z.extract(csv_file_name, extracted_file_path)\n",
    "            print(f\"Estraído: {csv_file_name}\")\n",
    "        else:\n",
    "            print(f\"Arquivo não encontrado: {csv_file_name}\")"
   ]
  },
  {
   "cell_type": "markdown",
   "metadata": {},
   "source": [
    "# Analysing the dataset structure"
   ]
  }
 ],
 "metadata": {
  "kernelspec": {
   "display_name": "Python 3",
   "language": "python",
   "name": "python3"
  },
  "language_info": {
   "codemirror_mode": {
    "name": "ipython",
    "version": 3
   },
   "file_extension": ".py",
   "mimetype": "text/x-python",
   "name": "python",
   "nbconvert_exporter": "python",
   "pygments_lexer": "ipython3",
   "version": "3.11.0"
  }
 },
 "nbformat": 4,
 "nbformat_minor": 2
}
