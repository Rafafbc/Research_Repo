{
  "cells": [
    {
      "cell_type": "markdown",
      "source": [
        "> Iterating through files chunk by chunk: <https://pandas.pydata.org/docs/user_guide/io.html#iterating-through-files-chunk-by-chunk>"
      ],
      "metadata": {
        "id": "7j79QomRh298"
      }
    },
    {
      "cell_type": "markdown",
      "metadata": {
        "id": "ctY9zV6hMMKM"
      },
      "source": [
        "# 0 - Unziping the Splitted Dataset (.zip) and saving it in the desired path"
      ]
    },
    {
      "cell_type": "markdown",
      "metadata": {
        "id": "MV27B-59MMKN"
      },
      "source": [
        "## 1 - Lib imports and preset of the paths"
      ]
    },
    {
      "cell_type": "code",
      "execution_count": null,
      "metadata": {
        "id": "UMmm37FoMMKN"
      },
      "outputs": [],
      "source": [
        "import zipfile\n",
        "import os\n",
        "\n",
        "# Path to the ZIP file of the Dataset\n",
        "zip_file_path = \"D:/Documentos/GitHub/Research_Repo/Sidney_s-Research/Dataset/Partitioned LCL Data.zip\"\n",
        "\n",
        "# Path where the ZIP file will be extract\n",
        "extracted_file_path = \"D:/Documentos/GitHub/Research_Repo/Sidney_s-Research/Dataset\"\n",
        "\n",
        "# Make the \"Dataset/\" directory as the extract directory if it doesn´t exist\n",
        "os.makedirs(extracted_file_path, exist_ok=True)"
      ]
    },
    {
      "cell_type": "markdown",
      "metadata": {
        "id": "73kI1vUnMMKO"
      },
      "source": [
        "## 2 - Configuring the number of CSV files that will be taken, and extracting it"
      ]
    },
    {
      "cell_type": "code",
      "execution_count": null,
      "metadata": {
        "id": "n5CGmVdXMMKO",
        "outputId": "e3ccec7f-0fb9-454e-ce43-806ecbf51879"
      },
      "outputs": [
        {
          "ename": "ValueError",
          "evalue": "invalid literal for int() with base 10: ''",
          "output_type": "error",
          "traceback": [
            "\u001b[1;31m---------------------------------------------------------------------------\u001b[0m",
            "\u001b[1;31mValueError\u001b[0m                                Traceback (most recent call last)",
            "Cell \u001b[1;32mIn[7], line 2\u001b[0m\n\u001b[0;32m      1\u001b[0m \u001b[38;5;66;03m# Input the total number of CSV files that will be extracted\u001b[39;00m\n\u001b[1;32m----> 2\u001b[0m n \u001b[38;5;241m=\u001b[39m \u001b[38;5;28;43mint\u001b[39;49m\u001b[43m(\u001b[49m\u001b[38;5;28;43minput\u001b[39;49m\u001b[43m(\u001b[49m\u001b[38;5;124;43m\"\u001b[39;49m\u001b[38;5;124;43mEscolha quantos arquivos CSV você quer extrair (de 1 à 84):\u001b[39;49m\u001b[38;5;124;43m\"\u001b[39;49m\u001b[43m)\u001b[49m\u001b[43m)\u001b[49m\n\u001b[0;32m      3\u001b[0m \u001b[38;5;66;03m#n -= 1\u001b[39;00m\n\u001b[0;32m      5\u001b[0m \u001b[38;5;28mprint\u001b[39m(\u001b[38;5;124m\"\u001b[39m\u001b[38;5;124mn:\u001b[39m\u001b[38;5;124m\"\u001b[39m, n)\n",
            "\u001b[1;31mValueError\u001b[0m: invalid literal for int() with base 10: ''"
          ]
        }
      ],
      "source": [
        "# Input the total number of CSV files that will be extracted\n",
        "n = int(input(\"Escolha quantos arquivos CSV você quer extrair (de 1 à 84):\"))\n",
        "#n -= 1\n",
        "\n",
        "print(\"n:\", n)"
      ]
    },
    {
      "cell_type": "code",
      "execution_count": null,
      "metadata": {
        "id": "1pSL1fQUMMKP",
        "outputId": "a19ea23b-96cb-4521-8400-642350d0c3f6"
      },
      "outputs": [
        {
          "name": "stdout",
          "output_type": "stream",
          "text": [
            "0\n",
            "1\n",
            "2\n",
            "3\n",
            "4\n",
            "5\n",
            "6\n",
            "7\n",
            "8\n",
            "9\n",
            "10\n",
            "11\n",
            "12\n",
            "13\n",
            "14\n",
            "15\n",
            "16\n",
            "17\n",
            "18\n",
            "19\n",
            "20\n",
            "21\n",
            "22\n",
            "23\n",
            "24\n",
            "25\n",
            "26\n",
            "27\n",
            "28\n",
            "29\n",
            "30\n",
            "31\n",
            "32\n",
            "33\n",
            "34\n",
            "35\n",
            "36\n",
            "37\n",
            "38\n",
            "39\n",
            "40\n",
            "41\n",
            "42\n",
            "43\n",
            "44\n",
            "45\n",
            "46\n",
            "47\n",
            "48\n",
            "49\n",
            "50\n",
            "51\n",
            "52\n",
            "53\n",
            "54\n",
            "55\n",
            "56\n",
            "57\n",
            "58\n",
            "59\n",
            "60\n",
            "61\n",
            "62\n",
            "63\n",
            "64\n",
            "65\n",
            "66\n",
            "67\n",
            "68\n",
            "69\n",
            "70\n",
            "71\n",
            "72\n",
            "73\n",
            "74\n",
            "75\n",
            "76\n",
            "77\n",
            "78\n",
            "79\n",
            "80\n",
            "81\n",
            "82\n",
            "83\n",
            "84\n",
            "85\n",
            "86\n",
            "87\n",
            "88\n",
            "89\n",
            "90\n",
            "91\n",
            "92\n",
            "93\n",
            "94\n",
            "95\n",
            "96\n",
            "97\n",
            "98\n",
            "99\n",
            "100\n",
            "101\n",
            "102\n",
            "103\n",
            "104\n",
            "105\n",
            "106\n",
            "107\n",
            "108\n",
            "109\n",
            "110\n",
            "111\n",
            "112\n",
            "113\n",
            "114\n",
            "115\n",
            "116\n",
            "117\n",
            "118\n",
            "119\n",
            "120\n",
            "121\n",
            "122\n",
            "123\n",
            "124\n",
            "125\n",
            "126\n",
            "127\n",
            "128\n",
            "129\n",
            "130\n",
            "131\n",
            "132\n",
            "133\n",
            "134\n",
            "135\n",
            "136\n",
            "137\n",
            "138\n",
            "139\n",
            "140\n",
            "141\n",
            "142\n",
            "143\n",
            "144\n",
            "145\n",
            "146\n",
            "147\n",
            "148\n",
            "149\n",
            "150\n",
            "151\n",
            "152\n",
            "153\n",
            "154\n",
            "155\n",
            "156\n",
            "157\n",
            "158\n",
            "159\n",
            "160\n",
            "161\n",
            "162\n",
            "163\n",
            "164\n",
            "165\n",
            "166\n",
            "167\n"
          ]
        }
      ],
      "source": [
        "i = 0\n",
        "for i in range(0, n):\n",
        "    print(i)"
      ]
    },
    {
      "cell_type": "code",
      "execution_count": null,
      "metadata": {
        "id": "ypkZ0j39MMKP",
        "outputId": "175cbf0d-87a0-47d1-b4cd-04a418e3a27e"
      },
      "outputs": [
        {
          "name": "stdout",
          "output_type": "stream",
          "text": [
            "Small LCL Data/LCL-June2015v2_0.csv\n",
            "Small LCL Data/LCL-June2015v2_1.csv\n",
            "Small LCL Data/LCL-June2015v2_10.csv\n",
            "Small LCL Data/LCL-June2015v2_100.csv\n",
            "Small LCL Data/LCL-June2015v2_101.csv\n",
            "Small LCL Data/LCL-June2015v2_102.csv\n",
            "Small LCL Data/LCL-June2015v2_103.csv\n",
            "Small LCL Data/LCL-June2015v2_104.csv\n",
            "Small LCL Data/LCL-June2015v2_105.csv\n",
            "Small LCL Data/LCL-June2015v2_106.csv\n",
            "Small LCL Data/LCL-June2015v2_107.csv\n",
            "Small LCL Data/LCL-June2015v2_108.csv\n",
            "Small LCL Data/LCL-June2015v2_109.csv\n",
            "Small LCL Data/LCL-June2015v2_11.csv\n",
            "Small LCL Data/LCL-June2015v2_110.csv\n",
            "Small LCL Data/LCL-June2015v2_111.csv\n",
            "Small LCL Data/LCL-June2015v2_112.csv\n",
            "Small LCL Data/LCL-June2015v2_113.csv\n",
            "Small LCL Data/LCL-June2015v2_114.csv\n",
            "Small LCL Data/LCL-June2015v2_115.csv\n",
            "Small LCL Data/LCL-June2015v2_116.csv\n",
            "Small LCL Data/LCL-June2015v2_117.csv\n",
            "Small LCL Data/LCL-June2015v2_118.csv\n",
            "Small LCL Data/LCL-June2015v2_119.csv\n",
            "Small LCL Data/LCL-June2015v2_12.csv\n",
            "Small LCL Data/LCL-June2015v2_120.csv\n",
            "Small LCL Data/LCL-June2015v2_121.csv\n",
            "Small LCL Data/LCL-June2015v2_122.csv\n",
            "Small LCL Data/LCL-June2015v2_123.csv\n",
            "Small LCL Data/LCL-June2015v2_124.csv\n",
            "Small LCL Data/LCL-June2015v2_125.csv\n",
            "Small LCL Data/LCL-June2015v2_126.csv\n",
            "Small LCL Data/LCL-June2015v2_127.csv\n",
            "Small LCL Data/LCL-June2015v2_128.csv\n",
            "Small LCL Data/LCL-June2015v2_129.csv\n",
            "Small LCL Data/LCL-June2015v2_13.csv\n",
            "Small LCL Data/LCL-June2015v2_130.csv\n",
            "Small LCL Data/LCL-June2015v2_131.csv\n",
            "Small LCL Data/LCL-June2015v2_132.csv\n",
            "Small LCL Data/LCL-June2015v2_133.csv\n",
            "Small LCL Data/LCL-June2015v2_134.csv\n",
            "Small LCL Data/LCL-June2015v2_135.csv\n",
            "Small LCL Data/LCL-June2015v2_136.csv\n",
            "Small LCL Data/LCL-June2015v2_137.csv\n",
            "Small LCL Data/LCL-June2015v2_138.csv\n",
            "Small LCL Data/LCL-June2015v2_139.csv\n",
            "Small LCL Data/LCL-June2015v2_14.csv\n",
            "Small LCL Data/LCL-June2015v2_140.csv\n",
            "Small LCL Data/LCL-June2015v2_141.csv\n",
            "Small LCL Data/LCL-June2015v2_142.csv\n",
            "Small LCL Data/LCL-June2015v2_143.csv\n",
            "Small LCL Data/LCL-June2015v2_144.csv\n",
            "Small LCL Data/LCL-June2015v2_145.csv\n",
            "Small LCL Data/LCL-June2015v2_146.csv\n",
            "Small LCL Data/LCL-June2015v2_147.csv\n",
            "Small LCL Data/LCL-June2015v2_148.csv\n",
            "Small LCL Data/LCL-June2015v2_149.csv\n",
            "Small LCL Data/LCL-June2015v2_15.csv\n",
            "Small LCL Data/LCL-June2015v2_150.csv\n",
            "Small LCL Data/LCL-June2015v2_151.csv\n",
            "Small LCL Data/LCL-June2015v2_152.csv\n",
            "Small LCL Data/LCL-June2015v2_153.csv\n",
            "Small LCL Data/LCL-June2015v2_154.csv\n",
            "Small LCL Data/LCL-June2015v2_155.csv\n",
            "Small LCL Data/LCL-June2015v2_156.csv\n",
            "Small LCL Data/LCL-June2015v2_157.csv\n",
            "Small LCL Data/LCL-June2015v2_158.csv\n",
            "Small LCL Data/LCL-June2015v2_159.csv\n",
            "Small LCL Data/LCL-June2015v2_16.csv\n",
            "Small LCL Data/LCL-June2015v2_160.csv\n",
            "Small LCL Data/LCL-June2015v2_161.csv\n",
            "Small LCL Data/LCL-June2015v2_162.csv\n",
            "Small LCL Data/LCL-June2015v2_163.csv\n",
            "Small LCL Data/LCL-June2015v2_164.csv\n",
            "Small LCL Data/LCL-June2015v2_165.csv\n",
            "Small LCL Data/LCL-June2015v2_166.csv\n",
            "Small LCL Data/LCL-June2015v2_167.csv\n",
            "Small LCL Data/LCL-June2015v2_17.csv\n",
            "Small LCL Data/LCL-June2015v2_18.csv\n",
            "Small LCL Data/LCL-June2015v2_19.csv\n",
            "Small LCL Data/LCL-June2015v2_2.csv\n",
            "Small LCL Data/LCL-June2015v2_20.csv\n",
            "Small LCL Data/LCL-June2015v2_21.csv\n",
            "Small LCL Data/LCL-June2015v2_22.csv\n",
            "Small LCL Data/LCL-June2015v2_23.csv\n",
            "Small LCL Data/LCL-June2015v2_24.csv\n",
            "Small LCL Data/LCL-June2015v2_25.csv\n",
            "Small LCL Data/LCL-June2015v2_26.csv\n",
            "Small LCL Data/LCL-June2015v2_27.csv\n",
            "Small LCL Data/LCL-June2015v2_28.csv\n",
            "Small LCL Data/LCL-June2015v2_29.csv\n",
            "Small LCL Data/LCL-June2015v2_3.csv\n",
            "Small LCL Data/LCL-June2015v2_30.csv\n",
            "Small LCL Data/LCL-June2015v2_31.csv\n",
            "Small LCL Data/LCL-June2015v2_32.csv\n",
            "Small LCL Data/LCL-June2015v2_33.csv\n",
            "Small LCL Data/LCL-June2015v2_34.csv\n",
            "Small LCL Data/LCL-June2015v2_35.csv\n",
            "Small LCL Data/LCL-June2015v2_36.csv\n",
            "Small LCL Data/LCL-June2015v2_37.csv\n",
            "Small LCL Data/LCL-June2015v2_38.csv\n",
            "Small LCL Data/LCL-June2015v2_39.csv\n",
            "Small LCL Data/LCL-June2015v2_4.csv\n",
            "Small LCL Data/LCL-June2015v2_40.csv\n",
            "Small LCL Data/LCL-June2015v2_41.csv\n",
            "Small LCL Data/LCL-June2015v2_42.csv\n",
            "Small LCL Data/LCL-June2015v2_43.csv\n",
            "Small LCL Data/LCL-June2015v2_44.csv\n",
            "Small LCL Data/LCL-June2015v2_45.csv\n",
            "Small LCL Data/LCL-June2015v2_46.csv\n",
            "Small LCL Data/LCL-June2015v2_47.csv\n",
            "Small LCL Data/LCL-June2015v2_48.csv\n",
            "Small LCL Data/LCL-June2015v2_49.csv\n",
            "Small LCL Data/LCL-June2015v2_5.csv\n",
            "Small LCL Data/LCL-June2015v2_50.csv\n",
            "Small LCL Data/LCL-June2015v2_51.csv\n",
            "Small LCL Data/LCL-June2015v2_52.csv\n",
            "Small LCL Data/LCL-June2015v2_53.csv\n",
            "Small LCL Data/LCL-June2015v2_54.csv\n",
            "Small LCL Data/LCL-June2015v2_55.csv\n",
            "Small LCL Data/LCL-June2015v2_56.csv\n",
            "Small LCL Data/LCL-June2015v2_57.csv\n",
            "Small LCL Data/LCL-June2015v2_58.csv\n",
            "Small LCL Data/LCL-June2015v2_59.csv\n",
            "Small LCL Data/LCL-June2015v2_6.csv\n",
            "Small LCL Data/LCL-June2015v2_60.csv\n",
            "Small LCL Data/LCL-June2015v2_61.csv\n",
            "Small LCL Data/LCL-June2015v2_62.csv\n",
            "Small LCL Data/LCL-June2015v2_63.csv\n",
            "Small LCL Data/LCL-June2015v2_64.csv\n",
            "Small LCL Data/LCL-June2015v2_65.csv\n",
            "Small LCL Data/LCL-June2015v2_66.csv\n",
            "Small LCL Data/LCL-June2015v2_67.csv\n",
            "Small LCL Data/LCL-June2015v2_68.csv\n",
            "Small LCL Data/LCL-June2015v2_69.csv\n",
            "Small LCL Data/LCL-June2015v2_7.csv\n",
            "Small LCL Data/LCL-June2015v2_70.csv\n",
            "Small LCL Data/LCL-June2015v2_71.csv\n",
            "Small LCL Data/LCL-June2015v2_72.csv\n",
            "Small LCL Data/LCL-June2015v2_73.csv\n",
            "Small LCL Data/LCL-June2015v2_74.csv\n",
            "Small LCL Data/LCL-June2015v2_75.csv\n",
            "Small LCL Data/LCL-June2015v2_76.csv\n",
            "Small LCL Data/LCL-June2015v2_77.csv\n",
            "Small LCL Data/LCL-June2015v2_78.csv\n",
            "Small LCL Data/LCL-June2015v2_79.csv\n",
            "Small LCL Data/LCL-June2015v2_8.csv\n",
            "Small LCL Data/LCL-June2015v2_80.csv\n",
            "Small LCL Data/LCL-June2015v2_81.csv\n",
            "Small LCL Data/LCL-June2015v2_82.csv\n",
            "Small LCL Data/LCL-June2015v2_83.csv\n",
            "Small LCL Data/LCL-June2015v2_84.csv\n",
            "Small LCL Data/LCL-June2015v2_85.csv\n",
            "Small LCL Data/LCL-June2015v2_86.csv\n",
            "Small LCL Data/LCL-June2015v2_87.csv\n",
            "Small LCL Data/LCL-June2015v2_88.csv\n",
            "Small LCL Data/LCL-June2015v2_89.csv\n",
            "Small LCL Data/LCL-June2015v2_9.csv\n",
            "Small LCL Data/LCL-June2015v2_90.csv\n",
            "Small LCL Data/LCL-June2015v2_91.csv\n",
            "Small LCL Data/LCL-June2015v2_92.csv\n",
            "Small LCL Data/LCL-June2015v2_93.csv\n",
            "Small LCL Data/LCL-June2015v2_94.csv\n",
            "Small LCL Data/LCL-June2015v2_95.csv\n",
            "Small LCL Data/LCL-June2015v2_96.csv\n",
            "Small LCL Data/LCL-June2015v2_97.csv\n",
            "Small LCL Data/LCL-June2015v2_98.csv\n",
            "Small LCL Data/LCL-June2015v2_99.csv\n"
          ]
        }
      ],
      "source": [
        "# Verify the name of all the files inside the ZIP\n",
        "with zipfile.ZipFile(zip_file_path, \"r\") as z:\n",
        "    for file_name in z.namelist():\n",
        "        print(file_name)  # Show the name of each file inside the ZIP"
      ]
    },
    {
      "cell_type": "code",
      "execution_count": null,
      "metadata": {
        "id": "ZKHFJflTMMKP",
        "outputId": "f6af6974-23c9-4550-9a4a-0c502d5ab5e3"
      },
      "outputs": [
        {
          "name": "stdout",
          "output_type": "stream",
          "text": [
            "Estraído: Small LCL Data/LCL-June2015v2_0.csv\n",
            "Estraído: Small LCL Data/LCL-June2015v2_1.csv\n",
            "Estraído: Small LCL Data/LCL-June2015v2_2.csv\n",
            "Estraído: Small LCL Data/LCL-June2015v2_3.csv\n",
            "Estraído: Small LCL Data/LCL-June2015v2_4.csv\n",
            "Estraído: Small LCL Data/LCL-June2015v2_5.csv\n",
            "Estraído: Small LCL Data/LCL-June2015v2_6.csv\n",
            "Estraído: Small LCL Data/LCL-June2015v2_7.csv\n",
            "Estraído: Small LCL Data/LCL-June2015v2_8.csv\n",
            "Estraído: Small LCL Data/LCL-June2015v2_9.csv\n",
            "Estraído: Small LCL Data/LCL-June2015v2_10.csv\n",
            "Estraído: Small LCL Data/LCL-June2015v2_11.csv\n",
            "Estraído: Small LCL Data/LCL-June2015v2_12.csv\n",
            "Estraído: Small LCL Data/LCL-June2015v2_13.csv\n",
            "Estraído: Small LCL Data/LCL-June2015v2_14.csv\n",
            "Estraído: Small LCL Data/LCL-June2015v2_15.csv\n",
            "Estraído: Small LCL Data/LCL-June2015v2_16.csv\n",
            "Estraído: Small LCL Data/LCL-June2015v2_17.csv\n",
            "Estraído: Small LCL Data/LCL-June2015v2_18.csv\n",
            "Estraído: Small LCL Data/LCL-June2015v2_19.csv\n",
            "Estraído: Small LCL Data/LCL-June2015v2_20.csv\n",
            "Estraído: Small LCL Data/LCL-June2015v2_21.csv\n",
            "Estraído: Small LCL Data/LCL-June2015v2_22.csv\n",
            "Estraído: Small LCL Data/LCL-June2015v2_23.csv\n",
            "Estraído: Small LCL Data/LCL-June2015v2_24.csv\n",
            "Estraído: Small LCL Data/LCL-June2015v2_25.csv\n",
            "Estraído: Small LCL Data/LCL-June2015v2_26.csv\n",
            "Estraído: Small LCL Data/LCL-June2015v2_27.csv\n",
            "Estraído: Small LCL Data/LCL-June2015v2_28.csv\n",
            "Estraído: Small LCL Data/LCL-June2015v2_29.csv\n",
            "Estraído: Small LCL Data/LCL-June2015v2_30.csv\n",
            "Estraído: Small LCL Data/LCL-June2015v2_31.csv\n",
            "Estraído: Small LCL Data/LCL-June2015v2_32.csv\n",
            "Estraído: Small LCL Data/LCL-June2015v2_33.csv\n",
            "Estraído: Small LCL Data/LCL-June2015v2_34.csv\n",
            "Estraído: Small LCL Data/LCL-June2015v2_35.csv\n",
            "Estraído: Small LCL Data/LCL-June2015v2_36.csv\n",
            "Estraído: Small LCL Data/LCL-June2015v2_37.csv\n",
            "Estraído: Small LCL Data/LCL-June2015v2_38.csv\n",
            "Estraído: Small LCL Data/LCL-June2015v2_39.csv\n",
            "Estraído: Small LCL Data/LCL-June2015v2_40.csv\n",
            "Estraído: Small LCL Data/LCL-June2015v2_41.csv\n",
            "Estraído: Small LCL Data/LCL-June2015v2_42.csv\n",
            "Estraído: Small LCL Data/LCL-June2015v2_43.csv\n",
            "Estraído: Small LCL Data/LCL-June2015v2_44.csv\n",
            "Estraído: Small LCL Data/LCL-June2015v2_45.csv\n",
            "Estraído: Small LCL Data/LCL-June2015v2_46.csv\n",
            "Estraído: Small LCL Data/LCL-June2015v2_47.csv\n",
            "Estraído: Small LCL Data/LCL-June2015v2_48.csv\n",
            "Estraído: Small LCL Data/LCL-June2015v2_49.csv\n",
            "Estraído: Small LCL Data/LCL-June2015v2_50.csv\n",
            "Estraído: Small LCL Data/LCL-June2015v2_51.csv\n",
            "Estraído: Small LCL Data/LCL-June2015v2_52.csv\n",
            "Estraído: Small LCL Data/LCL-June2015v2_53.csv\n",
            "Estraído: Small LCL Data/LCL-June2015v2_54.csv\n",
            "Estraído: Small LCL Data/LCL-June2015v2_55.csv\n",
            "Estraído: Small LCL Data/LCL-June2015v2_56.csv\n",
            "Estraído: Small LCL Data/LCL-June2015v2_57.csv\n",
            "Estraído: Small LCL Data/LCL-June2015v2_58.csv\n",
            "Estraído: Small LCL Data/LCL-June2015v2_59.csv\n",
            "Estraído: Small LCL Data/LCL-June2015v2_60.csv\n",
            "Estraído: Small LCL Data/LCL-June2015v2_61.csv\n",
            "Estraído: Small LCL Data/LCL-June2015v2_62.csv\n",
            "Estraído: Small LCL Data/LCL-June2015v2_63.csv\n",
            "Estraído: Small LCL Data/LCL-June2015v2_64.csv\n",
            "Estraído: Small LCL Data/LCL-June2015v2_65.csv\n",
            "Estraído: Small LCL Data/LCL-June2015v2_66.csv\n",
            "Estraído: Small LCL Data/LCL-June2015v2_67.csv\n",
            "Estraído: Small LCL Data/LCL-June2015v2_68.csv\n",
            "Estraído: Small LCL Data/LCL-June2015v2_69.csv\n",
            "Estraído: Small LCL Data/LCL-June2015v2_70.csv\n",
            "Estraído: Small LCL Data/LCL-June2015v2_71.csv\n",
            "Estraído: Small LCL Data/LCL-June2015v2_72.csv\n",
            "Estraído: Small LCL Data/LCL-June2015v2_73.csv\n",
            "Estraído: Small LCL Data/LCL-June2015v2_74.csv\n",
            "Estraído: Small LCL Data/LCL-June2015v2_75.csv\n",
            "Estraído: Small LCL Data/LCL-June2015v2_76.csv\n",
            "Estraído: Small LCL Data/LCL-June2015v2_77.csv\n",
            "Estraído: Small LCL Data/LCL-June2015v2_78.csv\n",
            "Estraído: Small LCL Data/LCL-June2015v2_79.csv\n",
            "Estraído: Small LCL Data/LCL-June2015v2_80.csv\n",
            "Estraído: Small LCL Data/LCL-June2015v2_81.csv\n",
            "Estraído: Small LCL Data/LCL-June2015v2_82.csv\n",
            "Estraído: Small LCL Data/LCL-June2015v2_83.csv\n",
            "Estraído: Small LCL Data/LCL-June2015v2_84.csv\n",
            "Estraído: Small LCL Data/LCL-June2015v2_85.csv\n",
            "Estraído: Small LCL Data/LCL-June2015v2_86.csv\n",
            "Estraído: Small LCL Data/LCL-June2015v2_87.csv\n",
            "Estraído: Small LCL Data/LCL-June2015v2_88.csv\n",
            "Estraído: Small LCL Data/LCL-June2015v2_89.csv\n",
            "Estraído: Small LCL Data/LCL-June2015v2_90.csv\n",
            "Estraído: Small LCL Data/LCL-June2015v2_91.csv\n",
            "Estraído: Small LCL Data/LCL-June2015v2_92.csv\n",
            "Estraído: Small LCL Data/LCL-June2015v2_93.csv\n",
            "Estraído: Small LCL Data/LCL-June2015v2_94.csv\n",
            "Estraído: Small LCL Data/LCL-June2015v2_95.csv\n",
            "Estraído: Small LCL Data/LCL-June2015v2_96.csv\n",
            "Estraído: Small LCL Data/LCL-June2015v2_97.csv\n",
            "Estraído: Small LCL Data/LCL-June2015v2_98.csv\n",
            "Estraído: Small LCL Data/LCL-June2015v2_99.csv\n",
            "Estraído: Small LCL Data/LCL-June2015v2_100.csv\n",
            "Estraído: Small LCL Data/LCL-June2015v2_101.csv\n",
            "Estraído: Small LCL Data/LCL-June2015v2_102.csv\n",
            "Estraído: Small LCL Data/LCL-June2015v2_103.csv\n",
            "Estraído: Small LCL Data/LCL-June2015v2_104.csv\n",
            "Estraído: Small LCL Data/LCL-June2015v2_105.csv\n",
            "Estraído: Small LCL Data/LCL-June2015v2_106.csv\n",
            "Estraído: Small LCL Data/LCL-June2015v2_107.csv\n",
            "Estraído: Small LCL Data/LCL-June2015v2_108.csv\n",
            "Estraído: Small LCL Data/LCL-June2015v2_109.csv\n",
            "Estraído: Small LCL Data/LCL-June2015v2_110.csv\n",
            "Estraído: Small LCL Data/LCL-June2015v2_111.csv\n",
            "Estraído: Small LCL Data/LCL-June2015v2_112.csv\n",
            "Estraído: Small LCL Data/LCL-June2015v2_113.csv\n",
            "Estraído: Small LCL Data/LCL-June2015v2_114.csv\n",
            "Estraído: Small LCL Data/LCL-June2015v2_115.csv\n",
            "Estraído: Small LCL Data/LCL-June2015v2_116.csv\n",
            "Estraído: Small LCL Data/LCL-June2015v2_117.csv\n",
            "Estraído: Small LCL Data/LCL-June2015v2_118.csv\n",
            "Estraído: Small LCL Data/LCL-June2015v2_119.csv\n",
            "Estraído: Small LCL Data/LCL-June2015v2_120.csv\n",
            "Estraído: Small LCL Data/LCL-June2015v2_121.csv\n",
            "Estraído: Small LCL Data/LCL-June2015v2_122.csv\n",
            "Estraído: Small LCL Data/LCL-June2015v2_123.csv\n",
            "Estraído: Small LCL Data/LCL-June2015v2_124.csv\n",
            "Estraído: Small LCL Data/LCL-June2015v2_125.csv\n",
            "Estraído: Small LCL Data/LCL-June2015v2_126.csv\n",
            "Estraído: Small LCL Data/LCL-June2015v2_127.csv\n",
            "Estraído: Small LCL Data/LCL-June2015v2_128.csv\n",
            "Estraído: Small LCL Data/LCL-June2015v2_129.csv\n",
            "Estraído: Small LCL Data/LCL-June2015v2_130.csv\n",
            "Estraído: Small LCL Data/LCL-June2015v2_131.csv\n",
            "Estraído: Small LCL Data/LCL-June2015v2_132.csv\n",
            "Estraído: Small LCL Data/LCL-June2015v2_133.csv\n",
            "Estraído: Small LCL Data/LCL-June2015v2_134.csv\n",
            "Estraído: Small LCL Data/LCL-June2015v2_135.csv\n",
            "Estraído: Small LCL Data/LCL-June2015v2_136.csv\n",
            "Estraído: Small LCL Data/LCL-June2015v2_137.csv\n",
            "Estraído: Small LCL Data/LCL-June2015v2_138.csv\n",
            "Estraído: Small LCL Data/LCL-June2015v2_139.csv\n",
            "Estraído: Small LCL Data/LCL-June2015v2_140.csv\n",
            "Estraído: Small LCL Data/LCL-June2015v2_141.csv\n",
            "Estraído: Small LCL Data/LCL-June2015v2_142.csv\n",
            "Estraído: Small LCL Data/LCL-June2015v2_143.csv\n",
            "Estraído: Small LCL Data/LCL-June2015v2_144.csv\n",
            "Estraído: Small LCL Data/LCL-June2015v2_145.csv\n",
            "Estraído: Small LCL Data/LCL-June2015v2_146.csv\n",
            "Estraído: Small LCL Data/LCL-June2015v2_147.csv\n",
            "Estraído: Small LCL Data/LCL-June2015v2_148.csv\n",
            "Estraído: Small LCL Data/LCL-June2015v2_149.csv\n",
            "Estraído: Small LCL Data/LCL-June2015v2_150.csv\n",
            "Estraído: Small LCL Data/LCL-June2015v2_151.csv\n",
            "Estraído: Small LCL Data/LCL-June2015v2_152.csv\n",
            "Estraído: Small LCL Data/LCL-June2015v2_153.csv\n",
            "Estraído: Small LCL Data/LCL-June2015v2_154.csv\n",
            "Estraído: Small LCL Data/LCL-June2015v2_155.csv\n",
            "Estraído: Small LCL Data/LCL-June2015v2_156.csv\n",
            "Estraído: Small LCL Data/LCL-June2015v2_157.csv\n",
            "Estraído: Small LCL Data/LCL-June2015v2_158.csv\n",
            "Estraído: Small LCL Data/LCL-June2015v2_159.csv\n",
            "Estraído: Small LCL Data/LCL-June2015v2_160.csv\n",
            "Estraído: Small LCL Data/LCL-June2015v2_161.csv\n",
            "Estraído: Small LCL Data/LCL-June2015v2_162.csv\n",
            "Estraído: Small LCL Data/LCL-June2015v2_163.csv\n",
            "Estraído: Small LCL Data/LCL-June2015v2_164.csv\n",
            "Estraído: Small LCL Data/LCL-June2015v2_165.csv\n",
            "Estraído: Small LCL Data/LCL-June2015v2_166.csv\n",
            "Estraído: Small LCL Data/LCL-June2015v2_167.csv\n"
          ]
        }
      ],
      "source": [
        "# Open and extract the ZIP file\n",
        "with zipfile.ZipFile(zip_file_path, \"r\") as z:\n",
        "    i = 0\n",
        "    for i in range(0, n):                           # Iterate in all the CSV until the desired number\n",
        "        csv_file_name = f\"Small LCL Data/LCL-June2015v2_{i}.csv\"   # Adjust the CSV file name with the number of it\n",
        "        if csv_file_name in z.namelist():           # Verify if the file exist in ZIP file\n",
        "            z.extract(csv_file_name, extracted_file_path)\n",
        "            print(f\"Estraído: {csv_file_name}\")\n",
        "        else:\n",
        "            print(f\"Arquivo não encontrado: {csv_file_name}\")"
      ]
    },
    {
      "cell_type": "markdown",
      "metadata": {
        "id": "QCnSCo5UMMKQ"
      },
      "source": [
        "## 3 - Merging and safing the Dataset slices"
      ]
    },
    {
      "cell_type": "markdown",
      "metadata": {
        "id": "KAhTEaatMMKQ"
      },
      "source": [
        "### 0 - Getting a list with all the available <span style=\"color: orange; font-family: Monaco\">.csv</span> files of the Dataset, and your shape"
      ]
    },
    {
      "cell_type": "code",
      "execution_count": null,
      "metadata": {
        "id": "Sgh1kb95MMKQ",
        "outputId": "add00123-f4f5-48b8-b70c-d66271cafb0b"
      },
      "outputs": [
        {
          "name": "stdout",
          "output_type": "stream",
          "text": [
            "Lido \"LCL-June2015v2_0.csv\": (1000000, 4)\n",
            "Lido \"LCL-June2015v2_1.csv\": (1000000, 4)\n",
            "Lido \"LCL-June2015v2_10.csv\": (1000000, 4)\n",
            "Lido \"LCL-June2015v2_100.csv\": (1000000, 4)\n",
            "Lido \"LCL-June2015v2_101.csv\": (1000000, 4)\n",
            "Lido \"LCL-June2015v2_102.csv\": (1000000, 4)\n",
            "Lido \"LCL-June2015v2_103.csv\": (1000000, 4)\n",
            "Lido \"LCL-June2015v2_104.csv\": (1000000, 4)\n",
            "Lido \"LCL-June2015v2_105.csv\": (1000000, 4)\n",
            "Lido \"LCL-June2015v2_106.csv\": (1000000, 4)\n",
            "Lido \"LCL-June2015v2_107.csv\": (1000000, 4)\n",
            "Lido \"LCL-June2015v2_108.csv\": (1000000, 4)\n",
            "Lido \"LCL-June2015v2_109.csv\": (1000000, 4)\n",
            "Lido \"LCL-June2015v2_11.csv\": (1000000, 4)\n",
            "Lido \"LCL-June2015v2_110.csv\": (1000000, 4)\n",
            "Lido \"LCL-June2015v2_111.csv\": (1000000, 4)\n",
            "Lido \"LCL-June2015v2_112.csv\": (1000000, 4)\n",
            "Lido \"LCL-June2015v2_113.csv\": (1000000, 4)\n",
            "Lido \"LCL-June2015v2_114.csv\": (1000000, 4)\n",
            "Lido \"LCL-June2015v2_115.csv\": (1000000, 4)\n",
            "Lido \"LCL-June2015v2_116.csv\": (1000000, 4)\n",
            "Lido \"LCL-June2015v2_117.csv\": (1000000, 4)\n",
            "Lido \"LCL-June2015v2_118.csv\": (1000000, 4)\n",
            "Lido \"LCL-June2015v2_119.csv\": (1000000, 4)\n",
            "Lido \"LCL-June2015v2_12.csv\": (1000000, 4)\n",
            "Lido \"LCL-June2015v2_120.csv\": (1000000, 4)\n",
            "Lido \"LCL-June2015v2_121.csv\": (1000000, 4)\n",
            "Lido \"LCL-June2015v2_122.csv\": (1000000, 4)\n",
            "Lido \"LCL-June2015v2_123.csv\": (1000000, 4)\n",
            "Lido \"LCL-June2015v2_124.csv\": (1000000, 4)\n",
            "Lido \"LCL-June2015v2_125.csv\": (1000000, 4)\n",
            "Lido \"LCL-June2015v2_126.csv\": (1000000, 4)\n",
            "Lido \"LCL-June2015v2_127.csv\": (1000000, 4)\n",
            "Lido \"LCL-June2015v2_128.csv\": (1000000, 4)\n",
            "Lido \"LCL-June2015v2_129.csv\": (1000000, 4)\n",
            "Lido \"LCL-June2015v2_13.csv\": (1000000, 4)\n",
            "Lido \"LCL-June2015v2_130.csv\": (1000000, 4)\n",
            "Lido \"LCL-June2015v2_131.csv\": (1000000, 4)\n",
            "Lido \"LCL-June2015v2_132.csv\": (1000000, 4)\n",
            "Lido \"LCL-June2015v2_133.csv\": (1000000, 4)\n",
            "Lido \"LCL-June2015v2_134.csv\": (1000000, 4)\n",
            "Lido \"LCL-June2015v2_135.csv\": (1000000, 4)\n",
            "Lido \"LCL-June2015v2_136.csv\": (1000000, 4)\n",
            "Lido \"LCL-June2015v2_137.csv\": (1000000, 4)\n",
            "Lido \"LCL-June2015v2_138.csv\": (1000000, 4)\n",
            "Lido \"LCL-June2015v2_139.csv\": (1000000, 4)\n",
            "Lido \"LCL-June2015v2_14.csv\": (1000000, 4)\n",
            "Lido \"LCL-June2015v2_140.csv\": (1000000, 4)\n",
            "Lido \"LCL-June2015v2_141.csv\": (1000000, 4)\n",
            "Lido \"LCL-June2015v2_142.csv\": (1000000, 4)\n",
            "Lido \"LCL-June2015v2_143.csv\": (1000000, 4)\n",
            "Lido \"LCL-June2015v2_144.csv\": (1000000, 4)\n",
            "Lido \"LCL-June2015v2_145.csv\": (1000000, 4)\n",
            "Lido \"LCL-June2015v2_146.csv\": (1000000, 4)\n",
            "Lido \"LCL-June2015v2_147.csv\": (1000000, 4)\n",
            "Lido \"LCL-June2015v2_148.csv\": (1000000, 4)\n",
            "Lido \"LCL-June2015v2_149.csv\": (1000000, 4)\n",
            "Lido \"LCL-June2015v2_15.csv\": (1000000, 4)\n",
            "Lido \"LCL-June2015v2_150.csv\": (1000000, 4)\n",
            "Lido \"LCL-June2015v2_151.csv\": (1000000, 4)\n",
            "Lido \"LCL-June2015v2_152.csv\": (1000000, 4)\n",
            "Lido \"LCL-June2015v2_153.csv\": (1000000, 4)\n",
            "Lido \"LCL-June2015v2_154.csv\": (1000000, 4)\n",
            "Lido \"LCL-June2015v2_155.csv\": (1000000, 4)\n",
            "Lido \"LCL-June2015v2_156.csv\": (1000000, 4)\n",
            "Lido \"LCL-June2015v2_157.csv\": (1000000, 4)\n",
            "Lido \"LCL-June2015v2_158.csv\": (1000000, 4)\n",
            "Lido \"LCL-June2015v2_159.csv\": (1000000, 4)\n",
            "Lido \"LCL-June2015v2_16.csv\": (1000000, 4)\n",
            "Lido \"LCL-June2015v2_160.csv\": (1000000, 4)\n",
            "Lido \"LCL-June2015v2_161.csv\": (1000000, 4)\n",
            "Lido \"LCL-June2015v2_162.csv\": (1000000, 4)\n",
            "Lido \"LCL-June2015v2_163.csv\": (1000000, 4)\n",
            "Lido \"LCL-June2015v2_164.csv\": (1000000, 4)\n",
            "Lido \"LCL-June2015v2_165.csv\": (1000000, 4)\n",
            "Lido \"LCL-June2015v2_166.csv\": (1000000, 4)\n",
            "Lido \"LCL-June2015v2_167.csv\": (932474, 4)\n"
          ]
        },
        {
          "ename": "ParserError",
          "evalue": "Error tokenizing data. C error: Calling read(nbytes) on source failed. Try engine='python'.",
          "output_type": "error",
          "traceback": [
            "\u001b[1;31m---------------------------------------------------------------------------\u001b[0m",
            "\u001b[1;31mParserError\u001b[0m                               Traceback (most recent call last)",
            "Cell \u001b[1;32mIn[9], line 12\u001b[0m\n\u001b[0;32m     10\u001b[0m \u001b[38;5;28;01mfor\u001b[39;00m file \u001b[38;5;129;01min\u001b[39;00m csv_files:\n\u001b[0;32m     11\u001b[0m     file_path \u001b[38;5;241m=\u001b[39m os\u001b[38;5;241m.\u001b[39mpath\u001b[38;5;241m.\u001b[39mjoin(dataset_folder, file)  \u001b[38;5;66;03m# Get full file path for each file into the list\u001b[39;00m\n\u001b[1;32m---> 12\u001b[0m     df \u001b[38;5;241m=\u001b[39m \u001b[43mpd\u001b[49m\u001b[38;5;241;43m.\u001b[39;49m\u001b[43mread_csv\u001b[49m\u001b[43m(\u001b[49m\u001b[43mfile_path\u001b[49m\u001b[43m)\u001b[49m \n\u001b[0;32m     13\u001b[0m     \u001b[38;5;28mprint\u001b[39m(\u001b[38;5;124mf\u001b[39m\u001b[38;5;124m'\u001b[39m\u001b[38;5;124mLido \u001b[39m\u001b[38;5;124m\"\u001b[39m\u001b[38;5;132;01m{\u001b[39;00mfile\u001b[38;5;132;01m}\u001b[39;00m\u001b[38;5;124m\"\u001b[39m\u001b[38;5;124m: \u001b[39m\u001b[38;5;132;01m{\u001b[39;00mdf\u001b[38;5;241m.\u001b[39mshape\u001b[38;5;132;01m}\u001b[39;00m\u001b[38;5;124m'\u001b[39m)\n\u001b[0;32m     15\u001b[0m csv_files\n",
            "File \u001b[1;32m~\\AppData\\Roaming\\Python\\Python311\\site-packages\\pandas\\io\\parsers\\readers.py:1026\u001b[0m, in \u001b[0;36mread_csv\u001b[1;34m(filepath_or_buffer, sep, delimiter, header, names, index_col, usecols, dtype, engine, converters, true_values, false_values, skipinitialspace, skiprows, skipfooter, nrows, na_values, keep_default_na, na_filter, verbose, skip_blank_lines, parse_dates, infer_datetime_format, keep_date_col, date_parser, date_format, dayfirst, cache_dates, iterator, chunksize, compression, thousands, decimal, lineterminator, quotechar, quoting, doublequote, escapechar, comment, encoding, encoding_errors, dialect, on_bad_lines, delim_whitespace, low_memory, memory_map, float_precision, storage_options, dtype_backend)\u001b[0m\n\u001b[0;32m   1013\u001b[0m kwds_defaults \u001b[38;5;241m=\u001b[39m _refine_defaults_read(\n\u001b[0;32m   1014\u001b[0m     dialect,\n\u001b[0;32m   1015\u001b[0m     delimiter,\n\u001b[1;32m   (...)\u001b[0m\n\u001b[0;32m   1022\u001b[0m     dtype_backend\u001b[38;5;241m=\u001b[39mdtype_backend,\n\u001b[0;32m   1023\u001b[0m )\n\u001b[0;32m   1024\u001b[0m kwds\u001b[38;5;241m.\u001b[39mupdate(kwds_defaults)\n\u001b[1;32m-> 1026\u001b[0m \u001b[38;5;28;01mreturn\u001b[39;00m \u001b[43m_read\u001b[49m\u001b[43m(\u001b[49m\u001b[43mfilepath_or_buffer\u001b[49m\u001b[43m,\u001b[49m\u001b[43m \u001b[49m\u001b[43mkwds\u001b[49m\u001b[43m)\u001b[49m\n",
            "File \u001b[1;32m~\\AppData\\Roaming\\Python\\Python311\\site-packages\\pandas\\io\\parsers\\readers.py:626\u001b[0m, in \u001b[0;36m_read\u001b[1;34m(filepath_or_buffer, kwds)\u001b[0m\n\u001b[0;32m    623\u001b[0m     \u001b[38;5;28;01mreturn\u001b[39;00m parser\n\u001b[0;32m    625\u001b[0m \u001b[38;5;28;01mwith\u001b[39;00m parser:\n\u001b[1;32m--> 626\u001b[0m     \u001b[38;5;28;01mreturn\u001b[39;00m \u001b[43mparser\u001b[49m\u001b[38;5;241;43m.\u001b[39;49m\u001b[43mread\u001b[49m\u001b[43m(\u001b[49m\u001b[43mnrows\u001b[49m\u001b[43m)\u001b[49m\n",
            "File \u001b[1;32m~\\AppData\\Roaming\\Python\\Python311\\site-packages\\pandas\\io\\parsers\\readers.py:1923\u001b[0m, in \u001b[0;36mTextFileReader.read\u001b[1;34m(self, nrows)\u001b[0m\n\u001b[0;32m   1916\u001b[0m nrows \u001b[38;5;241m=\u001b[39m validate_integer(\u001b[38;5;124m\"\u001b[39m\u001b[38;5;124mnrows\u001b[39m\u001b[38;5;124m\"\u001b[39m, nrows)\n\u001b[0;32m   1917\u001b[0m \u001b[38;5;28;01mtry\u001b[39;00m:\n\u001b[0;32m   1918\u001b[0m     \u001b[38;5;66;03m# error: \"ParserBase\" has no attribute \"read\"\u001b[39;00m\n\u001b[0;32m   1919\u001b[0m     (\n\u001b[0;32m   1920\u001b[0m         index,\n\u001b[0;32m   1921\u001b[0m         columns,\n\u001b[0;32m   1922\u001b[0m         col_dict,\n\u001b[1;32m-> 1923\u001b[0m     ) \u001b[38;5;241m=\u001b[39m \u001b[38;5;28;43mself\u001b[39;49m\u001b[38;5;241;43m.\u001b[39;49m\u001b[43m_engine\u001b[49m\u001b[38;5;241;43m.\u001b[39;49m\u001b[43mread\u001b[49m\u001b[43m(\u001b[49m\u001b[43m  \u001b[49m\u001b[38;5;66;43;03m# type: ignore[attr-defined]\u001b[39;49;00m\n\u001b[0;32m   1924\u001b[0m \u001b[43m        \u001b[49m\u001b[43mnrows\u001b[49m\n\u001b[0;32m   1925\u001b[0m \u001b[43m    \u001b[49m\u001b[43m)\u001b[49m\n\u001b[0;32m   1926\u001b[0m \u001b[38;5;28;01mexcept\u001b[39;00m \u001b[38;5;167;01mException\u001b[39;00m:\n\u001b[0;32m   1927\u001b[0m     \u001b[38;5;28mself\u001b[39m\u001b[38;5;241m.\u001b[39mclose()\n",
            "File \u001b[1;32m~\\AppData\\Roaming\\Python\\Python311\\site-packages\\pandas\\io\\parsers\\c_parser_wrapper.py:234\u001b[0m, in \u001b[0;36mCParserWrapper.read\u001b[1;34m(self, nrows)\u001b[0m\n\u001b[0;32m    232\u001b[0m \u001b[38;5;28;01mtry\u001b[39;00m:\n\u001b[0;32m    233\u001b[0m     \u001b[38;5;28;01mif\u001b[39;00m \u001b[38;5;28mself\u001b[39m\u001b[38;5;241m.\u001b[39mlow_memory:\n\u001b[1;32m--> 234\u001b[0m         chunks \u001b[38;5;241m=\u001b[39m \u001b[38;5;28;43mself\u001b[39;49m\u001b[38;5;241;43m.\u001b[39;49m\u001b[43m_reader\u001b[49m\u001b[38;5;241;43m.\u001b[39;49m\u001b[43mread_low_memory\u001b[49m\u001b[43m(\u001b[49m\u001b[43mnrows\u001b[49m\u001b[43m)\u001b[49m\n\u001b[0;32m    235\u001b[0m         \u001b[38;5;66;03m# destructive to chunks\u001b[39;00m\n\u001b[0;32m    236\u001b[0m         data \u001b[38;5;241m=\u001b[39m _concatenate_chunks(chunks)\n",
            "File \u001b[1;32mparsers.pyx:838\u001b[0m, in \u001b[0;36mpandas._libs.parsers.TextReader.read_low_memory\u001b[1;34m()\u001b[0m\n",
            "File \u001b[1;32mparsers.pyx:905\u001b[0m, in \u001b[0;36mpandas._libs.parsers.TextReader._read_rows\u001b[1;34m()\u001b[0m\n",
            "File \u001b[1;32mparsers.pyx:874\u001b[0m, in \u001b[0;36mpandas._libs.parsers.TextReader._tokenize_rows\u001b[1;34m()\u001b[0m\n",
            "File \u001b[1;32mparsers.pyx:891\u001b[0m, in \u001b[0;36mpandas._libs.parsers.TextReader._check_tokenize_status\u001b[1;34m()\u001b[0m\n",
            "File \u001b[1;32mparsers.pyx:2061\u001b[0m, in \u001b[0;36mpandas._libs.parsers.raise_parser_error\u001b[1;34m()\u001b[0m\n",
            "\u001b[1;31mParserError\u001b[0m: Error tokenizing data. C error: Calling read(nbytes) on source failed. Try engine='python'."
          ]
        }
      ],
      "source": [
        "import pandas as pd\n",
        "\n",
        "# Path to folder with the available dataset\n",
        "dataset_folder = \"D:\\Documentos\\GitHub\\Research_Repo\\Sidney_s-Research\\Dataset\\Small LCL Data\"\n",
        "\n",
        "# List all .csv files inside the folder\n",
        "csv_files = [f for f in os.listdir(dataset_folder) if f.endswith('.csv')]\n",
        "\n",
        "# Loop through each .csv file to verify it\n",
        "for file in csv_files:\n",
        "    file_path = os.path.join(dataset_folder, file)  # Get full file path for each file into the list\n",
        "    df = pd.read_csv(file_path)\n",
        "    print(f'Lido \"{file}\": {df.shape}')\n",
        "\n",
        "csv_files"
      ]
    },
    {
      "cell_type": "markdown",
      "metadata": {
        "id": "VQUnObzBMMKQ"
      },
      "source": [
        "### 1 - Merging all the <span style=\"color: orange; font-family: Monaco\">.csv</span> files into a single DataFrame"
      ]
    },
    {
      "cell_type": "code",
      "execution_count": null,
      "metadata": {
        "id": "72TSB-dTMMKQ",
        "outputId": "809d13a5-51f0-4e43-8b29-79b8575bfbcc"
      },
      "outputs": [
        {
          "data": {
            "text/plain": [
              "['D:\\\\Documentos\\\\GitHub\\\\Research_Repo\\\\Sidney_s-Research\\\\Dataset\\\\Small LCL Data\\\\LCL-June2015v2_0.csv',\n",
              " 'D:\\\\Documentos\\\\GitHub\\\\Research_Repo\\\\Sidney_s-Research\\\\Dataset\\\\Small LCL Data\\\\LCL-June2015v2_1.csv',\n",
              " 'D:\\\\Documentos\\\\GitHub\\\\Research_Repo\\\\Sidney_s-Research\\\\Dataset\\\\Small LCL Data\\\\LCL-June2015v2_10.csv',\n",
              " 'D:\\\\Documentos\\\\GitHub\\\\Research_Repo\\\\Sidney_s-Research\\\\Dataset\\\\Small LCL Data\\\\LCL-June2015v2_100.csv',\n",
              " 'D:\\\\Documentos\\\\GitHub\\\\Research_Repo\\\\Sidney_s-Research\\\\Dataset\\\\Small LCL Data\\\\LCL-June2015v2_101.csv',\n",
              " 'D:\\\\Documentos\\\\GitHub\\\\Research_Repo\\\\Sidney_s-Research\\\\Dataset\\\\Small LCL Data\\\\LCL-June2015v2_102.csv',\n",
              " 'D:\\\\Documentos\\\\GitHub\\\\Research_Repo\\\\Sidney_s-Research\\\\Dataset\\\\Small LCL Data\\\\LCL-June2015v2_103.csv',\n",
              " 'D:\\\\Documentos\\\\GitHub\\\\Research_Repo\\\\Sidney_s-Research\\\\Dataset\\\\Small LCL Data\\\\LCL-June2015v2_104.csv',\n",
              " 'D:\\\\Documentos\\\\GitHub\\\\Research_Repo\\\\Sidney_s-Research\\\\Dataset\\\\Small LCL Data\\\\LCL-June2015v2_105.csv',\n",
              " 'D:\\\\Documentos\\\\GitHub\\\\Research_Repo\\\\Sidney_s-Research\\\\Dataset\\\\Small LCL Data\\\\LCL-June2015v2_106.csv',\n",
              " 'D:\\\\Documentos\\\\GitHub\\\\Research_Repo\\\\Sidney_s-Research\\\\Dataset\\\\Small LCL Data\\\\LCL-June2015v2_107.csv',\n",
              " 'D:\\\\Documentos\\\\GitHub\\\\Research_Repo\\\\Sidney_s-Research\\\\Dataset\\\\Small LCL Data\\\\LCL-June2015v2_108.csv',\n",
              " 'D:\\\\Documentos\\\\GitHub\\\\Research_Repo\\\\Sidney_s-Research\\\\Dataset\\\\Small LCL Data\\\\LCL-June2015v2_109.csv',\n",
              " 'D:\\\\Documentos\\\\GitHub\\\\Research_Repo\\\\Sidney_s-Research\\\\Dataset\\\\Small LCL Data\\\\LCL-June2015v2_11.csv',\n",
              " 'D:\\\\Documentos\\\\GitHub\\\\Research_Repo\\\\Sidney_s-Research\\\\Dataset\\\\Small LCL Data\\\\LCL-June2015v2_110.csv',\n",
              " 'D:\\\\Documentos\\\\GitHub\\\\Research_Repo\\\\Sidney_s-Research\\\\Dataset\\\\Small LCL Data\\\\LCL-June2015v2_111.csv',\n",
              " 'D:\\\\Documentos\\\\GitHub\\\\Research_Repo\\\\Sidney_s-Research\\\\Dataset\\\\Small LCL Data\\\\LCL-June2015v2_112.csv',\n",
              " 'D:\\\\Documentos\\\\GitHub\\\\Research_Repo\\\\Sidney_s-Research\\\\Dataset\\\\Small LCL Data\\\\LCL-June2015v2_113.csv',\n",
              " 'D:\\\\Documentos\\\\GitHub\\\\Research_Repo\\\\Sidney_s-Research\\\\Dataset\\\\Small LCL Data\\\\LCL-June2015v2_114.csv',\n",
              " 'D:\\\\Documentos\\\\GitHub\\\\Research_Repo\\\\Sidney_s-Research\\\\Dataset\\\\Small LCL Data\\\\LCL-June2015v2_115.csv',\n",
              " 'D:\\\\Documentos\\\\GitHub\\\\Research_Repo\\\\Sidney_s-Research\\\\Dataset\\\\Small LCL Data\\\\LCL-June2015v2_116.csv',\n",
              " 'D:\\\\Documentos\\\\GitHub\\\\Research_Repo\\\\Sidney_s-Research\\\\Dataset\\\\Small LCL Data\\\\LCL-June2015v2_117.csv',\n",
              " 'D:\\\\Documentos\\\\GitHub\\\\Research_Repo\\\\Sidney_s-Research\\\\Dataset\\\\Small LCL Data\\\\LCL-June2015v2_118.csv',\n",
              " 'D:\\\\Documentos\\\\GitHub\\\\Research_Repo\\\\Sidney_s-Research\\\\Dataset\\\\Small LCL Data\\\\LCL-June2015v2_119.csv',\n",
              " 'D:\\\\Documentos\\\\GitHub\\\\Research_Repo\\\\Sidney_s-Research\\\\Dataset\\\\Small LCL Data\\\\LCL-June2015v2_12.csv',\n",
              " 'D:\\\\Documentos\\\\GitHub\\\\Research_Repo\\\\Sidney_s-Research\\\\Dataset\\\\Small LCL Data\\\\LCL-June2015v2_120.csv',\n",
              " 'D:\\\\Documentos\\\\GitHub\\\\Research_Repo\\\\Sidney_s-Research\\\\Dataset\\\\Small LCL Data\\\\LCL-June2015v2_121.csv',\n",
              " 'D:\\\\Documentos\\\\GitHub\\\\Research_Repo\\\\Sidney_s-Research\\\\Dataset\\\\Small LCL Data\\\\LCL-June2015v2_122.csv',\n",
              " 'D:\\\\Documentos\\\\GitHub\\\\Research_Repo\\\\Sidney_s-Research\\\\Dataset\\\\Small LCL Data\\\\LCL-June2015v2_123.csv',\n",
              " 'D:\\\\Documentos\\\\GitHub\\\\Research_Repo\\\\Sidney_s-Research\\\\Dataset\\\\Small LCL Data\\\\LCL-June2015v2_124.csv',\n",
              " 'D:\\\\Documentos\\\\GitHub\\\\Research_Repo\\\\Sidney_s-Research\\\\Dataset\\\\Small LCL Data\\\\LCL-June2015v2_125.csv',\n",
              " 'D:\\\\Documentos\\\\GitHub\\\\Research_Repo\\\\Sidney_s-Research\\\\Dataset\\\\Small LCL Data\\\\LCL-June2015v2_126.csv',\n",
              " 'D:\\\\Documentos\\\\GitHub\\\\Research_Repo\\\\Sidney_s-Research\\\\Dataset\\\\Small LCL Data\\\\LCL-June2015v2_127.csv',\n",
              " 'D:\\\\Documentos\\\\GitHub\\\\Research_Repo\\\\Sidney_s-Research\\\\Dataset\\\\Small LCL Data\\\\LCL-June2015v2_128.csv',\n",
              " 'D:\\\\Documentos\\\\GitHub\\\\Research_Repo\\\\Sidney_s-Research\\\\Dataset\\\\Small LCL Data\\\\LCL-June2015v2_129.csv',\n",
              " 'D:\\\\Documentos\\\\GitHub\\\\Research_Repo\\\\Sidney_s-Research\\\\Dataset\\\\Small LCL Data\\\\LCL-June2015v2_13.csv',\n",
              " 'D:\\\\Documentos\\\\GitHub\\\\Research_Repo\\\\Sidney_s-Research\\\\Dataset\\\\Small LCL Data\\\\LCL-June2015v2_130.csv',\n",
              " 'D:\\\\Documentos\\\\GitHub\\\\Research_Repo\\\\Sidney_s-Research\\\\Dataset\\\\Small LCL Data\\\\LCL-June2015v2_131.csv',\n",
              " 'D:\\\\Documentos\\\\GitHub\\\\Research_Repo\\\\Sidney_s-Research\\\\Dataset\\\\Small LCL Data\\\\LCL-June2015v2_132.csv',\n",
              " 'D:\\\\Documentos\\\\GitHub\\\\Research_Repo\\\\Sidney_s-Research\\\\Dataset\\\\Small LCL Data\\\\LCL-June2015v2_133.csv',\n",
              " 'D:\\\\Documentos\\\\GitHub\\\\Research_Repo\\\\Sidney_s-Research\\\\Dataset\\\\Small LCL Data\\\\LCL-June2015v2_134.csv',\n",
              " 'D:\\\\Documentos\\\\GitHub\\\\Research_Repo\\\\Sidney_s-Research\\\\Dataset\\\\Small LCL Data\\\\LCL-June2015v2_135.csv',\n",
              " 'D:\\\\Documentos\\\\GitHub\\\\Research_Repo\\\\Sidney_s-Research\\\\Dataset\\\\Small LCL Data\\\\LCL-June2015v2_136.csv',\n",
              " 'D:\\\\Documentos\\\\GitHub\\\\Research_Repo\\\\Sidney_s-Research\\\\Dataset\\\\Small LCL Data\\\\LCL-June2015v2_137.csv',\n",
              " 'D:\\\\Documentos\\\\GitHub\\\\Research_Repo\\\\Sidney_s-Research\\\\Dataset\\\\Small LCL Data\\\\LCL-June2015v2_138.csv',\n",
              " 'D:\\\\Documentos\\\\GitHub\\\\Research_Repo\\\\Sidney_s-Research\\\\Dataset\\\\Small LCL Data\\\\LCL-June2015v2_139.csv',\n",
              " 'D:\\\\Documentos\\\\GitHub\\\\Research_Repo\\\\Sidney_s-Research\\\\Dataset\\\\Small LCL Data\\\\LCL-June2015v2_14.csv',\n",
              " 'D:\\\\Documentos\\\\GitHub\\\\Research_Repo\\\\Sidney_s-Research\\\\Dataset\\\\Small LCL Data\\\\LCL-June2015v2_140.csv',\n",
              " 'D:\\\\Documentos\\\\GitHub\\\\Research_Repo\\\\Sidney_s-Research\\\\Dataset\\\\Small LCL Data\\\\LCL-June2015v2_141.csv',\n",
              " 'D:\\\\Documentos\\\\GitHub\\\\Research_Repo\\\\Sidney_s-Research\\\\Dataset\\\\Small LCL Data\\\\LCL-June2015v2_142.csv',\n",
              " 'D:\\\\Documentos\\\\GitHub\\\\Research_Repo\\\\Sidney_s-Research\\\\Dataset\\\\Small LCL Data\\\\LCL-June2015v2_143.csv',\n",
              " 'D:\\\\Documentos\\\\GitHub\\\\Research_Repo\\\\Sidney_s-Research\\\\Dataset\\\\Small LCL Data\\\\LCL-June2015v2_144.csv',\n",
              " 'D:\\\\Documentos\\\\GitHub\\\\Research_Repo\\\\Sidney_s-Research\\\\Dataset\\\\Small LCL Data\\\\LCL-June2015v2_145.csv',\n",
              " 'D:\\\\Documentos\\\\GitHub\\\\Research_Repo\\\\Sidney_s-Research\\\\Dataset\\\\Small LCL Data\\\\LCL-June2015v2_146.csv',\n",
              " 'D:\\\\Documentos\\\\GitHub\\\\Research_Repo\\\\Sidney_s-Research\\\\Dataset\\\\Small LCL Data\\\\LCL-June2015v2_147.csv',\n",
              " 'D:\\\\Documentos\\\\GitHub\\\\Research_Repo\\\\Sidney_s-Research\\\\Dataset\\\\Small LCL Data\\\\LCL-June2015v2_148.csv',\n",
              " 'D:\\\\Documentos\\\\GitHub\\\\Research_Repo\\\\Sidney_s-Research\\\\Dataset\\\\Small LCL Data\\\\LCL-June2015v2_149.csv',\n",
              " 'D:\\\\Documentos\\\\GitHub\\\\Research_Repo\\\\Sidney_s-Research\\\\Dataset\\\\Small LCL Data\\\\LCL-June2015v2_15.csv',\n",
              " 'D:\\\\Documentos\\\\GitHub\\\\Research_Repo\\\\Sidney_s-Research\\\\Dataset\\\\Small LCL Data\\\\LCL-June2015v2_150.csv',\n",
              " 'D:\\\\Documentos\\\\GitHub\\\\Research_Repo\\\\Sidney_s-Research\\\\Dataset\\\\Small LCL Data\\\\LCL-June2015v2_151.csv',\n",
              " 'D:\\\\Documentos\\\\GitHub\\\\Research_Repo\\\\Sidney_s-Research\\\\Dataset\\\\Small LCL Data\\\\LCL-June2015v2_152.csv',\n",
              " 'D:\\\\Documentos\\\\GitHub\\\\Research_Repo\\\\Sidney_s-Research\\\\Dataset\\\\Small LCL Data\\\\LCL-June2015v2_153.csv',\n",
              " 'D:\\\\Documentos\\\\GitHub\\\\Research_Repo\\\\Sidney_s-Research\\\\Dataset\\\\Small LCL Data\\\\LCL-June2015v2_154.csv',\n",
              " 'D:\\\\Documentos\\\\GitHub\\\\Research_Repo\\\\Sidney_s-Research\\\\Dataset\\\\Small LCL Data\\\\LCL-June2015v2_155.csv',\n",
              " 'D:\\\\Documentos\\\\GitHub\\\\Research_Repo\\\\Sidney_s-Research\\\\Dataset\\\\Small LCL Data\\\\LCL-June2015v2_156.csv',\n",
              " 'D:\\\\Documentos\\\\GitHub\\\\Research_Repo\\\\Sidney_s-Research\\\\Dataset\\\\Small LCL Data\\\\LCL-June2015v2_157.csv',\n",
              " 'D:\\\\Documentos\\\\GitHub\\\\Research_Repo\\\\Sidney_s-Research\\\\Dataset\\\\Small LCL Data\\\\LCL-June2015v2_158.csv',\n",
              " 'D:\\\\Documentos\\\\GitHub\\\\Research_Repo\\\\Sidney_s-Research\\\\Dataset\\\\Small LCL Data\\\\LCL-June2015v2_159.csv',\n",
              " 'D:\\\\Documentos\\\\GitHub\\\\Research_Repo\\\\Sidney_s-Research\\\\Dataset\\\\Small LCL Data\\\\LCL-June2015v2_16.csv',\n",
              " 'D:\\\\Documentos\\\\GitHub\\\\Research_Repo\\\\Sidney_s-Research\\\\Dataset\\\\Small LCL Data\\\\LCL-June2015v2_160.csv',\n",
              " 'D:\\\\Documentos\\\\GitHub\\\\Research_Repo\\\\Sidney_s-Research\\\\Dataset\\\\Small LCL Data\\\\LCL-June2015v2_161.csv',\n",
              " 'D:\\\\Documentos\\\\GitHub\\\\Research_Repo\\\\Sidney_s-Research\\\\Dataset\\\\Small LCL Data\\\\LCL-June2015v2_162.csv',\n",
              " 'D:\\\\Documentos\\\\GitHub\\\\Research_Repo\\\\Sidney_s-Research\\\\Dataset\\\\Small LCL Data\\\\LCL-June2015v2_163.csv',\n",
              " 'D:\\\\Documentos\\\\GitHub\\\\Research_Repo\\\\Sidney_s-Research\\\\Dataset\\\\Small LCL Data\\\\LCL-June2015v2_164.csv',\n",
              " 'D:\\\\Documentos\\\\GitHub\\\\Research_Repo\\\\Sidney_s-Research\\\\Dataset\\\\Small LCL Data\\\\LCL-June2015v2_165.csv',\n",
              " 'D:\\\\Documentos\\\\GitHub\\\\Research_Repo\\\\Sidney_s-Research\\\\Dataset\\\\Small LCL Data\\\\LCL-June2015v2_166.csv',\n",
              " 'D:\\\\Documentos\\\\GitHub\\\\Research_Repo\\\\Sidney_s-Research\\\\Dataset\\\\Small LCL Data\\\\LCL-June2015v2_167.csv',\n",
              " 'D:\\\\Documentos\\\\GitHub\\\\Research_Repo\\\\Sidney_s-Research\\\\Dataset\\\\Small LCL Data\\\\LCL-June2015v2_17.csv',\n",
              " 'D:\\\\Documentos\\\\GitHub\\\\Research_Repo\\\\Sidney_s-Research\\\\Dataset\\\\Small LCL Data\\\\LCL-June2015v2_18.csv',\n",
              " 'D:\\\\Documentos\\\\GitHub\\\\Research_Repo\\\\Sidney_s-Research\\\\Dataset\\\\Small LCL Data\\\\LCL-June2015v2_19.csv',\n",
              " 'D:\\\\Documentos\\\\GitHub\\\\Research_Repo\\\\Sidney_s-Research\\\\Dataset\\\\Small LCL Data\\\\LCL-June2015v2_2.csv',\n",
              " 'D:\\\\Documentos\\\\GitHub\\\\Research_Repo\\\\Sidney_s-Research\\\\Dataset\\\\Small LCL Data\\\\LCL-June2015v2_20.csv',\n",
              " 'D:\\\\Documentos\\\\GitHub\\\\Research_Repo\\\\Sidney_s-Research\\\\Dataset\\\\Small LCL Data\\\\LCL-June2015v2_21.csv',\n",
              " 'D:\\\\Documentos\\\\GitHub\\\\Research_Repo\\\\Sidney_s-Research\\\\Dataset\\\\Small LCL Data\\\\LCL-June2015v2_22.csv',\n",
              " 'D:\\\\Documentos\\\\GitHub\\\\Research_Repo\\\\Sidney_s-Research\\\\Dataset\\\\Small LCL Data\\\\LCL-June2015v2_23.csv',\n",
              " 'D:\\\\Documentos\\\\GitHub\\\\Research_Repo\\\\Sidney_s-Research\\\\Dataset\\\\Small LCL Data\\\\LCL-June2015v2_24.csv',\n",
              " 'D:\\\\Documentos\\\\GitHub\\\\Research_Repo\\\\Sidney_s-Research\\\\Dataset\\\\Small LCL Data\\\\LCL-June2015v2_25.csv',\n",
              " 'D:\\\\Documentos\\\\GitHub\\\\Research_Repo\\\\Sidney_s-Research\\\\Dataset\\\\Small LCL Data\\\\LCL-June2015v2_26.csv',\n",
              " 'D:\\\\Documentos\\\\GitHub\\\\Research_Repo\\\\Sidney_s-Research\\\\Dataset\\\\Small LCL Data\\\\LCL-June2015v2_27.csv',\n",
              " 'D:\\\\Documentos\\\\GitHub\\\\Research_Repo\\\\Sidney_s-Research\\\\Dataset\\\\Small LCL Data\\\\LCL-June2015v2_28.csv',\n",
              " 'D:\\\\Documentos\\\\GitHub\\\\Research_Repo\\\\Sidney_s-Research\\\\Dataset\\\\Small LCL Data\\\\LCL-June2015v2_29.csv',\n",
              " 'D:\\\\Documentos\\\\GitHub\\\\Research_Repo\\\\Sidney_s-Research\\\\Dataset\\\\Small LCL Data\\\\LCL-June2015v2_3.csv',\n",
              " 'D:\\\\Documentos\\\\GitHub\\\\Research_Repo\\\\Sidney_s-Research\\\\Dataset\\\\Small LCL Data\\\\LCL-June2015v2_30.csv',\n",
              " 'D:\\\\Documentos\\\\GitHub\\\\Research_Repo\\\\Sidney_s-Research\\\\Dataset\\\\Small LCL Data\\\\LCL-June2015v2_31.csv',\n",
              " 'D:\\\\Documentos\\\\GitHub\\\\Research_Repo\\\\Sidney_s-Research\\\\Dataset\\\\Small LCL Data\\\\LCL-June2015v2_32.csv',\n",
              " 'D:\\\\Documentos\\\\GitHub\\\\Research_Repo\\\\Sidney_s-Research\\\\Dataset\\\\Small LCL Data\\\\LCL-June2015v2_33.csv',\n",
              " 'D:\\\\Documentos\\\\GitHub\\\\Research_Repo\\\\Sidney_s-Research\\\\Dataset\\\\Small LCL Data\\\\LCL-June2015v2_34.csv',\n",
              " 'D:\\\\Documentos\\\\GitHub\\\\Research_Repo\\\\Sidney_s-Research\\\\Dataset\\\\Small LCL Data\\\\LCL-June2015v2_35.csv',\n",
              " 'D:\\\\Documentos\\\\GitHub\\\\Research_Repo\\\\Sidney_s-Research\\\\Dataset\\\\Small LCL Data\\\\LCL-June2015v2_36.csv',\n",
              " 'D:\\\\Documentos\\\\GitHub\\\\Research_Repo\\\\Sidney_s-Research\\\\Dataset\\\\Small LCL Data\\\\LCL-June2015v2_37.csv',\n",
              " 'D:\\\\Documentos\\\\GitHub\\\\Research_Repo\\\\Sidney_s-Research\\\\Dataset\\\\Small LCL Data\\\\LCL-June2015v2_38.csv',\n",
              " 'D:\\\\Documentos\\\\GitHub\\\\Research_Repo\\\\Sidney_s-Research\\\\Dataset\\\\Small LCL Data\\\\LCL-June2015v2_39.csv',\n",
              " 'D:\\\\Documentos\\\\GitHub\\\\Research_Repo\\\\Sidney_s-Research\\\\Dataset\\\\Small LCL Data\\\\LCL-June2015v2_4.csv',\n",
              " 'D:\\\\Documentos\\\\GitHub\\\\Research_Repo\\\\Sidney_s-Research\\\\Dataset\\\\Small LCL Data\\\\LCL-June2015v2_40.csv',\n",
              " 'D:\\\\Documentos\\\\GitHub\\\\Research_Repo\\\\Sidney_s-Research\\\\Dataset\\\\Small LCL Data\\\\LCL-June2015v2_41.csv',\n",
              " 'D:\\\\Documentos\\\\GitHub\\\\Research_Repo\\\\Sidney_s-Research\\\\Dataset\\\\Small LCL Data\\\\LCL-June2015v2_42.csv',\n",
              " 'D:\\\\Documentos\\\\GitHub\\\\Research_Repo\\\\Sidney_s-Research\\\\Dataset\\\\Small LCL Data\\\\LCL-June2015v2_43.csv',\n",
              " 'D:\\\\Documentos\\\\GitHub\\\\Research_Repo\\\\Sidney_s-Research\\\\Dataset\\\\Small LCL Data\\\\LCL-June2015v2_44.csv',\n",
              " 'D:\\\\Documentos\\\\GitHub\\\\Research_Repo\\\\Sidney_s-Research\\\\Dataset\\\\Small LCL Data\\\\LCL-June2015v2_45.csv',\n",
              " 'D:\\\\Documentos\\\\GitHub\\\\Research_Repo\\\\Sidney_s-Research\\\\Dataset\\\\Small LCL Data\\\\LCL-June2015v2_46.csv',\n",
              " 'D:\\\\Documentos\\\\GitHub\\\\Research_Repo\\\\Sidney_s-Research\\\\Dataset\\\\Small LCL Data\\\\LCL-June2015v2_47.csv',\n",
              " 'D:\\\\Documentos\\\\GitHub\\\\Research_Repo\\\\Sidney_s-Research\\\\Dataset\\\\Small LCL Data\\\\LCL-June2015v2_48.csv',\n",
              " 'D:\\\\Documentos\\\\GitHub\\\\Research_Repo\\\\Sidney_s-Research\\\\Dataset\\\\Small LCL Data\\\\LCL-June2015v2_49.csv',\n",
              " 'D:\\\\Documentos\\\\GitHub\\\\Research_Repo\\\\Sidney_s-Research\\\\Dataset\\\\Small LCL Data\\\\LCL-June2015v2_5.csv',\n",
              " 'D:\\\\Documentos\\\\GitHub\\\\Research_Repo\\\\Sidney_s-Research\\\\Dataset\\\\Small LCL Data\\\\LCL-June2015v2_50.csv',\n",
              " 'D:\\\\Documentos\\\\GitHub\\\\Research_Repo\\\\Sidney_s-Research\\\\Dataset\\\\Small LCL Data\\\\LCL-June2015v2_51.csv',\n",
              " 'D:\\\\Documentos\\\\GitHub\\\\Research_Repo\\\\Sidney_s-Research\\\\Dataset\\\\Small LCL Data\\\\LCL-June2015v2_52.csv',\n",
              " 'D:\\\\Documentos\\\\GitHub\\\\Research_Repo\\\\Sidney_s-Research\\\\Dataset\\\\Small LCL Data\\\\LCL-June2015v2_53.csv',\n",
              " 'D:\\\\Documentos\\\\GitHub\\\\Research_Repo\\\\Sidney_s-Research\\\\Dataset\\\\Small LCL Data\\\\LCL-June2015v2_54.csv',\n",
              " 'D:\\\\Documentos\\\\GitHub\\\\Research_Repo\\\\Sidney_s-Research\\\\Dataset\\\\Small LCL Data\\\\LCL-June2015v2_55.csv',\n",
              " 'D:\\\\Documentos\\\\GitHub\\\\Research_Repo\\\\Sidney_s-Research\\\\Dataset\\\\Small LCL Data\\\\LCL-June2015v2_56.csv',\n",
              " 'D:\\\\Documentos\\\\GitHub\\\\Research_Repo\\\\Sidney_s-Research\\\\Dataset\\\\Small LCL Data\\\\LCL-June2015v2_57.csv',\n",
              " 'D:\\\\Documentos\\\\GitHub\\\\Research_Repo\\\\Sidney_s-Research\\\\Dataset\\\\Small LCL Data\\\\LCL-June2015v2_58.csv',\n",
              " 'D:\\\\Documentos\\\\GitHub\\\\Research_Repo\\\\Sidney_s-Research\\\\Dataset\\\\Small LCL Data\\\\LCL-June2015v2_59.csv',\n",
              " 'D:\\\\Documentos\\\\GitHub\\\\Research_Repo\\\\Sidney_s-Research\\\\Dataset\\\\Small LCL Data\\\\LCL-June2015v2_6.csv',\n",
              " 'D:\\\\Documentos\\\\GitHub\\\\Research_Repo\\\\Sidney_s-Research\\\\Dataset\\\\Small LCL Data\\\\LCL-June2015v2_60.csv',\n",
              " 'D:\\\\Documentos\\\\GitHub\\\\Research_Repo\\\\Sidney_s-Research\\\\Dataset\\\\Small LCL Data\\\\LCL-June2015v2_61.csv',\n",
              " 'D:\\\\Documentos\\\\GitHub\\\\Research_Repo\\\\Sidney_s-Research\\\\Dataset\\\\Small LCL Data\\\\LCL-June2015v2_62.csv',\n",
              " 'D:\\\\Documentos\\\\GitHub\\\\Research_Repo\\\\Sidney_s-Research\\\\Dataset\\\\Small LCL Data\\\\LCL-June2015v2_63.csv',\n",
              " 'D:\\\\Documentos\\\\GitHub\\\\Research_Repo\\\\Sidney_s-Research\\\\Dataset\\\\Small LCL Data\\\\LCL-June2015v2_64.csv',\n",
              " 'D:\\\\Documentos\\\\GitHub\\\\Research_Repo\\\\Sidney_s-Research\\\\Dataset\\\\Small LCL Data\\\\LCL-June2015v2_65.csv',\n",
              " 'D:\\\\Documentos\\\\GitHub\\\\Research_Repo\\\\Sidney_s-Research\\\\Dataset\\\\Small LCL Data\\\\LCL-June2015v2_66.csv',\n",
              " 'D:\\\\Documentos\\\\GitHub\\\\Research_Repo\\\\Sidney_s-Research\\\\Dataset\\\\Small LCL Data\\\\LCL-June2015v2_67.csv',\n",
              " 'D:\\\\Documentos\\\\GitHub\\\\Research_Repo\\\\Sidney_s-Research\\\\Dataset\\\\Small LCL Data\\\\LCL-June2015v2_68.csv',\n",
              " 'D:\\\\Documentos\\\\GitHub\\\\Research_Repo\\\\Sidney_s-Research\\\\Dataset\\\\Small LCL Data\\\\LCL-June2015v2_69.csv',\n",
              " 'D:\\\\Documentos\\\\GitHub\\\\Research_Repo\\\\Sidney_s-Research\\\\Dataset\\\\Small LCL Data\\\\LCL-June2015v2_7.csv',\n",
              " 'D:\\\\Documentos\\\\GitHub\\\\Research_Repo\\\\Sidney_s-Research\\\\Dataset\\\\Small LCL Data\\\\LCL-June2015v2_70.csv',\n",
              " 'D:\\\\Documentos\\\\GitHub\\\\Research_Repo\\\\Sidney_s-Research\\\\Dataset\\\\Small LCL Data\\\\LCL-June2015v2_71.csv',\n",
              " 'D:\\\\Documentos\\\\GitHub\\\\Research_Repo\\\\Sidney_s-Research\\\\Dataset\\\\Small LCL Data\\\\LCL-June2015v2_72.csv',\n",
              " 'D:\\\\Documentos\\\\GitHub\\\\Research_Repo\\\\Sidney_s-Research\\\\Dataset\\\\Small LCL Data\\\\LCL-June2015v2_73.csv',\n",
              " 'D:\\\\Documentos\\\\GitHub\\\\Research_Repo\\\\Sidney_s-Research\\\\Dataset\\\\Small LCL Data\\\\LCL-June2015v2_74.csv',\n",
              " 'D:\\\\Documentos\\\\GitHub\\\\Research_Repo\\\\Sidney_s-Research\\\\Dataset\\\\Small LCL Data\\\\LCL-June2015v2_75.csv',\n",
              " 'D:\\\\Documentos\\\\GitHub\\\\Research_Repo\\\\Sidney_s-Research\\\\Dataset\\\\Small LCL Data\\\\LCL-June2015v2_76.csv',\n",
              " 'D:\\\\Documentos\\\\GitHub\\\\Research_Repo\\\\Sidney_s-Research\\\\Dataset\\\\Small LCL Data\\\\LCL-June2015v2_77.csv',\n",
              " 'D:\\\\Documentos\\\\GitHub\\\\Research_Repo\\\\Sidney_s-Research\\\\Dataset\\\\Small LCL Data\\\\LCL-June2015v2_78.csv',\n",
              " 'D:\\\\Documentos\\\\GitHub\\\\Research_Repo\\\\Sidney_s-Research\\\\Dataset\\\\Small LCL Data\\\\LCL-June2015v2_79.csv',\n",
              " 'D:\\\\Documentos\\\\GitHub\\\\Research_Repo\\\\Sidney_s-Research\\\\Dataset\\\\Small LCL Data\\\\LCL-June2015v2_8.csv',\n",
              " 'D:\\\\Documentos\\\\GitHub\\\\Research_Repo\\\\Sidney_s-Research\\\\Dataset\\\\Small LCL Data\\\\LCL-June2015v2_80.csv',\n",
              " 'D:\\\\Documentos\\\\GitHub\\\\Research_Repo\\\\Sidney_s-Research\\\\Dataset\\\\Small LCL Data\\\\LCL-June2015v2_81.csv',\n",
              " 'D:\\\\Documentos\\\\GitHub\\\\Research_Repo\\\\Sidney_s-Research\\\\Dataset\\\\Small LCL Data\\\\LCL-June2015v2_82.csv',\n",
              " 'D:\\\\Documentos\\\\GitHub\\\\Research_Repo\\\\Sidney_s-Research\\\\Dataset\\\\Small LCL Data\\\\LCL-June2015v2_83.csv',\n",
              " 'D:\\\\Documentos\\\\GitHub\\\\Research_Repo\\\\Sidney_s-Research\\\\Dataset\\\\Small LCL Data\\\\LCL-June2015v2_84.csv',\n",
              " 'D:\\\\Documentos\\\\GitHub\\\\Research_Repo\\\\Sidney_s-Research\\\\Dataset\\\\Small LCL Data\\\\LCL-June2015v2_85.csv',\n",
              " 'D:\\\\Documentos\\\\GitHub\\\\Research_Repo\\\\Sidney_s-Research\\\\Dataset\\\\Small LCL Data\\\\LCL-June2015v2_86.csv',\n",
              " 'D:\\\\Documentos\\\\GitHub\\\\Research_Repo\\\\Sidney_s-Research\\\\Dataset\\\\Small LCL Data\\\\LCL-June2015v2_87.csv',\n",
              " 'D:\\\\Documentos\\\\GitHub\\\\Research_Repo\\\\Sidney_s-Research\\\\Dataset\\\\Small LCL Data\\\\LCL-June2015v2_88.csv',\n",
              " 'D:\\\\Documentos\\\\GitHub\\\\Research_Repo\\\\Sidney_s-Research\\\\Dataset\\\\Small LCL Data\\\\LCL-June2015v2_89.csv',\n",
              " 'D:\\\\Documentos\\\\GitHub\\\\Research_Repo\\\\Sidney_s-Research\\\\Dataset\\\\Small LCL Data\\\\LCL-June2015v2_9.csv',\n",
              " 'D:\\\\Documentos\\\\GitHub\\\\Research_Repo\\\\Sidney_s-Research\\\\Dataset\\\\Small LCL Data\\\\LCL-June2015v2_90.csv',\n",
              " 'D:\\\\Documentos\\\\GitHub\\\\Research_Repo\\\\Sidney_s-Research\\\\Dataset\\\\Small LCL Data\\\\LCL-June2015v2_91.csv',\n",
              " 'D:\\\\Documentos\\\\GitHub\\\\Research_Repo\\\\Sidney_s-Research\\\\Dataset\\\\Small LCL Data\\\\LCL-June2015v2_92.csv',\n",
              " 'D:\\\\Documentos\\\\GitHub\\\\Research_Repo\\\\Sidney_s-Research\\\\Dataset\\\\Small LCL Data\\\\LCL-June2015v2_93.csv',\n",
              " 'D:\\\\Documentos\\\\GitHub\\\\Research_Repo\\\\Sidney_s-Research\\\\Dataset\\\\Small LCL Data\\\\LCL-June2015v2_94.csv',\n",
              " 'D:\\\\Documentos\\\\GitHub\\\\Research_Repo\\\\Sidney_s-Research\\\\Dataset\\\\Small LCL Data\\\\LCL-June2015v2_95.csv',\n",
              " 'D:\\\\Documentos\\\\GitHub\\\\Research_Repo\\\\Sidney_s-Research\\\\Dataset\\\\Small LCL Data\\\\LCL-June2015v2_96.csv',\n",
              " 'D:\\\\Documentos\\\\GitHub\\\\Research_Repo\\\\Sidney_s-Research\\\\Dataset\\\\Small LCL Data\\\\LCL-June2015v2_97.csv',\n",
              " 'D:\\\\Documentos\\\\GitHub\\\\Research_Repo\\\\Sidney_s-Research\\\\Dataset\\\\Small LCL Data\\\\LCL-June2015v2_98.csv',\n",
              " 'D:\\\\Documentos\\\\GitHub\\\\Research_Repo\\\\Sidney_s-Research\\\\Dataset\\\\Small LCL Data\\\\LCL-June2015v2_99.csv']"
            ]
          },
          "execution_count": 7,
          "metadata": {},
          "output_type": "execute_result"
        }
      ],
      "source": [
        "# Get the full paths for each CSV files\n",
        "csv_files = [os.path.join(dataset_folder, f) for f in os.listdir(dataset_folder) if f.endswith('.csv')]\n",
        "\n",
        "csv_files"
      ]
    },
    {
      "cell_type": "code",
      "execution_count": null,
      "metadata": {
        "id": "9qq3ov5DMMKR",
        "outputId": "029c8b51-7313-43fe-ef4f-8c3b8d1abdf5"
      },
      "outputs": [
        {
          "name": "stdout",
          "output_type": "stream",
          "text": [
            "Formato do DataFrame mesclado: (167932474, 4)\n"
          ]
        }
      ],
      "source": [
        "# Read all the CSVs\n",
        "dfs = [pd.read_csv(file) for file in csv_files]\n",
        "\n",
        "# Combine the CSVs into one DataFrame\n",
        "merged_df = pd.concat(dfs, ignore_index=True)\n",
        "print(f\"Formato do DataFrame mesclado: {merged_df.shape}\")"
      ]
    },
    {
      "cell_type": "markdown",
      "metadata": {
        "id": "O0Zmo5OkMMKR"
      },
      "source": [
        "### 1.1 - Saving the merged DataFrame into a CSV file"
      ]
    },
    {
      "cell_type": "code",
      "execution_count": null,
      "metadata": {
        "id": "khrnwZMJMMKR"
      },
      "outputs": [],
      "source": [
        "# Save DataFrame as CSV into the \"Dataset\" Directory\n",
        "merged_dataset_path = extracted_file_path + \"/Merged Dataset.csv\"   # String var with correct path\n",
        "\n",
        "merged_df.to_csv(merged_dataset_path, sep=\",\", index=False)"
      ]
    },
    {
      "cell_type": "markdown",
      "metadata": {
        "id": "EkcySZjXMMKR"
      },
      "source": [
        "### 1.2 - Deleting almost total amount of the sliced Dataset"
      ]
    },
    {
      "cell_type": "code",
      "execution_count": null,
      "metadata": {
        "id": "z4PoyveSMMKR",
        "outputId": "7c7f1d7b-bbcd-4115-a474-b5d803e12b8c"
      },
      "outputs": [
        {
          "name": "stdout",
          "output_type": "stream",
          "text": [
            "Mantido: D:\\Documentos\\GitHub\\Research_Repo\\Sidney_s-Research\\Dataset\\Small LCL Data\\LCL-June2015v2_0.csv\n",
            "DEletado: D:\\Documentos\\GitHub\\Research_Repo\\Sidney_s-Research\\Dataset\\Small LCL Data\\LCL-June2015v2_1.csv\n",
            "DEletado: D:\\Documentos\\GitHub\\Research_Repo\\Sidney_s-Research\\Dataset\\Small LCL Data\\LCL-June2015v2_2.csv\n",
            "DEletado: D:\\Documentos\\GitHub\\Research_Repo\\Sidney_s-Research\\Dataset\\Small LCL Data\\LCL-June2015v2_3.csv\n",
            "DEletado: D:\\Documentos\\GitHub\\Research_Repo\\Sidney_s-Research\\Dataset\\Small LCL Data\\LCL-June2015v2_4.csv\n",
            "DEletado: D:\\Documentos\\GitHub\\Research_Repo\\Sidney_s-Research\\Dataset\\Small LCL Data\\LCL-June2015v2_5.csv\n",
            "DEletado: D:\\Documentos\\GitHub\\Research_Repo\\Sidney_s-Research\\Dataset\\Small LCL Data\\LCL-June2015v2_6.csv\n",
            "DEletado: D:\\Documentos\\GitHub\\Research_Repo\\Sidney_s-Research\\Dataset\\Small LCL Data\\LCL-June2015v2_7.csv\n",
            "DEletado: D:\\Documentos\\GitHub\\Research_Repo\\Sidney_s-Research\\Dataset\\Small LCL Data\\LCL-June2015v2_8.csv\n",
            "DEletado: D:\\Documentos\\GitHub\\Research_Repo\\Sidney_s-Research\\Dataset\\Small LCL Data\\LCL-June2015v2_9.csv\n"
          ]
        }
      ],
      "source": [
        "import glob\n",
        "\n",
        "# Set the path to the sliced data\n",
        "sliced_dataset_path = \"D:\\Documentos\\GitHub\\Research_Repo\\Sidney_s-Research\\Dataset\\Small LCL Data\"\n",
        "\n",
        "# Set the file I want to keep\n",
        "file_to_keep = \"LCL-June2015v2_0.csv\"\n",
        "\n",
        "# Get all the CSV files into the Dataset\n",
        "csv_sliced_files = glob.glob(os.path.join(sliced_dataset_path, \"*.csv\"))\n",
        "\n",
        "# Loop through files in the folder to delete all, except the one chosen to keep\n",
        "for file in csv_sliced_files:\n",
        "    if os.path.basename(file) == file_to_keep:\n",
        "        print(f\"Mantido: {file}\")\n",
        "    else:\n",
        "        os.remove(file)\n",
        "        print(f\"DEletado: {file}\")"
      ]
    },
    {
      "cell_type": "markdown",
      "metadata": {
        "id": "rEuo4CnVMMKS"
      },
      "source": [
        "# 1 - Unziping the Dataset (.zip) and saving it in the desired path"
      ]
    },
    {
      "cell_type": "markdown",
      "metadata": {
        "id": "6RX0CY9SMMKS"
      },
      "source": [
        "## 1 - Lib imports and preset of the paths"
      ]
    },
    {
      "cell_type": "code",
      "execution_count": null,
      "metadata": {
        "id": "q8fq9mo-MMKS"
      },
      "outputs": [],
      "source": [
        "import zipfile\n",
        "import os\n",
        "\n",
        "# Path to the ZIP file of the Dataset\n",
        "zip_file_path = \"D:\\Documentos\\GitHub\\Research_Repo\\Sidney_s-Research\\Dataset\\LCL-FullData.zip\"\n",
        "\n",
        "# Path where the ZIP file will be extract\n",
        "extracted_file_path = \"D:/Documentos/GitHub/Research_Repo/Sidney_s-Research/Dataset\"\n",
        "\n",
        "# Make the \"Dataset/\" directory as the extract directory if it doesn´t exist\n",
        "os.makedirs(extracted_file_path, exist_ok=True)"
      ]
    },
    {
      "cell_type": "markdown",
      "metadata": {
        "id": "so8t77LZMMKS"
      },
      "source": [
        "## 2 - Checking the Compression Method used in \"LCL-FullData.zip\""
      ]
    },
    {
      "cell_type": "code",
      "execution_count": null,
      "metadata": {
        "id": "3E8wq9bVMMKS"
      },
      "outputs": [],
      "source": [
        "# with zipfile.ZipFile(zip_file_path) as myzip:\n",
        "#     with myzip.open(\"CC_LCL-FullData.csv\") as myfile:\n",
        "#         print(myfile.read())"
      ]
    },
    {
      "cell_type": "code",
      "execution_count": null,
      "metadata": {
        "id": "tXr4V9ufMMKS"
      },
      "outputs": [],
      "source": [
        "with zipfile.ZipFile(zip_file_path, \"r\") as z:\n",
        "    for info in z.infolist():\n",
        "        print(f\"Arquivo: {info.filename}, Compressão: {info.compress_type}\")\n",
        "\n",
        "    # Extract files\n",
        "    ##z.extractall(extracted_file_path)\n",
        "\n",
        "# Compression method \"DEFLATE64\""
      ]
    },
    {
      "cell_type": "markdown",
      "metadata": {
        "id": "EiDYIaUMMMKS"
      },
      "source": [
        "## 3 - Handlying with Compression Method \"DEFLATE64\", Extracting and Saving the CSV file\n",
        "> Python’s zipfile module cannot handle DEFLATE64, but you can try one of the following methods:"
      ]
    },
    {
      "cell_type": "markdown",
      "metadata": {
        "id": "C1z1Mss9MMKT"
      },
      "source": [
        "pip install py7zr"
      ]
    },
    {
      "cell_type": "markdown",
      "metadata": {
        "id": "V1PpbZzlMMKT"
      },
      "source": [
        "pip uninstall py7zr"
      ]
    },
    {
      "cell_type": "code",
      "execution_count": null,
      "metadata": {
        "id": "FZuOk8RZMMKT",
        "outputId": "872f4ce5-dfbb-4ff1-887f-1db40ee0d63d"
      },
      "outputs": [
        {
          "name": "stdout",
          "output_type": "stream",
          "text": [
            "Defaulting to user installation because normal site-packages is not writeable\n",
            "Collecting zipfile-deflate64\n",
            "  Downloading zipfile-deflate64-0.2.0.tar.gz (62 kB)\n",
            "  Installing build dependencies: started\n",
            "  Installing build dependencies: finished with status 'done'\n",
            "  Getting requirements to build wheel: started\n",
            "  Getting requirements to build wheel: finished with status 'done'\n",
            "  Preparing metadata (pyproject.toml): started\n",
            "  Preparing metadata (pyproject.toml): finished with status 'done'\n",
            "Building wheels for collected packages: zipfile-deflate64\n",
            "  Building wheel for zipfile-deflate64 (pyproject.toml): started\n",
            "  Building wheel for zipfile-deflate64 (pyproject.toml): finished with status 'done'\n",
            "  Created wheel for zipfile-deflate64: filename=zipfile_deflate64-0.2.0-cp311-cp311-win_amd64.whl size=20212 sha256=0c1a95dd3a0e6771908e24c9ffff71968a2e13d248815efbc5fa0805a61fa3c6\n",
            "  Stored in directory: c:\\users\\rafael\\appdata\\local\\pip\\cache\\wheels\\19\\cc\\32\\e51b420eff4d53b88d2fd4d8673f193f4eef200ef417a1ec0d\n",
            "Successfully built zipfile-deflate64\n",
            "Installing collected packages: zipfile-deflate64\n",
            "Successfully installed zipfile-deflate64-0.2.0\n",
            "Note: you may need to restart the kernel to use updated packages.\n"
          ]
        },
        {
          "name": "stderr",
          "output_type": "stream",
          "text": [
            "\n",
            "[notice] A new release of pip is available: 24.2 -> 25.0\n",
            "[notice] To update, run: python.exe -m pip install --upgrade pip\n"
          ]
        }
      ],
      "source": [
        "pip install zipfile-deflate64"
      ]
    },
    {
      "cell_type": "code",
      "execution_count": null,
      "metadata": {
        "id": "rl69Ln_7MMKT"
      },
      "outputs": [],
      "source": [
        "import zipfile_deflate64 as zf64\n",
        "\n",
        "with zf64.ZipFile(zip_file_path, 'r') as zip_ref:\n",
        "    zip_ref.extractall(extracted_file_path)"
      ]
    },
    {
      "cell_type": "markdown",
      "metadata": {
        "id": "zojYImj1MMKT"
      },
      "source": [
        "## 3 - Extracting and Saving the CSV file (N UTILIZADO!)"
      ]
    },
    {
      "cell_type": "markdown",
      "metadata": {
        "id": "zDxeIJmFMMKT"
      },
      "source": [
        "pip install patool"
      ]
    },
    {
      "cell_type": "markdown",
      "metadata": {
        "id": "cuhGlDNHMMKT"
      },
      "source": [
        "import patoolib\n",
        "\n",
        "patoolib.extract_archive(zip_file_path, outdir=extracted_file_path)"
      ]
    },
    {
      "cell_type": "markdown",
      "metadata": {
        "id": "hpOPKSksMMKT"
      },
      "source": [
        "# 1 - Analysing the dataset structure"
      ]
    },
    {
      "cell_type": "code",
      "source": [
        "from google.colab import drive\n",
        "drive.mount('/content/drive')"
      ],
      "metadata": {
        "colab": {
          "base_uri": "https://localhost:8080/"
        },
        "id": "VA3ILv5lNfPO",
        "outputId": "52551469-04ed-4864-f653-e1498d3c7f36"
      },
      "execution_count": null,
      "outputs": [
        {
          "output_type": "stream",
          "name": "stdout",
          "text": [
            "Mounted at /content/drive\n"
          ]
        }
      ]
    },
    {
      "cell_type": "markdown",
      "metadata": {
        "id": "x90Q7yjuMMKT"
      },
      "source": [
        "## 0 - Preparing data"
      ]
    },
    {
      "cell_type": "markdown",
      "metadata": {
        "id": "uDxnnDovMMKU"
      },
      "source": [
        "### Reading CSV as a DataFrame and analysing shape"
      ]
    },
    {
      "cell_type": "code",
      "execution_count": null,
      "metadata": {
        "id": "jHYp2WnpMMKU"
      },
      "outputs": [],
      "source": [
        "import pandas as pd\n",
        "import numpy as np\n",
        "\n",
        "df = pd.read_csv(\"/content/drive/MyDrive/Colab Notebooks/Sidney_Research/Dataset/CC_LCL-FullData.csv\")"
      ]
    },
    {
      "cell_type": "code",
      "source": [
        "df.shape"
      ],
      "metadata": {
        "id": "KNdxPUA8O0d6"
      },
      "execution_count": null,
      "outputs": []
    },
    {
      "cell_type": "markdown",
      "metadata": {
        "id": "zW_LXHrAMMKU"
      },
      "source": [
        "### Preview of Dataset, with Head(), Tail() and Info()"
      ]
    },
    {
      "cell_type": "code",
      "execution_count": null,
      "metadata": {
        "id": "wNG3va1UMMKU",
        "outputId": "681cd2cb-dc30-47ad-a6c7-a444ae0de85e"
      },
      "outputs": [
        {
          "data": {
            "text/html": [
              "<div>\n",
              "<style scoped>\n",
              "    .dataframe tbody tr th:only-of-type {\n",
              "        vertical-align: middle;\n",
              "    }\n",
              "\n",
              "    .dataframe tbody tr th {\n",
              "        vertical-align: top;\n",
              "    }\n",
              "\n",
              "    .dataframe thead th {\n",
              "        text-align: right;\n",
              "    }\n",
              "</style>\n",
              "<table border=\"1\" class=\"dataframe\">\n",
              "  <thead>\n",
              "    <tr style=\"text-align: right;\">\n",
              "      <th></th>\n",
              "      <th>LCLid</th>\n",
              "      <th>stdorToU</th>\n",
              "      <th>DateTime</th>\n",
              "      <th>KWH/hh (per half hour)</th>\n",
              "    </tr>\n",
              "  </thead>\n",
              "  <tbody>\n",
              "    <tr>\n",
              "      <th>0</th>\n",
              "      <td>MAC000002</td>\n",
              "      <td>Std</td>\n",
              "      <td>2012-10-12 00:30:00.0000000</td>\n",
              "      <td>0</td>\n",
              "    </tr>\n",
              "    <tr>\n",
              "      <th>1</th>\n",
              "      <td>MAC000002</td>\n",
              "      <td>Std</td>\n",
              "      <td>2012-10-12 01:00:00.0000000</td>\n",
              "      <td>0</td>\n",
              "    </tr>\n",
              "    <tr>\n",
              "      <th>2</th>\n",
              "      <td>MAC000002</td>\n",
              "      <td>Std</td>\n",
              "      <td>2012-10-12 01:30:00.0000000</td>\n",
              "      <td>0</td>\n",
              "    </tr>\n",
              "    <tr>\n",
              "      <th>3</th>\n",
              "      <td>MAC000002</td>\n",
              "      <td>Std</td>\n",
              "      <td>2012-10-12 02:00:00.0000000</td>\n",
              "      <td>0</td>\n",
              "    </tr>\n",
              "    <tr>\n",
              "      <th>4</th>\n",
              "      <td>MAC000002</td>\n",
              "      <td>Std</td>\n",
              "      <td>2012-10-12 02:30:00.0000000</td>\n",
              "      <td>0</td>\n",
              "    </tr>\n",
              "  </tbody>\n",
              "</table>\n",
              "</div>"
            ],
            "text/plain": [
              "       LCLid stdorToU                     DateTime KWH/hh (per half hour) \n",
              "0  MAC000002      Std  2012-10-12 00:30:00.0000000                      0 \n",
              "1  MAC000002      Std  2012-10-12 01:00:00.0000000                      0 \n",
              "2  MAC000002      Std  2012-10-12 01:30:00.0000000                      0 \n",
              "3  MAC000002      Std  2012-10-12 02:00:00.0000000                      0 \n",
              "4  MAC000002      Std  2012-10-12 02:30:00.0000000                      0 "
            ]
          },
          "execution_count": 21,
          "metadata": {},
          "output_type": "execute_result"
        }
      ],
      "source": [
        "# Head of Merged DataFrame\n",
        "df.head()"
      ]
    },
    {
      "cell_type": "code",
      "execution_count": null,
      "metadata": {
        "id": "uXLfI-xoMMKU",
        "outputId": "1618ac2e-31d1-400a-810a-349d46204b26"
      },
      "outputs": [
        {
          "data": {
            "text/html": [
              "<div>\n",
              "<style scoped>\n",
              "    .dataframe tbody tr th:only-of-type {\n",
              "        vertical-align: middle;\n",
              "    }\n",
              "\n",
              "    .dataframe tbody tr th {\n",
              "        vertical-align: top;\n",
              "    }\n",
              "\n",
              "    .dataframe thead th {\n",
              "        text-align: right;\n",
              "    }\n",
              "</style>\n",
              "<table border=\"1\" class=\"dataframe\">\n",
              "  <thead>\n",
              "    <tr style=\"text-align: right;\">\n",
              "      <th></th>\n",
              "      <th>LCLid</th>\n",
              "      <th>stdorToU</th>\n",
              "      <th>DateTime</th>\n",
              "      <th>KWH/hh (per half hour)</th>\n",
              "    </tr>\n",
              "  </thead>\n",
              "  <tbody>\n",
              "    <tr>\n",
              "      <th>999997</th>\n",
              "      <td>MAC000036</td>\n",
              "      <td>Std</td>\n",
              "      <td>2012-11-08 09:00:00.0000000</td>\n",
              "      <td>0.076</td>\n",
              "    </tr>\n",
              "    <tr>\n",
              "      <th>999998</th>\n",
              "      <td>MAC000036</td>\n",
              "      <td>Std</td>\n",
              "      <td>2012-11-08 09:30:00.0000000</td>\n",
              "      <td>0.07</td>\n",
              "    </tr>\n",
              "    <tr>\n",
              "      <th>999999</th>\n",
              "      <td>MAC000036</td>\n",
              "      <td>Std</td>\n",
              "      <td>2012-11-08 10:00:00.0000000</td>\n",
              "      <td>0.005</td>\n",
              "    </tr>\n",
              "    <tr>\n",
              "      <th>1000000</th>\n",
              "      <td>MAC000036</td>\n",
              "      <td>Std</td>\n",
              "      <td>2012-11-08 10:30:00.0000000</td>\n",
              "      <td>0.003</td>\n",
              "    </tr>\n",
              "    <tr>\n",
              "      <th>1000001</th>\n",
              "      <td>MAC000036</td>\n",
              "      <td>Std</td>\n",
              "      <td>2012-11-08 11:00:00.0000000</td>\n",
              "      <td>0.032</td>\n",
              "    </tr>\n",
              "    <tr>\n",
              "      <th>1000002</th>\n",
              "      <td>MAC000036</td>\n",
              "      <td>Std</td>\n",
              "      <td>2012-11-08 11:30:00.0000000</td>\n",
              "      <td>0.035</td>\n",
              "    </tr>\n",
              "    <tr>\n",
              "      <th>1000003</th>\n",
              "      <td>MAC000036</td>\n",
              "      <td>Std</td>\n",
              "      <td>2012-11-08 12:00:00.0000000</td>\n",
              "      <td>0</td>\n",
              "    </tr>\n",
              "    <tr>\n",
              "      <th>1000004</th>\n",
              "      <td>MAC000036</td>\n",
              "      <td>Std</td>\n",
              "      <td>2012-11-08 12:30:00.0000000</td>\n",
              "      <td>0</td>\n",
              "    </tr>\n",
              "    <tr>\n",
              "      <th>1000005</th>\n",
              "      <td>MAC000036</td>\n",
              "      <td>Std</td>\n",
              "      <td>2012-11-08 13:00:00.0000000</td>\n",
              "      <td>0.031</td>\n",
              "    </tr>\n",
              "  </tbody>\n",
              "</table>\n",
              "</div>"
            ],
            "text/plain": [
              "             LCLid stdorToU                     DateTime  \\\n",
              "999997   MAC000036      Std  2012-11-08 09:00:00.0000000   \n",
              "999998   MAC000036      Std  2012-11-08 09:30:00.0000000   \n",
              "999999   MAC000036      Std  2012-11-08 10:00:00.0000000   \n",
              "1000000  MAC000036      Std  2012-11-08 10:30:00.0000000   \n",
              "1000001  MAC000036      Std  2012-11-08 11:00:00.0000000   \n",
              "1000002  MAC000036      Std  2012-11-08 11:30:00.0000000   \n",
              "1000003  MAC000036      Std  2012-11-08 12:00:00.0000000   \n",
              "1000004  MAC000036      Std  2012-11-08 12:30:00.0000000   \n",
              "1000005  MAC000036      Std  2012-11-08 13:00:00.0000000   \n",
              "\n",
              "        KWH/hh (per half hour)   \n",
              "999997                   0.076   \n",
              "999998                    0.07   \n",
              "999999                   0.005   \n",
              "1000000                  0.003   \n",
              "1000001                  0.032   \n",
              "1000002                  0.035   \n",
              "1000003                      0   \n",
              "1000004                      0   \n",
              "1000005                  0.031   "
            ]
          },
          "execution_count": 22,
          "metadata": {},
          "output_type": "execute_result"
        }
      ],
      "source": [
        "# Mix range between the .0 and .1 file\n",
        "df.loc[999997:1000005]"
      ]
    },
    {
      "cell_type": "code",
      "execution_count": null,
      "metadata": {
        "id": "W0b0sP3tMMKZ",
        "outputId": "df3e7a74-7d47-489d-a0fa-50d693b5f382"
      },
      "outputs": [
        {
          "data": {
            "text/html": [
              "<div>\n",
              "<style scoped>\n",
              "    .dataframe tbody tr th:only-of-type {\n",
              "        vertical-align: middle;\n",
              "    }\n",
              "\n",
              "    .dataframe tbody tr th {\n",
              "        vertical-align: top;\n",
              "    }\n",
              "\n",
              "    .dataframe thead th {\n",
              "        text-align: right;\n",
              "    }\n",
              "</style>\n",
              "<table border=\"1\" class=\"dataframe\">\n",
              "  <thead>\n",
              "    <tr style=\"text-align: right;\">\n",
              "      <th></th>\n",
              "      <th>LCLid</th>\n",
              "      <th>stdorToU</th>\n",
              "      <th>DateTime</th>\n",
              "      <th>KWH/hh (per half hour)</th>\n",
              "    </tr>\n",
              "  </thead>\n",
              "  <tbody>\n",
              "    <tr>\n",
              "      <th>9999995</th>\n",
              "      <td>MAC000326</td>\n",
              "      <td>Std</td>\n",
              "      <td>2012-04-21 12:30:00.0000000</td>\n",
              "      <td>0.156</td>\n",
              "    </tr>\n",
              "    <tr>\n",
              "      <th>9999996</th>\n",
              "      <td>MAC000326</td>\n",
              "      <td>Std</td>\n",
              "      <td>2012-04-21 13:00:00.0000000</td>\n",
              "      <td>0.269</td>\n",
              "    </tr>\n",
              "    <tr>\n",
              "      <th>9999997</th>\n",
              "      <td>MAC000326</td>\n",
              "      <td>Std</td>\n",
              "      <td>2012-04-21 13:30:00.0000000</td>\n",
              "      <td>0.161</td>\n",
              "    </tr>\n",
              "    <tr>\n",
              "      <th>9999998</th>\n",
              "      <td>MAC000326</td>\n",
              "      <td>Std</td>\n",
              "      <td>2012-04-21 14:00:00.0000000</td>\n",
              "      <td>0.084</td>\n",
              "    </tr>\n",
              "    <tr>\n",
              "      <th>9999999</th>\n",
              "      <td>MAC000326</td>\n",
              "      <td>Std</td>\n",
              "      <td>2012-04-21 14:30:00.0000000</td>\n",
              "      <td>0.065</td>\n",
              "    </tr>\n",
              "  </tbody>\n",
              "</table>\n",
              "</div>"
            ],
            "text/plain": [
              "             LCLid stdorToU                     DateTime  \\\n",
              "9999995  MAC000326      Std  2012-04-21 12:30:00.0000000   \n",
              "9999996  MAC000326      Std  2012-04-21 13:00:00.0000000   \n",
              "9999997  MAC000326      Std  2012-04-21 13:30:00.0000000   \n",
              "9999998  MAC000326      Std  2012-04-21 14:00:00.0000000   \n",
              "9999999  MAC000326      Std  2012-04-21 14:30:00.0000000   \n",
              "\n",
              "        KWH/hh (per half hour)   \n",
              "9999995                  0.156   \n",
              "9999996                  0.269   \n",
              "9999997                  0.161   \n",
              "9999998                  0.084   \n",
              "9999999                  0.065   "
            ]
          },
          "execution_count": 23,
          "metadata": {},
          "output_type": "execute_result"
        }
      ],
      "source": [
        "# Tail of Merged DataFrame\n",
        "df.tail()"
      ]
    },
    {
      "cell_type": "markdown",
      "metadata": {
        "id": "vGVWRZwGMMKZ"
      },
      "source": [
        "## 1 - Amount of remarks missing by home"
      ]
    },
    {
      "cell_type": "markdown",
      "source": [
        "For NaN Data\n",
        "\n",
        "\n",
        "---\n",
        "\n",
        "\n",
        "Diferença entre .isnull() e .isna()\n",
        "- NULL indica a **ausência de um valor**.\n",
        "> Isso pode ocorrer se uma variável nunca foi definida ou se alguém atribuiu NULL para limpar uma variável.\n",
        "- NaN indica um **valor não válido**.\n",
        "> Isso pode ocorrer se uma operação matemática é realizada com valores que não são compatíveis ou se um valor é inserido em uma coluna que não é do tipo numérico"
      ],
      "metadata": {
        "id": "fevCA-DqTlzO"
      }
    },
    {
      "cell_type": "code",
      "source": [
        "# Identifying NaN data\n",
        "df.info()"
      ],
      "metadata": {
        "id": "XIvEUHyoOfSS"
      },
      "execution_count": null,
      "outputs": []
    },
    {
      "cell_type": "code",
      "source": [
        "# Identifying the mean value of NaN data by home ID\n",
        "mean_missingValues = df.groupby('LCLid')[\"KWH/hh (per half hour)\"].agg(lambda x: x.isnull().sum()).mean()\n",
        "\n",
        "print(f\"Média de valores NaN por residência: {mean_missingValues}\")"
      ],
      "metadata": {
        "id": "XjgiHOHjP3VE"
      },
      "execution_count": null,
      "outputs": []
    },
    {
      "cell_type": "code",
      "source": [
        "# Identifying the mean value of NaN data by home ID\n",
        "mean_missingValues = df.groupby('LCLid')[\"KWH/hh (per half hour)\"].agg(lambda x: x.isna().sum()).mean()\n",
        "\n",
        "print(f\"Média de valores NaN por residência: {mean_missingValues}\")"
      ],
      "metadata": {
        "id": "hVJ5noQMWJU7"
      },
      "execution_count": null,
      "outputs": []
    },
    {
      "cell_type": "markdown",
      "source": [
        "For 0 (\"Zeros\") Data"
      ],
      "metadata": {
        "id": "oSUhwdbQTpUE"
      }
    },
    {
      "cell_type": "code",
      "execution_count": null,
      "metadata": {
        "id": "-UxNZHfWMMKZ"
      },
      "outputs": [],
      "source": [
        "# Identifying the total number of 0 ('Zeros') into the \"KWH/hh (per half hour)\" Column\n",
        "total_zeroValue = df[df[\"KWH/hh (per half hour)\"] == 0].shape\n",
        "\n",
        "print(f'Número total de valores 0 (\"Zeros\") coletados no consumo em KWh/hh das residências: {total_zeroValue}')"
      ]
    },
    {
      "cell_type": "code",
      "source": [
        "# Identifying the total number of 0 ('Zeros') by home ID\n",
        "mean_zero_values = df.groupby('LCLid')[\"KWH/hh (per half hour)\"].agg(lambda x: (x == 0).sum()).mean()\n",
        "\n",
        "print(f'Média de valores 0 (\"Zero\") por residência: {mean_zero_values}')"
      ],
      "metadata": {
        "id": "DHXWAiKcPofl"
      },
      "execution_count": null,
      "outputs": []
    },
    {
      "cell_type": "markdown",
      "metadata": {
        "id": "pNvoAlesMMKZ"
      },
      "source": [
        "## 2 - Total period of time the data is situated"
      ]
    },
    {
      "cell_type": "code",
      "execution_count": null,
      "metadata": {
        "id": "RY9KUAerMMKZ"
      },
      "outputs": [],
      "source": [
        "# Identifying the total period of time the data is collected\n",
        "\n",
        "## Convert the timestamp column to datetime if it's not already in that format\n",
        "#df[\"DateTime\"] = pd.to_datetime(df[\"DateTime\"])\n",
        "\n",
        "## Compute the total period of data collection\n",
        "total_period = df[\"DateTime\"].max() - df[\"DateTime\"].min()\n",
        "\n",
        "print(\"Período total de coleta de dados: \", total_period)"
      ]
    },
    {
      "cell_type": "markdown",
      "metadata": {
        "id": "RxDNLOCQMMKZ"
      },
      "source": [
        "## 3 - Periodicity in which data is collected"
      ]
    },
    {
      "cell_type": "code",
      "execution_count": null,
      "metadata": {
        "id": "proU_nmoMMKZ"
      },
      "outputs": [],
      "source": [
        "# Identifying the Periodicity between data collections\n",
        "periodicity = df[\"DateTime\"].diff()\n",
        "\n",
        "print(\"Periodicidade entre as coletas: \", periodicity)"
      ]
    },
    {
      "cell_type": "markdown",
      "metadata": {
        "id": "YRYdPW06MMKZ"
      },
      "source": [
        "## 4 - Function to slice a set of lines into N parts of same size\n",
        "> - If the <span style=\"color: hsl(0, 85%, 38%); font-weight: bold\">amount of total lines is not divisible by N</span>, make the <span style=\"color: hsl(120, 100%, 25%); font-weight: bold\">last part have the rest of the division</span>.\n",
        "> - It **doesn't need** to be tested with all dataset lines"
      ]
    },
    {
      "cell_type": "code",
      "source": [
        "def slice_data(number_of_rows, N):\n",
        "  \"\"\" It slices a set of lines into N equivalent parts of the Dataset.\n",
        "\n",
        "  Arguments:\n",
        "    number_of_lines: List of desired rows of Dataset.\n",
        "    N: Number of parts to divide the rows into.\n",
        "\n",
        "  Returns:\n",
        "    A list of lists, where each sublist contains an equal number of reparted rows.\n",
        "  \"\"\"\n",
        "\n",
        "  # Validation of the argmments\n",
        "  if N <= 0:\n",
        "    raise ValueError(\"O número de partes deve ser maior que zero!\")\n",
        "\n",
        "  # Definition and calculation of the limits of each size\n",
        "  total_rows = len(rows)\n",
        "  slice_size = total_rows // N\n",
        "  rest = total_rows % N\n",
        "\n",
        "  # Agregation of each slice\n",
        "  slices = []\n",
        "  start_index = 0\n",
        "  for i in range(N):\n",
        "      end_index = start_index + part_size\n",
        "      if i < remainder:\n",
        "          end_index += 1\n",
        "      parts.append(lines[start_index:end_index])\n",
        "      start_index = end_index\n",
        "\n",
        "  return parts"
      ],
      "metadata": {
        "id": "M2PEf7-nX0nT"
      },
      "execution_count": null,
      "outputs": []
    }
  ],
  "metadata": {
    "kernelspec": {
      "display_name": "Python 3",
      "language": "python",
      "name": "python3"
    },
    "language_info": {
      "codemirror_mode": {
        "name": "ipython",
        "version": 3
      },
      "file_extension": ".py",
      "mimetype": "text/x-python",
      "name": "python",
      "nbconvert_exporter": "python",
      "pygments_lexer": "ipython3",
      "version": "3.11.0"
    },
    "colab": {
      "provenance": [],
      "toc_visible": true
    }
  },
  "nbformat": 4,
  "nbformat_minor": 0
}