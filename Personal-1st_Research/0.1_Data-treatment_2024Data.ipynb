{
  "cells": [
    {
      "cell_type": "code",
      "execution_count": 17,
      "metadata": {
        "id": "I2jNKzKophdf"
      },
      "outputs": [],
      "source": [
        "# Libs for Data Treatment and Vizualization\n",
        "import numpy as np\n",
        "import pandas as pd\n",
        "import matplotlib.pyplot as plt\n",
        "import seaborn as sns\n",
        "# from google.colab import drive"
      ]
    },
    {
      "cell_type": "code",
      "execution_count": 18,
      "metadata": {
        "colab": {
          "base_uri": "https://localhost:8080/"
        },
        "id": "GeRLY-VPZPuN",
        "outputId": "1122c72d-9643-4b56-8bb3-6e189588257a"
      },
      "outputs": [],
      "source": [
        "# drive.mount('/content/drive')"
      ]
    },
    {
      "cell_type": "markdown",
      "metadata": {
        "id": "uv3wvfv-nY7q"
      },
      "source": [
        "# 0. Dataset Global Models (Sorocaba-Ipero 2024 | Server Side)⭐"
      ]
    },
    {
      "cell_type": "markdown",
      "metadata": {
        "id": "C4ChYkTaZHDL"
      },
      "source": [
        "## Data collection"
      ]
    },
    {
      "cell_type": "code",
      "execution_count": null,
      "metadata": {},
      "outputs": [],
      "source": [
        "# Instalar e usar chardet para detectar o encoding\n",
        "!pip install chardet"
      ]
    },
    {
      "cell_type": "code",
      "execution_count": 39,
      "metadata": {},
      "outputs": [
        {
          "name": "stdout",
          "output_type": "stream",
          "text": [
            "Encoding detectado: utf-8 com confiança 0.99\n"
          ]
        }
      ],
      "source": [
        "import chardet\n",
        "\n",
        "file_path = 'Datasets Brutos/Estacao_A713 - Sorocaba_Ipero/2024/INMET_SE_SP_A713_IPERO-Dataset_01-01-2024_A_31-12-2024.CSV'\n",
        "\n",
        "with open(file_path, 'rb') as f:\n",
        "    result = chardet.detect(f.read(10000))  # Lê as primeiras 10.000 bytes\n",
        "\n",
        "print(f\"Encoding detectado: {result['encoding']} com confiança {result['confidence']}\")"
      ]
    },
    {
      "cell_type": "code",
      "execution_count": 49,
      "metadata": {
        "id": "rWK2kdz9ZeF7"
      },
      "outputs": [],
      "source": [
        "# Dataset path\n",
        "# file_path = '/content/drive/MyDrive/Colab Notebooks/(Researchs)/IC - Pessoal/1 - Modelos (Datasets do INMET de Sorocaba e região)/Datasets Brutos/Estacao_A713 - Sorocaba_Ipero/2024/INMET_SE_SP_A713_IPERO-Dataset_01-01-2024_A_31-12-2024.CSV'\n",
        "file_path = 'Datasets Brutos/Estacao_A713 - Sorocaba_Ipero/2024/INMET_SE_SP_A713_IPERO-Dataset_01-01-2024_A_31-12-2024.CSV'\n",
        "\n",
        "# Upload CSV file into DataFrame\n",
        "df = pd.read_csv(file_path, encoding='utf-8', sep=';', decimal=',')"
      ]
    },
    {
      "cell_type": "code",
      "execution_count": 50,
      "metadata": {
        "colab": {
          "base_uri": "https://localhost:8080/",
          "height": 538
        },
        "id": "NrCCDlFzaMw2",
        "outputId": "3a964b63-5b88-469d-9a35-d87e34913d0d"
      },
      "outputs": [
        {
          "name": "stdout",
          "output_type": "stream",
          "text": [
            "Dataframe format:\n",
            " ↪Linhas: 8784 \n",
            " ↪Colunas: 20\n",
            "\n",
            "---\n",
            "\n",
            "First 5 lines of the dataset:\n"
          ]
        },
        {
          "data": {
            "text/html": [
              "<div>\n",
              "<style scoped>\n",
              "    .dataframe tbody tr th:only-of-type {\n",
              "        vertical-align: middle;\n",
              "    }\n",
              "\n",
              "    .dataframe tbody tr th {\n",
              "        vertical-align: top;\n",
              "    }\n",
              "\n",
              "    .dataframe thead th {\n",
              "        text-align: right;\n",
              "    }\n",
              "</style>\n",
              "<table border=\"1\" class=\"dataframe\">\n",
              "  <thead>\n",
              "    <tr style=\"text-align: right;\">\n",
              "      <th></th>\n",
              "      <th>Data</th>\n",
              "      <th>Hora UTC</th>\n",
              "      <th>PRECIPITA��O TOTAL, HOR�RIO (mm)</th>\n",
              "      <th>PRESSAO ATMOSFERICA AO NIVEL DA ESTACAO, HORARIA (mB)</th>\n",
              "      <th>PRESS�O ATMOSFERICA MAX.NA HORA ANT. (AUT) (mB)</th>\n",
              "      <th>PRESS�O ATMOSFERICA MIN. NA HORA ANT. (AUT) (mB)</th>\n",
              "      <th>RADIACAO GLOBAL (Kj/m�)</th>\n",
              "      <th>TEMPERATURA DO AR - BULBO SECO, HORARIA (�C)</th>\n",
              "      <th>TEMPERATURA DO PONTO DE ORVALHO (�C)</th>\n",
              "      <th>TEMPERATURA M�XIMA NA HORA ANT. (AUT) (�C)</th>\n",
              "      <th>TEMPERATURA M�NIMA NA HORA ANT. (AUT) (�C)</th>\n",
              "      <th>TEMPERATURA ORVALHO MAX. NA HORA ANT. (AUT) (�C)</th>\n",
              "      <th>TEMPERATURA ORVALHO MIN. NA HORA ANT. (AUT) (�C)</th>\n",
              "      <th>UMIDADE REL. MAX. NA HORA ANT. (AUT) (%)</th>\n",
              "      <th>UMIDADE REL. MIN. NA HORA ANT. (AUT) (%)</th>\n",
              "      <th>UMIDADE RELATIVA DO AR, HORARIA (%)</th>\n",
              "      <th>VENTO, DIRE��O HORARIA (gr) (� (gr))</th>\n",
              "      <th>VENTO, RAJADA MAXIMA (m/s)</th>\n",
              "      <th>VENTO, VELOCIDADE HORARIA (m/s)</th>\n",
              "      <th>Unnamed: 19</th>\n",
              "    </tr>\n",
              "  </thead>\n",
              "  <tbody>\n",
              "    <tr>\n",
              "      <th>0</th>\n",
              "      <td>2024/01/01</td>\n",
              "      <td>0000 UTC</td>\n",
              "      <td>0.0</td>\n",
              "      <td>946.2</td>\n",
              "      <td>946.2</td>\n",
              "      <td>945.5</td>\n",
              "      <td>NaN</td>\n",
              "      <td>20.2</td>\n",
              "      <td>16.2</td>\n",
              "      <td>21.1</td>\n",
              "      <td>20.1</td>\n",
              "      <td>16.7</td>\n",
              "      <td>16.2</td>\n",
              "      <td>79</td>\n",
              "      <td>75</td>\n",
              "      <td>78</td>\n",
              "      <td>115</td>\n",
              "      <td>6.3</td>\n",
              "      <td>3.1</td>\n",
              "      <td>NaN</td>\n",
              "    </tr>\n",
              "    <tr>\n",
              "      <th>1</th>\n",
              "      <td>2024/01/01</td>\n",
              "      <td>0100 UTC</td>\n",
              "      <td>0.0</td>\n",
              "      <td>946.6</td>\n",
              "      <td>946.6</td>\n",
              "      <td>946.1</td>\n",
              "      <td>NaN</td>\n",
              "      <td>20.5</td>\n",
              "      <td>16.1</td>\n",
              "      <td>20.5</td>\n",
              "      <td>19.7</td>\n",
              "      <td>16.4</td>\n",
              "      <td>16.1</td>\n",
              "      <td>81</td>\n",
              "      <td>76</td>\n",
              "      <td>76</td>\n",
              "      <td>123</td>\n",
              "      <td>5.1</td>\n",
              "      <td>0.1</td>\n",
              "      <td>NaN</td>\n",
              "    </tr>\n",
              "    <tr>\n",
              "      <th>2</th>\n",
              "      <td>2024/01/01</td>\n",
              "      <td>0200 UTC</td>\n",
              "      <td>0.0</td>\n",
              "      <td>946.7</td>\n",
              "      <td>946.9</td>\n",
              "      <td>946.6</td>\n",
              "      <td>NaN</td>\n",
              "      <td>20.8</td>\n",
              "      <td>15.9</td>\n",
              "      <td>20.8</td>\n",
              "      <td>20.5</td>\n",
              "      <td>16.1</td>\n",
              "      <td>15.9</td>\n",
              "      <td>76</td>\n",
              "      <td>74</td>\n",
              "      <td>74</td>\n",
              "      <td>123</td>\n",
              "      <td>1.0</td>\n",
              "      <td>0.1</td>\n",
              "      <td>NaN</td>\n",
              "    </tr>\n",
              "    <tr>\n",
              "      <th>3</th>\n",
              "      <td>2024/01/01</td>\n",
              "      <td>0300 UTC</td>\n",
              "      <td>0.0</td>\n",
              "      <td>946.3</td>\n",
              "      <td>946.8</td>\n",
              "      <td>946.3</td>\n",
              "      <td>NaN</td>\n",
              "      <td>20.9</td>\n",
              "      <td>16.3</td>\n",
              "      <td>21.0</td>\n",
              "      <td>20.7</td>\n",
              "      <td>16.3</td>\n",
              "      <td>15.9</td>\n",
              "      <td>75</td>\n",
              "      <td>73</td>\n",
              "      <td>75</td>\n",
              "      <td>119</td>\n",
              "      <td>1.2</td>\n",
              "      <td>0.2</td>\n",
              "      <td>NaN</td>\n",
              "    </tr>\n",
              "    <tr>\n",
              "      <th>4</th>\n",
              "      <td>2024/01/01</td>\n",
              "      <td>0400 UTC</td>\n",
              "      <td>0.0</td>\n",
              "      <td>946.3</td>\n",
              "      <td>946.4</td>\n",
              "      <td>946.1</td>\n",
              "      <td>NaN</td>\n",
              "      <td>20.2</td>\n",
              "      <td>16.0</td>\n",
              "      <td>20.9</td>\n",
              "      <td>20.2</td>\n",
              "      <td>16.2</td>\n",
              "      <td>16.0</td>\n",
              "      <td>77</td>\n",
              "      <td>75</td>\n",
              "      <td>77</td>\n",
              "      <td>115</td>\n",
              "      <td>0.9</td>\n",
              "      <td>0.0</td>\n",
              "      <td>NaN</td>\n",
              "    </tr>\n",
              "  </tbody>\n",
              "</table>\n",
              "</div>"
            ],
            "text/plain": [
              "         Data  Hora UTC  PRECIPITA��O TOTAL, HOR�RIO (mm)  \\\n",
              "0  2024/01/01  0000 UTC                               0.0   \n",
              "1  2024/01/01  0100 UTC                               0.0   \n",
              "2  2024/01/01  0200 UTC                               0.0   \n",
              "3  2024/01/01  0300 UTC                               0.0   \n",
              "4  2024/01/01  0400 UTC                               0.0   \n",
              "\n",
              "   PRESSAO ATMOSFERICA AO NIVEL DA ESTACAO, HORARIA (mB)  \\\n",
              "0                                              946.2       \n",
              "1                                              946.6       \n",
              "2                                              946.7       \n",
              "3                                              946.3       \n",
              "4                                              946.3       \n",
              "\n",
              "   PRESS�O ATMOSFERICA MAX.NA HORA ANT. (AUT) (mB)  \\\n",
              "0                                            946.2   \n",
              "1                                            946.6   \n",
              "2                                            946.9   \n",
              "3                                            946.8   \n",
              "4                                            946.4   \n",
              "\n",
              "   PRESS�O ATMOSFERICA MIN. NA HORA ANT. (AUT) (mB)  RADIACAO GLOBAL (Kj/m�)  \\\n",
              "0                                             945.5                      NaN   \n",
              "1                                             946.1                      NaN   \n",
              "2                                             946.6                      NaN   \n",
              "3                                             946.3                      NaN   \n",
              "4                                             946.1                      NaN   \n",
              "\n",
              "   TEMPERATURA DO AR - BULBO SECO, HORARIA (�C)  \\\n",
              "0                                          20.2   \n",
              "1                                          20.5   \n",
              "2                                          20.8   \n",
              "3                                          20.9   \n",
              "4                                          20.2   \n",
              "\n",
              "   TEMPERATURA DO PONTO DE ORVALHO (�C)  \\\n",
              "0                                  16.2   \n",
              "1                                  16.1   \n",
              "2                                  15.9   \n",
              "3                                  16.3   \n",
              "4                                  16.0   \n",
              "\n",
              "   TEMPERATURA M�XIMA NA HORA ANT. (AUT) (�C)  \\\n",
              "0                                        21.1   \n",
              "1                                        20.5   \n",
              "2                                        20.8   \n",
              "3                                        21.0   \n",
              "4                                        20.9   \n",
              "\n",
              "   TEMPERATURA M�NIMA NA HORA ANT. (AUT) (�C)  \\\n",
              "0                                        20.1   \n",
              "1                                        19.7   \n",
              "2                                        20.5   \n",
              "3                                        20.7   \n",
              "4                                        20.2   \n",
              "\n",
              "   TEMPERATURA ORVALHO MAX. NA HORA ANT. (AUT) (�C)  \\\n",
              "0                                              16.7   \n",
              "1                                              16.4   \n",
              "2                                              16.1   \n",
              "3                                              16.3   \n",
              "4                                              16.2   \n",
              "\n",
              "   TEMPERATURA ORVALHO MIN. NA HORA ANT. (AUT) (�C)  \\\n",
              "0                                              16.2   \n",
              "1                                              16.1   \n",
              "2                                              15.9   \n",
              "3                                              15.9   \n",
              "4                                              16.0   \n",
              "\n",
              "   UMIDADE REL. MAX. NA HORA ANT. (AUT) (%)  \\\n",
              "0                                        79   \n",
              "1                                        81   \n",
              "2                                        76   \n",
              "3                                        75   \n",
              "4                                        77   \n",
              "\n",
              "   UMIDADE REL. MIN. NA HORA ANT. (AUT) (%)  \\\n",
              "0                                        75   \n",
              "1                                        76   \n",
              "2                                        74   \n",
              "3                                        73   \n",
              "4                                        75   \n",
              "\n",
              "   UMIDADE RELATIVA DO AR, HORARIA (%)  VENTO, DIRE��O HORARIA (gr) (� (gr))  \\\n",
              "0                                   78                                   115   \n",
              "1                                   76                                   123   \n",
              "2                                   74                                   123   \n",
              "3                                   75                                   119   \n",
              "4                                   77                                   115   \n",
              "\n",
              "   VENTO, RAJADA MAXIMA (m/s)  VENTO, VELOCIDADE HORARIA (m/s)  Unnamed: 19  \n",
              "0                         6.3                              3.1          NaN  \n",
              "1                         5.1                              0.1          NaN  \n",
              "2                         1.0                              0.1          NaN  \n",
              "3                         1.2                              0.2          NaN  \n",
              "4                         0.9                              0.0          NaN  "
            ]
          },
          "execution_count": 50,
          "metadata": {},
          "output_type": "execute_result"
        }
      ],
      "source": [
        "print(\"Dataframe format:\")\n",
        "print(f\" ↪Linhas: {df.shape[0]} \\n ↪Colunas: {df.shape[1]}\")\n",
        "\n",
        "print(\"\\n---\\n\")\n",
        "\n",
        "print(\"First 5 lines of the dataset:\")\n",
        "df.head()"
      ]
    },
    {
      "cell_type": "markdown",
      "metadata": {},
      "source": [
        "Renomeando as colunas"
      ]
    },
    {
      "cell_type": "code",
      "execution_count": 51,
      "metadata": {},
      "outputs": [
        {
          "name": "stdout",
          "output_type": "stream",
          "text": [
            "Colunas originais:\n",
            "['Data', 'Hora UTC', 'PRECIPITA��O TOTAL, HOR�RIO (mm)', 'PRESSAO ATMOSFERICA AO NIVEL DA ESTACAO, HORARIA (mB)', 'PRESS�O ATMOSFERICA MAX.NA HORA ANT. (AUT) (mB)', 'PRESS�O ATMOSFERICA MIN. NA HORA ANT. (AUT) (mB)', 'RADIACAO GLOBAL (Kj/m�)', 'TEMPERATURA DO AR - BULBO SECO, HORARIA (�C)', 'TEMPERATURA DO PONTO DE ORVALHO (�C)', 'TEMPERATURA M�XIMA NA HORA ANT. (AUT) (�C)', 'TEMPERATURA M�NIMA NA HORA ANT. (AUT) (�C)', 'TEMPERATURA ORVALHO MAX. NA HORA ANT. (AUT) (�C)', 'TEMPERATURA ORVALHO MIN. NA HORA ANT. (AUT) (�C)', 'UMIDADE REL. MAX. NA HORA ANT. (AUT) (%)', 'UMIDADE REL. MIN. NA HORA ANT. (AUT) (%)', 'UMIDADE RELATIVA DO AR, HORARIA (%)', 'VENTO, DIRE��O HORARIA (gr) (� (gr))', 'VENTO, RAJADA MAXIMA (m/s)', 'VENTO, VELOCIDADE HORARIA (m/s)', 'Unnamed: 19']\n"
          ]
        }
      ],
      "source": [
        "# Verificar os nomes das colunas atuais\n",
        "print(\"Colunas originais:\")\n",
        "print(df.columns.tolist())"
      ]
    },
    {
      "cell_type": "code",
      "execution_count": 55,
      "metadata": {},
      "outputs": [
        {
          "name": "stdout",
          "output_type": "stream",
          "text": [
            "\n",
            "Colunas corrigidas:\n",
            "['Data', 'Hora UTC', 'PRECIPITAÇÃO TOTAL, HORÁRIO (mm)', 'PRESSAO ATMOSFERICA AO NIVEL DA ESTACAO, HORARIA (mB)', 'PRESSÃO ATMOSFERICA MAX.NA HORA ANT. (AUT) (mB)', 'PRESSÃO ATMOSFERICA MIN. NA HORA ANT. (AUT) (mB)', 'RADIACAO GLOBAL (KJ/m²)', 'TEMPERATURA DO AR - BULBO SECO, HORARIA (°C)', 'TEMPERATURA DO PONTO DE ORVALHO (°C)', 'TEMPERATURA MÁXIMA NA HORA ANT. (AUT) (°C)', 'TEMPERATURA MÍNIMA NA HORA ANT. (AUT) (°C)', 'TEMPERATURA ORVALHO MAX. NA HORA ANT. (AUT) (°C)', 'TEMPERATURA ORVALHO MIN. NA HORA ANT. (AUT) (°C)', 'UMIDADE REL. MAX. NA HORA ANT. (AUT) (%)', 'UMIDADE REL. MIN. NA HORA ANT. (AUT) (%)', 'UMIDADE RELATIVA DO AR, HORARIA (%)', 'VENTO, DIREÇÃO HORARIA (gr) (° (gr))', 'VENTO, RAJADA MAXIMA (m/s)', 'VENTO, VELOCIDADE HORARIA (m/s)', 'Unnamed: 19']\n"
          ]
        }
      ],
      "source": [
        "# Mapeamento para corrigir os caracteres\n",
        "correcoes = {\n",
        "    'PRECIPITA��O': 'PRECIPITAÇÃO',\n",
        "    'HOR�RIO': 'HORÁRIO',\n",
        "    'PRESS�O': 'PRESSÃO',\n",
        "    'Kj/m�': 'KJ/m²',\n",
        "    '(�C)': '(°C)',\n",
        "    'M�XIMA': 'MÁXIMA',\n",
        "    'M�NIMA': 'MÍNIMA',\n",
        "    'DIRE��O': 'DIREÇÃO',\n",
        "    '(� (gr))': '(° (gr))'\n",
        "}\n",
        "\n",
        "# Renomear colunas\n",
        "novos_nomes = []\n",
        "for coluna in df.columns:\n",
        "    for errado, correto in correcoes.items():\n",
        "        coluna = coluna.replace(errado, correto)\n",
        "    novos_nomes.append(coluna)\n",
        "\n",
        "df.columns = novos_nomes\n",
        "\n",
        "print(\"\\nColunas corrigidas:\")\n",
        "print(df.columns.tolist())"
      ]
    },
    {
      "cell_type": "code",
      "execution_count": 56,
      "metadata": {
        "colab": {
          "base_uri": "https://localhost:8080/"
        },
        "id": "TgOHc6IHaWOL",
        "outputId": "fa0949bb-39e3-4867-ed6b-131939995b0b"
      },
      "outputs": [
        {
          "name": "stdout",
          "output_type": "stream",
          "text": [
            "General Dataset Information:\n",
            "<class 'pandas.core.frame.DataFrame'>\n",
            "RangeIndex: 8784 entries, 0 to 8783\n",
            "Data columns (total 20 columns):\n",
            " #   Column                                                 Non-Null Count  Dtype  \n",
            "---  ------                                                 --------------  -----  \n",
            " 0   Data                                                   8784 non-null   object \n",
            " 1   Hora UTC                                               8784 non-null   object \n",
            " 2   PRECIPITAÇÃO TOTAL, HORÁRIO (mm)                       8784 non-null   float64\n",
            " 3   PRESSAO ATMOSFERICA AO NIVEL DA ESTACAO, HORARIA (mB)  8784 non-null   float64\n",
            " 4   PRESSÃO ATMOSFERICA MAX.NA HORA ANT. (AUT) (mB)        8784 non-null   float64\n",
            " 5   PRESSÃO ATMOSFERICA MIN. NA HORA ANT. (AUT) (mB)       8784 non-null   float64\n",
            " 6   RADIACAO GLOBAL (KJ/m²)                                4774 non-null   float64\n",
            " 7   TEMPERATURA DO AR - BULBO SECO, HORARIA (°C)           8784 non-null   float64\n",
            " 8   TEMPERATURA DO PONTO DE ORVALHO (°C)                   8784 non-null   float64\n",
            " 9   TEMPERATURA MÁXIMA NA HORA ANT. (AUT) (°C)             8784 non-null   float64\n",
            " 10  TEMPERATURA MÍNIMA NA HORA ANT. (AUT) (°C)             8784 non-null   float64\n",
            " 11  TEMPERATURA ORVALHO MAX. NA HORA ANT. (AUT) (°C)       8784 non-null   float64\n",
            " 12  TEMPERATURA ORVALHO MIN. NA HORA ANT. (AUT) (°C)       8784 non-null   float64\n",
            " 13  UMIDADE REL. MAX. NA HORA ANT. (AUT) (%)               8784 non-null   int64  \n",
            " 14  UMIDADE REL. MIN. NA HORA ANT. (AUT) (%)               8784 non-null   int64  \n",
            " 15  UMIDADE RELATIVA DO AR, HORARIA (%)                    8784 non-null   int64  \n",
            " 16  VENTO, DIREÇÃO HORARIA (gr) (° (gr))                   8784 non-null   int64  \n",
            " 17  VENTO, RAJADA MAXIMA (m/s)                             744 non-null    float64\n",
            " 18  VENTO, VELOCIDADE HORARIA (m/s)                        744 non-null    float64\n",
            " 19  Unnamed: 19                                            0 non-null      float64\n",
            "dtypes: float64(14), int64(4), object(2)\n",
            "memory usage: 1.3+ MB\n",
            "None\n"
          ]
        }
      ],
      "source": [
        "# Data general info\n",
        "print(\"General Dataset Information:\")\n",
        "print(df.info())"
      ]
    },
    {
      "cell_type": "code",
      "execution_count": 57,
      "metadata": {
        "colab": {
          "base_uri": "https://localhost:8080/",
          "height": 424
        },
        "id": "7O0FKmEIabY1",
        "outputId": "7b43c771-5f65-451f-d4f8-7894118bd610"
      },
      "outputs": [
        {
          "name": "stdout",
          "output_type": "stream",
          "text": [
            "Descriptive statistics:\n"
          ]
        },
        {
          "data": {
            "text/html": [
              "<div>\n",
              "<style scoped>\n",
              "    .dataframe tbody tr th:only-of-type {\n",
              "        vertical-align: middle;\n",
              "    }\n",
              "\n",
              "    .dataframe tbody tr th {\n",
              "        vertical-align: top;\n",
              "    }\n",
              "\n",
              "    .dataframe thead th {\n",
              "        text-align: right;\n",
              "    }\n",
              "</style>\n",
              "<table border=\"1\" class=\"dataframe\">\n",
              "  <thead>\n",
              "    <tr style=\"text-align: right;\">\n",
              "      <th></th>\n",
              "      <th>PRECIPITAÇÃO TOTAL, HORÁRIO (mm)</th>\n",
              "      <th>PRESSAO ATMOSFERICA AO NIVEL DA ESTACAO, HORARIA (mB)</th>\n",
              "      <th>PRESSÃO ATMOSFERICA MAX.NA HORA ANT. (AUT) (mB)</th>\n",
              "      <th>PRESSÃO ATMOSFERICA MIN. NA HORA ANT. (AUT) (mB)</th>\n",
              "      <th>RADIACAO GLOBAL (KJ/m²)</th>\n",
              "      <th>TEMPERATURA DO AR - BULBO SECO, HORARIA (°C)</th>\n",
              "      <th>TEMPERATURA DO PONTO DE ORVALHO (°C)</th>\n",
              "      <th>TEMPERATURA MÁXIMA NA HORA ANT. (AUT) (°C)</th>\n",
              "      <th>TEMPERATURA MÍNIMA NA HORA ANT. (AUT) (°C)</th>\n",
              "      <th>TEMPERATURA ORVALHO MAX. NA HORA ANT. (AUT) (°C)</th>\n",
              "      <th>TEMPERATURA ORVALHO MIN. NA HORA ANT. (AUT) (°C)</th>\n",
              "      <th>UMIDADE REL. MAX. NA HORA ANT. (AUT) (%)</th>\n",
              "      <th>UMIDADE REL. MIN. NA HORA ANT. (AUT) (%)</th>\n",
              "      <th>UMIDADE RELATIVA DO AR, HORARIA (%)</th>\n",
              "      <th>VENTO, DIREÇÃO HORARIA (gr) (° (gr))</th>\n",
              "      <th>VENTO, RAJADA MAXIMA (m/s)</th>\n",
              "      <th>VENTO, VELOCIDADE HORARIA (m/s)</th>\n",
              "      <th>Unnamed: 19</th>\n",
              "    </tr>\n",
              "  </thead>\n",
              "  <tbody>\n",
              "    <tr>\n",
              "      <th>count</th>\n",
              "      <td>8784.000000</td>\n",
              "      <td>8784.00000</td>\n",
              "      <td>8784.000000</td>\n",
              "      <td>8784.000000</td>\n",
              "      <td>4774.000000</td>\n",
              "      <td>8784.000000</td>\n",
              "      <td>8784.000000</td>\n",
              "      <td>8784.000000</td>\n",
              "      <td>8784.000000</td>\n",
              "      <td>8784.000000</td>\n",
              "      <td>8784.000000</td>\n",
              "      <td>8784.000000</td>\n",
              "      <td>8784.000000</td>\n",
              "      <td>8784.000000</td>\n",
              "      <td>8784.000000</td>\n",
              "      <td>744.000000</td>\n",
              "      <td>744.000000</td>\n",
              "      <td>0.0</td>\n",
              "    </tr>\n",
              "    <tr>\n",
              "      <th>mean</th>\n",
              "      <td>0.123611</td>\n",
              "      <td>946.88273</td>\n",
              "      <td>947.139822</td>\n",
              "      <td>946.624966</td>\n",
              "      <td>1379.983515</td>\n",
              "      <td>21.719752</td>\n",
              "      <td>15.426628</td>\n",
              "      <td>22.502550</td>\n",
              "      <td>20.968921</td>\n",
              "      <td>16.083675</td>\n",
              "      <td>14.819080</td>\n",
              "      <td>74.285861</td>\n",
              "      <td>67.846995</td>\n",
              "      <td>71.078780</td>\n",
              "      <td>179.473019</td>\n",
              "      <td>2.948656</td>\n",
              "      <td>0.774328</td>\n",
              "      <td>NaN</td>\n",
              "    </tr>\n",
              "    <tr>\n",
              "      <th>std</th>\n",
              "      <td>1.138521</td>\n",
              "      <td>3.47141</td>\n",
              "      <td>3.452331</td>\n",
              "      <td>3.483715</td>\n",
              "      <td>1069.268533</td>\n",
              "      <td>5.257070</td>\n",
              "      <td>4.044032</td>\n",
              "      <td>5.361661</td>\n",
              "      <td>5.153918</td>\n",
              "      <td>3.925735</td>\n",
              "      <td>4.175048</td>\n",
              "      <td>18.321938</td>\n",
              "      <td>20.368825</td>\n",
              "      <td>19.505995</td>\n",
              "      <td>83.506396</td>\n",
              "      <td>3.595477</td>\n",
              "      <td>1.638837</td>\n",
              "      <td>NaN</td>\n",
              "    </tr>\n",
              "    <tr>\n",
              "      <th>min</th>\n",
              "      <td>0.000000</td>\n",
              "      <td>936.50000</td>\n",
              "      <td>936.500000</td>\n",
              "      <td>936.200000</td>\n",
              "      <td>0.000000</td>\n",
              "      <td>2.400000</td>\n",
              "      <td>-4.100000</td>\n",
              "      <td>3.800000</td>\n",
              "      <td>2.000000</td>\n",
              "      <td>-1.500000</td>\n",
              "      <td>-4.500000</td>\n",
              "      <td>14.000000</td>\n",
              "      <td>11.000000</td>\n",
              "      <td>13.000000</td>\n",
              "      <td>1.000000</td>\n",
              "      <td>0.000000</td>\n",
              "      <td>0.000000</td>\n",
              "      <td>NaN</td>\n",
              "    </tr>\n",
              "    <tr>\n",
              "      <th>25%</th>\n",
              "      <td>0.000000</td>\n",
              "      <td>944.50000</td>\n",
              "      <td>944.800000</td>\n",
              "      <td>944.200000</td>\n",
              "      <td>350.125000</td>\n",
              "      <td>18.300000</td>\n",
              "      <td>12.700000</td>\n",
              "      <td>19.000000</td>\n",
              "      <td>17.700000</td>\n",
              "      <td>13.400000</td>\n",
              "      <td>12.100000</td>\n",
              "      <td>63.000000</td>\n",
              "      <td>53.000000</td>\n",
              "      <td>58.000000</td>\n",
              "      <td>118.000000</td>\n",
              "      <td>0.400000</td>\n",
              "      <td>0.000000</td>\n",
              "      <td>NaN</td>\n",
              "    </tr>\n",
              "    <tr>\n",
              "      <th>50%</th>\n",
              "      <td>0.000000</td>\n",
              "      <td>946.60000</td>\n",
              "      <td>946.800000</td>\n",
              "      <td>946.300000</td>\n",
              "      <td>1257.650000</td>\n",
              "      <td>21.400000</td>\n",
              "      <td>15.900000</td>\n",
              "      <td>22.100000</td>\n",
              "      <td>20.800000</td>\n",
              "      <td>16.600000</td>\n",
              "      <td>15.400000</td>\n",
              "      <td>80.000000</td>\n",
              "      <td>72.000000</td>\n",
              "      <td>77.000000</td>\n",
              "      <td>167.000000</td>\n",
              "      <td>0.800000</td>\n",
              "      <td>0.000000</td>\n",
              "      <td>NaN</td>\n",
              "    </tr>\n",
              "    <tr>\n",
              "      <th>75%</th>\n",
              "      <td>0.000000</td>\n",
              "      <td>949.10000</td>\n",
              "      <td>949.400000</td>\n",
              "      <td>948.900000</td>\n",
              "      <td>2300.275000</td>\n",
              "      <td>25.300000</td>\n",
              "      <td>18.600000</td>\n",
              "      <td>26.300000</td>\n",
              "      <td>24.300000</td>\n",
              "      <td>19.200000</td>\n",
              "      <td>18.100000</td>\n",
              "      <td>89.000000</td>\n",
              "      <td>85.000000</td>\n",
              "      <td>87.000000</td>\n",
              "      <td>242.000000</td>\n",
              "      <td>5.500000</td>\n",
              "      <td>0.200000</td>\n",
              "      <td>NaN</td>\n",
              "    </tr>\n",
              "    <tr>\n",
              "      <th>max</th>\n",
              "      <td>29.600000</td>\n",
              "      <td>957.60000</td>\n",
              "      <td>957.600000</td>\n",
              "      <td>957.000000</td>\n",
              "      <td>3983.000000</td>\n",
              "      <td>36.700000</td>\n",
              "      <td>24.600000</td>\n",
              "      <td>37.600000</td>\n",
              "      <td>36.000000</td>\n",
              "      <td>24.700000</td>\n",
              "      <td>23.100000</td>\n",
              "      <td>97.000000</td>\n",
              "      <td>97.000000</td>\n",
              "      <td>97.000000</td>\n",
              "      <td>360.000000</td>\n",
              "      <td>18.300000</td>\n",
              "      <td>8.100000</td>\n",
              "      <td>NaN</td>\n",
              "    </tr>\n",
              "  </tbody>\n",
              "</table>\n",
              "</div>"
            ],
            "text/plain": [
              "       PRECIPITAÇÃO TOTAL, HORÁRIO (mm)  \\\n",
              "count                       8784.000000   \n",
              "mean                           0.123611   \n",
              "std                            1.138521   \n",
              "min                            0.000000   \n",
              "25%                            0.000000   \n",
              "50%                            0.000000   \n",
              "75%                            0.000000   \n",
              "max                           29.600000   \n",
              "\n",
              "       PRESSAO ATMOSFERICA AO NIVEL DA ESTACAO, HORARIA (mB)  \\\n",
              "count                                         8784.00000       \n",
              "mean                                           946.88273       \n",
              "std                                              3.47141       \n",
              "min                                            936.50000       \n",
              "25%                                            944.50000       \n",
              "50%                                            946.60000       \n",
              "75%                                            949.10000       \n",
              "max                                            957.60000       \n",
              "\n",
              "       PRESSÃO ATMOSFERICA MAX.NA HORA ANT. (AUT) (mB)  \\\n",
              "count                                      8784.000000   \n",
              "mean                                        947.139822   \n",
              "std                                           3.452331   \n",
              "min                                         936.500000   \n",
              "25%                                         944.800000   \n",
              "50%                                         946.800000   \n",
              "75%                                         949.400000   \n",
              "max                                         957.600000   \n",
              "\n",
              "       PRESSÃO ATMOSFERICA MIN. NA HORA ANT. (AUT) (mB)  \\\n",
              "count                                       8784.000000   \n",
              "mean                                         946.624966   \n",
              "std                                            3.483715   \n",
              "min                                          936.200000   \n",
              "25%                                          944.200000   \n",
              "50%                                          946.300000   \n",
              "75%                                          948.900000   \n",
              "max                                          957.000000   \n",
              "\n",
              "       RADIACAO GLOBAL (KJ/m²)  TEMPERATURA DO AR - BULBO SECO, HORARIA (°C)  \\\n",
              "count              4774.000000                                   8784.000000   \n",
              "mean               1379.983515                                     21.719752   \n",
              "std                1069.268533                                      5.257070   \n",
              "min                   0.000000                                      2.400000   \n",
              "25%                 350.125000                                     18.300000   \n",
              "50%                1257.650000                                     21.400000   \n",
              "75%                2300.275000                                     25.300000   \n",
              "max                3983.000000                                     36.700000   \n",
              "\n",
              "       TEMPERATURA DO PONTO DE ORVALHO (°C)  \\\n",
              "count                           8784.000000   \n",
              "mean                              15.426628   \n",
              "std                                4.044032   \n",
              "min                               -4.100000   \n",
              "25%                               12.700000   \n",
              "50%                               15.900000   \n",
              "75%                               18.600000   \n",
              "max                               24.600000   \n",
              "\n",
              "       TEMPERATURA MÁXIMA NA HORA ANT. (AUT) (°C)  \\\n",
              "count                                 8784.000000   \n",
              "mean                                    22.502550   \n",
              "std                                      5.361661   \n",
              "min                                      3.800000   \n",
              "25%                                     19.000000   \n",
              "50%                                     22.100000   \n",
              "75%                                     26.300000   \n",
              "max                                     37.600000   \n",
              "\n",
              "       TEMPERATURA MÍNIMA NA HORA ANT. (AUT) (°C)  \\\n",
              "count                                 8784.000000   \n",
              "mean                                    20.968921   \n",
              "std                                      5.153918   \n",
              "min                                      2.000000   \n",
              "25%                                     17.700000   \n",
              "50%                                     20.800000   \n",
              "75%                                     24.300000   \n",
              "max                                     36.000000   \n",
              "\n",
              "       TEMPERATURA ORVALHO MAX. NA HORA ANT. (AUT) (°C)  \\\n",
              "count                                       8784.000000   \n",
              "mean                                          16.083675   \n",
              "std                                            3.925735   \n",
              "min                                           -1.500000   \n",
              "25%                                           13.400000   \n",
              "50%                                           16.600000   \n",
              "75%                                           19.200000   \n",
              "max                                           24.700000   \n",
              "\n",
              "       TEMPERATURA ORVALHO MIN. NA HORA ANT. (AUT) (°C)  \\\n",
              "count                                       8784.000000   \n",
              "mean                                          14.819080   \n",
              "std                                            4.175048   \n",
              "min                                           -4.500000   \n",
              "25%                                           12.100000   \n",
              "50%                                           15.400000   \n",
              "75%                                           18.100000   \n",
              "max                                           23.100000   \n",
              "\n",
              "       UMIDADE REL. MAX. NA HORA ANT. (AUT) (%)  \\\n",
              "count                               8784.000000   \n",
              "mean                                  74.285861   \n",
              "std                                   18.321938   \n",
              "min                                   14.000000   \n",
              "25%                                   63.000000   \n",
              "50%                                   80.000000   \n",
              "75%                                   89.000000   \n",
              "max                                   97.000000   \n",
              "\n",
              "       UMIDADE REL. MIN. NA HORA ANT. (AUT) (%)  \\\n",
              "count                               8784.000000   \n",
              "mean                                  67.846995   \n",
              "std                                   20.368825   \n",
              "min                                   11.000000   \n",
              "25%                                   53.000000   \n",
              "50%                                   72.000000   \n",
              "75%                                   85.000000   \n",
              "max                                   97.000000   \n",
              "\n",
              "       UMIDADE RELATIVA DO AR, HORARIA (%)  \\\n",
              "count                          8784.000000   \n",
              "mean                             71.078780   \n",
              "std                              19.505995   \n",
              "min                              13.000000   \n",
              "25%                              58.000000   \n",
              "50%                              77.000000   \n",
              "75%                              87.000000   \n",
              "max                              97.000000   \n",
              "\n",
              "       VENTO, DIREÇÃO HORARIA (gr) (° (gr))  VENTO, RAJADA MAXIMA (m/s)  \\\n",
              "count                           8784.000000                  744.000000   \n",
              "mean                             179.473019                    2.948656   \n",
              "std                               83.506396                    3.595477   \n",
              "min                                1.000000                    0.000000   \n",
              "25%                              118.000000                    0.400000   \n",
              "50%                              167.000000                    0.800000   \n",
              "75%                              242.000000                    5.500000   \n",
              "max                              360.000000                   18.300000   \n",
              "\n",
              "       VENTO, VELOCIDADE HORARIA (m/s)  Unnamed: 19  \n",
              "count                       744.000000          0.0  \n",
              "mean                          0.774328          NaN  \n",
              "std                           1.638837          NaN  \n",
              "min                           0.000000          NaN  \n",
              "25%                           0.000000          NaN  \n",
              "50%                           0.000000          NaN  \n",
              "75%                           0.200000          NaN  \n",
              "max                           8.100000          NaN  "
            ]
          },
          "execution_count": 57,
          "metadata": {},
          "output_type": "execute_result"
        }
      ],
      "source": [
        "print(\"Descriptive statistics:\")\n",
        "df.describe()"
      ]
    },
    {
      "cell_type": "markdown",
      "metadata": {
        "id": "-24wS1ZZbcjc"
      },
      "source": [
        "## Data Pre-Processing"
      ]
    },
    {
      "cell_type": "code",
      "execution_count": 58,
      "metadata": {
        "colab": {
          "base_uri": "https://localhost:8080/",
          "height": 241
        },
        "id": "rKcgatHqa2eb",
        "outputId": "28f87c2b-4119-41be-f3bd-a6cef50833f4"
      },
      "outputs": [
        {
          "data": {
            "text/plain": [
              "0   2024-01-01 00:00:00\n",
              "1   2024-01-01 01:00:00\n",
              "2   2024-01-01 02:00:00\n",
              "3   2024-01-01 03:00:00\n",
              "4   2024-01-01 04:00:00\n",
              "Name: Data e Hora (datetime), dtype: datetime64[ns]"
            ]
          },
          "execution_count": 58,
          "metadata": {},
          "output_type": "execute_result"
        }
      ],
      "source": [
        "# --------------------\n",
        "# Data Pre-Processing\n",
        "# --------------------\n",
        "\n",
        "# Removing 'UTC' from the time column\n",
        "df['Hora UTC'] = df['Hora UTC'].str.replace(' UTC', '')\n",
        "\n",
        "# Convert the UTC format to datetime format (only hour and minute)\n",
        "df['Hora Datetime'] = pd.to_datetime(df['Hora UTC'], format='%H%M').dt.time\n",
        "\n",
        "# Joining \"Data\" and \"Hora Datetime\" columns to create a \"Data e Hora Datetime\" column\n",
        "df['Data e Hora (datetime)'] = df['Data'] + ' ' + df['Hora Datetime'].astype(str)\n",
        "\n",
        "# Convert the \"Data e Hora (datetime)\" column to Datetime type\n",
        "df['Data e Hora (datetime)'] = pd.to_datetime(df['Data e Hora (datetime)'])\n",
        "\n",
        "df['Data e Hora (datetime)'].head()"
      ]
    },
    {
      "cell_type": "code",
      "execution_count": 59,
      "metadata": {
        "colab": {
          "base_uri": "https://localhost:8080/",
          "height": 446
        },
        "id": "cDUwo_YLbJqQ",
        "outputId": "4da1daab-2130-4f97-808e-b3538af056b3"
      },
      "outputs": [
        {
          "data": {
            "text/html": [
              "<div>\n",
              "<style scoped>\n",
              "    .dataframe tbody tr th:only-of-type {\n",
              "        vertical-align: middle;\n",
              "    }\n",
              "\n",
              "    .dataframe tbody tr th {\n",
              "        vertical-align: top;\n",
              "    }\n",
              "\n",
              "    .dataframe thead th {\n",
              "        text-align: right;\n",
              "    }\n",
              "</style>\n",
              "<table border=\"1\" class=\"dataframe\">\n",
              "  <thead>\n",
              "    <tr style=\"text-align: right;\">\n",
              "      <th></th>\n",
              "      <th>Data</th>\n",
              "      <th>Hora UTC</th>\n",
              "      <th>PRECIPITAÇÃO TOTAL, HORÁRIO (mm)</th>\n",
              "      <th>PRESSAO ATMOSFERICA AO NIVEL DA ESTACAO, HORARIA (mB)</th>\n",
              "      <th>PRESSÃO ATMOSFERICA MAX.NA HORA ANT. (AUT) (mB)</th>\n",
              "      <th>PRESSÃO ATMOSFERICA MIN. NA HORA ANT. (AUT) (mB)</th>\n",
              "      <th>RADIACAO GLOBAL (KJ/m²)</th>\n",
              "      <th>TEMPERATURA DO AR - BULBO SECO, HORARIA (°C)</th>\n",
              "      <th>TEMPERATURA DO PONTO DE ORVALHO (°C)</th>\n",
              "      <th>TEMPERATURA MÁXIMA NA HORA ANT. (AUT) (°C)</th>\n",
              "      <th>...</th>\n",
              "      <th>TEMPERATURA ORVALHO MIN. NA HORA ANT. (AUT) (°C)</th>\n",
              "      <th>UMIDADE REL. MAX. NA HORA ANT. (AUT) (%)</th>\n",
              "      <th>UMIDADE REL. MIN. NA HORA ANT. (AUT) (%)</th>\n",
              "      <th>UMIDADE RELATIVA DO AR, HORARIA (%)</th>\n",
              "      <th>VENTO, DIREÇÃO HORARIA (gr) (° (gr))</th>\n",
              "      <th>VENTO, RAJADA MAXIMA (m/s)</th>\n",
              "      <th>VENTO, VELOCIDADE HORARIA (m/s)</th>\n",
              "      <th>Unnamed: 19</th>\n",
              "      <th>Hora Datetime</th>\n",
              "      <th>Data e Hora (datetime)</th>\n",
              "    </tr>\n",
              "  </thead>\n",
              "  <tbody>\n",
              "    <tr>\n",
              "      <th>0</th>\n",
              "      <td>2024/01/01</td>\n",
              "      <td>0000</td>\n",
              "      <td>0.0</td>\n",
              "      <td>946.2</td>\n",
              "      <td>946.2</td>\n",
              "      <td>945.5</td>\n",
              "      <td>NaN</td>\n",
              "      <td>20.2</td>\n",
              "      <td>16.2</td>\n",
              "      <td>21.1</td>\n",
              "      <td>...</td>\n",
              "      <td>16.2</td>\n",
              "      <td>79</td>\n",
              "      <td>75</td>\n",
              "      <td>78</td>\n",
              "      <td>115</td>\n",
              "      <td>6.3</td>\n",
              "      <td>3.1</td>\n",
              "      <td>NaN</td>\n",
              "      <td>00:00:00</td>\n",
              "      <td>2024-01-01 00:00:00</td>\n",
              "    </tr>\n",
              "    <tr>\n",
              "      <th>1</th>\n",
              "      <td>2024/01/01</td>\n",
              "      <td>0100</td>\n",
              "      <td>0.0</td>\n",
              "      <td>946.6</td>\n",
              "      <td>946.6</td>\n",
              "      <td>946.1</td>\n",
              "      <td>NaN</td>\n",
              "      <td>20.5</td>\n",
              "      <td>16.1</td>\n",
              "      <td>20.5</td>\n",
              "      <td>...</td>\n",
              "      <td>16.1</td>\n",
              "      <td>81</td>\n",
              "      <td>76</td>\n",
              "      <td>76</td>\n",
              "      <td>123</td>\n",
              "      <td>5.1</td>\n",
              "      <td>0.1</td>\n",
              "      <td>NaN</td>\n",
              "      <td>01:00:00</td>\n",
              "      <td>2024-01-01 01:00:00</td>\n",
              "    </tr>\n",
              "    <tr>\n",
              "      <th>2</th>\n",
              "      <td>2024/01/01</td>\n",
              "      <td>0200</td>\n",
              "      <td>0.0</td>\n",
              "      <td>946.7</td>\n",
              "      <td>946.9</td>\n",
              "      <td>946.6</td>\n",
              "      <td>NaN</td>\n",
              "      <td>20.8</td>\n",
              "      <td>15.9</td>\n",
              "      <td>20.8</td>\n",
              "      <td>...</td>\n",
              "      <td>15.9</td>\n",
              "      <td>76</td>\n",
              "      <td>74</td>\n",
              "      <td>74</td>\n",
              "      <td>123</td>\n",
              "      <td>1.0</td>\n",
              "      <td>0.1</td>\n",
              "      <td>NaN</td>\n",
              "      <td>02:00:00</td>\n",
              "      <td>2024-01-01 02:00:00</td>\n",
              "    </tr>\n",
              "    <tr>\n",
              "      <th>3</th>\n",
              "      <td>2024/01/01</td>\n",
              "      <td>0300</td>\n",
              "      <td>0.0</td>\n",
              "      <td>946.3</td>\n",
              "      <td>946.8</td>\n",
              "      <td>946.3</td>\n",
              "      <td>NaN</td>\n",
              "      <td>20.9</td>\n",
              "      <td>16.3</td>\n",
              "      <td>21.0</td>\n",
              "      <td>...</td>\n",
              "      <td>15.9</td>\n",
              "      <td>75</td>\n",
              "      <td>73</td>\n",
              "      <td>75</td>\n",
              "      <td>119</td>\n",
              "      <td>1.2</td>\n",
              "      <td>0.2</td>\n",
              "      <td>NaN</td>\n",
              "      <td>03:00:00</td>\n",
              "      <td>2024-01-01 03:00:00</td>\n",
              "    </tr>\n",
              "    <tr>\n",
              "      <th>4</th>\n",
              "      <td>2024/01/01</td>\n",
              "      <td>0400</td>\n",
              "      <td>0.0</td>\n",
              "      <td>946.3</td>\n",
              "      <td>946.4</td>\n",
              "      <td>946.1</td>\n",
              "      <td>NaN</td>\n",
              "      <td>20.2</td>\n",
              "      <td>16.0</td>\n",
              "      <td>20.9</td>\n",
              "      <td>...</td>\n",
              "      <td>16.0</td>\n",
              "      <td>77</td>\n",
              "      <td>75</td>\n",
              "      <td>77</td>\n",
              "      <td>115</td>\n",
              "      <td>0.9</td>\n",
              "      <td>0.0</td>\n",
              "      <td>NaN</td>\n",
              "      <td>04:00:00</td>\n",
              "      <td>2024-01-01 04:00:00</td>\n",
              "    </tr>\n",
              "  </tbody>\n",
              "</table>\n",
              "<p>5 rows × 22 columns</p>\n",
              "</div>"
            ],
            "text/plain": [
              "         Data Hora UTC  PRECIPITAÇÃO TOTAL, HORÁRIO (mm)  \\\n",
              "0  2024/01/01     0000                               0.0   \n",
              "1  2024/01/01     0100                               0.0   \n",
              "2  2024/01/01     0200                               0.0   \n",
              "3  2024/01/01     0300                               0.0   \n",
              "4  2024/01/01     0400                               0.0   \n",
              "\n",
              "   PRESSAO ATMOSFERICA AO NIVEL DA ESTACAO, HORARIA (mB)  \\\n",
              "0                                              946.2       \n",
              "1                                              946.6       \n",
              "2                                              946.7       \n",
              "3                                              946.3       \n",
              "4                                              946.3       \n",
              "\n",
              "   PRESSÃO ATMOSFERICA MAX.NA HORA ANT. (AUT) (mB)  \\\n",
              "0                                            946.2   \n",
              "1                                            946.6   \n",
              "2                                            946.9   \n",
              "3                                            946.8   \n",
              "4                                            946.4   \n",
              "\n",
              "   PRESSÃO ATMOSFERICA MIN. NA HORA ANT. (AUT) (mB)  RADIACAO GLOBAL (KJ/m²)  \\\n",
              "0                                             945.5                      NaN   \n",
              "1                                             946.1                      NaN   \n",
              "2                                             946.6                      NaN   \n",
              "3                                             946.3                      NaN   \n",
              "4                                             946.1                      NaN   \n",
              "\n",
              "   TEMPERATURA DO AR - BULBO SECO, HORARIA (°C)  \\\n",
              "0                                          20.2   \n",
              "1                                          20.5   \n",
              "2                                          20.8   \n",
              "3                                          20.9   \n",
              "4                                          20.2   \n",
              "\n",
              "   TEMPERATURA DO PONTO DE ORVALHO (°C)  \\\n",
              "0                                  16.2   \n",
              "1                                  16.1   \n",
              "2                                  15.9   \n",
              "3                                  16.3   \n",
              "4                                  16.0   \n",
              "\n",
              "   TEMPERATURA MÁXIMA NA HORA ANT. (AUT) (°C)  ...  \\\n",
              "0                                        21.1  ...   \n",
              "1                                        20.5  ...   \n",
              "2                                        20.8  ...   \n",
              "3                                        21.0  ...   \n",
              "4                                        20.9  ...   \n",
              "\n",
              "   TEMPERATURA ORVALHO MIN. NA HORA ANT. (AUT) (°C)  \\\n",
              "0                                              16.2   \n",
              "1                                              16.1   \n",
              "2                                              15.9   \n",
              "3                                              15.9   \n",
              "4                                              16.0   \n",
              "\n",
              "   UMIDADE REL. MAX. NA HORA ANT. (AUT) (%)  \\\n",
              "0                                        79   \n",
              "1                                        81   \n",
              "2                                        76   \n",
              "3                                        75   \n",
              "4                                        77   \n",
              "\n",
              "   UMIDADE REL. MIN. NA HORA ANT. (AUT) (%)  \\\n",
              "0                                        75   \n",
              "1                                        76   \n",
              "2                                        74   \n",
              "3                                        73   \n",
              "4                                        75   \n",
              "\n",
              "   UMIDADE RELATIVA DO AR, HORARIA (%)  VENTO, DIREÇÃO HORARIA (gr) (° (gr))  \\\n",
              "0                                   78                                   115   \n",
              "1                                   76                                   123   \n",
              "2                                   74                                   123   \n",
              "3                                   75                                   119   \n",
              "4                                   77                                   115   \n",
              "\n",
              "   VENTO, RAJADA MAXIMA (m/s)  VENTO, VELOCIDADE HORARIA (m/s)  Unnamed: 19  \\\n",
              "0                         6.3                              3.1          NaN   \n",
              "1                         5.1                              0.1          NaN   \n",
              "2                         1.0                              0.1          NaN   \n",
              "3                         1.2                              0.2          NaN   \n",
              "4                         0.9                              0.0          NaN   \n",
              "\n",
              "   Hora Datetime  Data e Hora (datetime)  \n",
              "0       00:00:00     2024-01-01 00:00:00  \n",
              "1       01:00:00     2024-01-01 01:00:00  \n",
              "2       02:00:00     2024-01-01 02:00:00  \n",
              "3       03:00:00     2024-01-01 03:00:00  \n",
              "4       04:00:00     2024-01-01 04:00:00  \n",
              "\n",
              "[5 rows x 22 columns]"
            ]
          },
          "execution_count": 59,
          "metadata": {},
          "output_type": "execute_result"
        }
      ],
      "source": [
        "df.head()"
      ]
    },
    {
      "cell_type": "code",
      "execution_count": 60,
      "metadata": {
        "colab": {
          "base_uri": "https://localhost:8080/",
          "height": 451
        },
        "id": "3OcupLVJblcc",
        "outputId": "8608c38e-1648-4277-801c-5c7760e5de81"
      },
      "outputs": [
        {
          "name": "stdout",
          "output_type": "stream",
          "text": [
            "DataFrame format:\n",
            "(8784, 18)\n"
          ]
        },
        {
          "data": {
            "text/html": [
              "<div>\n",
              "<style scoped>\n",
              "    .dataframe tbody tr th:only-of-type {\n",
              "        vertical-align: middle;\n",
              "    }\n",
              "\n",
              "    .dataframe tbody tr th {\n",
              "        vertical-align: top;\n",
              "    }\n",
              "\n",
              "    .dataframe thead th {\n",
              "        text-align: right;\n",
              "    }\n",
              "</style>\n",
              "<table border=\"1\" class=\"dataframe\">\n",
              "  <thead>\n",
              "    <tr style=\"text-align: right;\">\n",
              "      <th></th>\n",
              "      <th>Data e Hora (datetime)</th>\n",
              "      <th>PRECIPITAÇÃO TOTAL, HORÁRIO (mm)</th>\n",
              "      <th>PRESSAO ATMOSFERICA AO NIVEL DA ESTACAO, HORARIA (mB)</th>\n",
              "      <th>PRESSÃO ATMOSFERICA MAX.NA HORA ANT. (AUT) (mB)</th>\n",
              "      <th>PRESSÃO ATMOSFERICA MIN. NA HORA ANT. (AUT) (mB)</th>\n",
              "      <th>RADIACAO GLOBAL (KJ/m²)</th>\n",
              "      <th>TEMPERATURA DO AR - BULBO SECO, HORARIA (°C)</th>\n",
              "      <th>TEMPERATURA DO PONTO DE ORVALHO (°C)</th>\n",
              "      <th>TEMPERATURA MÁXIMA NA HORA ANT. (AUT) (°C)</th>\n",
              "      <th>TEMPERATURA MÍNIMA NA HORA ANT. (AUT) (°C)</th>\n",
              "      <th>TEMPERATURA ORVALHO MAX. NA HORA ANT. (AUT) (°C)</th>\n",
              "      <th>TEMPERATURA ORVALHO MIN. NA HORA ANT. (AUT) (°C)</th>\n",
              "      <th>UMIDADE REL. MAX. NA HORA ANT. (AUT) (%)</th>\n",
              "      <th>UMIDADE REL. MIN. NA HORA ANT. (AUT) (%)</th>\n",
              "      <th>UMIDADE RELATIVA DO AR, HORARIA (%)</th>\n",
              "      <th>VENTO, DIREÇÃO HORARIA (gr) (° (gr))</th>\n",
              "      <th>VENTO, RAJADA MAXIMA (m/s)</th>\n",
              "      <th>VENTO, VELOCIDADE HORARIA (m/s)</th>\n",
              "    </tr>\n",
              "  </thead>\n",
              "  <tbody>\n",
              "    <tr>\n",
              "      <th>0</th>\n",
              "      <td>2024-01-01 00:00:00</td>\n",
              "      <td>0.0</td>\n",
              "      <td>946.2</td>\n",
              "      <td>946.2</td>\n",
              "      <td>945.5</td>\n",
              "      <td>NaN</td>\n",
              "      <td>20.2</td>\n",
              "      <td>16.2</td>\n",
              "      <td>21.1</td>\n",
              "      <td>20.1</td>\n",
              "      <td>16.7</td>\n",
              "      <td>16.2</td>\n",
              "      <td>79</td>\n",
              "      <td>75</td>\n",
              "      <td>78</td>\n",
              "      <td>115</td>\n",
              "      <td>6.3</td>\n",
              "      <td>3.1</td>\n",
              "    </tr>\n",
              "    <tr>\n",
              "      <th>1</th>\n",
              "      <td>2024-01-01 01:00:00</td>\n",
              "      <td>0.0</td>\n",
              "      <td>946.6</td>\n",
              "      <td>946.6</td>\n",
              "      <td>946.1</td>\n",
              "      <td>NaN</td>\n",
              "      <td>20.5</td>\n",
              "      <td>16.1</td>\n",
              "      <td>20.5</td>\n",
              "      <td>19.7</td>\n",
              "      <td>16.4</td>\n",
              "      <td>16.1</td>\n",
              "      <td>81</td>\n",
              "      <td>76</td>\n",
              "      <td>76</td>\n",
              "      <td>123</td>\n",
              "      <td>5.1</td>\n",
              "      <td>0.1</td>\n",
              "    </tr>\n",
              "    <tr>\n",
              "      <th>2</th>\n",
              "      <td>2024-01-01 02:00:00</td>\n",
              "      <td>0.0</td>\n",
              "      <td>946.7</td>\n",
              "      <td>946.9</td>\n",
              "      <td>946.6</td>\n",
              "      <td>NaN</td>\n",
              "      <td>20.8</td>\n",
              "      <td>15.9</td>\n",
              "      <td>20.8</td>\n",
              "      <td>20.5</td>\n",
              "      <td>16.1</td>\n",
              "      <td>15.9</td>\n",
              "      <td>76</td>\n",
              "      <td>74</td>\n",
              "      <td>74</td>\n",
              "      <td>123</td>\n",
              "      <td>1.0</td>\n",
              "      <td>0.1</td>\n",
              "    </tr>\n",
              "    <tr>\n",
              "      <th>3</th>\n",
              "      <td>2024-01-01 03:00:00</td>\n",
              "      <td>0.0</td>\n",
              "      <td>946.3</td>\n",
              "      <td>946.8</td>\n",
              "      <td>946.3</td>\n",
              "      <td>NaN</td>\n",
              "      <td>20.9</td>\n",
              "      <td>16.3</td>\n",
              "      <td>21.0</td>\n",
              "      <td>20.7</td>\n",
              "      <td>16.3</td>\n",
              "      <td>15.9</td>\n",
              "      <td>75</td>\n",
              "      <td>73</td>\n",
              "      <td>75</td>\n",
              "      <td>119</td>\n",
              "      <td>1.2</td>\n",
              "      <td>0.2</td>\n",
              "    </tr>\n",
              "    <tr>\n",
              "      <th>4</th>\n",
              "      <td>2024-01-01 04:00:00</td>\n",
              "      <td>0.0</td>\n",
              "      <td>946.3</td>\n",
              "      <td>946.4</td>\n",
              "      <td>946.1</td>\n",
              "      <td>NaN</td>\n",
              "      <td>20.2</td>\n",
              "      <td>16.0</td>\n",
              "      <td>20.9</td>\n",
              "      <td>20.2</td>\n",
              "      <td>16.2</td>\n",
              "      <td>16.0</td>\n",
              "      <td>77</td>\n",
              "      <td>75</td>\n",
              "      <td>77</td>\n",
              "      <td>115</td>\n",
              "      <td>0.9</td>\n",
              "      <td>0.0</td>\n",
              "    </tr>\n",
              "  </tbody>\n",
              "</table>\n",
              "</div>"
            ],
            "text/plain": [
              "  Data e Hora (datetime)  PRECIPITAÇÃO TOTAL, HORÁRIO (mm)  \\\n",
              "0    2024-01-01 00:00:00                               0.0   \n",
              "1    2024-01-01 01:00:00                               0.0   \n",
              "2    2024-01-01 02:00:00                               0.0   \n",
              "3    2024-01-01 03:00:00                               0.0   \n",
              "4    2024-01-01 04:00:00                               0.0   \n",
              "\n",
              "   PRESSAO ATMOSFERICA AO NIVEL DA ESTACAO, HORARIA (mB)  \\\n",
              "0                                              946.2       \n",
              "1                                              946.6       \n",
              "2                                              946.7       \n",
              "3                                              946.3       \n",
              "4                                              946.3       \n",
              "\n",
              "   PRESSÃO ATMOSFERICA MAX.NA HORA ANT. (AUT) (mB)  \\\n",
              "0                                            946.2   \n",
              "1                                            946.6   \n",
              "2                                            946.9   \n",
              "3                                            946.8   \n",
              "4                                            946.4   \n",
              "\n",
              "   PRESSÃO ATMOSFERICA MIN. NA HORA ANT. (AUT) (mB)  RADIACAO GLOBAL (KJ/m²)  \\\n",
              "0                                             945.5                      NaN   \n",
              "1                                             946.1                      NaN   \n",
              "2                                             946.6                      NaN   \n",
              "3                                             946.3                      NaN   \n",
              "4                                             946.1                      NaN   \n",
              "\n",
              "   TEMPERATURA DO AR - BULBO SECO, HORARIA (°C)  \\\n",
              "0                                          20.2   \n",
              "1                                          20.5   \n",
              "2                                          20.8   \n",
              "3                                          20.9   \n",
              "4                                          20.2   \n",
              "\n",
              "   TEMPERATURA DO PONTO DE ORVALHO (°C)  \\\n",
              "0                                  16.2   \n",
              "1                                  16.1   \n",
              "2                                  15.9   \n",
              "3                                  16.3   \n",
              "4                                  16.0   \n",
              "\n",
              "   TEMPERATURA MÁXIMA NA HORA ANT. (AUT) (°C)  \\\n",
              "0                                        21.1   \n",
              "1                                        20.5   \n",
              "2                                        20.8   \n",
              "3                                        21.0   \n",
              "4                                        20.9   \n",
              "\n",
              "   TEMPERATURA MÍNIMA NA HORA ANT. (AUT) (°C)  \\\n",
              "0                                        20.1   \n",
              "1                                        19.7   \n",
              "2                                        20.5   \n",
              "3                                        20.7   \n",
              "4                                        20.2   \n",
              "\n",
              "   TEMPERATURA ORVALHO MAX. NA HORA ANT. (AUT) (°C)  \\\n",
              "0                                              16.7   \n",
              "1                                              16.4   \n",
              "2                                              16.1   \n",
              "3                                              16.3   \n",
              "4                                              16.2   \n",
              "\n",
              "   TEMPERATURA ORVALHO MIN. NA HORA ANT. (AUT) (°C)  \\\n",
              "0                                              16.2   \n",
              "1                                              16.1   \n",
              "2                                              15.9   \n",
              "3                                              15.9   \n",
              "4                                              16.0   \n",
              "\n",
              "   UMIDADE REL. MAX. NA HORA ANT. (AUT) (%)  \\\n",
              "0                                        79   \n",
              "1                                        81   \n",
              "2                                        76   \n",
              "3                                        75   \n",
              "4                                        77   \n",
              "\n",
              "   UMIDADE REL. MIN. NA HORA ANT. (AUT) (%)  \\\n",
              "0                                        75   \n",
              "1                                        76   \n",
              "2                                        74   \n",
              "3                                        73   \n",
              "4                                        75   \n",
              "\n",
              "   UMIDADE RELATIVA DO AR, HORARIA (%)  VENTO, DIREÇÃO HORARIA (gr) (° (gr))  \\\n",
              "0                                   78                                   115   \n",
              "1                                   76                                   123   \n",
              "2                                   74                                   123   \n",
              "3                                   75                                   119   \n",
              "4                                   77                                   115   \n",
              "\n",
              "   VENTO, RAJADA MAXIMA (m/s)  VENTO, VELOCIDADE HORARIA (m/s)  \n",
              "0                         6.3                              3.1  \n",
              "1                         5.1                              0.1  \n",
              "2                         1.0                              0.1  \n",
              "3                         1.2                              0.2  \n",
              "4                         0.9                              0.0  "
            ]
          },
          "execution_count": 60,
          "metadata": {},
          "output_type": "execute_result"
        }
      ],
      "source": [
        "# Removing \"Data\", \"Hora UTC\", \"Hora Datetime\" columns and one with no values\n",
        "df = df.drop(columns=['Data', 'Hora UTC', 'Hora Datetime', 'Unnamed: 19'])\n",
        "# df.head() # Displaying the head after dropping is not needed as it will be shown after inserting the column\n",
        "\n",
        "# Changing the position of the \"Data e Hora Datetime\" column in the dataframe\n",
        "column = 'Data e Hora (datetime)'\n",
        "removed_column = df.pop(column)          # remove the column\n",
        "df.insert(0, column, removed_column)     # insert the column in the new position\n",
        "\n",
        "# Display the DataFrame format and the resulting DataFrame\n",
        "print(\"DataFrame format:\")\n",
        "print(df.shape)\n",
        "\n",
        "df.head()"
      ]
    },
    {
      "cell_type": "code",
      "execution_count": 61,
      "metadata": {
        "colab": {
          "base_uri": "https://localhost:8080/",
          "height": 483
        },
        "id": "r1MfxuB8ca2g",
        "outputId": "5bbe2ba2-403f-4ff3-d349-003428defeff"
      },
      "outputs": [
        {
          "data": {
            "text/html": [
              "<div>\n",
              "<style scoped>\n",
              "    .dataframe tbody tr th:only-of-type {\n",
              "        vertical-align: middle;\n",
              "    }\n",
              "\n",
              "    .dataframe tbody tr th {\n",
              "        vertical-align: top;\n",
              "    }\n",
              "\n",
              "    .dataframe thead th {\n",
              "        text-align: right;\n",
              "    }\n",
              "</style>\n",
              "<table border=\"1\" class=\"dataframe\">\n",
              "  <thead>\n",
              "    <tr style=\"text-align: right;\">\n",
              "      <th></th>\n",
              "      <th>PRECIPITAÇÃO TOTAL, HORÁRIO (mm)</th>\n",
              "      <th>PRESSAO ATMOSFERICA AO NIVEL DA ESTACAO, HORARIA (mB)</th>\n",
              "      <th>PRESSÃO ATMOSFERICA MAX.NA HORA ANT. (AUT) (mB)</th>\n",
              "      <th>PRESSÃO ATMOSFERICA MIN. NA HORA ANT. (AUT) (mB)</th>\n",
              "      <th>RADIACAO GLOBAL (KJ/m²)</th>\n",
              "      <th>TEMPERATURA DO AR - BULBO SECO, HORARIA (°C)</th>\n",
              "      <th>TEMPERATURA DO PONTO DE ORVALHO (°C)</th>\n",
              "      <th>TEMPERATURA MÁXIMA NA HORA ANT. (AUT) (°C)</th>\n",
              "      <th>TEMPERATURA MÍNIMA NA HORA ANT. (AUT) (°C)</th>\n",
              "      <th>TEMPERATURA ORVALHO MAX. NA HORA ANT. (AUT) (°C)</th>\n",
              "      <th>TEMPERATURA ORVALHO MIN. NA HORA ANT. (AUT) (°C)</th>\n",
              "      <th>UMIDADE REL. MAX. NA HORA ANT. (AUT) (%)</th>\n",
              "      <th>UMIDADE REL. MIN. NA HORA ANT. (AUT) (%)</th>\n",
              "      <th>UMIDADE RELATIVA DO AR, HORARIA (%)</th>\n",
              "      <th>VENTO, DIREÇÃO HORARIA (gr) (° (gr))</th>\n",
              "      <th>VENTO, RAJADA MAXIMA (m/s)</th>\n",
              "      <th>VENTO, VELOCIDADE HORARIA (m/s)</th>\n",
              "    </tr>\n",
              "    <tr>\n",
              "      <th>Data e Hora (datetime)</th>\n",
              "      <th></th>\n",
              "      <th></th>\n",
              "      <th></th>\n",
              "      <th></th>\n",
              "      <th></th>\n",
              "      <th></th>\n",
              "      <th></th>\n",
              "      <th></th>\n",
              "      <th></th>\n",
              "      <th></th>\n",
              "      <th></th>\n",
              "      <th></th>\n",
              "      <th></th>\n",
              "      <th></th>\n",
              "      <th></th>\n",
              "      <th></th>\n",
              "      <th></th>\n",
              "    </tr>\n",
              "  </thead>\n",
              "  <tbody>\n",
              "    <tr>\n",
              "      <th>2024-01-01 00:00:00</th>\n",
              "      <td>0.0</td>\n",
              "      <td>946.2</td>\n",
              "      <td>946.2</td>\n",
              "      <td>945.5</td>\n",
              "      <td>NaN</td>\n",
              "      <td>20.2</td>\n",
              "      <td>16.2</td>\n",
              "      <td>21.1</td>\n",
              "      <td>20.1</td>\n",
              "      <td>16.7</td>\n",
              "      <td>16.2</td>\n",
              "      <td>79</td>\n",
              "      <td>75</td>\n",
              "      <td>78</td>\n",
              "      <td>115</td>\n",
              "      <td>6.3</td>\n",
              "      <td>3.1</td>\n",
              "    </tr>\n",
              "    <tr>\n",
              "      <th>2024-01-01 01:00:00</th>\n",
              "      <td>0.0</td>\n",
              "      <td>946.6</td>\n",
              "      <td>946.6</td>\n",
              "      <td>946.1</td>\n",
              "      <td>NaN</td>\n",
              "      <td>20.5</td>\n",
              "      <td>16.1</td>\n",
              "      <td>20.5</td>\n",
              "      <td>19.7</td>\n",
              "      <td>16.4</td>\n",
              "      <td>16.1</td>\n",
              "      <td>81</td>\n",
              "      <td>76</td>\n",
              "      <td>76</td>\n",
              "      <td>123</td>\n",
              "      <td>5.1</td>\n",
              "      <td>0.1</td>\n",
              "    </tr>\n",
              "    <tr>\n",
              "      <th>2024-01-01 02:00:00</th>\n",
              "      <td>0.0</td>\n",
              "      <td>946.7</td>\n",
              "      <td>946.9</td>\n",
              "      <td>946.6</td>\n",
              "      <td>NaN</td>\n",
              "      <td>20.8</td>\n",
              "      <td>15.9</td>\n",
              "      <td>20.8</td>\n",
              "      <td>20.5</td>\n",
              "      <td>16.1</td>\n",
              "      <td>15.9</td>\n",
              "      <td>76</td>\n",
              "      <td>74</td>\n",
              "      <td>74</td>\n",
              "      <td>123</td>\n",
              "      <td>1.0</td>\n",
              "      <td>0.1</td>\n",
              "    </tr>\n",
              "    <tr>\n",
              "      <th>2024-01-01 03:00:00</th>\n",
              "      <td>0.0</td>\n",
              "      <td>946.3</td>\n",
              "      <td>946.8</td>\n",
              "      <td>946.3</td>\n",
              "      <td>NaN</td>\n",
              "      <td>20.9</td>\n",
              "      <td>16.3</td>\n",
              "      <td>21.0</td>\n",
              "      <td>20.7</td>\n",
              "      <td>16.3</td>\n",
              "      <td>15.9</td>\n",
              "      <td>75</td>\n",
              "      <td>73</td>\n",
              "      <td>75</td>\n",
              "      <td>119</td>\n",
              "      <td>1.2</td>\n",
              "      <td>0.2</td>\n",
              "    </tr>\n",
              "    <tr>\n",
              "      <th>2024-01-01 04:00:00</th>\n",
              "      <td>0.0</td>\n",
              "      <td>946.3</td>\n",
              "      <td>946.4</td>\n",
              "      <td>946.1</td>\n",
              "      <td>NaN</td>\n",
              "      <td>20.2</td>\n",
              "      <td>16.0</td>\n",
              "      <td>20.9</td>\n",
              "      <td>20.2</td>\n",
              "      <td>16.2</td>\n",
              "      <td>16.0</td>\n",
              "      <td>77</td>\n",
              "      <td>75</td>\n",
              "      <td>77</td>\n",
              "      <td>115</td>\n",
              "      <td>0.9</td>\n",
              "      <td>0.0</td>\n",
              "    </tr>\n",
              "  </tbody>\n",
              "</table>\n",
              "</div>"
            ],
            "text/plain": [
              "                        PRECIPITAÇÃO TOTAL, HORÁRIO (mm)  \\\n",
              "Data e Hora (datetime)                                     \n",
              "2024-01-01 00:00:00                                  0.0   \n",
              "2024-01-01 01:00:00                                  0.0   \n",
              "2024-01-01 02:00:00                                  0.0   \n",
              "2024-01-01 03:00:00                                  0.0   \n",
              "2024-01-01 04:00:00                                  0.0   \n",
              "\n",
              "                        PRESSAO ATMOSFERICA AO NIVEL DA ESTACAO, HORARIA (mB)  \\\n",
              "Data e Hora (datetime)                                                          \n",
              "2024-01-01 00:00:00                                                 946.2       \n",
              "2024-01-01 01:00:00                                                 946.6       \n",
              "2024-01-01 02:00:00                                                 946.7       \n",
              "2024-01-01 03:00:00                                                 946.3       \n",
              "2024-01-01 04:00:00                                                 946.3       \n",
              "\n",
              "                        PRESSÃO ATMOSFERICA MAX.NA HORA ANT. (AUT) (mB)  \\\n",
              "Data e Hora (datetime)                                                    \n",
              "2024-01-01 00:00:00                                               946.2   \n",
              "2024-01-01 01:00:00                                               946.6   \n",
              "2024-01-01 02:00:00                                               946.9   \n",
              "2024-01-01 03:00:00                                               946.8   \n",
              "2024-01-01 04:00:00                                               946.4   \n",
              "\n",
              "                        PRESSÃO ATMOSFERICA MIN. NA HORA ANT. (AUT) (mB)  \\\n",
              "Data e Hora (datetime)                                                     \n",
              "2024-01-01 00:00:00                                                945.5   \n",
              "2024-01-01 01:00:00                                                946.1   \n",
              "2024-01-01 02:00:00                                                946.6   \n",
              "2024-01-01 03:00:00                                                946.3   \n",
              "2024-01-01 04:00:00                                                946.1   \n",
              "\n",
              "                        RADIACAO GLOBAL (KJ/m²)  \\\n",
              "Data e Hora (datetime)                            \n",
              "2024-01-01 00:00:00                         NaN   \n",
              "2024-01-01 01:00:00                         NaN   \n",
              "2024-01-01 02:00:00                         NaN   \n",
              "2024-01-01 03:00:00                         NaN   \n",
              "2024-01-01 04:00:00                         NaN   \n",
              "\n",
              "                        TEMPERATURA DO AR - BULBO SECO, HORARIA (°C)  \\\n",
              "Data e Hora (datetime)                                                 \n",
              "2024-01-01 00:00:00                                             20.2   \n",
              "2024-01-01 01:00:00                                             20.5   \n",
              "2024-01-01 02:00:00                                             20.8   \n",
              "2024-01-01 03:00:00                                             20.9   \n",
              "2024-01-01 04:00:00                                             20.2   \n",
              "\n",
              "                        TEMPERATURA DO PONTO DE ORVALHO (°C)  \\\n",
              "Data e Hora (datetime)                                         \n",
              "2024-01-01 00:00:00                                     16.2   \n",
              "2024-01-01 01:00:00                                     16.1   \n",
              "2024-01-01 02:00:00                                     15.9   \n",
              "2024-01-01 03:00:00                                     16.3   \n",
              "2024-01-01 04:00:00                                     16.0   \n",
              "\n",
              "                        TEMPERATURA MÁXIMA NA HORA ANT. (AUT) (°C)  \\\n",
              "Data e Hora (datetime)                                               \n",
              "2024-01-01 00:00:00                                           21.1   \n",
              "2024-01-01 01:00:00                                           20.5   \n",
              "2024-01-01 02:00:00                                           20.8   \n",
              "2024-01-01 03:00:00                                           21.0   \n",
              "2024-01-01 04:00:00                                           20.9   \n",
              "\n",
              "                        TEMPERATURA MÍNIMA NA HORA ANT. (AUT) (°C)  \\\n",
              "Data e Hora (datetime)                                               \n",
              "2024-01-01 00:00:00                                           20.1   \n",
              "2024-01-01 01:00:00                                           19.7   \n",
              "2024-01-01 02:00:00                                           20.5   \n",
              "2024-01-01 03:00:00                                           20.7   \n",
              "2024-01-01 04:00:00                                           20.2   \n",
              "\n",
              "                        TEMPERATURA ORVALHO MAX. NA HORA ANT. (AUT) (°C)  \\\n",
              "Data e Hora (datetime)                                                     \n",
              "2024-01-01 00:00:00                                                 16.7   \n",
              "2024-01-01 01:00:00                                                 16.4   \n",
              "2024-01-01 02:00:00                                                 16.1   \n",
              "2024-01-01 03:00:00                                                 16.3   \n",
              "2024-01-01 04:00:00                                                 16.2   \n",
              "\n",
              "                        TEMPERATURA ORVALHO MIN. NA HORA ANT. (AUT) (°C)  \\\n",
              "Data e Hora (datetime)                                                     \n",
              "2024-01-01 00:00:00                                                 16.2   \n",
              "2024-01-01 01:00:00                                                 16.1   \n",
              "2024-01-01 02:00:00                                                 15.9   \n",
              "2024-01-01 03:00:00                                                 15.9   \n",
              "2024-01-01 04:00:00                                                 16.0   \n",
              "\n",
              "                        UMIDADE REL. MAX. NA HORA ANT. (AUT) (%)  \\\n",
              "Data e Hora (datetime)                                             \n",
              "2024-01-01 00:00:00                                           79   \n",
              "2024-01-01 01:00:00                                           81   \n",
              "2024-01-01 02:00:00                                           76   \n",
              "2024-01-01 03:00:00                                           75   \n",
              "2024-01-01 04:00:00                                           77   \n",
              "\n",
              "                        UMIDADE REL. MIN. NA HORA ANT. (AUT) (%)  \\\n",
              "Data e Hora (datetime)                                             \n",
              "2024-01-01 00:00:00                                           75   \n",
              "2024-01-01 01:00:00                                           76   \n",
              "2024-01-01 02:00:00                                           74   \n",
              "2024-01-01 03:00:00                                           73   \n",
              "2024-01-01 04:00:00                                           75   \n",
              "\n",
              "                        UMIDADE RELATIVA DO AR, HORARIA (%)  \\\n",
              "Data e Hora (datetime)                                        \n",
              "2024-01-01 00:00:00                                      78   \n",
              "2024-01-01 01:00:00                                      76   \n",
              "2024-01-01 02:00:00                                      74   \n",
              "2024-01-01 03:00:00                                      75   \n",
              "2024-01-01 04:00:00                                      77   \n",
              "\n",
              "                        VENTO, DIREÇÃO HORARIA (gr) (° (gr))  \\\n",
              "Data e Hora (datetime)                                         \n",
              "2024-01-01 00:00:00                                      115   \n",
              "2024-01-01 01:00:00                                      123   \n",
              "2024-01-01 02:00:00                                      123   \n",
              "2024-01-01 03:00:00                                      119   \n",
              "2024-01-01 04:00:00                                      115   \n",
              "\n",
              "                        VENTO, RAJADA MAXIMA (m/s)  \\\n",
              "Data e Hora (datetime)                               \n",
              "2024-01-01 00:00:00                            6.3   \n",
              "2024-01-01 01:00:00                            5.1   \n",
              "2024-01-01 02:00:00                            1.0   \n",
              "2024-01-01 03:00:00                            1.2   \n",
              "2024-01-01 04:00:00                            0.9   \n",
              "\n",
              "                        VENTO, VELOCIDADE HORARIA (m/s)  \n",
              "Data e Hora (datetime)                                   \n",
              "2024-01-01 00:00:00                                 3.1  \n",
              "2024-01-01 01:00:00                                 0.1  \n",
              "2024-01-01 02:00:00                                 0.1  \n",
              "2024-01-01 03:00:00                                 0.2  \n",
              "2024-01-01 04:00:00                                 0.0  "
            ]
          },
          "execution_count": 61,
          "metadata": {},
          "output_type": "execute_result"
        }
      ],
      "source": [
        "# Indexing of the 'Datetime' Date and Time\n",
        "df.set_index('Data e Hora (datetime)', inplace=True)\n",
        "\n",
        "df.head()"
      ]
    },
    {
      "cell_type": "code",
      "execution_count": 62,
      "metadata": {
        "colab": {
          "base_uri": "https://localhost:8080/"
        },
        "id": "FqSPCvRldCOO",
        "outputId": "3f09f974-d549-4902-9eb3-c00acbbccfc0"
      },
      "outputs": [
        {
          "name": "stdout",
          "output_type": "stream",
          "text": [
            "Amount of missing values per column:\n",
            "PRECIPITAÇÃO TOTAL, HORÁRIO (mm)                            0\n",
            "PRESSAO ATMOSFERICA AO NIVEL DA ESTACAO, HORARIA (mB)       0\n",
            "PRESSÃO ATMOSFERICA MAX.NA HORA ANT. (AUT) (mB)             0\n",
            "PRESSÃO ATMOSFERICA MIN. NA HORA ANT. (AUT) (mB)            0\n",
            "RADIACAO GLOBAL (KJ/m²)                                  4010\n",
            "TEMPERATURA DO AR - BULBO SECO, HORARIA (°C)                0\n",
            "TEMPERATURA DO PONTO DE ORVALHO (°C)                        0\n",
            "TEMPERATURA MÁXIMA NA HORA ANT. (AUT) (°C)                  0\n",
            "TEMPERATURA MÍNIMA NA HORA ANT. (AUT) (°C)                  0\n",
            "TEMPERATURA ORVALHO MAX. NA HORA ANT. (AUT) (°C)            0\n",
            "TEMPERATURA ORVALHO MIN. NA HORA ANT. (AUT) (°C)            0\n",
            "UMIDADE REL. MAX. NA HORA ANT. (AUT) (%)                    0\n",
            "UMIDADE REL. MIN. NA HORA ANT. (AUT) (%)                    0\n",
            "UMIDADE RELATIVA DO AR, HORARIA (%)                         0\n",
            "VENTO, DIREÇÃO HORARIA (gr) (° (gr))                        0\n",
            "VENTO, RAJADA MAXIMA (m/s)                               8040\n",
            "VENTO, VELOCIDADE HORARIA (m/s)                          8040\n",
            "dtype: int64\n",
            "\n",
            " --- \n",
            "\n",
            "Percentage of missing values:\n",
            "PRECIPITAÇÃO TOTAL, HORÁRIO (mm)                          0.000000\n",
            "PRESSAO ATMOSFERICA AO NIVEL DA ESTACAO, HORARIA (mB)     0.000000\n",
            "PRESSÃO ATMOSFERICA MAX.NA HORA ANT. (AUT) (mB)           0.000000\n",
            "PRESSÃO ATMOSFERICA MIN. NA HORA ANT. (AUT) (mB)          0.000000\n",
            "RADIACAO GLOBAL (KJ/m²)                                  45.651184\n",
            "TEMPERATURA DO AR - BULBO SECO, HORARIA (°C)              0.000000\n",
            "TEMPERATURA DO PONTO DE ORVALHO (°C)                      0.000000\n",
            "TEMPERATURA MÁXIMA NA HORA ANT. (AUT) (°C)                0.000000\n",
            "TEMPERATURA MÍNIMA NA HORA ANT. (AUT) (°C)                0.000000\n",
            "TEMPERATURA ORVALHO MAX. NA HORA ANT. (AUT) (°C)          0.000000\n",
            "TEMPERATURA ORVALHO MIN. NA HORA ANT. (AUT) (°C)          0.000000\n",
            "UMIDADE REL. MAX. NA HORA ANT. (AUT) (%)                  0.000000\n",
            "UMIDADE REL. MIN. NA HORA ANT. (AUT) (%)                  0.000000\n",
            "UMIDADE RELATIVA DO AR, HORARIA (%)                       0.000000\n",
            "VENTO, DIREÇÃO HORARIA (gr) (° (gr))                      0.000000\n",
            "VENTO, RAJADA MAXIMA (m/s)                               91.530055\n",
            "VENTO, VELOCIDADE HORARIA (m/s)                          91.530055\n",
            "dtype: float64\n"
          ]
        }
      ],
      "source": [
        "# Check missing values\n",
        "print(\"Amount of missing values per column:\")\n",
        "print(df.isnull().sum())\n",
        "\n",
        "print(\"\\n --- \\n\")\n",
        "\n",
        "print(\"Percentage of missing values:\")\n",
        "print(df.isnull().mean() * 100)"
      ]
    },
    {
      "cell_type": "code",
      "execution_count": 63,
      "metadata": {
        "id": "pOjviwVFdftA"
      },
      "outputs": [
        {
          "ename": "KeyError",
          "evalue": "'RADIACAO GLOBAL (Kj/m²)'",
          "output_type": "error",
          "traceback": [
            "\u001b[1;31m---------------------------------------------------------------------------\u001b[0m",
            "\u001b[1;31mKeyError\u001b[0m                                  Traceback (most recent call last)",
            "File \u001b[1;32mc:\\Users\\rafae\\anaconda3\\envs\\DL_env\\lib\\site-packages\\pandas\\core\\indexes\\base.py:3812\u001b[0m, in \u001b[0;36mIndex.get_loc\u001b[1;34m(self, key)\u001b[0m\n\u001b[0;32m   3811\u001b[0m \u001b[38;5;28;01mtry\u001b[39;00m:\n\u001b[1;32m-> 3812\u001b[0m     \u001b[38;5;28;01mreturn\u001b[39;00m \u001b[38;5;28;43mself\u001b[39;49m\u001b[38;5;241;43m.\u001b[39;49m\u001b[43m_engine\u001b[49m\u001b[38;5;241;43m.\u001b[39;49m\u001b[43mget_loc\u001b[49m\u001b[43m(\u001b[49m\u001b[43mcasted_key\u001b[49m\u001b[43m)\u001b[49m\n\u001b[0;32m   3813\u001b[0m \u001b[38;5;28;01mexcept\u001b[39;00m \u001b[38;5;167;01mKeyError\u001b[39;00m \u001b[38;5;28;01mas\u001b[39;00m err:\n",
            "File \u001b[1;32mpandas/_libs/index.pyx:167\u001b[0m, in \u001b[0;36mpandas._libs.index.IndexEngine.get_loc\u001b[1;34m()\u001b[0m\n",
            "File \u001b[1;32mpandas/_libs/index.pyx:196\u001b[0m, in \u001b[0;36mpandas._libs.index.IndexEngine.get_loc\u001b[1;34m()\u001b[0m\n",
            "File \u001b[1;32mpandas/_libs/hashtable_class_helper.pxi:7088\u001b[0m, in \u001b[0;36mpandas._libs.hashtable.PyObjectHashTable.get_item\u001b[1;34m()\u001b[0m\n",
            "File \u001b[1;32mpandas/_libs/hashtable_class_helper.pxi:7096\u001b[0m, in \u001b[0;36mpandas._libs.hashtable.PyObjectHashTable.get_item\u001b[1;34m()\u001b[0m\n",
            "\u001b[1;31mKeyError\u001b[0m: 'RADIACAO GLOBAL (Kj/m²)'",
            "\nThe above exception was the direct cause of the following exception:\n",
            "\u001b[1;31mKeyError\u001b[0m                                  Traceback (most recent call last)",
            "Cell \u001b[1;32mIn[63], line 2\u001b[0m\n\u001b[0;32m      1\u001b[0m \u001b[38;5;66;03m# Fill in missing values with the median\u001b[39;00m\n\u001b[1;32m----> 2\u001b[0m df[\u001b[38;5;124m'\u001b[39m\u001b[38;5;124mRADIACAO GLOBAL (Kj/m²)\u001b[39m\u001b[38;5;124m'\u001b[39m] \u001b[38;5;241m=\u001b[39m \u001b[43mdf\u001b[49m\u001b[43m[\u001b[49m\u001b[38;5;124;43m'\u001b[39;49m\u001b[38;5;124;43mRADIACAO GLOBAL (Kj/m²)\u001b[39;49m\u001b[38;5;124;43m'\u001b[39;49m\u001b[43m]\u001b[49m\u001b[38;5;241m.\u001b[39mfillna(df[\u001b[38;5;124m'\u001b[39m\u001b[38;5;124mRADIACAO GLOBAL (Kj/m²)\u001b[39m\u001b[38;5;124m'\u001b[39m]\u001b[38;5;241m.\u001b[39mmedian())\n",
            "File \u001b[1;32mc:\\Users\\rafae\\anaconda3\\envs\\DL_env\\lib\\site-packages\\pandas\\core\\frame.py:4107\u001b[0m, in \u001b[0;36mDataFrame.__getitem__\u001b[1;34m(self, key)\u001b[0m\n\u001b[0;32m   4105\u001b[0m \u001b[38;5;28;01mif\u001b[39;00m \u001b[38;5;28mself\u001b[39m\u001b[38;5;241m.\u001b[39mcolumns\u001b[38;5;241m.\u001b[39mnlevels \u001b[38;5;241m>\u001b[39m \u001b[38;5;241m1\u001b[39m:\n\u001b[0;32m   4106\u001b[0m     \u001b[38;5;28;01mreturn\u001b[39;00m \u001b[38;5;28mself\u001b[39m\u001b[38;5;241m.\u001b[39m_getitem_multilevel(key)\n\u001b[1;32m-> 4107\u001b[0m indexer \u001b[38;5;241m=\u001b[39m \u001b[38;5;28;43mself\u001b[39;49m\u001b[38;5;241;43m.\u001b[39;49m\u001b[43mcolumns\u001b[49m\u001b[38;5;241;43m.\u001b[39;49m\u001b[43mget_loc\u001b[49m\u001b[43m(\u001b[49m\u001b[43mkey\u001b[49m\u001b[43m)\u001b[49m\n\u001b[0;32m   4108\u001b[0m \u001b[38;5;28;01mif\u001b[39;00m is_integer(indexer):\n\u001b[0;32m   4109\u001b[0m     indexer \u001b[38;5;241m=\u001b[39m [indexer]\n",
            "File \u001b[1;32mc:\\Users\\rafae\\anaconda3\\envs\\DL_env\\lib\\site-packages\\pandas\\core\\indexes\\base.py:3819\u001b[0m, in \u001b[0;36mIndex.get_loc\u001b[1;34m(self, key)\u001b[0m\n\u001b[0;32m   3814\u001b[0m     \u001b[38;5;28;01mif\u001b[39;00m \u001b[38;5;28misinstance\u001b[39m(casted_key, \u001b[38;5;28mslice\u001b[39m) \u001b[38;5;129;01mor\u001b[39;00m (\n\u001b[0;32m   3815\u001b[0m         \u001b[38;5;28misinstance\u001b[39m(casted_key, abc\u001b[38;5;241m.\u001b[39mIterable)\n\u001b[0;32m   3816\u001b[0m         \u001b[38;5;129;01mand\u001b[39;00m \u001b[38;5;28many\u001b[39m(\u001b[38;5;28misinstance\u001b[39m(x, \u001b[38;5;28mslice\u001b[39m) \u001b[38;5;28;01mfor\u001b[39;00m x \u001b[38;5;129;01min\u001b[39;00m casted_key)\n\u001b[0;32m   3817\u001b[0m     ):\n\u001b[0;32m   3818\u001b[0m         \u001b[38;5;28;01mraise\u001b[39;00m InvalidIndexError(key)\n\u001b[1;32m-> 3819\u001b[0m     \u001b[38;5;28;01mraise\u001b[39;00m \u001b[38;5;167;01mKeyError\u001b[39;00m(key) \u001b[38;5;28;01mfrom\u001b[39;00m\u001b[38;5;250m \u001b[39m\u001b[38;5;21;01merr\u001b[39;00m\n\u001b[0;32m   3820\u001b[0m \u001b[38;5;28;01mexcept\u001b[39;00m \u001b[38;5;167;01mTypeError\u001b[39;00m:\n\u001b[0;32m   3821\u001b[0m     \u001b[38;5;66;03m# If we have a listlike key, _check_indexing_error will raise\u001b[39;00m\n\u001b[0;32m   3822\u001b[0m     \u001b[38;5;66;03m#  InvalidIndexError. Otherwise we fall through and re-raise\u001b[39;00m\n\u001b[0;32m   3823\u001b[0m     \u001b[38;5;66;03m#  the TypeError.\u001b[39;00m\n\u001b[0;32m   3824\u001b[0m     \u001b[38;5;28mself\u001b[39m\u001b[38;5;241m.\u001b[39m_check_indexing_error(key)\n",
            "\u001b[1;31mKeyError\u001b[0m: 'RADIACAO GLOBAL (Kj/m²)'"
          ]
        }
      ],
      "source": [
        "# Fill in missing values with the median\n",
        "df['RADIACAO GLOBAL (Kj/m²)'] = df['RADIACAO GLOBAL (Kj/m²)'].fillna(df['RADIACAO GLOBAL (Kj/m²)'].median())"
      ]
    },
    {
      "cell_type": "code",
      "execution_count": null,
      "metadata": {
        "id": "NdaMEQLtfKBl"
      },
      "outputs": [],
      "source": [
        "# Fill missing value in 'total precipitation, time (mm)' performing the interpolation\n",
        "for column in df.columns:\n",
        "  if column == 'PRECIPITAÇÃO TOTAL, HORÁRIO (mm)':\n",
        "    df[column] = df[column].interpolate(method='linear')  # Interpolação linear"
      ]
    },
    {
      "cell_type": "code",
      "execution_count": null,
      "metadata": {
        "colab": {
          "base_uri": "https://localhost:8080/"
        },
        "id": "5DT9rwdnfjPh",
        "outputId": "19f59019-a710-480f-f8df-efc1aae67c69"
      },
      "outputs": [],
      "source": [
        "# Check missing values\n",
        "print(\"Amount of missing values per column:\")\n",
        "print(df.isnull().sum())\n",
        "\n",
        "print(\"\\n --- \\n\")\n",
        "\n",
        "print(\"Percentage of missing values:\")\n",
        "print(df.isnull().mean() * 100)"
      ]
    },
    {
      "cell_type": "markdown",
      "metadata": {
        "id": "7Qs0Rf4YgAB7"
      },
      "source": [
        "Checking the main features visually"
      ]
    },
    {
      "cell_type": "code",
      "execution_count": null,
      "metadata": {
        "id": "OEQTY2dDgeWt"
      },
      "outputs": [],
      "source": [
        "# Filters the data by interval\n",
        "df_intervalo = df.loc['2024-01-01 00:00:00':'2024-02-28 00:00:00']"
      ]
    },
    {
      "cell_type": "code",
      "execution_count": null,
      "metadata": {
        "colab": {
          "base_uri": "https://localhost:8080/",
          "height": 1000
        },
        "id": "xjRJO4RMfsXq",
        "outputId": "39f1d84e-6fc8-4eea-fcd0-96bcc075936b"
      },
      "outputs": [],
      "source": [
        "# ------------------------------------\n",
        "# For January and February only\n",
        "# ------------------------------------\n",
        "\n",
        "# Creating subplots manually with adjustments\n",
        "fig, axes = plt.subplots(nrows=5, ncols=1, figsize=(12, 25), gridspec_kw={'height_ratios': [5, 5, 5, 5, 5]})       # `height_ratios` defines the relative heights of the subplots\n",
        "\n",
        "# Adding plots individually\n",
        "df_intervalo.plot(y='PRECIPITAÇÃO TOTAL, HORÁRIO (mm)', ax=axes[0], color='purple', legend=True, title='Total Precipitation (mm)')\n",
        "df_intervalo.plot(y='PRESSAO ATMOSFERICA AO NIVEL DA ESTACAO, HORARIA (mB)', ax=axes[1], color='green', legend=True, title='Atmospheric Pressure (mB)')\n",
        "df_intervalo.plot(y='RADIACAO GLOBAL (Kj/m²)', ax=axes[2], color='orange', legend=True, title='Global Radiation (Kj/m²)')\n",
        "df_intervalo.plot(y='TEMPERATURA DO AR - BULBO SECO, HORARIA (°C)', ax=axes[3], color='red', legend=True, title='Air Temperature (°C)')\n",
        "df_intervalo.plot(y='UMIDADE RELATIVA DO AR, HORARIA (%)', ax=axes[4], color='blue', legend=True, title='Relative Humidity (%)')\n",
        "\n",
        "# Iterate over each subplot\n",
        "for ax in axes:\n",
        "  ax.grid(axis='y')             # Activate grid for the y-axis\n",
        "  ax.legend(loc='upper right')  # Move legend to the upper right corner\n",
        "\n",
        "# Adjusting axis labels\n",
        "axes[0].set_ylabel('Total Precipitation (mm)')\n",
        "axes[1].set_ylabel('Atmospheric Pressure at Station Level (mB)')\n",
        "axes[2].set_ylabel('Global Radiation (Kj/m²)')\n",
        "axes[3].set_ylabel('Air Temperature (°C)')\n",
        "axes[4].set_ylabel('Relative Humidity (%)')\n",
        "#axes[3].set_xlabel('Date and Time')  # Only the last plot needs an X-axis label\n",
        "\n",
        "# Adjusting spacing between plots\n",
        "plt.tight_layout()  # Adjust spacing between subplots\n",
        "plt.show()"
      ]
    },
    {
      "cell_type": "code",
      "execution_count": null,
      "metadata": {
        "colab": {
          "base_uri": "https://localhost:8080/",
          "height": 1000
        },
        "id": "J6tg0WrkgyrS",
        "outputId": "e4a3b4bc-cca8-4480-bb89-e251fed835cf"
      },
      "outputs": [],
      "source": [
        "# ------------------------------------\n",
        "# For All period\n",
        "# ------------------------------------\n",
        "\n",
        "# Creating subplots manually with adjustments\n",
        "fig, axes = plt.subplots(nrows=5, ncols=1, figsize=(12, 25), gridspec_kw={'height_ratios': [5, 5, 5, 5, 5]})       # `height_ratios` defines the relative heights of the subplots\n",
        "\n",
        "# Adding plots individually\n",
        "df.plot(y='PRECIPITAÇÃO TOTAL, HORÁRIO (mm)', ax=axes[0], color='purple', legend=True, title='Total Precipitation (mm)')\n",
        "df.plot(y='PRESSAO ATMOSFERICA AO NIVEL DA ESTACAO, HORARIA (mB)', ax=axes[1], color='green', legend=True, title='Atmospheric Pressure (mB)')\n",
        "df.plot(y='RADIACAO GLOBAL (Kj/m²)', ax=axes[2], color='orange', legend=True, title='Global Radiation (Kj/m²)')\n",
        "df.plot(y='TEMPERATURA DO AR - BULBO SECO, HORARIA (°C)', ax=axes[3], color='red', legend=True, title='Air Temperature (°C)')\n",
        "df.plot(y='UMIDADE RELATIVA DO AR, HORARIA (%)', ax=axes[4], color='blue', legend=True, title='Relative Humidity (%)')\n",
        "\n",
        "# Iterate over each subplot\n",
        "for ax in axes:\n",
        "  ax.grid(axis='y')             # Activate grid for the y-axis\n",
        "  ax.legend(loc='upper right')  # Move legend to the upper right corner\n",
        "\n",
        "# Adjusting axis labels\n",
        "axes[0].set_ylabel('Total Precipitation (mm)')\n",
        "axes[1].set_ylabel('Atmospheric Pressure at Station Level (mB)')\n",
        "axes[2].set_ylabel('Global Radiation (Kj/m²)')\n",
        "axes[3].set_ylabel('Air Temperature (°C)')\n",
        "axes[4].set_ylabel('Relative Humidity (%)')\n",
        "#axes[3].set_xlabel('Date and Time')  # Only the last plot needs an X-axis label\n",
        "\n",
        "# Adjusting spacing between plots\n",
        "plt.tight_layout()  # Adjust spacing between subplots\n",
        "plt.show()"
      ]
    },
    {
      "cell_type": "markdown",
      "metadata": {
        "id": "zRxvnhj2infj"
      },
      "source": [
        "## Target feature"
      ]
    },
    {
      "cell_type": "code",
      "execution_count": null,
      "metadata": {
        "colab": {
          "base_uri": "https://localhost:8080/",
          "height": 483
        },
        "id": "NPvXDxlyiq6M",
        "outputId": "764cf504-405e-483e-8c03-279505281d64"
      },
      "outputs": [],
      "source": [
        "# ----------------------------------------------------------------------\n",
        "# Creating the Target feature 'PRECIPITAÇÃO TOTAL, HORÁRIO (mm) (t+1)'\n",
        "# ----------------------------------------------------------------------\n",
        "\n",
        "df['PRECIPITAÇÃO TOTAL, HORÁRIO (mm) (t+1)'] = df['PRECIPITAÇÃO TOTAL, HORÁRIO (mm)'].shift(-1)\n",
        "\n",
        "# Shift the new target column to the beginning of the DataFrame\n",
        "target_column = 'PRECIPITAÇÃO TOTAL, HORÁRIO (mm) (t+1)'\n",
        "removed_target_column = df.pop(target_column)\n",
        "df.insert(0, target_column, removed_target_column)\n",
        "\n",
        "# Remove NaN value from target\n",
        "df.dropna(subset=['PRECIPITAÇÃO TOTAL, HORÁRIO (mm) (t+1)'], inplace=True)\n",
        "\n",
        "df.tail()"
      ]
    },
    {
      "cell_type": "markdown",
      "metadata": {},
      "source": [
        "## Saving data as `.csv`"
      ]
    },
    {
      "cell_type": "code",
      "execution_count": null,
      "metadata": {},
      "outputs": [],
      "source": [
        "# ------------------------\n",
        "# Showing Dataset features\n",
        "# ------------------------\n",
        "\n",
        "# Plota cada coluna individualmente\n",
        "for col in df.columns:\n",
        "    plt.figure(figsize=(12, 4))\n",
        "    plt.plot(df.index, df[col])\n",
        "    plt.title(col)\n",
        "    plt.xlabel('Data e Hora (datetime)')\n",
        "    plt.ylabel(col)\n",
        "    plt.grid(True)\n",
        "    plt.show()\n",
        "\n",
        "df.info()"
      ]
    },
    {
      "cell_type": "code",
      "execution_count": null,
      "metadata": {},
      "outputs": [],
      "source": [
        "# ------------------------\n",
        "# Saving data as CSV file\n",
        "# ------------------------\n",
        "import os\n",
        "\n",
        "output_dir = '/content/drive/MyDrive/Colab Notebooks/(Researchs)/IC - Pessoal/1 - Modelos (Datasets do INMET de Sorocaba e região)/Datasets tratados/2024'\n",
        "output_dir = 'Datasets tratados/2024'\n",
        "\n",
        "os.makedirs(output_dir, exist_ok=True)\n",
        "\n",
        "df.to_csv(os.path.join(output_dir, 'Processed_Data_2024-A713_Sorocaba_Ipero.csv'), index=False)\n"
      ]
    },
    {
      "cell_type": "markdown",
      "metadata": {
        "id": "uStf61zLUtOO"
      },
      "source": [
        "# 1. Client-1 Dataset (Cerquilho-ETEC)⭐"
      ]
    },
    {
      "cell_type": "markdown",
      "metadata": {
        "id": "XS-gLFrCSCWE"
      },
      "source": [
        "## Data collection and pre-processing"
      ]
    },
    {
      "cell_type": "code",
      "execution_count": null,
      "metadata": {
        "id": "EYnjpdkvRnA2"
      },
      "outputs": [],
      "source": [
        "# --------------------------\n",
        "# Getting Clients dataset\n",
        "# -------------------------\n",
        "# Dataset path\n",
        "# file_path = '/content/drive/MyDrive/Colab Notebooks/(Researchs)/IC - Pessoal/1 - Modelos (Datasets do INMET de Sorocaba e região)/Datasets Brutos/Estacao_V0350 - Cerquilho-ETEC/2024/INMET_SE_SP_V0350_CERQUILHO-ETEC-Dataset_01-01-2024_A_31-12-2024.csv'\n",
        "file_path = 'Datasets Brutos/Estacao_V0350 - Cerquilho-ETEC/2024/INMET_SE_SP_V0350_CERQUILHO-ETEC-Dataset_01-01-2024_A_31-12-2024.csv'\n",
        "\n",
        "# Upload CSV file into DataFrame\n",
        "client1_df = pd.read_csv(file_path, encoding='latin-1', sep=';', decimal=',')"
      ]
    },
    {
      "cell_type": "code",
      "execution_count": null,
      "metadata": {
        "colab": {
          "base_uri": "https://localhost:8080/",
          "height": 399
        },
        "id": "iWq1O18NSMOh",
        "outputId": "b886ca84-bc8e-4121-c92a-b234eb3e8789"
      },
      "outputs": [],
      "source": [
        "print(\"Dataframe format:\")\n",
        "print(f\" ↪Linhas: {client1_df.shape[0]} \\n ↪Colunas: {client1_df.shape[1]}\")\n",
        "\n",
        "print(\"\\n---\\n\")\n",
        "\n",
        "print(\"First 5 lines of the dataset:\")\n",
        "client1_df.head()"
      ]
    },
    {
      "cell_type": "code",
      "execution_count": null,
      "metadata": {
        "colab": {
          "base_uri": "https://localhost:8080/"
        },
        "id": "vBuwxCdDTdzV",
        "outputId": "0883d9ad-acbc-4c00-8fce-52272a33866b"
      },
      "outputs": [],
      "source": [
        "# Data general info\n",
        "print(\"General Dataset Information:\")\n",
        "print(client1_df.info())"
      ]
    },
    {
      "cell_type": "code",
      "execution_count": null,
      "metadata": {
        "colab": {
          "base_uri": "https://localhost:8080/",
          "height": 389
        },
        "id": "as6VnwjRTfWo",
        "outputId": "56654446-a882-42e5-b806-8951f7f3b047"
      },
      "outputs": [],
      "source": [
        "print(\"Descriptive statistics:\")\n",
        "client1_df.describe()"
      ]
    },
    {
      "cell_type": "code",
      "execution_count": null,
      "metadata": {
        "colab": {
          "base_uri": "https://localhost:8080/",
          "height": 295
        },
        "id": "Pv-66ftuTh6X",
        "outputId": "d9807d50-f996-4cef-8232-29fff3123e8f"
      },
      "outputs": [],
      "source": [
        "# --------------------\n",
        "# Data Pre-Processing\n",
        "# --------------------\n",
        "\n",
        "# Replacing [0, 'Hora (UTC)'] value from '0' to '000'\n",
        "first_value = str(client1_df['Hora (UTC)'].iloc[0])\n",
        "modified_value = first_value.replace('0', '000', 1) if first_value == '0' else first_value\n",
        "client1_df.loc[0, 'Hora (UTC)'] = modified_value\n",
        "\n",
        "# Replacing ['Hora (UTC)'] column to fit '0' + 'Number' format\n",
        "client1_df['Hora (UTC)'] = client1_df['Hora (UTC)'].apply(lambda x: str(x).zfill(4))\n",
        "\n",
        "\n",
        "# Convert the UTC format to datetime format (only hour and minute)\n",
        "client1_df['Hora Datetime'] = pd.to_datetime(client1_df['Hora (UTC)'], format='%H%M').dt.time\n",
        "\n",
        "# Joining \"Data\" and \"Hora Datetime\" columns to create a \"Data e Hora Datetime\" column\n",
        "client1_df['Data e Hora (datetime)'] = client1_df['ï»¿\"Data\"'] + ' ' + client1_df['Hora Datetime'].astype(str)\n",
        "\n",
        "# Convert the \"Data e Hora (datetime)\" column to Datetime type\n",
        "client1_df['Data e Hora (datetime)'] = pd.to_datetime(client1_df['Data e Hora (datetime)'], format='%d/%m/%Y %H:%M:%S')\n",
        "\n",
        "client1_df['Data e Hora (datetime)'].head()\n"
      ]
    },
    {
      "cell_type": "code",
      "execution_count": null,
      "metadata": {
        "colab": {
          "base_uri": "https://localhost:8080/",
          "height": 394
        },
        "id": "JN5rOcpUTjzv",
        "outputId": "bf5e9d23-5fcc-4a16-83a4-e9128b151441"
      },
      "outputs": [],
      "source": [
        "client1_df.head()"
      ]
    },
    {
      "cell_type": "code",
      "execution_count": null,
      "metadata": {
        "colab": {
          "base_uri": "https://localhost:8080/",
          "height": 399
        },
        "id": "NZNR4IhSTkMK",
        "outputId": "8c79a9c3-f73e-4d14-9a94-f4053054f5d8"
      },
      "outputs": [],
      "source": [
        "# Removing \"ï»¿\"Data\"\", \"Hora (UTC)\", \"Hora Datetime\" columns\n",
        "client1_df = client1_df.drop(columns=['ï»¿\"Data\"', 'Hora (UTC)', 'Hora Datetime'])\n",
        "# client1_df.head() # Displaying the head after dropping is not needed as it will be shown after inserting the column\n",
        "\n",
        "# Changing the position of the \"Data e Hora Datetime\" column in the dataframe\n",
        "column = 'Data e Hora (datetime)'\n",
        "removed_column = client1_df.pop(column)          # remove the column\n",
        "client1_df.insert(0, column, removed_column)     # insert the column in the new position\n",
        "\n",
        "# Display the DataFrame format and the resulting DataFrame\n",
        "print(\"DataFrame format:\")\n",
        "print(client1_df.shape)\n",
        "\n",
        "client1_df.head()"
      ]
    },
    {
      "cell_type": "code",
      "execution_count": null,
      "metadata": {
        "colab": {
          "base_uri": "https://localhost:8080/",
          "height": 431
        },
        "id": "W1Hh7ZPXTn7G",
        "outputId": "a2d8f30f-8925-43ac-c5a3-6271c8a7b081"
      },
      "outputs": [],
      "source": [
        "# Indexing of the 'Datetime' Date and Time\n",
        "client1_df.set_index('Data e Hora (datetime)', inplace=True)\n",
        "\n",
        "client1_df.head()"
      ]
    },
    {
      "cell_type": "code",
      "execution_count": null,
      "metadata": {
        "colab": {
          "base_uri": "https://localhost:8080/"
        },
        "id": "csbbfnQGTpQg",
        "outputId": "8122f850-2867-49fd-a42d-e612f4fe5814"
      },
      "outputs": [],
      "source": [
        "# Check missing values\n",
        "print(\"Amount of missing values per column:\")\n",
        "print(client1_df.isnull().sum())\n",
        "\n",
        "print(\"\\n --- \\n\")\n",
        "\n",
        "print(\"Percentage of missing values:\")\n",
        "print(client1_df.isnull().mean() * 100)"
      ]
    },
    {
      "cell_type": "code",
      "execution_count": null,
      "metadata": {},
      "outputs": [],
      "source": [
        "# Dropping columns with 100% missing values\n",
        "client1_df = client1_df.dropna(axis=1, how='all')\n",
        "\n",
        "# Check missing values\n",
        "print(\"Percentage of missing values:\")\n",
        "print(client1_df.isnull().mean() * 100)"
      ]
    },
    {
      "cell_type": "code",
      "execution_count": null,
      "metadata": {},
      "outputs": [],
      "source": [
        "# pd.set_option('display.max_rows', None)  # Mostra todas as linhas"
      ]
    },
    {
      "cell_type": "code",
      "execution_count": null,
      "metadata": {},
      "outputs": [],
      "source": [
        "client1_df.head()"
      ]
    },
    {
      "cell_type": "code",
      "execution_count": null,
      "metadata": {},
      "outputs": [],
      "source": [
        "# pd.set_option('display.max_columns', None)  # (Opcional) Mostra todas as colunas"
      ]
    },
    {
      "cell_type": "markdown",
      "metadata": {},
      "source": [
        "----- Visualization of Client-1 dataset -----"
      ]
    },
    {
      "cell_type": "code",
      "execution_count": null,
      "metadata": {},
      "outputs": [],
      "source": [
        "# Filters the data by interval\n",
        "client1_df_intervalo = client1_df.loc['2024-01-01 00:00:00':'2024-02-28 00:00:00']"
      ]
    },
    {
      "cell_type": "code",
      "execution_count": null,
      "metadata": {},
      "outputs": [],
      "source": [
        "# ------------------------------------\n",
        "# For January and February only\n",
        "# ------------------------------------\n",
        "\n",
        "# Creating subplots manually with adjustments\n",
        "fig, axes = plt.subplots(nrows=4, ncols=1, figsize=(12, 25), gridspec_kw={'height_ratios': [5, 5, 5, 5]})       # `height_ratios` defines the relative heights of the subplots\n",
        "\n",
        "# Adding plots individually\n",
        "client1_df_intervalo.plot(y=client1_df_intervalo.columns[3], ax=axes[0], color='red', legend=True, title=client1_df_intervalo.columns[3])\n",
        "client1_df_intervalo.plot(y=client1_df_intervalo.columns[0], ax=axes[1], color='purple', legend=True, title=client1_df_intervalo.columns[0])\n",
        "client1_df_intervalo.plot(y=client1_df_intervalo.columns[1], ax=axes[2], color='green', legend=True, title=client1_df_intervalo.columns[1])\n",
        "client1_df_intervalo.plot(y=client1_df_intervalo.columns[2], ax=axes[3], color='orange', legend=True, title=client1_df_intervalo.columns[2])\n",
        "\n",
        "# Iterate over each subplot\n",
        "for ax in axes:\n",
        "  ax.grid(axis='y')             # Activate grid for the y-axis\n",
        "  ax.legend(loc='upper right')  # Move legend to the upper right corner\n",
        "\n",
        "# Adjusting axis labels\n",
        "axes[0].set_ylabel(client1_df_intervalo.columns[3])\n",
        "axes[1].set_ylabel(client1_df_intervalo.columns[0])\n",
        "axes[2].set_ylabel(client1_df_intervalo.columns[1])\n",
        "axes[3].set_ylabel(client1_df_intervalo.columns[2])\n",
        "#axes[3].set_xlabel('Date and Time')  # Only the last plot needs an X-axis label\n",
        "\n",
        "# Adjusting spacing between plots\n",
        "plt.tight_layout()  # Adjust spacing between subplots\n",
        "plt.show()"
      ]
    },
    {
      "cell_type": "code",
      "execution_count": null,
      "metadata": {},
      "outputs": [],
      "source": [
        "# ------------------------------------\n",
        "# All data period \n",
        "# ------------------------------------\n",
        "\n",
        "# Creating subplots manually with adjustments\n",
        "fig, axes = plt.subplots(nrows=4, ncols=1, figsize=(12, 25), gridspec_kw={'height_ratios': [5, 5, 5, 5]})       # `height_ratios` defines the relative heights of the subplots\n",
        "\n",
        "# Adding plots individually\n",
        "client1_df.plot(y=client1_df.columns[3], ax=axes[0], color='red', legend=True, title=client1_df.columns[3])\n",
        "client1_df.plot(y=client1_df.columns[0], ax=axes[1], color='purple', legend=True, title=client1_df.columns[0])\n",
        "client1_df.plot(y=client1_df.columns[1], ax=axes[2], color='green', legend=True, title=client1_df.columns[1])\n",
        "client1_df.plot(y=client1_df.columns[2], ax=axes[3], color='orange', legend=True, title=client1_df.columns[2])\n",
        "\n",
        "# Iterate over each subplot\n",
        "for ax in axes:\n",
        "  ax.grid(axis='y')             # Activate grid for the y-axis\n",
        "  ax.legend(loc='upper right')  # Move legend to the upper right corner\n",
        "\n",
        "# Adjusting axis labels\n",
        "axes[0].set_ylabel(client1_df.columns[3])\n",
        "axes[1].set_ylabel(client1_df.columns[0])\n",
        "axes[2].set_ylabel(client1_df.columns[1])\n",
        "axes[3].set_ylabel(client1_df.columns[2])\n",
        "#axes[3].set_xlabel('Date and Time')  # Only the last plot needs an X-axis label\n",
        "\n",
        "# Adjusting spacing between plots\n",
        "plt.tight_layout()  # Adjust spacing between subplots\n",
        "plt.show()"
      ]
    },
    {
      "cell_type": "code",
      "execution_count": null,
      "metadata": {
        "id": "OrVQnVriTrXX"
      },
      "outputs": [],
      "source": [
        "# Fill missing values (~=5%) performing the interpolation only on columns with NaN\n",
        "for column in client1_df.columns:\n",
        "    if client1_df[column].isnull().any():\n",
        "        client1_df[column] = client1_df[column].interpolate(method='linear')  # Interpolação linear"
      ]
    },
    {
      "cell_type": "code",
      "execution_count": null,
      "metadata": {
        "colab": {
          "base_uri": "https://localhost:8080/"
        },
        "id": "KZyHC8ECTwZK",
        "outputId": "35028509-acd0-4bb9-c4d5-b1f27c9b6a02"
      },
      "outputs": [],
      "source": [
        "# Check missing values\n",
        "print(\"Amount of missing values per column:\")\n",
        "print(client1_df.isnull().sum())\n",
        "\n",
        "print(\"\\n --- \\n\")\n",
        "\n",
        "print(\"Percentage of missing values:\")\n",
        "print(client1_df.isnull().mean() * 100)"
      ]
    },
    {
      "cell_type": "markdown",
      "metadata": {
        "id": "CUNaiu0TT0Cf"
      },
      "source": [
        "Checking the main features visually"
      ]
    },
    {
      "cell_type": "code",
      "execution_count": null,
      "metadata": {
        "id": "iuHpKU_RT1cu"
      },
      "outputs": [],
      "source": [
        "# Filters the data by interval\n",
        "client1_df_intervalo = client1_df.loc['2024-01-01 00:00:00':'2024-02-28 00:00:00']"
      ]
    },
    {
      "cell_type": "code",
      "execution_count": null,
      "metadata": {
        "colab": {
          "base_uri": "https://localhost:8080/",
          "height": 1000
        },
        "id": "XsxNwRDAT3se",
        "outputId": "2447edae-afd0-41f8-8c0a-58fd1e3855fd"
      },
      "outputs": [],
      "source": [
        "# ------------------------------------\n",
        "# For January and February only\n",
        "# ------------------------------------\n",
        "\n",
        "# Creating subplots manually with adjustments\n",
        "fig, axes = plt.subplots(nrows=4, ncols=1, figsize=(12, 25), gridspec_kw={'height_ratios': [5, 5, 5, 5]})       # `height_ratios` defines the relative heights of the subplots\n",
        "\n",
        "# Adding plots individually\n",
        "client1_df_intervalo.plot(y=client1_df_intervalo.columns[3], ax=axes[0], color='red', legend=True, title=client1_df_intervalo.columns[3])\n",
        "client1_df_intervalo.plot(y=client1_df_intervalo.columns[0], ax=axes[1], color='purple', legend=True, title=client1_df_intervalo.columns[0])\n",
        "client1_df_intervalo.plot(y=client1_df_intervalo.columns[1], ax=axes[2], color='green', legend=True, title=client1_df_intervalo.columns[1])\n",
        "client1_df_intervalo.plot(y=client1_df_intervalo.columns[2], ax=axes[3], color='orange', legend=True, title=client1_df_intervalo.columns[2])\n",
        "\n",
        "# Iterate over each subplot\n",
        "for ax in axes:\n",
        "  ax.grid(axis='y')             # Activate grid for the y-axis\n",
        "  ax.legend(loc='upper right')  # Move legend to the upper right corner\n",
        "\n",
        "# Adjusting axis labels\n",
        "axes[0].set_ylabel(client1_df_intervalo.columns[3])\n",
        "axes[1].set_ylabel(client1_df_intervalo.columns[0])\n",
        "axes[2].set_ylabel(client1_df_intervalo.columns[1])\n",
        "axes[3].set_ylabel(client1_df_intervalo.columns[2])\n",
        "#axes[3].set_xlabel('Date and Time')  # Only the last plot needs an X-axis label\n",
        "\n",
        "# Adjusting spacing between plots\n",
        "plt.tight_layout()  # Adjust spacing between subplots\n",
        "plt.show()"
      ]
    },
    {
      "cell_type": "code",
      "execution_count": null,
      "metadata": {
        "colab": {
          "base_uri": "https://localhost:8080/",
          "height": 1000
        },
        "id": "r9Bu05uNT5fR",
        "outputId": "4449728c-f65c-420c-e154-7c5d1622f25a"
      },
      "outputs": [],
      "source": [
        "# ------------------------------------\n",
        "# For All period\n",
        "# ------------------------------------\n",
        "\n",
        "# Creating subplots manually with adjustments\n",
        "fig, axes = plt.subplots(nrows=4, ncols=1, figsize=(12, 25), gridspec_kw={'height_ratios': [5, 5, 5, 5]})       # `height_ratios` defines the relative heights of the subplots\n",
        "\n",
        "# Adding plots individually\n",
        "client1_df.plot(y=client1_df.columns[3], ax=axes[0], color='red', legend=True, title=client1_df.columns[3])\n",
        "client1_df.plot(y=client1_df.columns[0], ax=axes[1], color='purple', legend=True, title=client1_df.columns[0])\n",
        "client1_df.plot(y=client1_df.columns[1], ax=axes[2], color='green', legend=True, title=client1_df.columns[1])\n",
        "client1_df.plot(y=client1_df.columns[2], ax=axes[3], color='orange', legend=True, title=client1_df.columns[2])\n",
        "\n",
        "# Iterate over each subplot\n",
        "for ax in axes:\n",
        "  ax.grid(axis='y')             # Activate grid for the y-axis\n",
        "  ax.legend(loc='upper right')  # Move legend to the upper right corner\n",
        "\n",
        "# Adjusting axis labels\n",
        "axes[0].set_ylabel(client1_df.columns[3])\n",
        "axes[1].set_ylabel(client1_df.columns[0])\n",
        "axes[2].set_ylabel(client1_df.columns[1])\n",
        "axes[3].set_ylabel(client1_df.columns[2])\n",
        "#axes[3].set_xlabel('Date and Time')  # Only the last plot needs an X-axis label\n",
        "\n",
        "# Adjusting spacing between plots\n",
        "plt.tight_layout()  # Adjust spacing between subplots\n",
        "plt.show()"
      ]
    },
    {
      "cell_type": "markdown",
      "metadata": {
        "id": "KstI1nvpT7Et"
      },
      "source": [
        "## Target feature and implementation of Sliding Window"
      ]
    },
    {
      "cell_type": "code",
      "execution_count": null,
      "metadata": {},
      "outputs": [],
      "source": [
        "client1_df.head()"
      ]
    },
    {
      "cell_type": "code",
      "execution_count": null,
      "metadata": {},
      "outputs": [],
      "source": [
        "# Changing the position of the \"Data e Hora Datetime\" column in the dataframe\n",
        "column = 'Chuva (mm)'\n",
        "removed_column = client1_df.pop(column)          # remove the column\n",
        "client1_df.insert(0, column, removed_column)     # insert the column in the new position\n",
        "\n",
        "# Display the DataFrame format and the resulting DataFrame\n",
        "print(\"DataFrame format:\")\n",
        "print(client1_df.shape)\n",
        "\n",
        "client1_df.head()"
      ]
    },
    {
      "cell_type": "code",
      "execution_count": null,
      "metadata": {
        "colab": {
          "base_uri": "https://localhost:8080/",
          "height": 0
        },
        "id": "f_UTLroXUFnG",
        "outputId": "e7b422b4-84cc-4c7f-c363-b657499933fb"
      },
      "outputs": [],
      "source": [
        "# ----------------------------------------------------------------------\n",
        "# Creating the Target feature 'Chuva (mm) (t+1)'\n",
        "# ----------------------------------------------------------------------\n",
        "\n",
        "client1_df['Chuva (mm) (t+1)'] = client1_df['Chuva (mm)'].shift(-1)\n",
        "\n",
        "# Shift the new target column to the beginning of the DataFrame\n",
        "target_column = 'Chuva (mm) (t+1)'\n",
        "removed_target_column = client1_df.pop(target_column)\n",
        "client1_df.insert(0, target_column, removed_target_column)\n",
        "\n",
        "# Remove NaN value from target\n",
        "client1_df.dropna(subset=['Chuva (mm) (t+1)'], inplace=True)\n",
        "\n",
        "client1_df.tail()"
      ]
    },
    {
      "cell_type": "markdown",
      "metadata": {},
      "source": [
        "## Saving data as `.csv`"
      ]
    },
    {
      "cell_type": "code",
      "execution_count": null,
      "metadata": {},
      "outputs": [],
      "source": [
        "# ------------------------\n",
        "# Showing Dataset features\n",
        "# ------------------------\n",
        "\n",
        "# Plota cada coluna individualmente\n",
        "for col in client1_df.columns:\n",
        "    plt.figure(figsize=(12, 4))\n",
        "    plt.plot(client1_df.index, client1_df[col])\n",
        "    plt.title(col)\n",
        "    plt.xlabel('Data e Hora (datetime)')\n",
        "    plt.ylabel(col)\n",
        "    plt.grid(True)\n",
        "    plt.show()\n",
        "\n",
        "client1_df.info()"
      ]
    },
    {
      "cell_type": "code",
      "execution_count": null,
      "metadata": {},
      "outputs": [],
      "source": [
        "# ------------------------\n",
        "# Saving data as CSV file\n",
        "# ------------------------\n",
        "import os\n",
        "\n",
        "# output_dir = '/content/drive/MyDrive/Colab Notebooks/(Researchs)/IC - Pessoal/1 - Modelos (Datasets do INMET de Sorocaba e região)/Datasets tratados/2024'\n",
        "output_dir = 'Datasets tratados/2024'\n",
        "\n",
        "os.makedirs(output_dir, exist_ok=True)\n",
        "\n",
        "client1_df.to_csv(os.path.join(output_dir, 'Processed_Data_2024-Client-1_V0350_Cerquilho-ETEC.csv'), index=False)\n"
      ]
    },
    {
      "cell_type": "markdown",
      "metadata": {},
      "source": [
        "# 2. Client-2 Dataset (Ibiuna)⭐"
      ]
    },
    {
      "cell_type": "markdown",
      "metadata": {},
      "source": [
        "## Data collection and pre-processing"
      ]
    },
    {
      "cell_type": "code",
      "execution_count": null,
      "metadata": {},
      "outputs": [],
      "source": [
        "# --------------------------\n",
        "# Getting Clients dataset\n",
        "# -------------------------\n",
        "# Dataset path\n",
        "# file_path = '/content/drive/MyDrive/Colab Notebooks/(Researchs)/IC - Pessoal/1 - Modelos (Datasets do INMET de Sorocaba e região)/Datasets Brutos/Estacao_V0377 - Ibiuna/2024/INMET_SE_SP_V0377_IBIUNA-Dataset_01-01-2024_A_31-12-2024.csv'\n",
        "file_path = 'Datasets Brutos/Estacao_V0377 - Ibiuna/2024/INMET_SE_SP_V0377_IBIUNA-Dataset_01-01-2024_A_31-12-2024.csv'\n",
        "\n",
        "# Upload CSV file into DataFrame\n",
        "client2_df = pd.read_csv(file_path, encoding='latin-1', sep=';', decimal=',')"
      ]
    },
    {
      "cell_type": "code",
      "execution_count": null,
      "metadata": {},
      "outputs": [],
      "source": [
        "print(\"Dataframe format:\")\n",
        "print(f\" ↪Linhas: {client2_df.shape[0]} \\n ↪Colunas: {client2_df.shape[1]}\")\n",
        "\n",
        "print(\"\\n---\\n\")\n",
        "\n",
        "print(\"First 5 lines of the dataset:\")\n",
        "client2_df.head()"
      ]
    },
    {
      "cell_type": "code",
      "execution_count": null,
      "metadata": {},
      "outputs": [],
      "source": [
        "# Data general info\n",
        "print(\"General Dataset Information:\")\n",
        "print(client2_df.info())"
      ]
    },
    {
      "cell_type": "code",
      "execution_count": null,
      "metadata": {},
      "outputs": [],
      "source": [
        "print(\"Descriptive statistics:\")\n",
        "client2_df.describe()"
      ]
    },
    {
      "cell_type": "code",
      "execution_count": null,
      "metadata": {},
      "outputs": [],
      "source": [
        "# --------------------\n",
        "# Data Pre-Processing\n",
        "# --------------------\n",
        "\n",
        "# Replacing [0, 'Hora (UTC)'] value from '0' to '000'\n",
        "first_value = str(client2_df['Hora (UTC)'].iloc[0])\n",
        "modified_value = first_value.replace('0', '000', 1) if first_value == '0' else first_value\n",
        "client2_df.loc[0, 'Hora (UTC)'] = modified_value\n",
        "\n",
        "# Replacing ['Hora (UTC)'] column to fit '0' + 'Number' format\n",
        "client2_df['Hora (UTC)'] = client2_df['Hora (UTC)'].apply(lambda x: str(x).zfill(4))\n",
        "\n",
        "\n",
        "# Convert the UTC format to datetime format (only hour and minute)\n",
        "client2_df['Hora Datetime'] = pd.to_datetime(client2_df['Hora (UTC)'], format='%H%M').dt.time\n",
        "\n",
        "# Joining \"Data\" and \"Hora Datetime\" columns to create a \"Data e Hora Datetime\" column\n",
        "client2_df['Data e Hora (datetime)'] = client2_df['ï»¿\"Data\"'] + ' ' + client2_df['Hora Datetime'].astype(str)\n",
        "\n",
        "# Convert the \"Data e Hora (datetime)\" column to Datetime type\n",
        "client2_df['Data e Hora (datetime)'] = pd.to_datetime(client2_df['Data e Hora (datetime)'], format='%d/%m/%Y %H:%M:%S')\n",
        "\n",
        "client2_df['Data e Hora (datetime)'].head()\n"
      ]
    },
    {
      "cell_type": "code",
      "execution_count": null,
      "metadata": {},
      "outputs": [],
      "source": [
        "client2_df.head()"
      ]
    },
    {
      "cell_type": "code",
      "execution_count": null,
      "metadata": {},
      "outputs": [],
      "source": [
        "# Removing \"ï»¿\"Data\"\", \"Hora (UTC)\", \"Hora Datetime\" columns\n",
        "client2_df = client2_df.drop(columns=['ï»¿\"Data\"', 'Hora (UTC)', 'Hora Datetime'])\n",
        "# client2_df.head() # Displaying the head after dropping is not needed as it will be shown after inserting the column\n",
        "\n",
        "# Changing the position of the \"Data e Hora Datetime\" column in the dataframe\n",
        "column = 'Data e Hora (datetime)'\n",
        "removed_column = client2_df.pop(column)          # remove the column\n",
        "client2_df.insert(0, column, removed_column)     # insert the column in the new position\n",
        "\n",
        "# Display the DataFrame format and the resulting DataFrame\n",
        "print(\"DataFrame format:\")\n",
        "print(client2_df.shape)\n",
        "\n",
        "client2_df.head()"
      ]
    },
    {
      "cell_type": "code",
      "execution_count": null,
      "metadata": {},
      "outputs": [],
      "source": [
        "# Indexing of the 'Datetime' Date and Time\n",
        "client2_df.set_index('Data e Hora (datetime)', inplace=True)\n",
        "\n",
        "client2_df.head()"
      ]
    },
    {
      "cell_type": "code",
      "execution_count": null,
      "metadata": {},
      "outputs": [],
      "source": [
        "# Check missing values\n",
        "print(\"Amount of missing values per column:\")\n",
        "print(client2_df.isnull().sum())\n",
        "\n",
        "print(\"\\n --- \\n\")\n",
        "\n",
        "print(\"Percentage of missing values:\")\n",
        "print(client2_df.isnull().mean() * 100)"
      ]
    },
    {
      "cell_type": "code",
      "execution_count": null,
      "metadata": {},
      "outputs": [],
      "source": [
        "# Dropping columns with 100% missing values\n",
        "client2_df = client2_df.dropna(axis=1, how='all')\n",
        "\n",
        "# Check missing values\n",
        "print(\"Percentage of missing values:\")\n",
        "print(client2_df.isnull().mean() * 100)"
      ]
    },
    {
      "cell_type": "code",
      "execution_count": null,
      "metadata": {},
      "outputs": [],
      "source": [
        "# pd.set_option('display.max_rows', None)  # Mostra todas as linhas"
      ]
    },
    {
      "cell_type": "code",
      "execution_count": null,
      "metadata": {},
      "outputs": [],
      "source": [
        "client2_df.head()"
      ]
    },
    {
      "cell_type": "code",
      "execution_count": null,
      "metadata": {},
      "outputs": [],
      "source": [
        "# pd.set_option('display.max_columns', None)  # (Opcional) Mostra todas as colunas"
      ]
    },
    {
      "cell_type": "markdown",
      "metadata": {},
      "source": [
        "----- Visualization of Client-1 dataset -----"
      ]
    },
    {
      "cell_type": "code",
      "execution_count": null,
      "metadata": {},
      "outputs": [],
      "source": [
        "# Filters the data by interval\n",
        "client2_df_intervalo = client2_df.loc['2024-01-01 00:00:00':'2024-02-28 00:00:00']"
      ]
    },
    {
      "cell_type": "code",
      "execution_count": null,
      "metadata": {},
      "outputs": [],
      "source": [
        "# ------------------------------------\n",
        "# For January and February only\n",
        "# ------------------------------------\n",
        "\n",
        "# Creating subplots manually with adjustments\n",
        "fig, axes = plt.subplots(nrows=4, ncols=1, figsize=(12, 25), gridspec_kw={'height_ratios': [5, 5, 5, 5]})       # `height_ratios` defines the relative heights of the subplots\n",
        "\n",
        "# Adding plots individually\n",
        "client2_df_intervalo.plot(y=client2_df_intervalo.columns[3], ax=axes[0], color='red', legend=True, title=client2_df_intervalo.columns[3])\n",
        "client2_df_intervalo.plot(y=client2_df_intervalo.columns[0], ax=axes[1], color='purple', legend=True, title=client2_df_intervalo.columns[0])\n",
        "client2_df_intervalo.plot(y=client2_df_intervalo.columns[1], ax=axes[2], color='green', legend=True, title=client2_df_intervalo.columns[1])\n",
        "client2_df_intervalo.plot(y=client2_df_intervalo.columns[2], ax=axes[3], color='orange', legend=True, title=client2_df_intervalo.columns[2])\n",
        "\n",
        "# Iterate over each subplot\n",
        "for ax in axes:\n",
        "  ax.grid(axis='y')             # Activate grid for the y-axis\n",
        "  ax.legend(loc='upper right')  # Move legend to the upper right corner\n",
        "\n",
        "# Adjusting axis labels\n",
        "axes[0].set_ylabel(client2_df_intervalo.columns[3])\n",
        "axes[1].set_ylabel(client2_df_intervalo.columns[0])\n",
        "axes[2].set_ylabel(client2_df_intervalo.columns[1])\n",
        "axes[3].set_ylabel(client2_df_intervalo.columns[2])\n",
        "#axes[3].set_xlabel('Date and Time')  # Only the last plot needs an X-axis label\n",
        "\n",
        "# Adjusting spacing between plots\n",
        "plt.tight_layout()  # Adjust spacing between subplots\n",
        "plt.show()"
      ]
    },
    {
      "cell_type": "code",
      "execution_count": null,
      "metadata": {},
      "outputs": [],
      "source": [
        "# ------------------------------------\n",
        "# All data period \n",
        "# ------------------------------------\n",
        "\n",
        "# Creating subplots manually with adjustments\n",
        "fig, axes = plt.subplots(nrows=4, ncols=1, figsize=(12, 25), gridspec_kw={'height_ratios': [5, 5, 5, 5]})       # `height_ratios` defines the relative heights of the subplots\n",
        "\n",
        "# Adding plots individually\n",
        "client2_df.plot(y=client2_df.columns[3], ax=axes[0], color='red', legend=True, title=client2_df.columns[3])\n",
        "client2_df.plot(y=client2_df.columns[0], ax=axes[1], color='purple', legend=True, title=client2_df.columns[0])\n",
        "client2_df.plot(y=client2_df.columns[1], ax=axes[2], color='green', legend=True, title=client2_df.columns[1])\n",
        "client2_df.plot(y=client2_df.columns[2], ax=axes[3], color='orange', legend=True, title=client2_df.columns[2])\n",
        "\n",
        "# Iterate over each subplot\n",
        "for ax in axes:\n",
        "  ax.grid(axis='y')             # Activate grid for the y-axis\n",
        "  ax.legend(loc='upper right')  # Move legend to the upper right corner\n",
        "\n",
        "# Adjusting axis labels\n",
        "axes[0].set_ylabel(client2_df.columns[3])\n",
        "axes[1].set_ylabel(client2_df.columns[0])\n",
        "axes[2].set_ylabel(client2_df.columns[1])\n",
        "axes[3].set_ylabel(client2_df.columns[2])\n",
        "#axes[3].set_xlabel('Date and Time')  # Only the last plot needs an X-axis label\n",
        "\n",
        "# Adjusting spacing between plots\n",
        "plt.tight_layout()  # Adjust spacing between subplots\n",
        "plt.show()"
      ]
    },
    {
      "cell_type": "code",
      "execution_count": null,
      "metadata": {},
      "outputs": [],
      "source": [
        "# Fill missing values (~=5%) performing the interpolation only on columns with NaN\n",
        "for column in client2_df.columns:\n",
        "    if client2_df[column].isnull().any():\n",
        "        client2_df[column] = client2_df[column].interpolate(method='linear')  # Interpolação linear"
      ]
    },
    {
      "cell_type": "code",
      "execution_count": null,
      "metadata": {},
      "outputs": [],
      "source": [
        "# Check missing values\n",
        "print(\"Amount of missing values per column:\")\n",
        "print(client2_df.isnull().sum())\n",
        "\n",
        "print(\"\\n --- \\n\")\n",
        "\n",
        "print(\"Percentage of missing values:\")\n",
        "print(client2_df.isnull().mean() * 100)"
      ]
    },
    {
      "cell_type": "markdown",
      "metadata": {},
      "source": [
        "Checking the main features visually"
      ]
    },
    {
      "cell_type": "code",
      "execution_count": null,
      "metadata": {},
      "outputs": [],
      "source": [
        "# Filters the data by interval\n",
        "client2_df_intervalo = client2_df.loc['2024-01-01 00:00:00':'2024-02-28 00:00:00']"
      ]
    },
    {
      "cell_type": "code",
      "execution_count": null,
      "metadata": {},
      "outputs": [],
      "source": [
        "# ------------------------------------\n",
        "# For January and February only\n",
        "# ------------------------------------\n",
        "\n",
        "# Creating subplots manually with adjustments\n",
        "fig, axes = plt.subplots(nrows=4, ncols=1, figsize=(12, 25), gridspec_kw={'height_ratios': [5, 5, 5, 5]})       # `height_ratios` defines the relative heights of the subplots\n",
        "\n",
        "# Adding plots individually\n",
        "client2_df_intervalo.plot(y=client2_df_intervalo.columns[3], ax=axes[0], color='red', legend=True, title=client2_df_intervalo.columns[3])\n",
        "client2_df_intervalo.plot(y=client2_df_intervalo.columns[0], ax=axes[1], color='purple', legend=True, title=client2_df_intervalo.columns[0])\n",
        "client2_df_intervalo.plot(y=client2_df_intervalo.columns[1], ax=axes[2], color='green', legend=True, title=client2_df_intervalo.columns[1])\n",
        "client2_df_intervalo.plot(y=client2_df_intervalo.columns[2], ax=axes[3], color='orange', legend=True, title=client2_df_intervalo.columns[2])\n",
        "\n",
        "# Iterate over each subplot\n",
        "for ax in axes:\n",
        "  ax.grid(axis='y')             # Activate grid for the y-axis\n",
        "  ax.legend(loc='upper right')  # Move legend to the upper right corner\n",
        "\n",
        "# Adjusting axis labels\n",
        "axes[0].set_ylabel(client2_df_intervalo.columns[3])\n",
        "axes[1].set_ylabel(client2_df_intervalo.columns[0])\n",
        "axes[2].set_ylabel(client2_df_intervalo.columns[1])\n",
        "axes[3].set_ylabel(client2_df_intervalo.columns[2])\n",
        "#axes[3].set_xlabel('Date and Time')  # Only the last plot needs an X-axis label\n",
        "\n",
        "# Adjusting spacing between plots\n",
        "plt.tight_layout()  # Adjust spacing between subplots\n",
        "plt.show()"
      ]
    },
    {
      "cell_type": "code",
      "execution_count": null,
      "metadata": {},
      "outputs": [],
      "source": [
        "# ------------------------------------\n",
        "# For All period\n",
        "# ------------------------------------\n",
        "\n",
        "# Creating subplots manually with adjustments\n",
        "fig, axes = plt.subplots(nrows=4, ncols=1, figsize=(12, 25), gridspec_kw={'height_ratios': [5, 5, 5, 5]})       # `height_ratios` defines the relative heights of the subplots\n",
        "\n",
        "# Adding plots individually\n",
        "client2_df.plot(y=client2_df.columns[3], ax=axes[0], color='red', legend=True, title=client2_df.columns[3])\n",
        "client2_df.plot(y=client2_df.columns[0], ax=axes[1], color='purple', legend=True, title=client2_df.columns[0])\n",
        "client2_df.plot(y=client2_df.columns[1], ax=axes[2], color='green', legend=True, title=client2_df.columns[1])\n",
        "client2_df.plot(y=client2_df.columns[2], ax=axes[3], color='orange', legend=True, title=client2_df.columns[2])\n",
        "\n",
        "# Iterate over each subplot\n",
        "for ax in axes:\n",
        "  ax.grid(axis='y')             # Activate grid for the y-axis\n",
        "  ax.legend(loc='upper right')  # Move legend to the upper right corner\n",
        "\n",
        "# Adjusting axis labels\n",
        "axes[0].set_ylabel(client2_df.columns[3])\n",
        "axes[1].set_ylabel(client2_df.columns[0])\n",
        "axes[2].set_ylabel(client2_df.columns[1])\n",
        "axes[3].set_ylabel(client2_df.columns[2])\n",
        "#axes[3].set_xlabel('Date and Time')  # Only the last plot needs an X-axis label\n",
        "\n",
        "# Adjusting spacing between plots\n",
        "plt.tight_layout()  # Adjust spacing between subplots\n",
        "plt.show()"
      ]
    },
    {
      "cell_type": "markdown",
      "metadata": {},
      "source": [
        "## Target feature and implementation of Sliding Window"
      ]
    },
    {
      "cell_type": "code",
      "execution_count": null,
      "metadata": {},
      "outputs": [],
      "source": [
        "client2_df.head()"
      ]
    },
    {
      "cell_type": "code",
      "execution_count": null,
      "metadata": {},
      "outputs": [],
      "source": [
        "# Changing the position of the \"Data e Hora Datetime\" column in the dataframe\n",
        "column = 'Chuva (mm)'\n",
        "removed_column = client2_df.pop(column)          # remove the column\n",
        "client2_df.insert(0, column, removed_column)     # insert the column in the new position\n",
        "\n",
        "# Display the DataFrame format and the resulting DataFrame\n",
        "print(\"DataFrame format:\")\n",
        "print(client2_df.shape)\n",
        "\n",
        "client2_df.head()"
      ]
    },
    {
      "cell_type": "code",
      "execution_count": null,
      "metadata": {},
      "outputs": [],
      "source": [
        "# ----------------------------------------------------------------------\n",
        "# Creating the Target feature 'Chuva (mm) (t+1)'\n",
        "# ----------------------------------------------------------------------\n",
        "\n",
        "client2_df['Chuva (mm) (t+1)'] = client2_df['Chuva (mm)'].shift(-1)\n",
        "\n",
        "# Shift the new target column to the beginning of the DataFrame\n",
        "target_column = 'Chuva (mm) (t+1)'\n",
        "removed_target_column = client2_df.pop(target_column)\n",
        "client2_df.insert(0, target_column, removed_target_column)\n",
        "\n",
        "# Remove NaN value from target\n",
        "client2_df.dropna(subset=['Chuva (mm) (t+1)'], inplace=True)\n",
        "\n",
        "client2_df.tail()"
      ]
    },
    {
      "cell_type": "markdown",
      "metadata": {},
      "source": [
        "## Saving data as `.csv`"
      ]
    },
    {
      "cell_type": "code",
      "execution_count": null,
      "metadata": {},
      "outputs": [],
      "source": [
        "# ------------------------\n",
        "# Showing Dataset features\n",
        "# ------------------------\n",
        "\n",
        "# Plota cada coluna individualmente\n",
        "for col in client2_df.columns:\n",
        "    plt.figure(figsize=(12, 4))\n",
        "    plt.plot(client2_df.index, client2_df[col])\n",
        "    plt.title(col)\n",
        "    plt.xlabel('Data e Hora (datetime)')\n",
        "    plt.ylabel(col)\n",
        "    plt.grid(True)\n",
        "    plt.show()\n",
        "\n",
        "client2_df.info()"
      ]
    },
    {
      "cell_type": "code",
      "execution_count": null,
      "metadata": {},
      "outputs": [],
      "source": [
        "# ------------------------\n",
        "# Saving data as CSV file\n",
        "# ------------------------\n",
        "import os\n",
        "\n",
        "# output_dir = '/content/drive/MyDrive/Colab Notebooks/(Researchs)/IC - Pessoal/1 - Modelos (Datasets do INMET de Sorocaba e região)/Datasets tratados/2024'\n",
        "output_dir = 'Datasets tratados/2024'\n",
        "\n",
        "os.makedirs(output_dir, exist_ok=True)\n",
        "\n",
        "client2_df.to_csv(os.path.join(output_dir, 'Processed_Data_2024-Client-2_V0377_Ibiuna.csv'), index=False)"
      ]
    },
    {
      "cell_type": "markdown",
      "metadata": {},
      "source": [
        "# 3. Client- Dataset (Itu)⭐"
      ]
    },
    {
      "cell_type": "markdown",
      "metadata": {},
      "source": [
        "## Data collection and pre-processing"
      ]
    },
    {
      "cell_type": "code",
      "execution_count": null,
      "metadata": {},
      "outputs": [],
      "source": [
        "# --------------------------\n",
        "# Getting Clients dataset\n",
        "# -------------------------\n",
        "# Dataset path\n",
        "# file_path = '/content/drive/MyDrive/Colab Notebooks/(Researchs)/IC - Pessoal/1 - Modelos (Datasets do INMET de Sorocaba e região)/Datasets Brutos/Estacao_V0397 - Itu/2024/INMET_SE_SP_V0397_ITU-Dataset_01-01-2024_A_31-12-2024.csv'\n",
        "file_path = 'Datasets Brutos/Estacao_V0397 - Itu/2024/INMET_SE_SP_V0397_ITU-Dataset_01-01-2024_A_31-12-2024.csv'\n",
        "\n",
        "# Upload CSV file into DataFrame\n",
        "client3_df = pd.read_csv(file_path, encoding='latin-1', sep=';', decimal=',')"
      ]
    },
    {
      "cell_type": "code",
      "execution_count": null,
      "metadata": {},
      "outputs": [],
      "source": [
        "print(\"Dataframe format:\")\n",
        "print(f\" ↪Linhas: {client3_df.shape[0]} \\n ↪Colunas: {client3_df.shape[1]}\")\n",
        "\n",
        "print(\"\\n---\\n\")\n",
        "\n",
        "print(\"First 5 lines of the dataset:\")\n",
        "client3_df.head()"
      ]
    },
    {
      "cell_type": "code",
      "execution_count": null,
      "metadata": {},
      "outputs": [],
      "source": [
        "# Data general info\n",
        "print(\"General Dataset Information:\")\n",
        "print(client3_df.info())"
      ]
    },
    {
      "cell_type": "code",
      "execution_count": null,
      "metadata": {},
      "outputs": [],
      "source": [
        "print(\"Descriptive statistics:\")\n",
        "client3_df.describe()"
      ]
    },
    {
      "cell_type": "code",
      "execution_count": null,
      "metadata": {},
      "outputs": [],
      "source": [
        "# --------------------\n",
        "# Data Pre-Processing\n",
        "# --------------------\n",
        "\n",
        "# Replacing [0, 'Hora (UTC)'] value from '0' to '000'\n",
        "first_value = str(client3_df['Hora (UTC)'].iloc[0])\n",
        "modified_value = first_value.replace('0', '000', 1) if first_value == '0' else first_value\n",
        "client3_df.loc[0, 'Hora (UTC)'] = modified_value\n",
        "\n",
        "# Replacing ['Hora (UTC)'] column to fit '0' + 'Number' format\n",
        "client3_df['Hora (UTC)'] = client3_df['Hora (UTC)'].apply(lambda x: str(x).zfill(4))\n",
        "\n",
        "\n",
        "# Convert the UTC format to datetime format (only hour and minute)\n",
        "client3_df['Hora Datetime'] = pd.to_datetime(client3_df['Hora (UTC)'], format='%H%M').dt.time\n",
        "\n",
        "# Joining \"Data\" and \"Hora Datetime\" columns to create a \"Data e Hora Datetime\" column\n",
        "client3_df['Data e Hora (datetime)'] = client3_df['ï»¿\"Data\"'] + ' ' + client3_df['Hora Datetime'].astype(str)\n",
        "\n",
        "# Convert the \"Data e Hora (datetime)\" column to Datetime type\n",
        "client3_df['Data e Hora (datetime)'] = pd.to_datetime(client3_df['Data e Hora (datetime)'], format='%d/%m/%Y %H:%M:%S')\n",
        "\n",
        "client3_df['Data e Hora (datetime)'].head()\n"
      ]
    },
    {
      "cell_type": "code",
      "execution_count": null,
      "metadata": {},
      "outputs": [],
      "source": [
        "client3_df.head()"
      ]
    },
    {
      "cell_type": "code",
      "execution_count": null,
      "metadata": {},
      "outputs": [],
      "source": [
        "# Removing \"ï»¿\"Data\"\", \"Hora (UTC)\", \"Hora Datetime\" columns\n",
        "client3_df = client3_df.drop(columns=['ï»¿\"Data\"', 'Hora (UTC)', 'Hora Datetime'])\n",
        "# client3_df.head() # Displaying the head after dropping is not needed as it will be shown after inserting the column\n",
        "\n",
        "# Changing the position of the \"Data e Hora Datetime\" column in the dataframe\n",
        "column = 'Data e Hora (datetime)'\n",
        "removed_column = client3_df.pop(column)          # remove the column\n",
        "client3_df.insert(0, column, removed_column)     # insert the column in the new position\n",
        "\n",
        "# Display the DataFrame format and the resulting DataFrame\n",
        "print(\"DataFrame format:\")\n",
        "print(client3_df.shape)\n",
        "\n",
        "client3_df.head()"
      ]
    },
    {
      "cell_type": "code",
      "execution_count": null,
      "metadata": {},
      "outputs": [],
      "source": [
        "# Indexing of the 'Datetime' Date and Time\n",
        "client3_df.set_index('Data e Hora (datetime)', inplace=True)\n",
        "\n",
        "client3_df.head()"
      ]
    },
    {
      "cell_type": "code",
      "execution_count": null,
      "metadata": {},
      "outputs": [],
      "source": [
        "# Check missing values\n",
        "print(\"Amount of missing values per column:\")\n",
        "print(client3_df.isnull().sum())\n",
        "\n",
        "print(\"\\n --- \\n\")\n",
        "\n",
        "print(\"Percentage of missing values:\")\n",
        "print(client3_df.isnull().mean() * 100)"
      ]
    },
    {
      "cell_type": "code",
      "execution_count": null,
      "metadata": {},
      "outputs": [],
      "source": [
        "# Dropping columns with 100% missing values\n",
        "client3_df = client3_df.dropna(axis=1, how='all')\n",
        "\n",
        "# Check missing values\n",
        "print(\"Percentage of missing values:\")\n",
        "print(client3_df.isnull().mean() * 100)"
      ]
    },
    {
      "cell_type": "code",
      "execution_count": null,
      "metadata": {},
      "outputs": [],
      "source": [
        "# pd.set_option('display.max_rows', None)  # Mostra todas as linhas"
      ]
    },
    {
      "cell_type": "code",
      "execution_count": null,
      "metadata": {},
      "outputs": [],
      "source": [
        "client3_df.head()"
      ]
    },
    {
      "cell_type": "code",
      "execution_count": null,
      "metadata": {},
      "outputs": [],
      "source": [
        "# pd.set_option('display.max_columns', None)  # (Opcional) Mostra todas as colunas"
      ]
    },
    {
      "cell_type": "markdown",
      "metadata": {},
      "source": [
        "----- Visualization of Client-1 dataset -----"
      ]
    },
    {
      "cell_type": "code",
      "execution_count": null,
      "metadata": {},
      "outputs": [],
      "source": [
        "# Filters the data by interval\n",
        "client3_df_intervalo = client3_df.loc['2024-01-01 00:00:00':'2024-02-28 00:00:00']"
      ]
    },
    {
      "cell_type": "code",
      "execution_count": null,
      "metadata": {},
      "outputs": [],
      "source": [
        "# ------------------------------------\n",
        "# For January and February only\n",
        "# ------------------------------------\n",
        "\n",
        "# Creating subplots manually with adjustments\n",
        "fig, axes = plt.subplots(nrows=4, ncols=1, figsize=(12, 25), gridspec_kw={'height_ratios': [5, 5, 5, 5]})       # `height_ratios` defines the relative heights of the subplots\n",
        "\n",
        "# Adding plots individually\n",
        "client3_df_intervalo.plot(y=client3_df_intervalo.columns[3], ax=axes[0], color='red', legend=True, title=client3_df_intervalo.columns[3])\n",
        "client3_df_intervalo.plot(y=client3_df_intervalo.columns[0], ax=axes[1], color='purple', legend=True, title=client3_df_intervalo.columns[0])\n",
        "client3_df_intervalo.plot(y=client3_df_intervalo.columns[1], ax=axes[2], color='green', legend=True, title=client3_df_intervalo.columns[1])\n",
        "client3_df_intervalo.plot(y=client3_df_intervalo.columns[2], ax=axes[3], color='orange', legend=True, title=client3_df_intervalo.columns[2])\n",
        "\n",
        "# Iterate over each subplot\n",
        "for ax in axes:\n",
        "  ax.grid(axis='y')             # Activate grid for the y-axis\n",
        "  ax.legend(loc='upper right')  # Move legend to the upper right corner\n",
        "\n",
        "# Adjusting axis labels\n",
        "axes[0].set_ylabel(client3_df_intervalo.columns[3])\n",
        "axes[1].set_ylabel(client3_df_intervalo.columns[0])\n",
        "axes[2].set_ylabel(client3_df_intervalo.columns[1])\n",
        "axes[3].set_ylabel(client3_df_intervalo.columns[2])\n",
        "#axes[3].set_xlabel('Date and Time')  # Only the last plot needs an X-axis label\n",
        "\n",
        "# Adjusting spacing between plots\n",
        "plt.tight_layout()  # Adjust spacing between subplots\n",
        "plt.show()"
      ]
    },
    {
      "cell_type": "code",
      "execution_count": null,
      "metadata": {},
      "outputs": [],
      "source": [
        "# ------------------------------------\n",
        "# All data period \n",
        "# ------------------------------------\n",
        "\n",
        "# Creating subplots manually with adjustments\n",
        "fig, axes = plt.subplots(nrows=4, ncols=1, figsize=(12, 25), gridspec_kw={'height_ratios': [5, 5, 5, 5]})       # `height_ratios` defines the relative heights of the subplots\n",
        "\n",
        "# Adding plots individually\n",
        "client3_df.plot(y=client3_df.columns[3], ax=axes[0], color='red', legend=True, title=client3_df.columns[3])\n",
        "client3_df.plot(y=client3_df.columns[0], ax=axes[1], color='purple', legend=True, title=client3_df.columns[0])\n",
        "client3_df.plot(y=client3_df.columns[1], ax=axes[2], color='green', legend=True, title=client3_df.columns[1])\n",
        "client3_df.plot(y=client3_df.columns[2], ax=axes[3], color='orange', legend=True, title=client3_df.columns[2])\n",
        "\n",
        "# Iterate over each subplot\n",
        "for ax in axes:\n",
        "  ax.grid(axis='y')             # Activate grid for the y-axis\n",
        "  ax.legend(loc='upper right')  # Move legend to the upper right corner\n",
        "\n",
        "# Adjusting axis labels\n",
        "axes[0].set_ylabel(client3_df.columns[3])\n",
        "axes[1].set_ylabel(client3_df.columns[0])\n",
        "axes[2].set_ylabel(client3_df.columns[1])\n",
        "axes[3].set_ylabel(client3_df.columns[2])\n",
        "#axes[3].set_xlabel('Date and Time')  # Only the last plot needs an X-axis label\n",
        "\n",
        "# Adjusting spacing between plots\n",
        "plt.tight_layout()  # Adjust spacing between subplots\n",
        "plt.show()"
      ]
    },
    {
      "cell_type": "code",
      "execution_count": null,
      "metadata": {},
      "outputs": [],
      "source": [
        "# Fill missing values (~=5%) performing the interpolation only on columns with NaN\n",
        "for column in client3_df.columns:\n",
        "    if client3_df[column].isnull().any():\n",
        "        client3_df[column] = client3_df[column].interpolate(method='linear')  # Interpolação linear"
      ]
    },
    {
      "cell_type": "code",
      "execution_count": null,
      "metadata": {},
      "outputs": [],
      "source": [
        "# Check missing values\n",
        "print(\"Amount of missing values per column:\")\n",
        "print(client3_df.isnull().sum())\n",
        "\n",
        "print(\"\\n --- \\n\")\n",
        "\n",
        "print(\"Percentage of missing values:\")\n",
        "print(client3_df.isnull().mean() * 100)"
      ]
    },
    {
      "cell_type": "markdown",
      "metadata": {},
      "source": [
        "Checking the main features visually"
      ]
    },
    {
      "cell_type": "code",
      "execution_count": null,
      "metadata": {},
      "outputs": [],
      "source": [
        "# Filters the data by interval\n",
        "client3_df_intervalo = client3_df.loc['2024-01-01 00:00:00':'2024-02-28 00:00:00']"
      ]
    },
    {
      "cell_type": "code",
      "execution_count": null,
      "metadata": {},
      "outputs": [],
      "source": [
        "# ------------------------------------\n",
        "# For January and February only\n",
        "# ------------------------------------\n",
        "\n",
        "# Creating subplots manually with adjustments\n",
        "fig, axes = plt.subplots(nrows=4, ncols=1, figsize=(12, 25), gridspec_kw={'height_ratios': [5, 5, 5, 5]})       # `height_ratios` defines the relative heights of the subplots\n",
        "\n",
        "# Adding plots individually\n",
        "client3_df_intervalo.plot(y=client3_df_intervalo.columns[3], ax=axes[0], color='red', legend=True, title=client3_df_intervalo.columns[3])\n",
        "client3_df_intervalo.plot(y=client3_df_intervalo.columns[0], ax=axes[1], color='purple', legend=True, title=client3_df_intervalo.columns[0])\n",
        "client3_df_intervalo.plot(y=client3_df_intervalo.columns[1], ax=axes[2], color='green', legend=True, title=client3_df_intervalo.columns[1])\n",
        "client3_df_intervalo.plot(y=client3_df_intervalo.columns[2], ax=axes[3], color='orange', legend=True, title=client3_df_intervalo.columns[2])\n",
        "\n",
        "# Iterate over each subplot\n",
        "for ax in axes:\n",
        "  ax.grid(axis='y')             # Activate grid for the y-axis\n",
        "  ax.legend(loc='upper right')  # Move legend to the upper right corner\n",
        "\n",
        "# Adjusting axis labels\n",
        "axes[0].set_ylabel(client3_df_intervalo.columns[3])\n",
        "axes[1].set_ylabel(client3_df_intervalo.columns[0])\n",
        "axes[2].set_ylabel(client3_df_intervalo.columns[1])\n",
        "axes[3].set_ylabel(client3_df_intervalo.columns[2])\n",
        "#axes[3].set_xlabel('Date and Time')  # Only the last plot needs an X-axis label\n",
        "\n",
        "# Adjusting spacing between plots\n",
        "plt.tight_layout()  # Adjust spacing between subplots\n",
        "plt.show()"
      ]
    },
    {
      "cell_type": "code",
      "execution_count": null,
      "metadata": {},
      "outputs": [],
      "source": [
        "# ------------------------------------\n",
        "# For All period\n",
        "# ------------------------------------\n",
        "\n",
        "# Creating subplots manually with adjustments\n",
        "fig, axes = plt.subplots(nrows=4, ncols=1, figsize=(12, 25), gridspec_kw={'height_ratios': [5, 5, 5, 5]})       # `height_ratios` defines the relative heights of the subplots\n",
        "\n",
        "# Adding plots individually\n",
        "client3_df.plot(y=client3_df.columns[3], ax=axes[0], color='red', legend=True, title=client3_df.columns[3])\n",
        "client3_df.plot(y=client3_df.columns[0], ax=axes[1], color='purple', legend=True, title=client3_df.columns[0])\n",
        "client3_df.plot(y=client3_df.columns[1], ax=axes[2], color='green', legend=True, title=client3_df.columns[1])\n",
        "client3_df.plot(y=client3_df.columns[2], ax=axes[3], color='orange', legend=True, title=client3_df.columns[2])\n",
        "\n",
        "# Iterate over each subplot\n",
        "for ax in axes:\n",
        "  ax.grid(axis='y')             # Activate grid for the y-axis\n",
        "  ax.legend(loc='upper right')  # Move legend to the upper right corner\n",
        "\n",
        "# Adjusting axis labels\n",
        "axes[0].set_ylabel(client3_df.columns[3])\n",
        "axes[1].set_ylabel(client3_df.columns[0])\n",
        "axes[2].set_ylabel(client3_df.columns[1])\n",
        "axes[3].set_ylabel(client3_df.columns[2])\n",
        "#axes[3].set_xlabel('Date and Time')  # Only the last plot needs an X-axis label\n",
        "\n",
        "# Adjusting spacing between plots\n",
        "plt.tight_layout()  # Adjust spacing between subplots\n",
        "plt.show()"
      ]
    },
    {
      "cell_type": "markdown",
      "metadata": {},
      "source": [
        "## Target feature and implementation of Sliding Window"
      ]
    },
    {
      "cell_type": "code",
      "execution_count": null,
      "metadata": {},
      "outputs": [],
      "source": [
        "client3_df.head()"
      ]
    },
    {
      "cell_type": "code",
      "execution_count": null,
      "metadata": {},
      "outputs": [],
      "source": [
        "# Changing the position of the \"Data e Hora Datetime\" column in the dataframe\n",
        "column = 'Chuva (mm)'\n",
        "removed_column = client3_df.pop(column)          # remove the column\n",
        "client3_df.insert(0, column, removed_column)     # insert the column in the new position\n",
        "\n",
        "# Display the DataFrame format and the resulting DataFrame\n",
        "print(\"DataFrame format:\")\n",
        "print(client3_df.shape)\n",
        "\n",
        "client3_df.head()"
      ]
    },
    {
      "cell_type": "code",
      "execution_count": null,
      "metadata": {},
      "outputs": [],
      "source": [
        "# ----------------------------------------------------------------------\n",
        "# Creating the Target feature 'Chuva (mm) (t+1)'\n",
        "# ----------------------------------------------------------------------\n",
        "\n",
        "client3_df['Chuva (mm) (t+1)'] = client3_df['Chuva (mm)'].shift(-1)\n",
        "\n",
        "# Shift the new target column to the beginning of the DataFrame\n",
        "target_column = 'Chuva (mm) (t+1)'\n",
        "removed_target_column = client3_df.pop(target_column)\n",
        "client3_df.insert(0, target_column, removed_target_column)\n",
        "\n",
        "# Remove NaN value from target\n",
        "client3_df.dropna(subset=['Chuva (mm) (t+1)'], inplace=True)\n",
        "\n",
        "client3_df.tail()"
      ]
    },
    {
      "cell_type": "markdown",
      "metadata": {},
      "source": [
        "## Saving data as `.csv`"
      ]
    },
    {
      "cell_type": "code",
      "execution_count": null,
      "metadata": {},
      "outputs": [],
      "source": [
        "# ------------------------\n",
        "# Showing Dataset features\n",
        "# ------------------------\n",
        "\n",
        "# Plota cada coluna individualmente\n",
        "for col in client3_df.columns:\n",
        "    plt.figure(figsize=(12, 4))\n",
        "    plt.plot(client3_df.index, client3_df[col])\n",
        "    plt.title(col)\n",
        "    plt.xlabel('Data e Hora (datetime)')\n",
        "    plt.ylabel(col)\n",
        "    plt.grid(True)\n",
        "    plt.show()\n",
        "\n",
        "client3_df.info()"
      ]
    },
    {
      "cell_type": "code",
      "execution_count": null,
      "metadata": {},
      "outputs": [],
      "source": [
        "# ------------------------\n",
        "# Saving data as CSV file\n",
        "# ------------------------\n",
        "import os\n",
        "\n",
        "# output_dir = '/content/drive/MyDrive/Colab Notebooks/(Researchs)/IC - Pessoal/1 - Modelos (Datasets do INMET de Sorocaba e região)/Datasets tratados/2024'\n",
        "output_dir = 'Datasets tratados/2024'\n",
        "\n",
        "os.makedirs(output_dir, exist_ok=True)\n",
        "\n",
        "client3_df.to_csv(os.path.join(output_dir, 'Processed_Data_2024-Client-3_V0397_Itu.csv'), index=False)"
      ]
    },
    {
      "cell_type": "markdown",
      "metadata": {},
      "source": [
        "# 4. Client- Dataset (Piedade-ETEC)⭐"
      ]
    },
    {
      "cell_type": "markdown",
      "metadata": {},
      "source": [
        "## Data collection and pre-processing"
      ]
    },
    {
      "cell_type": "code",
      "execution_count": null,
      "metadata": {},
      "outputs": [],
      "source": [
        "# --------------------------\n",
        "# Getting Clients dataset\n",
        "# -------------------------\n",
        "# Dataset path\n",
        "# file_path = '/content/drive/MyDrive/Colab Notebooks/(Researchs)/IC - Pessoal/1 - Modelos (Datasets do INMET de Sorocaba e região)/Datasets Brutos/Estacao_V0455 - Piedade-ETEC/2024/INMET_SE_SP_V0455_PIEDADE-ETEC-Dataset_01-01-2024_A_31-12-202.csv'\n",
        "file_path = 'Datasets Brutos/Estacao_V0455 - Piedade-ETEC/2024/INMET_SE_SP_V0455_PIEDADE-ETEC-Dataset_01-01-2024_A_31-12-202.csv'\n",
        "\n",
        "# Upload CSV file into DataFrame\n",
        "client_df = pd.read_csv(file_path, encoding='latin-1', sep=';', decimal=',')"
      ]
    },
    {
      "cell_type": "code",
      "execution_count": null,
      "metadata": {},
      "outputs": [],
      "source": [
        "print(\"Dataframe format:\")\n",
        "print(f\" ↪Linhas: {client_df.shape[0]} \\n ↪Colunas: {client_df.shape[1]}\")\n",
        "\n",
        "print(\"\\n---\\n\")\n",
        "\n",
        "print(\"First 5 lines of the dataset:\")\n",
        "client_df.head()"
      ]
    },
    {
      "cell_type": "code",
      "execution_count": null,
      "metadata": {},
      "outputs": [],
      "source": [
        "# Data general info\n",
        "print(\"General Dataset Information:\")\n",
        "print(client_df.info())"
      ]
    },
    {
      "cell_type": "code",
      "execution_count": null,
      "metadata": {},
      "outputs": [],
      "source": [
        "print(\"Descriptive statistics:\")\n",
        "client_df.describe()"
      ]
    },
    {
      "cell_type": "code",
      "execution_count": null,
      "metadata": {},
      "outputs": [],
      "source": [
        "# --------------------\n",
        "# Data Pre-Processing\n",
        "# --------------------\n",
        "\n",
        "# Replacing [0, 'Hora (UTC)'] value from '0' to '000'\n",
        "first_value = str(client_df['Hora (UTC)'].iloc[0])\n",
        "modified_value = first_value.replace('0', '000', 1) if first_value == '0' else first_value\n",
        "client_df.loc[0, 'Hora (UTC)'] = modified_value\n",
        "\n",
        "# Replacing ['Hora (UTC)'] column to fit '0' + 'Number' format\n",
        "client_df['Hora (UTC)'] = client_df['Hora (UTC)'].apply(lambda x: str(x).zfill(4))\n",
        "\n",
        "\n",
        "# Convert the UTC format to datetime format (only hour and minute)\n",
        "client_df['Hora Datetime'] = pd.to_datetime(client_df['Hora (UTC)'], format='%H%M').dt.time\n",
        "\n",
        "# Joining \"Data\" and \"Hora Datetime\" columns to create a \"Data e Hora Datetime\" column\n",
        "client_df['Data e Hora (datetime)'] = client_df['ï»¿\"Data\"'] + ' ' + client_df['Hora Datetime'].astype(str)\n",
        "\n",
        "# Convert the \"Data e Hora (datetime)\" column to Datetime type\n",
        "client_df['Data e Hora (datetime)'] = pd.to_datetime(client_df['Data e Hora (datetime)'], format='%d/%m/%Y %H:%M:%S')\n",
        "\n",
        "client_df['Data e Hora (datetime)'].head()\n"
      ]
    },
    {
      "cell_type": "code",
      "execution_count": null,
      "metadata": {},
      "outputs": [],
      "source": [
        "client_df.head()"
      ]
    },
    {
      "cell_type": "code",
      "execution_count": null,
      "metadata": {},
      "outputs": [],
      "source": [
        "# Removing \"ï»¿\"Data\"\", \"Hora (UTC)\", \"Hora Datetime\" columns\n",
        "client_df = client_df.drop(columns=['ï»¿\"Data\"', 'Hora (UTC)', 'Hora Datetime'])\n",
        "# client_df.head() # Displaying the head after dropping is not needed as it will be shown after inserting the column\n",
        "\n",
        "# Changing the position of the \"Data e Hora Datetime\" column in the dataframe\n",
        "column = 'Data e Hora (datetime)'\n",
        "removed_column = client_df.pop(column)          # remove the column\n",
        "client_df.insert(0, column, removed_column)     # insert the column in the new position\n",
        "\n",
        "# Display the DataFrame format and the resulting DataFrame\n",
        "print(\"DataFrame format:\")\n",
        "print(client_df.shape)\n",
        "\n",
        "client_df.head()"
      ]
    },
    {
      "cell_type": "code",
      "execution_count": null,
      "metadata": {},
      "outputs": [],
      "source": [
        "# Indexing of the 'Datetime' Date and Time\n",
        "client_df.set_index('Data e Hora (datetime)', inplace=True)\n",
        "\n",
        "client_df.head()"
      ]
    },
    {
      "cell_type": "code",
      "execution_count": null,
      "metadata": {},
      "outputs": [],
      "source": [
        "# Check missing values\n",
        "print(\"Amount of missing values per column:\")\n",
        "print(client_df.isnull().sum())\n",
        "\n",
        "print(\"\\n --- \\n\")\n",
        "\n",
        "print(\"Percentage of missing values:\")\n",
        "print(client_df.isnull().mean() * 100)"
      ]
    },
    {
      "cell_type": "code",
      "execution_count": null,
      "metadata": {},
      "outputs": [],
      "source": [
        "# Dropping columns with 100% missing values\n",
        "client_df = client_df.dropna(axis=1, how='all')\n",
        "\n",
        "# Check missing values\n",
        "print(\"Percentage of missing values:\")\n",
        "print(client_df.isnull().mean() * 100)"
      ]
    },
    {
      "cell_type": "code",
      "execution_count": null,
      "metadata": {},
      "outputs": [],
      "source": [
        "# pd.set_option('display.max_rows', None)  # Mostra todas as linhas"
      ]
    },
    {
      "cell_type": "code",
      "execution_count": null,
      "metadata": {},
      "outputs": [],
      "source": [
        "client_df.head()"
      ]
    },
    {
      "cell_type": "code",
      "execution_count": null,
      "metadata": {},
      "outputs": [],
      "source": [
        "# pd.set_option('display.max_columns', None)  # (Opcional) Mostra todas as colunas"
      ]
    },
    {
      "cell_type": "markdown",
      "metadata": {},
      "source": [
        "----- Visualization of Client-1 dataset -----"
      ]
    },
    {
      "cell_type": "code",
      "execution_count": null,
      "metadata": {},
      "outputs": [],
      "source": [
        "# Filters the data by interval\n",
        "client_df_intervalo = client_df.loc['2024-01-01 00:00:00':'2024-02-28 00:00:00']"
      ]
    },
    {
      "cell_type": "code",
      "execution_count": null,
      "metadata": {},
      "outputs": [],
      "source": [
        "# ------------------------------------\n",
        "# For January and February only\n",
        "# ------------------------------------\n",
        "\n",
        "# Creating subplots manually with adjustments\n",
        "fig, axes = plt.subplots(nrows=4, ncols=1, figsize=(12, 25), gridspec_kw={'height_ratios': [5, 5, 5, 5]})       # `height_ratios` defines the relative heights of the subplots\n",
        "\n",
        "# Adding plots individually\n",
        "client_df_intervalo.plot(y=client_df_intervalo.columns[3], ax=axes[0], color='red', legend=True, title=client_df_intervalo.columns[3])\n",
        "client_df_intervalo.plot(y=client_df_intervalo.columns[0], ax=axes[1], color='purple', legend=True, title=client_df_intervalo.columns[0])\n",
        "client_df_intervalo.plot(y=client_df_intervalo.columns[1], ax=axes[2], color='green', legend=True, title=client_df_intervalo.columns[1])\n",
        "client_df_intervalo.plot(y=client_df_intervalo.columns[2], ax=axes[3], color='orange', legend=True, title=client_df_intervalo.columns[2])\n",
        "\n",
        "# Iterate over each subplot\n",
        "for ax in axes:\n",
        "  ax.grid(axis='y')             # Activate grid for the y-axis\n",
        "  ax.legend(loc='upper right')  # Move legend to the upper right corner\n",
        "\n",
        "# Adjusting axis labels\n",
        "axes[0].set_ylabel(client_df_intervalo.columns[3])\n",
        "axes[1].set_ylabel(client_df_intervalo.columns[0])\n",
        "axes[2].set_ylabel(client_df_intervalo.columns[1])\n",
        "axes[3].set_ylabel(client_df_intervalo.columns[2])\n",
        "#axes[3].set_xlabel('Date and Time')  # Only the last plot needs an X-axis label\n",
        "\n",
        "# Adjusting spacing between plots\n",
        "plt.tight_layout()  # Adjust spacing between subplots\n",
        "plt.show()"
      ]
    },
    {
      "cell_type": "code",
      "execution_count": null,
      "metadata": {},
      "outputs": [],
      "source": [
        "# ------------------------------------\n",
        "# All data period \n",
        "# ------------------------------------\n",
        "\n",
        "# Creating subplots manually with adjustments\n",
        "fig, axes = plt.subplots(nrows=4, ncols=1, figsize=(12, 25), gridspec_kw={'height_ratios': [5, 5, 5, 5]})       # `height_ratios` defines the relative heights of the subplots\n",
        "\n",
        "# Adding plots individually\n",
        "client_df.plot(y=client_df.columns[3], ax=axes[0], color='red', legend=True, title=client_df.columns[3])\n",
        "client_df.plot(y=client_df.columns[0], ax=axes[1], color='purple', legend=True, title=client_df.columns[0])\n",
        "client_df.plot(y=client_df.columns[1], ax=axes[2], color='green', legend=True, title=client_df.columns[1])\n",
        "client_df.plot(y=client_df.columns[2], ax=axes[3], color='orange', legend=True, title=client_df.columns[2])\n",
        "\n",
        "# Iterate over each subplot\n",
        "for ax in axes:\n",
        "  ax.grid(axis='y')             # Activate grid for the y-axis\n",
        "  ax.legend(loc='upper right')  # Move legend to the upper right corner\n",
        "\n",
        "# Adjusting axis labels\n",
        "axes[0].set_ylabel(client_df.columns[3])\n",
        "axes[1].set_ylabel(client_df.columns[0])\n",
        "axes[2].set_ylabel(client_df.columns[1])\n",
        "axes[3].set_ylabel(client_df.columns[2])\n",
        "#axes[3].set_xlabel('Date and Time')  # Only the last plot needs an X-axis label\n",
        "\n",
        "# Adjusting spacing between plots\n",
        "plt.tight_layout()  # Adjust spacing between subplots\n",
        "plt.show()"
      ]
    },
    {
      "cell_type": "code",
      "execution_count": null,
      "metadata": {},
      "outputs": [],
      "source": [
        "# Fill missing values (~=5%) performing the interpolation only on columns with NaN\n",
        "for column in client_df.columns:\n",
        "    if client_df[column].isnull().any():\n",
        "        client_df[column] = client_df[column].interpolate(method='linear')  # Interpolação linear"
      ]
    },
    {
      "cell_type": "code",
      "execution_count": null,
      "metadata": {},
      "outputs": [],
      "source": [
        "# Check missing values\n",
        "print(\"Amount of missing values per column:\")\n",
        "print(client_df.isnull().sum())\n",
        "\n",
        "print(\"\\n --- \\n\")\n",
        "\n",
        "print(\"Percentage of missing values:\")\n",
        "print(client_df.isnull().mean() * 100)"
      ]
    },
    {
      "cell_type": "markdown",
      "metadata": {},
      "source": [
        "Checking the main features visually"
      ]
    },
    {
      "cell_type": "code",
      "execution_count": null,
      "metadata": {},
      "outputs": [],
      "source": [
        "# Filters the data by interval\n",
        "client_df_intervalo = client_df.loc['2024-01-01 00:00:00':'2024-02-28 00:00:00']"
      ]
    },
    {
      "cell_type": "code",
      "execution_count": null,
      "metadata": {},
      "outputs": [],
      "source": [
        "# ------------------------------------\n",
        "# For January and February only\n",
        "# ------------------------------------\n",
        "\n",
        "# Creating subplots manually with adjustments\n",
        "fig, axes = plt.subplots(nrows=4, ncols=1, figsize=(12, 25), gridspec_kw={'height_ratios': [5, 5, 5, 5]})       # `height_ratios` defines the relative heights of the subplots\n",
        "\n",
        "# Adding plots individually\n",
        "client_df_intervalo.plot(y=client_df_intervalo.columns[3], ax=axes[0], color='red', legend=True, title=client_df_intervalo.columns[3])\n",
        "client_df_intervalo.plot(y=client_df_intervalo.columns[0], ax=axes[1], color='purple', legend=True, title=client_df_intervalo.columns[0])\n",
        "client_df_intervalo.plot(y=client_df_intervalo.columns[1], ax=axes[2], color='green', legend=True, title=client_df_intervalo.columns[1])\n",
        "client_df_intervalo.plot(y=client_df_intervalo.columns[2], ax=axes[3], color='orange', legend=True, title=client_df_intervalo.columns[2])\n",
        "\n",
        "# Iterate over each subplot\n",
        "for ax in axes:\n",
        "  ax.grid(axis='y')             # Activate grid for the y-axis\n",
        "  ax.legend(loc='upper right')  # Move legend to the upper right corner\n",
        "\n",
        "# Adjusting axis labels\n",
        "axes[0].set_ylabel(client_df_intervalo.columns[3])\n",
        "axes[1].set_ylabel(client_df_intervalo.columns[0])\n",
        "axes[2].set_ylabel(client_df_intervalo.columns[1])\n",
        "axes[3].set_ylabel(client_df_intervalo.columns[2])\n",
        "#axes[3].set_xlabel('Date and Time')  # Only the last plot needs an X-axis label\n",
        "\n",
        "# Adjusting spacing between plots\n",
        "plt.tight_layout()  # Adjust spacing between subplots\n",
        "plt.show()"
      ]
    },
    {
      "cell_type": "code",
      "execution_count": null,
      "metadata": {},
      "outputs": [],
      "source": [
        "# ------------------------------------\n",
        "# For All period\n",
        "# ------------------------------------\n",
        "\n",
        "# Creating subplots manually with adjustments\n",
        "fig, axes = plt.subplots(nrows=4, ncols=1, figsize=(12, 25), gridspec_kw={'height_ratios': [5, 5, 5, 5]})       # `height_ratios` defines the relative heights of the subplots\n",
        "\n",
        "# Adding plots individually\n",
        "client_df.plot(y=client_df.columns[3], ax=axes[0], color='red', legend=True, title=client_df.columns[3])\n",
        "client_df.plot(y=client_df.columns[0], ax=axes[1], color='purple', legend=True, title=client_df.columns[0])\n",
        "client_df.plot(y=client_df.columns[1], ax=axes[2], color='green', legend=True, title=client_df.columns[1])\n",
        "client_df.plot(y=client_df.columns[2], ax=axes[3], color='orange', legend=True, title=client_df.columns[2])\n",
        "\n",
        "# Iterate over each subplot\n",
        "for ax in axes:\n",
        "  ax.grid(axis='y')             # Activate grid for the y-axis\n",
        "  ax.legend(loc='upper right')  # Move legend to the upper right corner\n",
        "\n",
        "# Adjusting axis labels\n",
        "axes[0].set_ylabel(client_df.columns[3])\n",
        "axes[1].set_ylabel(client_df.columns[0])\n",
        "axes[2].set_ylabel(client_df.columns[1])\n",
        "axes[3].set_ylabel(client_df.columns[2])\n",
        "#axes[3].set_xlabel('Date and Time')  # Only the last plot needs an X-axis label\n",
        "\n",
        "# Adjusting spacing between plots\n",
        "plt.tight_layout()  # Adjust spacing between subplots\n",
        "plt.show()"
      ]
    },
    {
      "cell_type": "markdown",
      "metadata": {},
      "source": [
        "## Target feature and implementation of Sliding Window"
      ]
    },
    {
      "cell_type": "code",
      "execution_count": null,
      "metadata": {},
      "outputs": [],
      "source": [
        "client_df.head()"
      ]
    },
    {
      "cell_type": "code",
      "execution_count": null,
      "metadata": {},
      "outputs": [],
      "source": [
        "# Changing the position of the \"Data e Hora Datetime\" column in the dataframe\n",
        "column = 'Chuva (mm)'\n",
        "removed_column = client_df.pop(column)          # remove the column\n",
        "client_df.insert(0, column, removed_column)     # insert the column in the new position\n",
        "\n",
        "# Display the DataFrame format and the resulting DataFrame\n",
        "print(\"DataFrame format:\")\n",
        "print(client_df.shape)\n",
        "\n",
        "client_df.head()"
      ]
    },
    {
      "cell_type": "code",
      "execution_count": null,
      "metadata": {},
      "outputs": [],
      "source": [
        "# ----------------------------------------------------------------------\n",
        "# Creating the Target feature 'Chuva (mm) (t+1)'\n",
        "# ----------------------------------------------------------------------\n",
        "\n",
        "client_df['Chuva (mm) (t+1)'] = client_df['Chuva (mm)'].shift(-1)\n",
        "\n",
        "# Shift the new target column to the beginning of the DataFrame\n",
        "target_column = 'Chuva (mm) (t+1)'\n",
        "removed_target_column = client_df.pop(target_column)\n",
        "client_df.insert(0, target_column, removed_target_column)\n",
        "\n",
        "# Remove NaN value from target\n",
        "client_df.dropna(subset=['Chuva (mm) (t+1)'], inplace=True)\n",
        "\n",
        "client_df.tail()"
      ]
    },
    {
      "cell_type": "markdown",
      "metadata": {},
      "source": [
        "## Saving data as `.csv`"
      ]
    },
    {
      "cell_type": "code",
      "execution_count": null,
      "metadata": {},
      "outputs": [],
      "source": [
        "# ------------------------\n",
        "# Showing Dataset features\n",
        "# ------------------------\n",
        "\n",
        "# Plota cada coluna individualmente\n",
        "for col in client_df.columns:\n",
        "    plt.figure(figsize=(12, 4))\n",
        "    plt.plot(client_df.index, client_df[col])\n",
        "    plt.title(col)\n",
        "    plt.xlabel('Data e Hora (datetime)')\n",
        "    plt.ylabel(col)\n",
        "    plt.grid(True)\n",
        "    plt.show()\n",
        "\n",
        "client_df.info()"
      ]
    },
    {
      "cell_type": "code",
      "execution_count": null,
      "metadata": {},
      "outputs": [],
      "source": [
        "# ------------------------\n",
        "# Saving data as CSV file\n",
        "# ------------------------\n",
        "import os\n",
        "\n",
        "# output_dir = '/content/drive/MyDrive/Colab Notebooks/(Researchs)/IC - Pessoal/1 - Modelos (Datasets do INMET de Sorocaba e região)/Datasets tratados/2024'\n",
        "output_dir = 'Datasets tratados/2024'\n",
        "\n",
        "os.makedirs(output_dir, exist_ok=True)\n",
        "\n",
        "client_df.to_csv(os.path.join(output_dir, 'Processed_Data_2024-Client-4_V0455_Piedade-ETEC.csv'), index=False)\n"
      ]
    },
    {
      "cell_type": "markdown",
      "metadata": {},
      "source": [
        "# 5. Client- Dataset (Porto Feliz)⭐"
      ]
    },
    {
      "cell_type": "markdown",
      "metadata": {},
      "source": [
        "## Data collection and pre-processing"
      ]
    },
    {
      "cell_type": "code",
      "execution_count": null,
      "metadata": {},
      "outputs": [],
      "source": [
        "# --------------------------\n",
        "# Getting Clients dataset\n",
        "# -------------------------\n",
        "# Dataset path\n",
        "# file_path = '/content/drive/MyDrive/Colab Notebooks/(Researchs)/IC - Pessoal/1 - Modelos (Datasets do INMET de Sorocaba e região)/Datasets Brutos/Estacao_V0462 - Porto Feliz/2024/INMET_SE_SP_V0462_PORTO_FELIZ-Dataset_01-01-2024_A_31-12-2024.csv'\n",
        "file_path = 'Datasets Brutos/Estacao_V0462 - Porto Feliz/2024/INMET_SE_SP_V0462_PORTO_FELIZ-Dataset_01-01-2024_A_31-12-2024.csv'\n",
        "\n",
        "# Upload CSV file into DataFrame\n",
        "client_df = pd.read_csv(file_path, encoding='latin-1', sep=';', decimal=',')"
      ]
    },
    {
      "cell_type": "code",
      "execution_count": null,
      "metadata": {},
      "outputs": [],
      "source": [
        "print(\"Dataframe format:\")\n",
        "print(f\" ↪Linhas: {client_df.shape[0]} \\n ↪Colunas: {client_df.shape[1]}\")\n",
        "\n",
        "print(\"\\n---\\n\")\n",
        "\n",
        "print(\"First 5 lines of the dataset:\")\n",
        "client_df.head()"
      ]
    },
    {
      "cell_type": "code",
      "execution_count": null,
      "metadata": {},
      "outputs": [],
      "source": [
        "# Data general info\n",
        "print(\"General Dataset Information:\")\n",
        "print(client_df.info())"
      ]
    },
    {
      "cell_type": "code",
      "execution_count": null,
      "metadata": {},
      "outputs": [],
      "source": [
        "print(\"Descriptive statistics:\")\n",
        "client_df.describe()"
      ]
    },
    {
      "cell_type": "code",
      "execution_count": null,
      "metadata": {},
      "outputs": [],
      "source": [
        "# --------------------\n",
        "# Data Pre-Processing\n",
        "# --------------------\n",
        "\n",
        "# Replacing [0, 'Hora (UTC)'] value from '0' to '000'\n",
        "first_value = str(client_df['Hora (UTC)'].iloc[0])\n",
        "modified_value = first_value.replace('0', '000', 1) if first_value == '0' else first_value\n",
        "client_df.loc[0, 'Hora (UTC)'] = modified_value\n",
        "\n",
        "# Replacing ['Hora (UTC)'] column to fit '0' + 'Number' format\n",
        "client_df['Hora (UTC)'] = client_df['Hora (UTC)'].apply(lambda x: str(x).zfill(4))\n",
        "\n",
        "\n",
        "# Convert the UTC format to datetime format (only hour and minute)\n",
        "client_df['Hora Datetime'] = pd.to_datetime(client_df['Hora (UTC)'], format='%H%M').dt.time\n",
        "\n",
        "# Joining \"Data\" and \"Hora Datetime\" columns to create a \"Data e Hora Datetime\" column\n",
        "client_df['Data e Hora (datetime)'] = client_df['ï»¿\"Data\"'] + ' ' + client_df['Hora Datetime'].astype(str)\n",
        "\n",
        "# Convert the \"Data e Hora (datetime)\" column to Datetime type\n",
        "client_df['Data e Hora (datetime)'] = pd.to_datetime(client_df['Data e Hora (datetime)'], format='%d/%m/%Y %H:%M:%S')\n",
        "\n",
        "client_df['Data e Hora (datetime)'].head()\n"
      ]
    },
    {
      "cell_type": "code",
      "execution_count": null,
      "metadata": {},
      "outputs": [],
      "source": [
        "client_df.head()"
      ]
    },
    {
      "cell_type": "code",
      "execution_count": null,
      "metadata": {},
      "outputs": [],
      "source": [
        "# Removing \"ï»¿\"Data\"\", \"Hora (UTC)\", \"Hora Datetime\" columns\n",
        "client_df = client_df.drop(columns=['ï»¿\"Data\"', 'Hora (UTC)', 'Hora Datetime'])\n",
        "# client_df.head() # Displaying the head after dropping is not needed as it will be shown after inserting the column\n",
        "\n",
        "# Changing the position of the \"Data e Hora Datetime\" column in the dataframe\n",
        "column = 'Data e Hora (datetime)'\n",
        "removed_column = client_df.pop(column)          # remove the column\n",
        "client_df.insert(0, column, removed_column)     # insert the column in the new position\n",
        "\n",
        "# Display the DataFrame format and the resulting DataFrame\n",
        "print(\"DataFrame format:\")\n",
        "print(client_df.shape)\n",
        "\n",
        "client_df.head()"
      ]
    },
    {
      "cell_type": "code",
      "execution_count": null,
      "metadata": {},
      "outputs": [],
      "source": [
        "# Indexing of the 'Datetime' Date and Time\n",
        "client_df.set_index('Data e Hora (datetime)', inplace=True)\n",
        "\n",
        "client_df.head()"
      ]
    },
    {
      "cell_type": "code",
      "execution_count": null,
      "metadata": {},
      "outputs": [],
      "source": [
        "# Check missing values\n",
        "print(\"Amount of missing values per column:\")\n",
        "print(client_df.isnull().sum())\n",
        "\n",
        "print(\"\\n --- \\n\")\n",
        "\n",
        "print(\"Percentage of missing values:\")\n",
        "print(client_df.isnull().mean() * 100)"
      ]
    },
    {
      "cell_type": "code",
      "execution_count": null,
      "metadata": {},
      "outputs": [],
      "source": [
        "# Dropping columns with 100% missing values\n",
        "client_df = client_df.dropna(axis=1, how='all')\n",
        "\n",
        "# Check missing values\n",
        "print(\"Percentage of missing values:\")\n",
        "print(client_df.isnull().mean() * 100)"
      ]
    },
    {
      "cell_type": "code",
      "execution_count": null,
      "metadata": {},
      "outputs": [],
      "source": [
        "# pd.set_option('display.max_rows', None)  # Mostra todas as linhas"
      ]
    },
    {
      "cell_type": "code",
      "execution_count": null,
      "metadata": {},
      "outputs": [],
      "source": [
        "client_df.head()"
      ]
    },
    {
      "cell_type": "code",
      "execution_count": null,
      "metadata": {},
      "outputs": [],
      "source": [
        "# pd.set_option('display.max_columns', None)  # (Opcional) Mostra todas as colunas"
      ]
    },
    {
      "cell_type": "markdown",
      "metadata": {},
      "source": [
        "----- Visualization of Client-1 dataset -----"
      ]
    },
    {
      "cell_type": "code",
      "execution_count": null,
      "metadata": {},
      "outputs": [],
      "source": [
        "# Filters the data by interval\n",
        "client_df_intervalo = client_df.loc['2024-01-01 00:00:00':'2024-02-28 00:00:00']"
      ]
    },
    {
      "cell_type": "code",
      "execution_count": null,
      "metadata": {},
      "outputs": [],
      "source": [
        "# ------------------------------------\n",
        "# For January and February only\n",
        "# ------------------------------------\n",
        "\n",
        "# Creating subplots manually with adjustments\n",
        "fig, axes = plt.subplots(nrows=4, ncols=1, figsize=(12, 25), gridspec_kw={'height_ratios': [5, 5, 5, 5]})       # `height_ratios` defines the relative heights of the subplots\n",
        "\n",
        "# Adding plots individually\n",
        "client_df_intervalo.plot(y=client_df_intervalo.columns[3], ax=axes[0], color='red', legend=True, title=client_df_intervalo.columns[3])\n",
        "client_df_intervalo.plot(y=client_df_intervalo.columns[0], ax=axes[1], color='purple', legend=True, title=client_df_intervalo.columns[0])\n",
        "client_df_intervalo.plot(y=client_df_intervalo.columns[1], ax=axes[2], color='green', legend=True, title=client_df_intervalo.columns[1])\n",
        "client_df_intervalo.plot(y=client_df_intervalo.columns[2], ax=axes[3], color='orange', legend=True, title=client_df_intervalo.columns[2])\n",
        "\n",
        "# Iterate over each subplot\n",
        "for ax in axes:\n",
        "  ax.grid(axis='y')             # Activate grid for the y-axis\n",
        "  ax.legend(loc='upper right')  # Move legend to the upper right corner\n",
        "\n",
        "# Adjusting axis labels\n",
        "axes[0].set_ylabel(client_df_intervalo.columns[3])\n",
        "axes[1].set_ylabel(client_df_intervalo.columns[0])\n",
        "axes[2].set_ylabel(client_df_intervalo.columns[1])\n",
        "axes[3].set_ylabel(client_df_intervalo.columns[2])\n",
        "#axes[3].set_xlabel('Date and Time')  # Only the last plot needs an X-axis label\n",
        "\n",
        "# Adjusting spacing between plots\n",
        "plt.tight_layout()  # Adjust spacing between subplots\n",
        "plt.show()"
      ]
    },
    {
      "cell_type": "code",
      "execution_count": null,
      "metadata": {},
      "outputs": [],
      "source": [
        "# ------------------------------------\n",
        "# All data period \n",
        "# ------------------------------------\n",
        "\n",
        "# Creating subplots manually with adjustments\n",
        "fig, axes = plt.subplots(nrows=4, ncols=1, figsize=(12, 25), gridspec_kw={'height_ratios': [5, 5, 5, 5]})       # `height_ratios` defines the relative heights of the subplots\n",
        "\n",
        "# Adding plots individually\n",
        "client_df.plot(y=client_df.columns[3], ax=axes[0], color='red', legend=True, title=client_df.columns[3])\n",
        "client_df.plot(y=client_df.columns[0], ax=axes[1], color='purple', legend=True, title=client_df.columns[0])\n",
        "client_df.plot(y=client_df.columns[1], ax=axes[2], color='green', legend=True, title=client_df.columns[1])\n",
        "client_df.plot(y=client_df.columns[2], ax=axes[3], color='orange', legend=True, title=client_df.columns[2])\n",
        "\n",
        "# Iterate over each subplot\n",
        "for ax in axes:\n",
        "  ax.grid(axis='y')             # Activate grid for the y-axis\n",
        "  ax.legend(loc='upper right')  # Move legend to the upper right corner\n",
        "\n",
        "# Adjusting axis labels\n",
        "axes[0].set_ylabel(client_df.columns[3])\n",
        "axes[1].set_ylabel(client_df.columns[0])\n",
        "axes[2].set_ylabel(client_df.columns[1])\n",
        "axes[3].set_ylabel(client_df.columns[2])\n",
        "#axes[3].set_xlabel('Date and Time')  # Only the last plot needs an X-axis label\n",
        "\n",
        "# Adjusting spacing between plots\n",
        "plt.tight_layout()  # Adjust spacing between subplots\n",
        "plt.show()"
      ]
    },
    {
      "cell_type": "code",
      "execution_count": null,
      "metadata": {},
      "outputs": [],
      "source": [
        "# Fill missing values (~=5%) performing the interpolation only on columns with NaN\n",
        "for column in client_df.columns:\n",
        "    if client_df[column].isnull().any():\n",
        "        client_df[column] = client_df[column].interpolate(method='linear')  # Interpolação linear"
      ]
    },
    {
      "cell_type": "code",
      "execution_count": null,
      "metadata": {},
      "outputs": [],
      "source": [
        "# Check missing values\n",
        "print(\"Amount of missing values per column:\")\n",
        "print(client_df.isnull().sum())\n",
        "\n",
        "print(\"\\n --- \\n\")\n",
        "\n",
        "print(\"Percentage of missing values:\")\n",
        "print(client_df.isnull().mean() * 100)"
      ]
    },
    {
      "cell_type": "markdown",
      "metadata": {},
      "source": [
        "Checking the main features visually"
      ]
    },
    {
      "cell_type": "code",
      "execution_count": null,
      "metadata": {},
      "outputs": [],
      "source": [
        "# Filters the data by interval\n",
        "client_df_intervalo = client_df.loc['2024-01-01 00:00:00':'2024-02-28 00:00:00']"
      ]
    },
    {
      "cell_type": "code",
      "execution_count": null,
      "metadata": {},
      "outputs": [],
      "source": [
        "# ------------------------------------\n",
        "# For January and February only\n",
        "# ------------------------------------\n",
        "\n",
        "# Creating subplots manually with adjustments\n",
        "fig, axes = plt.subplots(nrows=4, ncols=1, figsize=(12, 25), gridspec_kw={'height_ratios': [5, 5, 5, 5]})       # `height_ratios` defines the relative heights of the subplots\n",
        "\n",
        "# Adding plots individually\n",
        "client_df_intervalo.plot(y=client_df_intervalo.columns[3], ax=axes[0], color='red', legend=True, title=client_df_intervalo.columns[3])\n",
        "client_df_intervalo.plot(y=client_df_intervalo.columns[0], ax=axes[1], color='purple', legend=True, title=client_df_intervalo.columns[0])\n",
        "client_df_intervalo.plot(y=client_df_intervalo.columns[1], ax=axes[2], color='green', legend=True, title=client_df_intervalo.columns[1])\n",
        "client_df_intervalo.plot(y=client_df_intervalo.columns[2], ax=axes[3], color='orange', legend=True, title=client_df_intervalo.columns[2])\n",
        "\n",
        "# Iterate over each subplot\n",
        "for ax in axes:\n",
        "  ax.grid(axis='y')             # Activate grid for the y-axis\n",
        "  ax.legend(loc='upper right')  # Move legend to the upper right corner\n",
        "\n",
        "# Adjusting axis labels\n",
        "axes[0].set_ylabel(client_df_intervalo.columns[3])\n",
        "axes[1].set_ylabel(client_df_intervalo.columns[0])\n",
        "axes[2].set_ylabel(client_df_intervalo.columns[1])\n",
        "axes[3].set_ylabel(client_df_intervalo.columns[2])\n",
        "#axes[3].set_xlabel('Date and Time')  # Only the last plot needs an X-axis label\n",
        "\n",
        "# Adjusting spacing between plots\n",
        "plt.tight_layout()  # Adjust spacing between subplots\n",
        "plt.show()"
      ]
    },
    {
      "cell_type": "code",
      "execution_count": null,
      "metadata": {},
      "outputs": [],
      "source": [
        "# ------------------------------------\n",
        "# For All period\n",
        "# ------------------------------------\n",
        "\n",
        "# Creating subplots manually with adjustments\n",
        "fig, axes = plt.subplots(nrows=4, ncols=1, figsize=(12, 25), gridspec_kw={'height_ratios': [5, 5, 5, 5]})       # `height_ratios` defines the relative heights of the subplots\n",
        "\n",
        "# Adding plots individually\n",
        "client_df.plot(y=client_df.columns[3], ax=axes[0], color='red', legend=True, title=client_df.columns[3])\n",
        "client_df.plot(y=client_df.columns[0], ax=axes[1], color='purple', legend=True, title=client_df.columns[0])\n",
        "client_df.plot(y=client_df.columns[1], ax=axes[2], color='green', legend=True, title=client_df.columns[1])\n",
        "client_df.plot(y=client_df.columns[2], ax=axes[3], color='orange', legend=True, title=client_df.columns[2])\n",
        "\n",
        "# Iterate over each subplot\n",
        "for ax in axes:\n",
        "  ax.grid(axis='y')             # Activate grid for the y-axis\n",
        "  ax.legend(loc='upper right')  # Move legend to the upper right corner\n",
        "\n",
        "# Adjusting axis labels\n",
        "axes[0].set_ylabel(client_df.columns[3])\n",
        "axes[1].set_ylabel(client_df.columns[0])\n",
        "axes[2].set_ylabel(client_df.columns[1])\n",
        "axes[3].set_ylabel(client_df.columns[2])\n",
        "#axes[3].set_xlabel('Date and Time')  # Only the last plot needs an X-axis label\n",
        "\n",
        "# Adjusting spacing between plots\n",
        "plt.tight_layout()  # Adjust spacing between subplots\n",
        "plt.show()"
      ]
    },
    {
      "cell_type": "markdown",
      "metadata": {},
      "source": [
        "## Target feature and implementation of Sliding Window"
      ]
    },
    {
      "cell_type": "code",
      "execution_count": null,
      "metadata": {},
      "outputs": [],
      "source": [
        "client_df.head()"
      ]
    },
    {
      "cell_type": "code",
      "execution_count": null,
      "metadata": {},
      "outputs": [],
      "source": [
        "# Changing the position of the \"Data e Hora Datetime\" column in the dataframe\n",
        "column = 'Chuva (mm)'\n",
        "removed_column = client_df.pop(column)          # remove the column\n",
        "client_df.insert(0, column, removed_column)     # insert the column in the new position\n",
        "\n",
        "# Display the DataFrame format and the resulting DataFrame\n",
        "print(\"DataFrame format:\")\n",
        "print(client_df.shape)\n",
        "\n",
        "client_df.head()"
      ]
    },
    {
      "cell_type": "code",
      "execution_count": null,
      "metadata": {},
      "outputs": [],
      "source": [
        "# ----------------------------------------------------------------------\n",
        "# Creating the Target feature 'Chuva (mm) (t+1)'\n",
        "# ----------------------------------------------------------------------\n",
        "\n",
        "client_df['Chuva (mm) (t+1)'] = client_df['Chuva (mm)'].shift(-1)\n",
        "\n",
        "# Shift the new target column to the beginning of the DataFrame\n",
        "target_column = 'Chuva (mm) (t+1)'\n",
        "removed_target_column = client_df.pop(target_column)\n",
        "client_df.insert(0, target_column, removed_target_column)\n",
        "\n",
        "# Remove NaN value from target\n",
        "client_df.dropna(subset=['Chuva (mm) (t+1)'], inplace=True)\n",
        "\n",
        "client_df.tail()"
      ]
    },
    {
      "cell_type": "markdown",
      "metadata": {},
      "source": [
        "## Saving data as `.csv`"
      ]
    },
    {
      "cell_type": "code",
      "execution_count": null,
      "metadata": {},
      "outputs": [],
      "source": [
        "# ------------------------\n",
        "# Showing Dataset features\n",
        "# ------------------------\n",
        "\n",
        "# Plota cada coluna individualmente\n",
        "for col in client_df.columns:\n",
        "    plt.figure(figsize=(12, 4))\n",
        "    plt.plot(client_df.index, client_df[col])\n",
        "    plt.title(col)\n",
        "    plt.xlabel('Data e Hora (datetime)')\n",
        "    plt.ylabel(col)\n",
        "    plt.grid(True)\n",
        "    plt.show()\n",
        "\n",
        "client_df.info()"
      ]
    },
    {
      "cell_type": "code",
      "execution_count": null,
      "metadata": {},
      "outputs": [],
      "source": [
        "# ------------------------\n",
        "# Saving data as CSV file\n",
        "# ------------------------\n",
        "import os\n",
        "\n",
        "# output_dir = '/content/drive/MyDrive/Colab Notebooks/(Researchs)/IC - Pessoal/1 - Modelos (Datasets do INMET de Sorocaba e região)/Datasets tratados/2024'\n",
        "output_dir = 'Datasets tratados/2024'\n",
        "\n",
        "os.makedirs(output_dir, exist_ok=True)\n",
        "\n",
        "client_df.to_csv(os.path.join(output_dir, 'Processed_Data_2024-Client-5_V0462_Porto_Feliz.csv'), index=False)\n"
      ]
    },
    {
      "cell_type": "markdown",
      "metadata": {},
      "source": [
        "# 6. Client- Dataset (Sarapui)⭐"
      ]
    },
    {
      "cell_type": "markdown",
      "metadata": {},
      "source": [
        "## Data collection and pre-processing"
      ]
    },
    {
      "cell_type": "code",
      "execution_count": null,
      "metadata": {},
      "outputs": [],
      "source": [
        "# --------------------------\n",
        "# Getting Clients dataset\n",
        "# -------------------------\n",
        "# Dataset path\n",
        "# file_path = '/content/drive/MyDrive/Colab Notebooks/(Researchs)/IC - Pessoal/1 - Modelos (Datasets do INMET de Sorocaba e região)/Datasets Brutos/Estacao_V0492 - Sarapui/2024/INMET_SE_SP_V0492_SARAPUI-Dataset_01-01-2024_A_31-12-2024.csv'\n",
        "file_path = 'Datasets Brutos/Estacao_V0492 - Sarapui/2024/INMET_SE_SP_V0492_SARAPUI-Dataset_01-01-2024_A_31-12-2024.csv'\n",
        "\n",
        "# Upload CSV file into DataFrame\n",
        "client_df = pd.read_csv(file_path, encoding='latin-1', sep=';', decimal=',')"
      ]
    },
    {
      "cell_type": "code",
      "execution_count": null,
      "metadata": {},
      "outputs": [],
      "source": [
        "print(\"Dataframe format:\")\n",
        "print(f\" ↪Linhas: {client_df.shape[0]} \\n ↪Colunas: {client_df.shape[1]}\")\n",
        "\n",
        "print(\"\\n---\\n\")\n",
        "\n",
        "print(\"First 5 lines of the dataset:\")\n",
        "client_df.head()"
      ]
    },
    {
      "cell_type": "code",
      "execution_count": null,
      "metadata": {},
      "outputs": [],
      "source": [
        "# Data general info\n",
        "print(\"General Dataset Information:\")\n",
        "print(client_df.info())"
      ]
    },
    {
      "cell_type": "code",
      "execution_count": null,
      "metadata": {},
      "outputs": [],
      "source": [
        "print(\"Descriptive statistics:\")\n",
        "client_df.describe()"
      ]
    },
    {
      "cell_type": "code",
      "execution_count": null,
      "metadata": {},
      "outputs": [],
      "source": [
        "# --------------------\n",
        "# Data Pre-Processing\n",
        "# --------------------\n",
        "\n",
        "# Replacing [0, 'Hora (UTC)'] value from '0' to '000'\n",
        "first_value = str(client_df['Hora (UTC)'].iloc[0])\n",
        "modified_value = first_value.replace('0', '000', 1) if first_value == '0' else first_value\n",
        "client_df.loc[0, 'Hora (UTC)'] = modified_value\n",
        "\n",
        "# Replacing ['Hora (UTC)'] column to fit '0' + 'Number' format\n",
        "client_df['Hora (UTC)'] = client_df['Hora (UTC)'].apply(lambda x: str(x).zfill(4))\n",
        "\n",
        "\n",
        "# Convert the UTC format to datetime format (only hour and minute)\n",
        "client_df['Hora Datetime'] = pd.to_datetime(client_df['Hora (UTC)'], format='%H%M').dt.time\n",
        "\n",
        "# Joining \"Data\" and \"Hora Datetime\" columns to create a \"Data e Hora Datetime\" column\n",
        "client_df['Data e Hora (datetime)'] = client_df['ï»¿\"Data\"'] + ' ' + client_df['Hora Datetime'].astype(str)\n",
        "\n",
        "# Convert the \"Data e Hora (datetime)\" column to Datetime type\n",
        "client_df['Data e Hora (datetime)'] = pd.to_datetime(client_df['Data e Hora (datetime)'], format='%d/%m/%Y %H:%M:%S')\n",
        "\n",
        "client_df['Data e Hora (datetime)'].head()\n"
      ]
    },
    {
      "cell_type": "code",
      "execution_count": null,
      "metadata": {},
      "outputs": [],
      "source": [
        "client_df.head()"
      ]
    },
    {
      "cell_type": "code",
      "execution_count": null,
      "metadata": {},
      "outputs": [],
      "source": [
        "# Removing \"ï»¿\"Data\"\", \"Hora (UTC)\", \"Hora Datetime\" columns\n",
        "client_df = client_df.drop(columns=['ï»¿\"Data\"', 'Hora (UTC)', 'Hora Datetime'])\n",
        "# client_df.head() # Displaying the head after dropping is not needed as it will be shown after inserting the column\n",
        "\n",
        "# Changing the position of the \"Data e Hora Datetime\" column in the dataframe\n",
        "column = 'Data e Hora (datetime)'\n",
        "removed_column = client_df.pop(column)          # remove the column\n",
        "client_df.insert(0, column, removed_column)     # insert the column in the new position\n",
        "\n",
        "# Display the DataFrame format and the resulting DataFrame\n",
        "print(\"DataFrame format:\")\n",
        "print(client_df.shape)\n",
        "\n",
        "client_df.head()"
      ]
    },
    {
      "cell_type": "code",
      "execution_count": null,
      "metadata": {},
      "outputs": [],
      "source": [
        "# Indexing of the 'Datetime' Date and Time\n",
        "client_df.set_index('Data e Hora (datetime)', inplace=True)\n",
        "\n",
        "client_df.head()"
      ]
    },
    {
      "cell_type": "code",
      "execution_count": null,
      "metadata": {},
      "outputs": [],
      "source": [
        "# Check missing values\n",
        "print(\"Amount of missing values per column:\")\n",
        "print(client_df.isnull().sum())\n",
        "\n",
        "print(\"\\n --- \\n\")\n",
        "\n",
        "print(\"Percentage of missing values:\")\n",
        "print(client_df.isnull().mean() * 100)"
      ]
    },
    {
      "cell_type": "code",
      "execution_count": null,
      "metadata": {},
      "outputs": [],
      "source": [
        "# Dropping columns with 100% missing values\n",
        "client_df = client_df.dropna(axis=1, how='all')\n",
        "\n",
        "# Check missing values\n",
        "print(\"Percentage of missing values:\")\n",
        "print(client_df.isnull().mean() * 100)"
      ]
    },
    {
      "cell_type": "code",
      "execution_count": null,
      "metadata": {},
      "outputs": [],
      "source": [
        "# pd.set_option('display.max_rows', None)  # Mostra todas as linhas"
      ]
    },
    {
      "cell_type": "code",
      "execution_count": null,
      "metadata": {},
      "outputs": [],
      "source": [
        "client_df.head()"
      ]
    },
    {
      "cell_type": "code",
      "execution_count": null,
      "metadata": {},
      "outputs": [],
      "source": [
        "# pd.set_option('display.max_columns', None)  # (Opcional) Mostra todas as colunas"
      ]
    },
    {
      "cell_type": "markdown",
      "metadata": {},
      "source": [
        "----- Visualization of Client-1 dataset -----"
      ]
    },
    {
      "cell_type": "code",
      "execution_count": null,
      "metadata": {},
      "outputs": [],
      "source": [
        "# Filters the data by interval\n",
        "client_df_intervalo = client_df.loc['2024-01-01 00:00:00':'2024-02-28 00:00:00']"
      ]
    },
    {
      "cell_type": "code",
      "execution_count": null,
      "metadata": {},
      "outputs": [],
      "source": [
        "# ------------------------------------\n",
        "# For January and February only\n",
        "# ------------------------------------\n",
        "\n",
        "# Creating subplots manually with adjustments\n",
        "fig, axes = plt.subplots(nrows=4, ncols=1, figsize=(12, 25), gridspec_kw={'height_ratios': [5, 5, 5, 5]})       # `height_ratios` defines the relative heights of the subplots\n",
        "\n",
        "# Adding plots individually\n",
        "client_df_intervalo.plot(y=client_df_intervalo.columns[3], ax=axes[0], color='red', legend=True, title=client_df_intervalo.columns[3])\n",
        "client_df_intervalo.plot(y=client_df_intervalo.columns[0], ax=axes[1], color='purple', legend=True, title=client_df_intervalo.columns[0])\n",
        "client_df_intervalo.plot(y=client_df_intervalo.columns[1], ax=axes[2], color='green', legend=True, title=client_df_intervalo.columns[1])\n",
        "client_df_intervalo.plot(y=client_df_intervalo.columns[2], ax=axes[3], color='orange', legend=True, title=client_df_intervalo.columns[2])\n",
        "\n",
        "# Iterate over each subplot\n",
        "for ax in axes:\n",
        "  ax.grid(axis='y')             # Activate grid for the y-axis\n",
        "  ax.legend(loc='upper right')  # Move legend to the upper right corner\n",
        "\n",
        "# Adjusting axis labels\n",
        "axes[0].set_ylabel(client_df_intervalo.columns[3])\n",
        "axes[1].set_ylabel(client_df_intervalo.columns[0])\n",
        "axes[2].set_ylabel(client_df_intervalo.columns[1])\n",
        "axes[3].set_ylabel(client_df_intervalo.columns[2])\n",
        "#axes[3].set_xlabel('Date and Time')  # Only the last plot needs an X-axis label\n",
        "\n",
        "# Adjusting spacing between plots\n",
        "plt.tight_layout()  # Adjust spacing between subplots\n",
        "plt.show()"
      ]
    },
    {
      "cell_type": "code",
      "execution_count": null,
      "metadata": {},
      "outputs": [],
      "source": [
        "# ------------------------------------\n",
        "# All data period \n",
        "# ------------------------------------\n",
        "\n",
        "# Creating subplots manually with adjustments\n",
        "fig, axes = plt.subplots(nrows=4, ncols=1, figsize=(12, 25), gridspec_kw={'height_ratios': [5, 5, 5, 5]})       # `height_ratios` defines the relative heights of the subplots\n",
        "\n",
        "# Adding plots individually\n",
        "client_df.plot(y=client_df.columns[3], ax=axes[0], color='red', legend=True, title=client_df.columns[3])\n",
        "client_df.plot(y=client_df.columns[0], ax=axes[1], color='purple', legend=True, title=client_df.columns[0])\n",
        "client_df.plot(y=client_df.columns[1], ax=axes[2], color='green', legend=True, title=client_df.columns[1])\n",
        "client_df.plot(y=client_df.columns[2], ax=axes[3], color='orange', legend=True, title=client_df.columns[2])\n",
        "\n",
        "# Iterate over each subplot\n",
        "for ax in axes:\n",
        "  ax.grid(axis='y')             # Activate grid for the y-axis\n",
        "  ax.legend(loc='upper right')  # Move legend to the upper right corner\n",
        "\n",
        "# Adjusting axis labels\n",
        "axes[0].set_ylabel(client_df.columns[3])\n",
        "axes[1].set_ylabel(client_df.columns[0])\n",
        "axes[2].set_ylabel(client_df.columns[1])\n",
        "axes[3].set_ylabel(client_df.columns[2])\n",
        "#axes[3].set_xlabel('Date and Time')  # Only the last plot needs an X-axis label\n",
        "\n",
        "# Adjusting spacing between plots\n",
        "plt.tight_layout()  # Adjust spacing between subplots\n",
        "plt.show()"
      ]
    },
    {
      "cell_type": "code",
      "execution_count": null,
      "metadata": {},
      "outputs": [],
      "source": [
        "# Fill missing values (~=5%) performing the interpolation only on columns with NaN\n",
        "for column in client_df.columns:\n",
        "    if client_df[column].isnull().any():\n",
        "        client_df[column] = client_df[column].interpolate(method='linear')  # Interpolação linear"
      ]
    },
    {
      "cell_type": "code",
      "execution_count": null,
      "metadata": {},
      "outputs": [],
      "source": [
        "# Check missing values\n",
        "print(\"Amount of missing values per column:\")\n",
        "print(client_df.isnull().sum())\n",
        "\n",
        "print(\"\\n --- \\n\")\n",
        "\n",
        "print(\"Percentage of missing values:\")\n",
        "print(client_df.isnull().mean() * 100)"
      ]
    },
    {
      "cell_type": "markdown",
      "metadata": {},
      "source": [
        "Checking the main features visually"
      ]
    },
    {
      "cell_type": "code",
      "execution_count": null,
      "metadata": {},
      "outputs": [],
      "source": [
        "# Filters the data by interval\n",
        "client_df_intervalo = client_df.loc['2024-01-01 00:00:00':'2024-02-28 00:00:00']"
      ]
    },
    {
      "cell_type": "code",
      "execution_count": null,
      "metadata": {},
      "outputs": [],
      "source": [
        "# ------------------------------------\n",
        "# For January and February only\n",
        "# ------------------------------------\n",
        "\n",
        "# Creating subplots manually with adjustments\n",
        "fig, axes = plt.subplots(nrows=4, ncols=1, figsize=(12, 25), gridspec_kw={'height_ratios': [5, 5, 5, 5]})       # `height_ratios` defines the relative heights of the subplots\n",
        "\n",
        "# Adding plots individually\n",
        "client_df_intervalo.plot(y=client_df_intervalo.columns[3], ax=axes[0], color='red', legend=True, title=client_df_intervalo.columns[3])\n",
        "client_df_intervalo.plot(y=client_df_intervalo.columns[0], ax=axes[1], color='purple', legend=True, title=client_df_intervalo.columns[0])\n",
        "client_df_intervalo.plot(y=client_df_intervalo.columns[1], ax=axes[2], color='green', legend=True, title=client_df_intervalo.columns[1])\n",
        "client_df_intervalo.plot(y=client_df_intervalo.columns[2], ax=axes[3], color='orange', legend=True, title=client_df_intervalo.columns[2])\n",
        "\n",
        "# Iterate over each subplot\n",
        "for ax in axes:\n",
        "  ax.grid(axis='y')             # Activate grid for the y-axis\n",
        "  ax.legend(loc='upper right')  # Move legend to the upper right corner\n",
        "\n",
        "# Adjusting axis labels\n",
        "axes[0].set_ylabel(client_df_intervalo.columns[3])\n",
        "axes[1].set_ylabel(client_df_intervalo.columns[0])\n",
        "axes[2].set_ylabel(client_df_intervalo.columns[1])\n",
        "axes[3].set_ylabel(client_df_intervalo.columns[2])\n",
        "#axes[3].set_xlabel('Date and Time')  # Only the last plot needs an X-axis label\n",
        "\n",
        "# Adjusting spacing between plots\n",
        "plt.tight_layout()  # Adjust spacing between subplots\n",
        "plt.show()"
      ]
    },
    {
      "cell_type": "code",
      "execution_count": null,
      "metadata": {},
      "outputs": [],
      "source": [
        "# ------------------------------------\n",
        "# For All period\n",
        "# ------------------------------------\n",
        "\n",
        "# Creating subplots manually with adjustments\n",
        "fig, axes = plt.subplots(nrows=4, ncols=1, figsize=(12, 25), gridspec_kw={'height_ratios': [5, 5, 5, 5]})       # `height_ratios` defines the relative heights of the subplots\n",
        "\n",
        "# Adding plots individually\n",
        "client_df.plot(y=client_df.columns[3], ax=axes[0], color='red', legend=True, title=client_df.columns[3])\n",
        "client_df.plot(y=client_df.columns[0], ax=axes[1], color='purple', legend=True, title=client_df.columns[0])\n",
        "client_df.plot(y=client_df.columns[1], ax=axes[2], color='green', legend=True, title=client_df.columns[1])\n",
        "client_df.plot(y=client_df.columns[2], ax=axes[3], color='orange', legend=True, title=client_df.columns[2])\n",
        "\n",
        "# Iterate over each subplot\n",
        "for ax in axes:\n",
        "  ax.grid(axis='y')             # Activate grid for the y-axis\n",
        "  ax.legend(loc='upper right')  # Move legend to the upper right corner\n",
        "\n",
        "# Adjusting axis labels\n",
        "axes[0].set_ylabel(client_df.columns[3])\n",
        "axes[1].set_ylabel(client_df.columns[0])\n",
        "axes[2].set_ylabel(client_df.columns[1])\n",
        "axes[3].set_ylabel(client_df.columns[2])\n",
        "#axes[3].set_xlabel('Date and Time')  # Only the last plot needs an X-axis label\n",
        "\n",
        "# Adjusting spacing between plots\n",
        "plt.tight_layout()  # Adjust spacing between subplots\n",
        "plt.show()"
      ]
    },
    {
      "cell_type": "markdown",
      "metadata": {},
      "source": [
        "## Target feature and implementation of Sliding Window"
      ]
    },
    {
      "cell_type": "code",
      "execution_count": null,
      "metadata": {},
      "outputs": [],
      "source": [
        "client_df.head()"
      ]
    },
    {
      "cell_type": "code",
      "execution_count": null,
      "metadata": {},
      "outputs": [],
      "source": [
        "# Changing the position of the \"Data e Hora Datetime\" column in the dataframe\n",
        "column = 'Chuva (mm)'\n",
        "removed_column = client_df.pop(column)          # remove the column\n",
        "client_df.insert(0, column, removed_column)     # insert the column in the new position\n",
        "\n",
        "# Display the DataFrame format and the resulting DataFrame\n",
        "print(\"DataFrame format:\")\n",
        "print(client_df.shape)\n",
        "\n",
        "client_df.head()"
      ]
    },
    {
      "cell_type": "code",
      "execution_count": null,
      "metadata": {},
      "outputs": [],
      "source": [
        "# ----------------------------------------------------------------------\n",
        "# Creating the Target feature 'Chuva (mm) (t+1)'\n",
        "# ----------------------------------------------------------------------\n",
        "\n",
        "client_df['Chuva (mm) (t+1)'] = client_df['Chuva (mm)'].shift(-1)\n",
        "\n",
        "# Shift the new target column to the beginning of the DataFrame\n",
        "target_column = 'Chuva (mm) (t+1)'\n",
        "removed_target_column = client_df.pop(target_column)\n",
        "client_df.insert(0, target_column, removed_target_column)\n",
        "\n",
        "# Remove NaN value from target\n",
        "client_df.dropna(subset=['Chuva (mm) (t+1)'], inplace=True)\n",
        "\n",
        "client_df.tail()"
      ]
    },
    {
      "cell_type": "markdown",
      "metadata": {},
      "source": [
        "## Saving data as `.csv`"
      ]
    },
    {
      "cell_type": "code",
      "execution_count": null,
      "metadata": {},
      "outputs": [],
      "source": [
        "# ------------------------\n",
        "# Showing Dataset features\n",
        "# ------------------------\n",
        "\n",
        "# Plota cada coluna individualmente\n",
        "for col in client_df.columns:\n",
        "    plt.figure(figsize=(12, 4))\n",
        "    plt.plot(client_df.index, client_df[col])\n",
        "    plt.title(col)\n",
        "    plt.xlabel('Data e Hora (datetime)')\n",
        "    plt.ylabel(col)\n",
        "    plt.grid(True)\n",
        "    plt.show()\n",
        "\n",
        "client_df.info()"
      ]
    },
    {
      "cell_type": "code",
      "execution_count": null,
      "metadata": {},
      "outputs": [],
      "source": [
        "# ------------------------\n",
        "# Saving data as CSV file\n",
        "# ------------------------\n",
        "import os\n",
        "\n",
        "# output_dir = '/content/drive/MyDrive/Colab Notebooks/(Researchs)/IC - Pessoal/1 - Modelos (Datasets do INMET de Sorocaba e região)/Datasets tratados/2024'\n",
        "output_dir = 'Datasets tratados/2024'\n",
        "\n",
        "os.makedirs(output_dir, exist_ok=True)\n",
        "\n",
        "client_df.to_csv(os.path.join(output_dir, 'Processed_Data_2024-Client-6_V0492_Sarapui.csv'), index=False)\n"
      ]
    },
    {
      "cell_type": "markdown",
      "metadata": {},
      "source": [
        "# 7. Client- Dataset (Sorocaba)⭐"
      ]
    },
    {
      "cell_type": "markdown",
      "metadata": {},
      "source": [
        "## Data collection and pre-processing"
      ]
    },
    {
      "cell_type": "code",
      "execution_count": null,
      "metadata": {},
      "outputs": [],
      "source": [
        "# --------------------------\n",
        "# Getting Clients dataset\n",
        "# -------------------------\n",
        "# Dataset path\n",
        "# file_path = '/content/drive/MyDrive/Colab Notebooks/(Researchs)/IC - Pessoal/1 - Modelos (Datasets do INMET de Sorocaba e região)/Datasets Brutos/Estacao_V0498 - Sorocaba/2024/INMET_SE_SP_V0498_SOROCABA-Dataset_01-01-2024_A_31-12-2024.csv'\n",
        "file_path = 'Datasets Brutos/Estacao_V0498 - Sorocaba/2024/INMET_SE_SP_V0498_SOROCABA-Dataset_01-01-2024_A_31-12-2024.csv'\n",
        "\n",
        "# Upload CSV file into DataFrame\n",
        "client_df = pd.read_csv(file_path, encoding='latin-1', sep=';', decimal=',')"
      ]
    },
    {
      "cell_type": "code",
      "execution_count": null,
      "metadata": {},
      "outputs": [],
      "source": [
        "print(\"Dataframe format:\")\n",
        "print(f\" ↪Linhas: {client_df.shape[0]} \\n ↪Colunas: {client_df.shape[1]}\")\n",
        "\n",
        "print(\"\\n---\\n\")\n",
        "\n",
        "print(\"First 5 lines of the dataset:\")\n",
        "client_df.head()"
      ]
    },
    {
      "cell_type": "code",
      "execution_count": null,
      "metadata": {},
      "outputs": [],
      "source": [
        "# Data general info\n",
        "print(\"General Dataset Information:\")\n",
        "print(client_df.info())"
      ]
    },
    {
      "cell_type": "code",
      "execution_count": null,
      "metadata": {},
      "outputs": [],
      "source": [
        "print(\"Descriptive statistics:\")\n",
        "client_df.describe()"
      ]
    },
    {
      "cell_type": "code",
      "execution_count": null,
      "metadata": {},
      "outputs": [],
      "source": [
        "# --------------------\n",
        "# Data Pre-Processing\n",
        "# --------------------\n",
        "\n",
        "# Replacing [0, 'Hora (UTC)'] value from '0' to '000'\n",
        "first_value = str(client_df['Hora (UTC)'].iloc[0])\n",
        "modified_value = first_value.replace('0', '000', 1) if first_value == '0' else first_value\n",
        "client_df.loc[0, 'Hora (UTC)'] = modified_value\n",
        "\n",
        "# Replacing ['Hora (UTC)'] column to fit '0' + 'Number' format\n",
        "client_df['Hora (UTC)'] = client_df['Hora (UTC)'].apply(lambda x: str(x).zfill(4))\n",
        "\n",
        "\n",
        "# Convert the UTC format to datetime format (only hour and minute)\n",
        "client_df['Hora Datetime'] = pd.to_datetime(client_df['Hora (UTC)'], format='%H%M').dt.time\n",
        "\n",
        "# Joining \"Data\" and \"Hora Datetime\" columns to create a \"Data e Hora Datetime\" column\n",
        "client_df['Data e Hora (datetime)'] = client_df['ï»¿\"Data\"'] + ' ' + client_df['Hora Datetime'].astype(str)\n",
        "\n",
        "# Convert the \"Data e Hora (datetime)\" column to Datetime type\n",
        "client_df['Data e Hora (datetime)'] = pd.to_datetime(client_df['Data e Hora (datetime)'], format='%d/%m/%Y %H:%M:%S')\n",
        "\n",
        "client_df['Data e Hora (datetime)'].head()\n"
      ]
    },
    {
      "cell_type": "code",
      "execution_count": null,
      "metadata": {},
      "outputs": [],
      "source": [
        "client_df.head()"
      ]
    },
    {
      "cell_type": "code",
      "execution_count": null,
      "metadata": {},
      "outputs": [],
      "source": [
        "# Removing \"ï»¿\"Data\"\", \"Hora (UTC)\", \"Hora Datetime\" columns\n",
        "client_df = client_df.drop(columns=['ï»¿\"Data\"', 'Hora (UTC)', 'Hora Datetime'])\n",
        "# client_df.head() # Displaying the head after dropping is not needed as it will be shown after inserting the column\n",
        "\n",
        "# Changing the position of the \"Data e Hora Datetime\" column in the dataframe\n",
        "column = 'Data e Hora (datetime)'\n",
        "removed_column = client_df.pop(column)          # remove the column\n",
        "client_df.insert(0, column, removed_column)     # insert the column in the new position\n",
        "\n",
        "# Display the DataFrame format and the resulting DataFrame\n",
        "print(\"DataFrame format:\")\n",
        "print(client_df.shape)\n",
        "\n",
        "client_df.head()"
      ]
    },
    {
      "cell_type": "code",
      "execution_count": null,
      "metadata": {},
      "outputs": [],
      "source": [
        "# Indexing of the 'Datetime' Date and Time\n",
        "client_df.set_index('Data e Hora (datetime)', inplace=True)\n",
        "\n",
        "client_df.head()"
      ]
    },
    {
      "cell_type": "code",
      "execution_count": null,
      "metadata": {},
      "outputs": [],
      "source": [
        "# Check missing values\n",
        "print(\"Amount of missing values per column:\")\n",
        "print(client_df.isnull().sum())\n",
        "\n",
        "print(\"\\n --- \\n\")\n",
        "\n",
        "print(\"Percentage of missing values:\")\n",
        "print(client_df.isnull().mean() * 100)"
      ]
    },
    {
      "cell_type": "code",
      "execution_count": null,
      "metadata": {},
      "outputs": [],
      "source": [
        "# Dropping columns with 100% missing values\n",
        "client_df = client_df.dropna(axis=1, how='all')\n",
        "\n",
        "# Check missing values\n",
        "print(\"Percentage of missing values:\")\n",
        "print(client_df.isnull().mean() * 100)"
      ]
    },
    {
      "cell_type": "code",
      "execution_count": null,
      "metadata": {},
      "outputs": [],
      "source": [
        "# pd.set_option('display.max_rows', None)  # Mostra todas as linhas"
      ]
    },
    {
      "cell_type": "code",
      "execution_count": null,
      "metadata": {},
      "outputs": [],
      "source": [
        "client_df.head()"
      ]
    },
    {
      "cell_type": "code",
      "execution_count": null,
      "metadata": {},
      "outputs": [],
      "source": [
        "# pd.set_option('display.max_columns', None)  # (Opcional) Mostra todas as colunas"
      ]
    },
    {
      "cell_type": "markdown",
      "metadata": {},
      "source": [
        "----- Visualization of Client-1 dataset -----"
      ]
    },
    {
      "cell_type": "code",
      "execution_count": null,
      "metadata": {},
      "outputs": [],
      "source": [
        "# Filters the data by interval\n",
        "client_df_intervalo = client_df.loc['2024-01-01 00:00:00':'2024-02-28 00:00:00']"
      ]
    },
    {
      "cell_type": "code",
      "execution_count": null,
      "metadata": {},
      "outputs": [],
      "source": [
        "# ------------------------------------\n",
        "# For January and February only\n",
        "# ------------------------------------\n",
        "\n",
        "# Creating subplots manually with adjustments\n",
        "fig, axes = plt.subplots(nrows=4, ncols=1, figsize=(12, 25), gridspec_kw={'height_ratios': [5, 5, 5, 5]})       # `height_ratios` defines the relative heights of the subplots\n",
        "\n",
        "# Adding plots individually\n",
        "client_df_intervalo.plot(y=client_df_intervalo.columns[3], ax=axes[0], color='red', legend=True, title=client_df_intervalo.columns[3])\n",
        "client_df_intervalo.plot(y=client_df_intervalo.columns[0], ax=axes[1], color='purple', legend=True, title=client_df_intervalo.columns[0])\n",
        "client_df_intervalo.plot(y=client_df_intervalo.columns[1], ax=axes[2], color='green', legend=True, title=client_df_intervalo.columns[1])\n",
        "client_df_intervalo.plot(y=client_df_intervalo.columns[2], ax=axes[3], color='orange', legend=True, title=client_df_intervalo.columns[2])\n",
        "\n",
        "# Iterate over each subplot\n",
        "for ax in axes:\n",
        "  ax.grid(axis='y')             # Activate grid for the y-axis\n",
        "  ax.legend(loc='upper right')  # Move legend to the upper right corner\n",
        "\n",
        "# Adjusting axis labels\n",
        "axes[0].set_ylabel(client_df_intervalo.columns[3])\n",
        "axes[1].set_ylabel(client_df_intervalo.columns[0])\n",
        "axes[2].set_ylabel(client_df_intervalo.columns[1])\n",
        "axes[3].set_ylabel(client_df_intervalo.columns[2])\n",
        "#axes[3].set_xlabel('Date and Time')  # Only the last plot needs an X-axis label\n",
        "\n",
        "# Adjusting spacing between plots\n",
        "plt.tight_layout()  # Adjust spacing between subplots\n",
        "plt.show()"
      ]
    },
    {
      "cell_type": "code",
      "execution_count": null,
      "metadata": {},
      "outputs": [],
      "source": [
        "# ------------------------------------\n",
        "# All data period \n",
        "# ------------------------------------\n",
        "\n",
        "# Creating subplots manually with adjustments\n",
        "fig, axes = plt.subplots(nrows=4, ncols=1, figsize=(12, 25), gridspec_kw={'height_ratios': [5, 5, 5, 5]})       # `height_ratios` defines the relative heights of the subplots\n",
        "\n",
        "# Adding plots individually\n",
        "client_df.plot(y=client_df.columns[3], ax=axes[0], color='red', legend=True, title=client_df.columns[3])\n",
        "client_df.plot(y=client_df.columns[0], ax=axes[1], color='purple', legend=True, title=client_df.columns[0])\n",
        "client_df.plot(y=client_df.columns[1], ax=axes[2], color='green', legend=True, title=client_df.columns[1])\n",
        "client_df.plot(y=client_df.columns[2], ax=axes[3], color='orange', legend=True, title=client_df.columns[2])\n",
        "\n",
        "# Iterate over each subplot\n",
        "for ax in axes:\n",
        "  ax.grid(axis='y')             # Activate grid for the y-axis\n",
        "  ax.legend(loc='upper right')  # Move legend to the upper right corner\n",
        "\n",
        "# Adjusting axis labels\n",
        "axes[0].set_ylabel(client_df.columns[3])\n",
        "axes[1].set_ylabel(client_df.columns[0])\n",
        "axes[2].set_ylabel(client_df.columns[1])\n",
        "axes[3].set_ylabel(client_df.columns[2])\n",
        "#axes[3].set_xlabel('Date and Time')  # Only the last plot needs an X-axis label\n",
        "\n",
        "# Adjusting spacing between plots\n",
        "plt.tight_layout()  # Adjust spacing between subplots\n",
        "plt.show()"
      ]
    },
    {
      "cell_type": "code",
      "execution_count": null,
      "metadata": {},
      "outputs": [],
      "source": [
        "# Fill missing values (~=5%) performing the interpolation only on columns with NaN\n",
        "for column in client_df.columns:\n",
        "    if client_df[column].isnull().any():\n",
        "        client_df[column] = client_df[column].interpolate(method='linear')  # Interpolação linear"
      ]
    },
    {
      "cell_type": "code",
      "execution_count": null,
      "metadata": {},
      "outputs": [],
      "source": [
        "# Check missing values\n",
        "print(\"Amount of missing values per column:\")\n",
        "print(client_df.isnull().sum())\n",
        "\n",
        "print(\"\\n --- \\n\")\n",
        "\n",
        "print(\"Percentage of missing values:\")\n",
        "print(client_df.isnull().mean() * 100)"
      ]
    },
    {
      "cell_type": "markdown",
      "metadata": {},
      "source": [
        "Checking the main features visually"
      ]
    },
    {
      "cell_type": "code",
      "execution_count": null,
      "metadata": {},
      "outputs": [],
      "source": [
        "# Filters the data by interval\n",
        "client_df_intervalo = client_df.loc['2024-01-01 00:00:00':'2024-02-28 00:00:00']"
      ]
    },
    {
      "cell_type": "code",
      "execution_count": null,
      "metadata": {},
      "outputs": [],
      "source": [
        "# ------------------------------------\n",
        "# For January and February only\n",
        "# ------------------------------------\n",
        "\n",
        "# Creating subplots manually with adjustments\n",
        "fig, axes = plt.subplots(nrows=4, ncols=1, figsize=(12, 25), gridspec_kw={'height_ratios': [5, 5, 5, 5]})       # `height_ratios` defines the relative heights of the subplots\n",
        "\n",
        "# Adding plots individually\n",
        "client_df_intervalo.plot(y=client_df_intervalo.columns[3], ax=axes[0], color='red', legend=True, title=client_df_intervalo.columns[3])\n",
        "client_df_intervalo.plot(y=client_df_intervalo.columns[0], ax=axes[1], color='purple', legend=True, title=client_df_intervalo.columns[0])\n",
        "client_df_intervalo.plot(y=client_df_intervalo.columns[1], ax=axes[2], color='green', legend=True, title=client_df_intervalo.columns[1])\n",
        "client_df_intervalo.plot(y=client_df_intervalo.columns[2], ax=axes[3], color='orange', legend=True, title=client_df_intervalo.columns[2])\n",
        "\n",
        "# Iterate over each subplot\n",
        "for ax in axes:\n",
        "  ax.grid(axis='y')             # Activate grid for the y-axis\n",
        "  ax.legend(loc='upper right')  # Move legend to the upper right corner\n",
        "\n",
        "# Adjusting axis labels\n",
        "axes[0].set_ylabel(client_df_intervalo.columns[3])\n",
        "axes[1].set_ylabel(client_df_intervalo.columns[0])\n",
        "axes[2].set_ylabel(client_df_intervalo.columns[1])\n",
        "axes[3].set_ylabel(client_df_intervalo.columns[2])\n",
        "#axes[3].set_xlabel('Date and Time')  # Only the last plot needs an X-axis label\n",
        "\n",
        "# Adjusting spacing between plots\n",
        "plt.tight_layout()  # Adjust spacing between subplots\n",
        "plt.show()"
      ]
    },
    {
      "cell_type": "code",
      "execution_count": null,
      "metadata": {},
      "outputs": [],
      "source": [
        "# ------------------------------------\n",
        "# For All period\n",
        "# ------------------------------------\n",
        "\n",
        "# Creating subplots manually with adjustments\n",
        "fig, axes = plt.subplots(nrows=4, ncols=1, figsize=(12, 25), gridspec_kw={'height_ratios': [5, 5, 5, 5]})       # `height_ratios` defines the relative heights of the subplots\n",
        "\n",
        "# Adding plots individually\n",
        "client_df.plot(y=client_df.columns[3], ax=axes[0], color='red', legend=True, title=client_df.columns[3])\n",
        "client_df.plot(y=client_df.columns[0], ax=axes[1], color='purple', legend=True, title=client_df.columns[0])\n",
        "client_df.plot(y=client_df.columns[1], ax=axes[2], color='green', legend=True, title=client_df.columns[1])\n",
        "client_df.plot(y=client_df.columns[2], ax=axes[3], color='orange', legend=True, title=client_df.columns[2])\n",
        "\n",
        "# Iterate over each subplot\n",
        "for ax in axes:\n",
        "  ax.grid(axis='y')             # Activate grid for the y-axis\n",
        "  ax.legend(loc='upper right')  # Move legend to the upper right corner\n",
        "\n",
        "# Adjusting axis labels\n",
        "axes[0].set_ylabel(client_df.columns[3])\n",
        "axes[1].set_ylabel(client_df.columns[0])\n",
        "axes[2].set_ylabel(client_df.columns[1])\n",
        "axes[3].set_ylabel(client_df.columns[2])\n",
        "#axes[3].set_xlabel('Date and Time')  # Only the last plot needs an X-axis label\n",
        "\n",
        "# Adjusting spacing between plots\n",
        "plt.tight_layout()  # Adjust spacing between subplots\n",
        "plt.show()"
      ]
    },
    {
      "cell_type": "markdown",
      "metadata": {},
      "source": [
        "## Target feature and implementation of Sliding Window"
      ]
    },
    {
      "cell_type": "code",
      "execution_count": null,
      "metadata": {},
      "outputs": [],
      "source": [
        "client_df.head()"
      ]
    },
    {
      "cell_type": "code",
      "execution_count": null,
      "metadata": {},
      "outputs": [],
      "source": [
        "# Changing the position of the \"Data e Hora Datetime\" column in the dataframe\n",
        "column = 'Chuva (mm)'\n",
        "removed_column = client_df.pop(column)          # remove the column\n",
        "client_df.insert(0, column, removed_column)     # insert the column in the new position\n",
        "\n",
        "# Display the DataFrame format and the resulting DataFrame\n",
        "print(\"DataFrame format:\")\n",
        "print(client_df.shape)\n",
        "\n",
        "client_df.head()"
      ]
    },
    {
      "cell_type": "code",
      "execution_count": null,
      "metadata": {},
      "outputs": [],
      "source": [
        "# ----------------------------------------------------------------------\n",
        "# Creating the Target feature 'Chuva (mm) (t+1)'\n",
        "# ----------------------------------------------------------------------\n",
        "\n",
        "client_df['Chuva (mm) (t+1)'] = client_df['Chuva (mm)'].shift(-1)\n",
        "\n",
        "# Shift the new target column to the beginning of the DataFrame\n",
        "target_column = 'Chuva (mm) (t+1)'\n",
        "removed_target_column = client_df.pop(target_column)\n",
        "client_df.insert(0, target_column, removed_target_column)\n",
        "\n",
        "# Remove NaN value from target\n",
        "client_df.dropna(subset=['Chuva (mm) (t+1)'], inplace=True)\n",
        "\n",
        "client_df.tail()"
      ]
    },
    {
      "cell_type": "markdown",
      "metadata": {},
      "source": [
        "## Saving data as `.csv`"
      ]
    },
    {
      "cell_type": "code",
      "execution_count": null,
      "metadata": {},
      "outputs": [],
      "source": [
        "# ------------------------\n",
        "# Showing Dataset features\n",
        "# ------------------------\n",
        "\n",
        "# Plota cada coluna individualmente\n",
        "for col in client_df.columns:\n",
        "    plt.figure(figsize=(12, 4))\n",
        "    plt.plot(client_df.index, client_df[col])\n",
        "    plt.title(col)\n",
        "    plt.xlabel('Data e Hora (datetime)')\n",
        "    plt.ylabel(col)\n",
        "    plt.grid(True)\n",
        "    plt.show()\n",
        "\n",
        "client_df.info()"
      ]
    },
    {
      "cell_type": "code",
      "execution_count": null,
      "metadata": {},
      "outputs": [],
      "source": [
        "# ------------------------\n",
        "# Saving data as CSV file\n",
        "# ------------------------\n",
        "import os\n",
        "\n",
        "# output_dir = '/content/drive/MyDrive/Colab Notebooks/(Researchs)/IC - Pessoal/1 - Modelos (Datasets do INMET de Sorocaba e região)/Datasets tratados/2024'\n",
        "output_dir = 'Datasets tratados/2024'\n",
        "\n",
        "os.makedirs(output_dir, exist_ok=True)\n",
        "\n",
        "client_df.to_csv(os.path.join(output_dir, 'Processed_Data_2024-Client-7_V0498_Sorocaba.csv'), index=False)\n"
      ]
    },
    {
      "cell_type": "markdown",
      "metadata": {},
      "source": [
        "# 8. Client- Dataset (Tatui)⭐"
      ]
    },
    {
      "cell_type": "markdown",
      "metadata": {},
      "source": [
        "## Data collection and pre-processing"
      ]
    },
    {
      "cell_type": "code",
      "execution_count": null,
      "metadata": {},
      "outputs": [],
      "source": [
        "# --------------------------\n",
        "# Getting Clients dataset\n",
        "# -------------------------\n",
        "# Dataset path\n",
        "# file_path = '/content/drive/MyDrive/Colab Notebooks/(Researchs)/IC - Pessoal/1 - Modelos (Datasets do INMET de Sorocaba e região)/Datasets Brutos/Estacao_V0507 - Tatui/2024/INMET_SE_SP_V0507_TATUI-Dataset_01-01-2024_A_31-12-2024.csv'\n",
        "file_path = 'Datasets Brutos/Estacao_V0507 - Tatui/2024/INMET_SE_SP_V0507_TATUI-Dataset_01-01-2024_A_31-12-2024.csv'\n",
        "\n",
        "# Upload CSV file into DataFrame\n",
        "client_df = pd.read_csv(file_path, encoding='latin-1', sep=';', decimal=',')"
      ]
    },
    {
      "cell_type": "code",
      "execution_count": null,
      "metadata": {},
      "outputs": [],
      "source": [
        "print(\"Dataframe format:\")\n",
        "print(f\" ↪Linhas: {client_df.shape[0]} \\n ↪Colunas: {client_df.shape[1]}\")\n",
        "\n",
        "print(\"\\n---\\n\")\n",
        "\n",
        "print(\"First 5 lines of the dataset:\")\n",
        "client_df.head()"
      ]
    },
    {
      "cell_type": "code",
      "execution_count": null,
      "metadata": {},
      "outputs": [],
      "source": [
        "# Data general info\n",
        "print(\"General Dataset Information:\")\n",
        "print(client_df.info())"
      ]
    },
    {
      "cell_type": "code",
      "execution_count": null,
      "metadata": {},
      "outputs": [],
      "source": [
        "print(\"Descriptive statistics:\")\n",
        "client_df.describe()"
      ]
    },
    {
      "cell_type": "code",
      "execution_count": null,
      "metadata": {},
      "outputs": [],
      "source": [
        "# --------------------\n",
        "# Data Pre-Processing\n",
        "# --------------------\n",
        "\n",
        "# Replacing [0, 'Hora (UTC)'] value from '0' to '000'\n",
        "first_value = str(client_df['Hora (UTC)'].iloc[0])\n",
        "modified_value = first_value.replace('0', '000', 1) if first_value == '0' else first_value\n",
        "client_df.loc[0, 'Hora (UTC)'] = modified_value\n",
        "\n",
        "# Replacing ['Hora (UTC)'] column to fit '0' + 'Number' format\n",
        "client_df['Hora (UTC)'] = client_df['Hora (UTC)'].apply(lambda x: str(x).zfill(4))\n",
        "\n",
        "\n",
        "# Convert the UTC format to datetime format (only hour and minute)\n",
        "client_df['Hora Datetime'] = pd.to_datetime(client_df['Hora (UTC)'], format='%H%M').dt.time\n",
        "\n",
        "# Joining \"Data\" and \"Hora Datetime\" columns to create a \"Data e Hora Datetime\" column\n",
        "client_df['Data e Hora (datetime)'] = client_df['ï»¿\"Data\"'] + ' ' + client_df['Hora Datetime'].astype(str)\n",
        "\n",
        "# Convert the \"Data e Hora (datetime)\" column to Datetime type\n",
        "client_df['Data e Hora (datetime)'] = pd.to_datetime(client_df['Data e Hora (datetime)'], format='%d/%m/%Y %H:%M:%S')\n",
        "\n",
        "client_df['Data e Hora (datetime)'].head()\n"
      ]
    },
    {
      "cell_type": "code",
      "execution_count": null,
      "metadata": {},
      "outputs": [],
      "source": [
        "client_df.head()"
      ]
    },
    {
      "cell_type": "code",
      "execution_count": null,
      "metadata": {},
      "outputs": [],
      "source": [
        "# Removing \"ï»¿\"Data\"\", \"Hora (UTC)\", \"Hora Datetime\" columns\n",
        "client_df = client_df.drop(columns=['ï»¿\"Data\"', 'Hora (UTC)', 'Hora Datetime'])\n",
        "# client_df.head() # Displaying the head after dropping is not needed as it will be shown after inserting the column\n",
        "\n",
        "# Changing the position of the \"Data e Hora Datetime\" column in the dataframe\n",
        "column = 'Data e Hora (datetime)'\n",
        "removed_column = client_df.pop(column)          # remove the column\n",
        "client_df.insert(0, column, removed_column)     # insert the column in the new position\n",
        "\n",
        "# Display the DataFrame format and the resulting DataFrame\n",
        "print(\"DataFrame format:\")\n",
        "print(client_df.shape)\n",
        "\n",
        "client_df.head()"
      ]
    },
    {
      "cell_type": "code",
      "execution_count": null,
      "metadata": {},
      "outputs": [],
      "source": [
        "# Indexing of the 'Datetime' Date and Time\n",
        "client_df.set_index('Data e Hora (datetime)', inplace=True)\n",
        "\n",
        "client_df.head()"
      ]
    },
    {
      "cell_type": "code",
      "execution_count": null,
      "metadata": {},
      "outputs": [],
      "source": [
        "# Check missing values\n",
        "print(\"Amount of missing values per column:\")\n",
        "print(client_df.isnull().sum())\n",
        "\n",
        "print(\"\\n --- \\n\")\n",
        "\n",
        "print(\"Percentage of missing values:\")\n",
        "print(client_df.isnull().mean() * 100)"
      ]
    },
    {
      "cell_type": "code",
      "execution_count": null,
      "metadata": {},
      "outputs": [],
      "source": [
        "# Dropping columns with 100% missing values\n",
        "client_df = client_df.dropna(axis=1, how='all')\n",
        "\n",
        "# Check missing values\n",
        "print(\"Percentage of missing values:\")\n",
        "print(client_df.isnull().mean() * 100)"
      ]
    },
    {
      "cell_type": "code",
      "execution_count": null,
      "metadata": {},
      "outputs": [],
      "source": [
        "# pd.set_option('display.max_rows', None)  # Mostra todas as linhas"
      ]
    },
    {
      "cell_type": "code",
      "execution_count": null,
      "metadata": {},
      "outputs": [],
      "source": [
        "client_df.head()"
      ]
    },
    {
      "cell_type": "code",
      "execution_count": null,
      "metadata": {},
      "outputs": [],
      "source": [
        "# pd.set_option('display.max_columns', None)  # (Opcional) Mostra todas as colunas"
      ]
    },
    {
      "cell_type": "markdown",
      "metadata": {},
      "source": [
        "----- Visualization of Client-1 dataset -----"
      ]
    },
    {
      "cell_type": "code",
      "execution_count": null,
      "metadata": {},
      "outputs": [],
      "source": [
        "# Filters the data by interval\n",
        "client_df_intervalo = client_df.loc['2024-01-01 00:00:00':'2024-02-28 00:00:00']"
      ]
    },
    {
      "cell_type": "code",
      "execution_count": null,
      "metadata": {},
      "outputs": [],
      "source": [
        "# ------------------------------------\n",
        "# For January and February only\n",
        "# ------------------------------------\n",
        "\n",
        "# Creating subplots manually with adjustments\n",
        "fig, axes = plt.subplots(nrows=4, ncols=1, figsize=(12, 25), gridspec_kw={'height_ratios': [5, 5, 5, 5]})       # `height_ratios` defines the relative heights of the subplots\n",
        "\n",
        "# Adding plots individually\n",
        "client_df_intervalo.plot(y=client_df_intervalo.columns[3], ax=axes[0], color='red', legend=True, title=client_df_intervalo.columns[3])\n",
        "client_df_intervalo.plot(y=client_df_intervalo.columns[0], ax=axes[1], color='purple', legend=True, title=client_df_intervalo.columns[0])\n",
        "client_df_intervalo.plot(y=client_df_intervalo.columns[1], ax=axes[2], color='green', legend=True, title=client_df_intervalo.columns[1])\n",
        "client_df_intervalo.plot(y=client_df_intervalo.columns[2], ax=axes[3], color='orange', legend=True, title=client_df_intervalo.columns[2])\n",
        "\n",
        "# Iterate over each subplot\n",
        "for ax in axes:\n",
        "  ax.grid(axis='y')             # Activate grid for the y-axis\n",
        "  ax.legend(loc='upper right')  # Move legend to the upper right corner\n",
        "\n",
        "# Adjusting axis labels\n",
        "axes[0].set_ylabel(client_df_intervalo.columns[3])\n",
        "axes[1].set_ylabel(client_df_intervalo.columns[0])\n",
        "axes[2].set_ylabel(client_df_intervalo.columns[1])\n",
        "axes[3].set_ylabel(client_df_intervalo.columns[2])\n",
        "#axes[3].set_xlabel('Date and Time')  # Only the last plot needs an X-axis label\n",
        "\n",
        "# Adjusting spacing between plots\n",
        "plt.tight_layout()  # Adjust spacing between subplots\n",
        "plt.show()"
      ]
    },
    {
      "cell_type": "code",
      "execution_count": null,
      "metadata": {},
      "outputs": [],
      "source": [
        "# ------------------------------------\n",
        "# All data period \n",
        "# ------------------------------------\n",
        "\n",
        "# Creating subplots manually with adjustments\n",
        "fig, axes = plt.subplots(nrows=4, ncols=1, figsize=(12, 25), gridspec_kw={'height_ratios': [5, 5, 5, 5]})       # `height_ratios` defines the relative heights of the subplots\n",
        "\n",
        "# Adding plots individually\n",
        "client_df.plot(y=client_df.columns[3], ax=axes[0], color='red', legend=True, title=client_df.columns[3])\n",
        "client_df.plot(y=client_df.columns[0], ax=axes[1], color='purple', legend=True, title=client_df.columns[0])\n",
        "client_df.plot(y=client_df.columns[1], ax=axes[2], color='green', legend=True, title=client_df.columns[1])\n",
        "client_df.plot(y=client_df.columns[2], ax=axes[3], color='orange', legend=True, title=client_df.columns[2])\n",
        "\n",
        "# Iterate over each subplot\n",
        "for ax in axes:\n",
        "  ax.grid(axis='y')             # Activate grid for the y-axis\n",
        "  ax.legend(loc='upper right')  # Move legend to the upper right corner\n",
        "\n",
        "# Adjusting axis labels\n",
        "axes[0].set_ylabel(client_df.columns[3])\n",
        "axes[1].set_ylabel(client_df.columns[0])\n",
        "axes[2].set_ylabel(client_df.columns[1])\n",
        "axes[3].set_ylabel(client_df.columns[2])\n",
        "#axes[3].set_xlabel('Date and Time')  # Only the last plot needs an X-axis label\n",
        "\n",
        "# Adjusting spacing between plots\n",
        "plt.tight_layout()  # Adjust spacing between subplots\n",
        "plt.show()"
      ]
    },
    {
      "cell_type": "code",
      "execution_count": null,
      "metadata": {},
      "outputs": [],
      "source": [
        "# Fill missing values (~=5%) performing the interpolation only on columns with NaN\n",
        "for column in client_df.columns:\n",
        "    if client_df[column].isnull().any():\n",
        "        client_df[column] = client_df[column].interpolate(method='linear')  # Interpolação linear"
      ]
    },
    {
      "cell_type": "code",
      "execution_count": null,
      "metadata": {},
      "outputs": [],
      "source": [
        "# Check missing values\n",
        "print(\"Amount of missing values per column:\")\n",
        "print(client_df.isnull().sum())\n",
        "\n",
        "print(\"\\n --- \\n\")\n",
        "\n",
        "print(\"Percentage of missing values:\")\n",
        "print(client_df.isnull().mean() * 100)"
      ]
    },
    {
      "cell_type": "markdown",
      "metadata": {},
      "source": [
        "Checking the main features visually"
      ]
    },
    {
      "cell_type": "code",
      "execution_count": null,
      "metadata": {},
      "outputs": [],
      "source": [
        "# Filters the data by interval\n",
        "client_df_intervalo = client_df.loc['2024-01-01 00:00:00':'2024-02-28 00:00:00']"
      ]
    },
    {
      "cell_type": "code",
      "execution_count": null,
      "metadata": {},
      "outputs": [],
      "source": [
        "# ------------------------------------\n",
        "# For January and February only\n",
        "# ------------------------------------\n",
        "\n",
        "# Creating subplots manually with adjustments\n",
        "fig, axes = plt.subplots(nrows=4, ncols=1, figsize=(12, 25), gridspec_kw={'height_ratios': [5, 5, 5, 5]})       # `height_ratios` defines the relative heights of the subplots\n",
        "\n",
        "# Adding plots individually\n",
        "client_df_intervalo.plot(y=client_df_intervalo.columns[3], ax=axes[0], color='red', legend=True, title=client_df_intervalo.columns[3])\n",
        "client_df_intervalo.plot(y=client_df_intervalo.columns[0], ax=axes[1], color='purple', legend=True, title=client_df_intervalo.columns[0])\n",
        "client_df_intervalo.plot(y=client_df_intervalo.columns[1], ax=axes[2], color='green', legend=True, title=client_df_intervalo.columns[1])\n",
        "client_df_intervalo.plot(y=client_df_intervalo.columns[2], ax=axes[3], color='orange', legend=True, title=client_df_intervalo.columns[2])\n",
        "\n",
        "# Iterate over each subplot\n",
        "for ax in axes:\n",
        "  ax.grid(axis='y')             # Activate grid for the y-axis\n",
        "  ax.legend(loc='upper right')  # Move legend to the upper right corner\n",
        "\n",
        "# Adjusting axis labels\n",
        "axes[0].set_ylabel(client_df_intervalo.columns[3])\n",
        "axes[1].set_ylabel(client_df_intervalo.columns[0])\n",
        "axes[2].set_ylabel(client_df_intervalo.columns[1])\n",
        "axes[3].set_ylabel(client_df_intervalo.columns[2])\n",
        "#axes[3].set_xlabel('Date and Time')  # Only the last plot needs an X-axis label\n",
        "\n",
        "# Adjusting spacing between plots\n",
        "plt.tight_layout()  # Adjust spacing between subplots\n",
        "plt.show()"
      ]
    },
    {
      "cell_type": "code",
      "execution_count": null,
      "metadata": {},
      "outputs": [],
      "source": [
        "# ------------------------------------\n",
        "# For All period\n",
        "# ------------------------------------\n",
        "\n",
        "# Creating subplots manually with adjustments\n",
        "fig, axes = plt.subplots(nrows=4, ncols=1, figsize=(12, 25), gridspec_kw={'height_ratios': [5, 5, 5, 5]})       # `height_ratios` defines the relative heights of the subplots\n",
        "\n",
        "# Adding plots individually\n",
        "client_df.plot(y=client_df.columns[3], ax=axes[0], color='red', legend=True, title=client_df.columns[3])\n",
        "client_df.plot(y=client_df.columns[0], ax=axes[1], color='purple', legend=True, title=client_df.columns[0])\n",
        "client_df.plot(y=client_df.columns[1], ax=axes[2], color='green', legend=True, title=client_df.columns[1])\n",
        "client_df.plot(y=client_df.columns[2], ax=axes[3], color='orange', legend=True, title=client_df.columns[2])\n",
        "\n",
        "# Iterate over each subplot\n",
        "for ax in axes:\n",
        "  ax.grid(axis='y')             # Activate grid for the y-axis\n",
        "  ax.legend(loc='upper right')  # Move legend to the upper right corner\n",
        "\n",
        "# Adjusting axis labels\n",
        "axes[0].set_ylabel(client_df.columns[3])\n",
        "axes[1].set_ylabel(client_df.columns[0])\n",
        "axes[2].set_ylabel(client_df.columns[1])\n",
        "axes[3].set_ylabel(client_df.columns[2])\n",
        "#axes[3].set_xlabel('Date and Time')  # Only the last plot needs an X-axis label\n",
        "\n",
        "# Adjusting spacing between plots\n",
        "plt.tight_layout()  # Adjust spacing between subplots\n",
        "plt.show()"
      ]
    },
    {
      "cell_type": "markdown",
      "metadata": {},
      "source": [
        "## Target feature and implementation of Sliding Window"
      ]
    },
    {
      "cell_type": "code",
      "execution_count": null,
      "metadata": {},
      "outputs": [],
      "source": [
        "client_df.head()"
      ]
    },
    {
      "cell_type": "code",
      "execution_count": null,
      "metadata": {},
      "outputs": [],
      "source": [
        "# Changing the position of the \"Data e Hora Datetime\" column in the dataframe\n",
        "column = 'Chuva (mm)'\n",
        "removed_column = client_df.pop(column)          # remove the column\n",
        "client_df.insert(0, column, removed_column)     # insert the column in the new position\n",
        "\n",
        "# Display the DataFrame format and the resulting DataFrame\n",
        "print(\"DataFrame format:\")\n",
        "print(client_df.shape)\n",
        "\n",
        "client_df.head()"
      ]
    },
    {
      "cell_type": "code",
      "execution_count": null,
      "metadata": {},
      "outputs": [],
      "source": [
        "# ----------------------------------------------------------------------\n",
        "# Creating the Target feature 'Chuva (mm) (t+1)'\n",
        "# ----------------------------------------------------------------------\n",
        "\n",
        "client_df['Chuva (mm) (t+1)'] = client_df['Chuva (mm)'].shift(-1)\n",
        "\n",
        "# Shift the new target column to the beginning of the DataFrame\n",
        "target_column = 'Chuva (mm) (t+1)'\n",
        "removed_target_column = client_df.pop(target_column)\n",
        "client_df.insert(0, target_column, removed_target_column)\n",
        "\n",
        "# Remove NaN value from target\n",
        "client_df.dropna(subset=['Chuva (mm) (t+1)'], inplace=True)\n",
        "\n",
        "client_df.tail()"
      ]
    },
    {
      "cell_type": "markdown",
      "metadata": {},
      "source": [
        "## Saving data as `.csv`"
      ]
    },
    {
      "cell_type": "code",
      "execution_count": null,
      "metadata": {},
      "outputs": [],
      "source": [
        "# ------------------------\n",
        "# Showing Dataset features\n",
        "# ------------------------\n",
        "\n",
        "# Plota cada coluna individualmente\n",
        "for col in client_df.columns:\n",
        "    plt.figure(figsize=(12, 4))\n",
        "    plt.plot(client_df.index, client_df[col])\n",
        "    plt.title(col)\n",
        "    plt.xlabel('Data e Hora (datetime)')\n",
        "    plt.ylabel(col)\n",
        "    plt.grid(True)\n",
        "    plt.show()\n",
        "\n",
        "client_df.info()"
      ]
    },
    {
      "cell_type": "code",
      "execution_count": null,
      "metadata": {},
      "outputs": [],
      "source": [
        "# ------------------------\n",
        "# Saving data as CSV file\n",
        "# ------------------------\n",
        "import os\n",
        "\n",
        "# output_dir = '/content/drive/MyDrive/Colab Notebooks/(Researchs)/IC - Pessoal/1 - Modelos (Datasets do INMET de Sorocaba e região)/Datasets tratados/2024'\n",
        "output_dir = 'Datasets tratados/2024'\n",
        "\n",
        "os.makedirs(output_dir, exist_ok=True)\n",
        "\n",
        "client_df.to_csv(os.path.join(output_dir, 'Processed_Data_2024-Client-8_V0507_Tatui.csv'), index=False)\n"
      ]
    },
    {
      "cell_type": "markdown",
      "metadata": {},
      "source": [
        "# 9. Client- Dataset (Tatui-FATEC)⭐"
      ]
    },
    {
      "cell_type": "markdown",
      "metadata": {},
      "source": [
        "## Data collection and pre-processing"
      ]
    },
    {
      "cell_type": "code",
      "execution_count": null,
      "metadata": {},
      "outputs": [],
      "source": [
        "# --------------------------\n",
        "# Getting Clients dataset\n",
        "# -------------------------\n",
        "# Dataset path\n",
        "# file_path = '/content/drive/MyDrive/Colab Notebooks/(Researchs)/IC - Pessoal/1 - Modelos (Datasets do INMET de Sorocaba e região)/Datasets Brutos/Estacao_V0508 - Tatui-FATEC/2024/INMET_SE_SP_V0507_TATUI-FATEC-Dataset_01-01-2024_A_31-12-2024.csv'\n",
        "file_path = 'Datasets Brutos/Estacao_V0508 - Tatui-FATEC/2024/INMET_SE_SP_V0507_TATUI-FATEC-Dataset_01-01-2024_A_31-12-2024.csv'\n",
        "\n",
        "# Upload CSV file into DataFrame\n",
        "client_df = pd.read_csv(file_path, encoding='latin-1', sep=';', decimal=',')"
      ]
    },
    {
      "cell_type": "code",
      "execution_count": null,
      "metadata": {},
      "outputs": [],
      "source": [
        "print(\"Dataframe format:\")\n",
        "print(f\" ↪Linhas: {client_df.shape[0]} \\n ↪Colunas: {client_df.shape[1]}\")\n",
        "\n",
        "print(\"\\n---\\n\")\n",
        "\n",
        "print(\"First 5 lines of the dataset:\")\n",
        "client_df.head()"
      ]
    },
    {
      "cell_type": "code",
      "execution_count": null,
      "metadata": {},
      "outputs": [],
      "source": [
        "# Data general info\n",
        "print(\"General Dataset Information:\")\n",
        "print(client_df.info())"
      ]
    },
    {
      "cell_type": "code",
      "execution_count": null,
      "metadata": {},
      "outputs": [],
      "source": [
        "print(\"Descriptive statistics:\")\n",
        "client_df.describe()"
      ]
    },
    {
      "cell_type": "code",
      "execution_count": null,
      "metadata": {},
      "outputs": [],
      "source": [
        "# --------------------\n",
        "# Data Pre-Processing\n",
        "# --------------------\n",
        "\n",
        "# Replacing [0, 'Hora (UTC)'] value from '0' to '000'\n",
        "first_value = str(client_df['Hora (UTC)'].iloc[0])\n",
        "modified_value = first_value.replace('0', '000', 1) if first_value == '0' else first_value\n",
        "client_df.loc[0, 'Hora (UTC)'] = modified_value\n",
        "\n",
        "# Replacing ['Hora (UTC)'] column to fit '0' + 'Number' format\n",
        "client_df['Hora (UTC)'] = client_df['Hora (UTC)'].apply(lambda x: str(x).zfill(4))\n",
        "\n",
        "\n",
        "# Convert the UTC format to datetime format (only hour and minute)\n",
        "client_df['Hora Datetime'] = pd.to_datetime(client_df['Hora (UTC)'], format='%H%M').dt.time\n",
        "\n",
        "# Joining \"Data\" and \"Hora Datetime\" columns to create a \"Data e Hora Datetime\" column\n",
        "client_df['Data e Hora (datetime)'] = client_df['ï»¿\"Data\"'] + ' ' + client_df['Hora Datetime'].astype(str)\n",
        "\n",
        "# Convert the \"Data e Hora (datetime)\" column to Datetime type\n",
        "client_df['Data e Hora (datetime)'] = pd.to_datetime(client_df['Data e Hora (datetime)'], format='%d/%m/%Y %H:%M:%S')\n",
        "\n",
        "client_df['Data e Hora (datetime)'].head()\n"
      ]
    },
    {
      "cell_type": "code",
      "execution_count": null,
      "metadata": {},
      "outputs": [],
      "source": [
        "client_df.head()"
      ]
    },
    {
      "cell_type": "code",
      "execution_count": null,
      "metadata": {},
      "outputs": [],
      "source": [
        "# Removing \"ï»¿\"Data\"\", \"Hora (UTC)\", \"Hora Datetime\" columns\n",
        "client_df = client_df.drop(columns=['ï»¿\"Data\"', 'Hora (UTC)', 'Hora Datetime'])\n",
        "# client_df.head() # Displaying the head after dropping is not needed as it will be shown after inserting the column\n",
        "\n",
        "# Changing the position of the \"Data e Hora Datetime\" column in the dataframe\n",
        "column = 'Data e Hora (datetime)'\n",
        "removed_column = client_df.pop(column)          # remove the column\n",
        "client_df.insert(0, column, removed_column)     # insert the column in the new position\n",
        "\n",
        "# Display the DataFrame format and the resulting DataFrame\n",
        "print(\"DataFrame format:\")\n",
        "print(client_df.shape)\n",
        "\n",
        "client_df.head()"
      ]
    },
    {
      "cell_type": "code",
      "execution_count": null,
      "metadata": {},
      "outputs": [],
      "source": [
        "# Indexing of the 'Datetime' Date and Time\n",
        "client_df.set_index('Data e Hora (datetime)', inplace=True)\n",
        "\n",
        "client_df.head()"
      ]
    },
    {
      "cell_type": "code",
      "execution_count": null,
      "metadata": {},
      "outputs": [],
      "source": [
        "# Check missing values\n",
        "print(\"Amount of missing values per column:\")\n",
        "print(client_df.isnull().sum())\n",
        "\n",
        "print(\"\\n --- \\n\")\n",
        "\n",
        "print(\"Percentage of missing values:\")\n",
        "print(client_df.isnull().mean() * 100)"
      ]
    },
    {
      "cell_type": "code",
      "execution_count": null,
      "metadata": {},
      "outputs": [],
      "source": [
        "# Dropping columns with 100% missing values\n",
        "client_df = client_df.dropna(axis=1, how='all')\n",
        "\n",
        "# Check missing values\n",
        "print(\"Percentage of missing values:\")\n",
        "print(client_df.isnull().mean() * 100)"
      ]
    },
    {
      "cell_type": "code",
      "execution_count": null,
      "metadata": {},
      "outputs": [],
      "source": [
        "# pd.set_option('display.max_rows', None)  # Mostra todas as linhas"
      ]
    },
    {
      "cell_type": "code",
      "execution_count": null,
      "metadata": {},
      "outputs": [],
      "source": [
        "client_df.head()"
      ]
    },
    {
      "cell_type": "code",
      "execution_count": null,
      "metadata": {},
      "outputs": [],
      "source": [
        "# pd.set_option('display.max_columns', None)  # (Opcional) Mostra todas as colunas"
      ]
    },
    {
      "cell_type": "markdown",
      "metadata": {},
      "source": [
        "----- Visualization of Client-1 dataset -----"
      ]
    },
    {
      "cell_type": "code",
      "execution_count": null,
      "metadata": {},
      "outputs": [],
      "source": [
        "# Filters the data by interval\n",
        "client_df_intervalo = client_df.loc['2024-01-01 00:00:00':'2024-02-28 00:00:00']"
      ]
    },
    {
      "cell_type": "code",
      "execution_count": null,
      "metadata": {},
      "outputs": [],
      "source": [
        "# ------------------------------------\n",
        "# For January and February only\n",
        "# ------------------------------------\n",
        "\n",
        "# Creating subplots manually with adjustments\n",
        "fig, axes = plt.subplots(nrows=4, ncols=1, figsize=(12, 25), gridspec_kw={'height_ratios': [5, 5, 5, 5]})       # `height_ratios` defines the relative heights of the subplots\n",
        "\n",
        "# Adding plots individually\n",
        "client_df_intervalo.plot(y=client_df_intervalo.columns[3], ax=axes[0], color='red', legend=True, title=client_df_intervalo.columns[3])\n",
        "client_df_intervalo.plot(y=client_df_intervalo.columns[0], ax=axes[1], color='purple', legend=True, title=client_df_intervalo.columns[0])\n",
        "client_df_intervalo.plot(y=client_df_intervalo.columns[1], ax=axes[2], color='green', legend=True, title=client_df_intervalo.columns[1])\n",
        "client_df_intervalo.plot(y=client_df_intervalo.columns[2], ax=axes[3], color='orange', legend=True, title=client_df_intervalo.columns[2])\n",
        "\n",
        "# Iterate over each subplot\n",
        "for ax in axes:\n",
        "  ax.grid(axis='y')             # Activate grid for the y-axis\n",
        "  ax.legend(loc='upper right')  # Move legend to the upper right corner\n",
        "\n",
        "# Adjusting axis labels\n",
        "axes[0].set_ylabel(client_df_intervalo.columns[3])\n",
        "axes[1].set_ylabel(client_df_intervalo.columns[0])\n",
        "axes[2].set_ylabel(client_df_intervalo.columns[1])\n",
        "axes[3].set_ylabel(client_df_intervalo.columns[2])\n",
        "#axes[3].set_xlabel('Date and Time')  # Only the last plot needs an X-axis label\n",
        "\n",
        "# Adjusting spacing between plots\n",
        "plt.tight_layout()  # Adjust spacing between subplots\n",
        "plt.show()"
      ]
    },
    {
      "cell_type": "code",
      "execution_count": null,
      "metadata": {},
      "outputs": [],
      "source": [
        "# ------------------------------------\n",
        "# All data period \n",
        "# ------------------------------------\n",
        "\n",
        "# Creating subplots manually with adjustments\n",
        "fig, axes = plt.subplots(nrows=4, ncols=1, figsize=(12, 25), gridspec_kw={'height_ratios': [5, 5, 5, 5]})       # `height_ratios` defines the relative heights of the subplots\n",
        "\n",
        "# Adding plots individually\n",
        "client_df.plot(y=client_df.columns[3], ax=axes[0], color='red', legend=True, title=client_df.columns[3])\n",
        "client_df.plot(y=client_df.columns[0], ax=axes[1], color='purple', legend=True, title=client_df.columns[0])\n",
        "client_df.plot(y=client_df.columns[1], ax=axes[2], color='green', legend=True, title=client_df.columns[1])\n",
        "client_df.plot(y=client_df.columns[2], ax=axes[3], color='orange', legend=True, title=client_df.columns[2])\n",
        "\n",
        "# Iterate over each subplot\n",
        "for ax in axes:\n",
        "  ax.grid(axis='y')             # Activate grid for the y-axis\n",
        "  ax.legend(loc='upper right')  # Move legend to the upper right corner\n",
        "\n",
        "# Adjusting axis labels\n",
        "axes[0].set_ylabel(client_df.columns[3])\n",
        "axes[1].set_ylabel(client_df.columns[0])\n",
        "axes[2].set_ylabel(client_df.columns[1])\n",
        "axes[3].set_ylabel(client_df.columns[2])\n",
        "#axes[3].set_xlabel('Date and Time')  # Only the last plot needs an X-axis label\n",
        "\n",
        "# Adjusting spacing between plots\n",
        "plt.tight_layout()  # Adjust spacing between subplots\n",
        "plt.show()"
      ]
    },
    {
      "cell_type": "code",
      "execution_count": null,
      "metadata": {},
      "outputs": [],
      "source": [
        "# Fill missing values (~=5%) performing the interpolation only on columns with NaN\n",
        "for column in client_df.columns:\n",
        "    if client_df[column].isnull().any():\n",
        "        client_df[column] = client_df[column].interpolate(method='linear')  # Interpolação linear"
      ]
    },
    {
      "cell_type": "code",
      "execution_count": null,
      "metadata": {},
      "outputs": [],
      "source": [
        "# Check missing values\n",
        "print(\"Amount of missing values per column:\")\n",
        "print(client_df.isnull().sum())\n",
        "\n",
        "print(\"\\n --- \\n\")\n",
        "\n",
        "print(\"Percentage of missing values:\")\n",
        "print(client_df.isnull().mean() * 100)"
      ]
    },
    {
      "cell_type": "markdown",
      "metadata": {},
      "source": [
        "Checking the main features visually"
      ]
    },
    {
      "cell_type": "code",
      "execution_count": null,
      "metadata": {},
      "outputs": [],
      "source": [
        "# Filters the data by interval\n",
        "client_df_intervalo = client_df.loc['2024-01-01 00:00:00':'2024-02-28 00:00:00']"
      ]
    },
    {
      "cell_type": "code",
      "execution_count": null,
      "metadata": {},
      "outputs": [],
      "source": [
        "# ------------------------------------\n",
        "# For January and February only\n",
        "# ------------------------------------\n",
        "\n",
        "# Creating subplots manually with adjustments\n",
        "fig, axes = plt.subplots(nrows=4, ncols=1, figsize=(12, 25), gridspec_kw={'height_ratios': [5, 5, 5, 5]})       # `height_ratios` defines the relative heights of the subplots\n",
        "\n",
        "# Adding plots individually\n",
        "client_df_intervalo.plot(y=client_df_intervalo.columns[3], ax=axes[0], color='red', legend=True, title=client_df_intervalo.columns[3])\n",
        "client_df_intervalo.plot(y=client_df_intervalo.columns[0], ax=axes[1], color='purple', legend=True, title=client_df_intervalo.columns[0])\n",
        "client_df_intervalo.plot(y=client_df_intervalo.columns[1], ax=axes[2], color='green', legend=True, title=client_df_intervalo.columns[1])\n",
        "client_df_intervalo.plot(y=client_df_intervalo.columns[2], ax=axes[3], color='orange', legend=True, title=client_df_intervalo.columns[2])\n",
        "\n",
        "# Iterate over each subplot\n",
        "for ax in axes:\n",
        "  ax.grid(axis='y')             # Activate grid for the y-axis\n",
        "  ax.legend(loc='upper right')  # Move legend to the upper right corner\n",
        "\n",
        "# Adjusting axis labels\n",
        "axes[0].set_ylabel(client_df_intervalo.columns[3])\n",
        "axes[1].set_ylabel(client_df_intervalo.columns[0])\n",
        "axes[2].set_ylabel(client_df_intervalo.columns[1])\n",
        "axes[3].set_ylabel(client_df_intervalo.columns[2])\n",
        "#axes[3].set_xlabel('Date and Time')  # Only the last plot needs an X-axis label\n",
        "\n",
        "# Adjusting spacing between plots\n",
        "plt.tight_layout()  # Adjust spacing between subplots\n",
        "plt.show()"
      ]
    },
    {
      "cell_type": "code",
      "execution_count": null,
      "metadata": {},
      "outputs": [],
      "source": [
        "# ------------------------------------\n",
        "# For All period\n",
        "# ------------------------------------\n",
        "\n",
        "# Creating subplots manually with adjustments\n",
        "fig, axes = plt.subplots(nrows=4, ncols=1, figsize=(12, 25), gridspec_kw={'height_ratios': [5, 5, 5, 5]})       # `height_ratios` defines the relative heights of the subplots\n",
        "\n",
        "# Adding plots individually\n",
        "client_df.plot(y=client_df.columns[3], ax=axes[0], color='red', legend=True, title=client_df.columns[3])\n",
        "client_df.plot(y=client_df.columns[0], ax=axes[1], color='purple', legend=True, title=client_df.columns[0])\n",
        "client_df.plot(y=client_df.columns[1], ax=axes[2], color='green', legend=True, title=client_df.columns[1])\n",
        "client_df.plot(y=client_df.columns[2], ax=axes[3], color='orange', legend=True, title=client_df.columns[2])\n",
        "\n",
        "# Iterate over each subplot\n",
        "for ax in axes:\n",
        "  ax.grid(axis='y')             # Activate grid for the y-axis\n",
        "  ax.legend(loc='upper right')  # Move legend to the upper right corner\n",
        "\n",
        "# Adjusting axis labels\n",
        "axes[0].set_ylabel(client_df.columns[3])\n",
        "axes[1].set_ylabel(client_df.columns[0])\n",
        "axes[2].set_ylabel(client_df.columns[1])\n",
        "axes[3].set_ylabel(client_df.columns[2])\n",
        "#axes[3].set_xlabel('Date and Time')  # Only the last plot needs an X-axis label\n",
        "\n",
        "# Adjusting spacing between plots\n",
        "plt.tight_layout()  # Adjust spacing between subplots\n",
        "plt.show()"
      ]
    },
    {
      "cell_type": "markdown",
      "metadata": {},
      "source": [
        "## Target feature and implementation of Sliding Window"
      ]
    },
    {
      "cell_type": "code",
      "execution_count": null,
      "metadata": {},
      "outputs": [],
      "source": [
        "client_df.head()"
      ]
    },
    {
      "cell_type": "code",
      "execution_count": null,
      "metadata": {},
      "outputs": [],
      "source": [
        "# Changing the position of the \"Data e Hora Datetime\" column in the dataframe\n",
        "column = 'Chuva (mm)'\n",
        "removed_column = client_df.pop(column)          # remove the column\n",
        "client_df.insert(0, column, removed_column)     # insert the column in the new position\n",
        "\n",
        "# Display the DataFrame format and the resulting DataFrame\n",
        "print(\"DataFrame format:\")\n",
        "print(client_df.shape)\n",
        "\n",
        "client_df.head()"
      ]
    },
    {
      "cell_type": "code",
      "execution_count": null,
      "metadata": {},
      "outputs": [],
      "source": [
        "# ----------------------------------------------------------------------\n",
        "# Creating the Target feature 'Chuva (mm) (t+1)'\n",
        "# ----------------------------------------------------------------------\n",
        "\n",
        "client_df['Chuva (mm) (t+1)'] = client_df['Chuva (mm)'].shift(-1)\n",
        "\n",
        "# Shift the new target column to the beginning of the DataFrame\n",
        "target_column = 'Chuva (mm) (t+1)'\n",
        "removed_target_column = client_df.pop(target_column)\n",
        "client_df.insert(0, target_column, removed_target_column)\n",
        "\n",
        "# Remove NaN value from target\n",
        "client_df.dropna(subset=['Chuva (mm) (t+1)'], inplace=True)\n",
        "\n",
        "client_df.tail()"
      ]
    },
    {
      "cell_type": "markdown",
      "metadata": {},
      "source": [
        "## Saving data as `.csv`"
      ]
    },
    {
      "cell_type": "code",
      "execution_count": null,
      "metadata": {},
      "outputs": [],
      "source": [
        "# ------------------------\n",
        "# Showing Dataset features\n",
        "# ------------------------\n",
        "\n",
        "# Plota cada coluna individualmente\n",
        "for col in client_df.columns:\n",
        "    plt.figure(figsize=(12, 4))\n",
        "    plt.plot(client_df.index, client_df[col])\n",
        "    plt.title(col)\n",
        "    plt.xlabel('Data e Hora (datetime)')\n",
        "    plt.ylabel(col)\n",
        "    plt.grid(True)\n",
        "    plt.show()\n",
        "\n",
        "client_df.info()"
      ]
    },
    {
      "cell_type": "code",
      "execution_count": null,
      "metadata": {},
      "outputs": [],
      "source": [
        "# ------------------------\n",
        "# Saving data as CSV file\n",
        "# ------------------------\n",
        "import os\n",
        "\n",
        "# output_dir = '/content/drive/MyDrive/Colab Notebooks/(Researchs)/IC - Pessoal/1 - Modelos (Datasets do INMET de Sorocaba e região)/Datasets tratados/2024'\n",
        "output_dir = 'Datasets tratados/2024'\n",
        "\n",
        "os.makedirs(output_dir, exist_ok=True)\n",
        "\n",
        "client_df.to_csv(os.path.join(output_dir, 'Processed_Data_2024-Client-9_V0508_Tatui-FATEC.csv'), index=False)\n"
      ]
    },
    {
      "cell_type": "markdown",
      "metadata": {},
      "source": [
        "# 10. Client- Dataset (São Roque)⭐"
      ]
    },
    {
      "cell_type": "markdown",
      "metadata": {},
      "source": [
        "## Data collection and pre-processing"
      ]
    },
    {
      "cell_type": "code",
      "execution_count": null,
      "metadata": {},
      "outputs": [],
      "source": [
        "# --------------------------\n",
        "# Getting Clients dataset\n",
        "# -------------------------\n",
        "# Dataset path\n",
        "# file_path = '/content/drive/MyDrive/Colab Notebooks/(Researchs)/IC - Pessoal/1 - Modelos (Datasets do INMET de Sorocaba e região)/Datasets Brutos/Estacao_V0533 - Sao Roque/2024/INMET_SE_SP_V0533_SAO_ROQUE-Dataset_01-01-2024_A_31-12-2024.csv'\n",
        "file_path = 'Datasets Brutos/Estacao_V0533 - Sao Roque/2024/INMET_SE_SP_V0533_SAO_ROQUE-Dataset_01-01-2024_A_31-12-2024.csv'\n",
        "\n",
        "# Upload CSV file into DataFrame\n",
        "client2_df = pd.read_csv(file_path, encoding='latin-1', sep=';', decimal=',')"
      ]
    },
    {
      "cell_type": "code",
      "execution_count": null,
      "metadata": {},
      "outputs": [],
      "source": [
        "print(\"Dataframe format:\")\n",
        "print(f\" ↪Linhas: {client2_df.shape[0]} \\n ↪Colunas: {client2_df.shape[1]}\")\n",
        "\n",
        "print(\"\\n---\\n\")\n",
        "\n",
        "print(\"First 5 lines of the dataset:\")\n",
        "client2_df.head()"
      ]
    },
    {
      "cell_type": "code",
      "execution_count": null,
      "metadata": {},
      "outputs": [],
      "source": [
        "# Data general info\n",
        "print(\"General Dataset Information:\")\n",
        "print(client2_df.info())"
      ]
    },
    {
      "cell_type": "code",
      "execution_count": null,
      "metadata": {},
      "outputs": [],
      "source": [
        "print(\"Descriptive statistics:\")\n",
        "client2_df.describe()"
      ]
    },
    {
      "cell_type": "code",
      "execution_count": null,
      "metadata": {},
      "outputs": [],
      "source": [
        "# --------------------\n",
        "# Data Pre-Processing\n",
        "# --------------------\n",
        "\n",
        "# Replacing [0, 'Hora (UTC)'] value from '0' to '000'\n",
        "first_value = str(client2_df['Hora (UTC)'].iloc[0])\n",
        "modified_value = first_value.replace('0', '000', 1) if first_value == '0' else first_value\n",
        "client2_df.loc[0, 'Hora (UTC)'] = modified_value\n",
        "\n",
        "# Replacing ['Hora (UTC)'] column to fit '0' + 'Number' format\n",
        "client2_df['Hora (UTC)'] = client2_df['Hora (UTC)'].apply(lambda x: str(x).zfill(4))\n",
        "\n",
        "\n",
        "# Convert the UTC format to datetime format (only hour and minute)\n",
        "client2_df['Hora Datetime'] = pd.to_datetime(client2_df['Hora (UTC)'], format='%H%M').dt.time\n",
        "\n",
        "# Joining \"Data\" and \"Hora Datetime\" columns to create a \"Data e Hora Datetime\" column\n",
        "client2_df['Data e Hora (datetime)'] = client2_df['ï»¿\"Data\"'] + ' ' + client2_df['Hora Datetime'].astype(str)\n",
        "\n",
        "# Convert the \"Data e Hora (datetime)\" column to Datetime type\n",
        "client2_df['Data e Hora (datetime)'] = pd.to_datetime(client2_df['Data e Hora (datetime)'], format='%d/%m/%Y %H:%M:%S')\n",
        "\n",
        "client2_df['Data e Hora (datetime)'].head()\n"
      ]
    },
    {
      "cell_type": "code",
      "execution_count": null,
      "metadata": {},
      "outputs": [],
      "source": [
        "client2_df.head()"
      ]
    },
    {
      "cell_type": "code",
      "execution_count": null,
      "metadata": {},
      "outputs": [],
      "source": [
        "# Removing \"ï»¿\"Data\"\", \"Hora (UTC)\", \"Hora Datetime\" columns\n",
        "client2_df = client2_df.drop(columns=['ï»¿\"Data\"', 'Hora (UTC)', 'Hora Datetime'])\n",
        "# client2_df.head() # Displaying the head after dropping is not needed as it will be shown after inserting the column\n",
        "\n",
        "# Changing the position of the \"Data e Hora Datetime\" column in the dataframe\n",
        "column = 'Data e Hora (datetime)'\n",
        "removed_column = client2_df.pop(column)          # remove the column\n",
        "client2_df.insert(0, column, removed_column)     # insert the column in the new position\n",
        "\n",
        "# Display the DataFrame format and the resulting DataFrame\n",
        "print(\"DataFrame format:\")\n",
        "print(client2_df.shape)\n",
        "\n",
        "client2_df.head()"
      ]
    },
    {
      "cell_type": "code",
      "execution_count": null,
      "metadata": {},
      "outputs": [],
      "source": [
        "# Indexing of the 'Datetime' Date and Time\n",
        "client2_df.set_index('Data e Hora (datetime)', inplace=True)\n",
        "\n",
        "client2_df.head()"
      ]
    },
    {
      "cell_type": "code",
      "execution_count": null,
      "metadata": {},
      "outputs": [],
      "source": [
        "# Check missing values\n",
        "print(\"Amount of missing values per column:\")\n",
        "print(client2_df.isnull().sum())\n",
        "\n",
        "print(\"\\n --- \\n\")\n",
        "\n",
        "print(\"Percentage of missing values:\")\n",
        "print(client2_df.isnull().mean() * 100)"
      ]
    },
    {
      "cell_type": "code",
      "execution_count": null,
      "metadata": {},
      "outputs": [],
      "source": [
        "# Dropping columns with 100% missing values\n",
        "client2_df = client2_df.dropna(axis=1, how='all')\n",
        "\n",
        "# Check missing values\n",
        "print(\"Percentage of missing values:\")\n",
        "print(client2_df.isnull().mean() * 100)"
      ]
    },
    {
      "cell_type": "code",
      "execution_count": null,
      "metadata": {},
      "outputs": [],
      "source": [
        "# pd.set_option('display.max_rows', None)  # Mostra todas as linhas"
      ]
    },
    {
      "cell_type": "code",
      "execution_count": null,
      "metadata": {},
      "outputs": [],
      "source": [
        "client2_df.head()"
      ]
    },
    {
      "cell_type": "code",
      "execution_count": null,
      "metadata": {},
      "outputs": [],
      "source": [
        "# pd.set_option('display.max_columns', None)  # (Opcional) Mostra todas as colunas"
      ]
    },
    {
      "cell_type": "markdown",
      "metadata": {},
      "source": [
        "----- Visualization of Client-1 dataset -----"
      ]
    },
    {
      "cell_type": "code",
      "execution_count": null,
      "metadata": {},
      "outputs": [],
      "source": [
        "# Filters the data by interval\n",
        "client2_df_intervalo = client2_df.loc['2024-01-01 00:00:00':'2024-02-28 00:00:00']"
      ]
    },
    {
      "cell_type": "code",
      "execution_count": null,
      "metadata": {},
      "outputs": [],
      "source": [
        "# ------------------------------------\n",
        "# For January and February only\n",
        "# ------------------------------------\n",
        "\n",
        "# Creating subplots manually with adjustments\n",
        "fig, axes = plt.subplots(nrows=4, ncols=1, figsize=(12, 25), gridspec_kw={'height_ratios': [5, 5, 5, 5]})       # `height_ratios` defines the relative heights of the subplots\n",
        "\n",
        "# Adding plots individually\n",
        "client2_df_intervalo.plot(y=client2_df_intervalo.columns[3], ax=axes[0], color='red', legend=True, title=client2_df_intervalo.columns[3])\n",
        "client2_df_intervalo.plot(y=client2_df_intervalo.columns[0], ax=axes[1], color='purple', legend=True, title=client2_df_intervalo.columns[0])\n",
        "client2_df_intervalo.plot(y=client2_df_intervalo.columns[1], ax=axes[2], color='green', legend=True, title=client2_df_intervalo.columns[1])\n",
        "client2_df_intervalo.plot(y=client2_df_intervalo.columns[2], ax=axes[3], color='orange', legend=True, title=client2_df_intervalo.columns[2])\n",
        "\n",
        "# Iterate over each subplot\n",
        "for ax in axes:\n",
        "  ax.grid(axis='y')             # Activate grid for the y-axis\n",
        "  ax.legend(loc='upper right')  # Move legend to the upper right corner\n",
        "\n",
        "# Adjusting axis labels\n",
        "axes[0].set_ylabel(client2_df_intervalo.columns[3])\n",
        "axes[1].set_ylabel(client2_df_intervalo.columns[0])\n",
        "axes[2].set_ylabel(client2_df_intervalo.columns[1])\n",
        "axes[3].set_ylabel(client2_df_intervalo.columns[2])\n",
        "#axes[3].set_xlabel('Date and Time')  # Only the last plot needs an X-axis label\n",
        "\n",
        "# Adjusting spacing between plots\n",
        "plt.tight_layout()  # Adjust spacing between subplots\n",
        "plt.show()"
      ]
    },
    {
      "cell_type": "code",
      "execution_count": null,
      "metadata": {},
      "outputs": [],
      "source": [
        "# ------------------------------------\n",
        "# All data period \n",
        "# ------------------------------------\n",
        "\n",
        "# Creating subplots manually with adjustments\n",
        "fig, axes = plt.subplots(nrows=4, ncols=1, figsize=(12, 25), gridspec_kw={'height_ratios': [5, 5, 5, 5]})       # `height_ratios` defines the relative heights of the subplots\n",
        "\n",
        "# Adding plots individually\n",
        "client2_df.plot(y=client2_df.columns[3], ax=axes[0], color='red', legend=True, title=client2_df.columns[3])\n",
        "client2_df.plot(y=client2_df.columns[0], ax=axes[1], color='purple', legend=True, title=client2_df.columns[0])\n",
        "client2_df.plot(y=client2_df.columns[1], ax=axes[2], color='green', legend=True, title=client2_df.columns[1])\n",
        "client2_df.plot(y=client2_df.columns[2], ax=axes[3], color='orange', legend=True, title=client2_df.columns[2])\n",
        "\n",
        "# Iterate over each subplot\n",
        "for ax in axes:\n",
        "  ax.grid(axis='y')             # Activate grid for the y-axis\n",
        "  ax.legend(loc='upper right')  # Move legend to the upper right corner\n",
        "\n",
        "# Adjusting axis labels\n",
        "axes[0].set_ylabel(client2_df.columns[3])\n",
        "axes[1].set_ylabel(client2_df.columns[0])\n",
        "axes[2].set_ylabel(client2_df.columns[1])\n",
        "axes[3].set_ylabel(client2_df.columns[2])\n",
        "#axes[3].set_xlabel('Date and Time')  # Only the last plot needs an X-axis label\n",
        "\n",
        "# Adjusting spacing between plots\n",
        "plt.tight_layout()  # Adjust spacing between subplots\n",
        "plt.show()"
      ]
    },
    {
      "cell_type": "code",
      "execution_count": null,
      "metadata": {},
      "outputs": [],
      "source": [
        "# Fill missing values (~=5%) performing the interpolation only on columns with NaN\n",
        "for column in client2_df.columns:\n",
        "    if client2_df[column].isnull().any():\n",
        "        client2_df[column] = client2_df[column].interpolate(method='linear')  # Interpolação linear"
      ]
    },
    {
      "cell_type": "code",
      "execution_count": null,
      "metadata": {},
      "outputs": [],
      "source": [
        "# Check missing values\n",
        "print(\"Amount of missing values per column:\")\n",
        "print(client2_df.isnull().sum())\n",
        "\n",
        "print(\"\\n --- \\n\")\n",
        "\n",
        "print(\"Percentage of missing values:\")\n",
        "print(client2_df.isnull().mean() * 100)"
      ]
    },
    {
      "cell_type": "markdown",
      "metadata": {},
      "source": [
        "Checking the main features visually"
      ]
    },
    {
      "cell_type": "code",
      "execution_count": null,
      "metadata": {},
      "outputs": [],
      "source": [
        "# Filters the data by interval\n",
        "client2_df_intervalo = client2_df.loc['2024-01-01 00:00:00':'2024-02-28 00:00:00']"
      ]
    },
    {
      "cell_type": "code",
      "execution_count": null,
      "metadata": {},
      "outputs": [],
      "source": [
        "# ------------------------------------\n",
        "# For January and February only\n",
        "# ------------------------------------\n",
        "\n",
        "# Creating subplots manually with adjustments\n",
        "fig, axes = plt.subplots(nrows=4, ncols=1, figsize=(12, 25), gridspec_kw={'height_ratios': [5, 5, 5, 5]})       # `height_ratios` defines the relative heights of the subplots\n",
        "\n",
        "# Adding plots individually\n",
        "client2_df_intervalo.plot(y=client2_df_intervalo.columns[3], ax=axes[0], color='red', legend=True, title=client2_df_intervalo.columns[3])\n",
        "client2_df_intervalo.plot(y=client2_df_intervalo.columns[0], ax=axes[1], color='purple', legend=True, title=client2_df_intervalo.columns[0])\n",
        "client2_df_intervalo.plot(y=client2_df_intervalo.columns[1], ax=axes[2], color='green', legend=True, title=client2_df_intervalo.columns[1])\n",
        "client2_df_intervalo.plot(y=client2_df_intervalo.columns[2], ax=axes[3], color='orange', legend=True, title=client2_df_intervalo.columns[2])\n",
        "\n",
        "# Iterate over each subplot\n",
        "for ax in axes:\n",
        "  ax.grid(axis='y')             # Activate grid for the y-axis\n",
        "  ax.legend(loc='upper right')  # Move legend to the upper right corner\n",
        "\n",
        "# Adjusting axis labels\n",
        "axes[0].set_ylabel(client2_df_intervalo.columns[3])\n",
        "axes[1].set_ylabel(client2_df_intervalo.columns[0])\n",
        "axes[2].set_ylabel(client2_df_intervalo.columns[1])\n",
        "axes[3].set_ylabel(client2_df_intervalo.columns[2])\n",
        "#axes[3].set_xlabel('Date and Time')  # Only the last plot needs an X-axis label\n",
        "\n",
        "# Adjusting spacing between plots\n",
        "plt.tight_layout()  # Adjust spacing between subplots\n",
        "plt.show()"
      ]
    },
    {
      "cell_type": "code",
      "execution_count": null,
      "metadata": {},
      "outputs": [],
      "source": [
        "# ------------------------------------\n",
        "# For All period\n",
        "# ------------------------------------\n",
        "\n",
        "# Creating subplots manually with adjustments\n",
        "fig, axes = plt.subplots(nrows=4, ncols=1, figsize=(12, 25), gridspec_kw={'height_ratios': [5, 5, 5, 5]})       # `height_ratios` defines the relative heights of the subplots\n",
        "\n",
        "# Adding plots individually\n",
        "client2_df.plot(y=client2_df.columns[3], ax=axes[0], color='red', legend=True, title=client2_df.columns[3])\n",
        "client2_df.plot(y=client2_df.columns[0], ax=axes[1], color='purple', legend=True, title=client2_df.columns[0])\n",
        "client2_df.plot(y=client2_df.columns[1], ax=axes[2], color='green', legend=True, title=client2_df.columns[1])\n",
        "client2_df.plot(y=client2_df.columns[2], ax=axes[3], color='orange', legend=True, title=client2_df.columns[2])\n",
        "\n",
        "# Iterate over each subplot\n",
        "for ax in axes:\n",
        "  ax.grid(axis='y')             # Activate grid for the y-axis\n",
        "  ax.legend(loc='upper right')  # Move legend to the upper right corner\n",
        "\n",
        "# Adjusting axis labels\n",
        "axes[0].set_ylabel(client2_df.columns[3])\n",
        "axes[1].set_ylabel(client2_df.columns[0])\n",
        "axes[2].set_ylabel(client2_df.columns[1])\n",
        "axes[3].set_ylabel(client2_df.columns[2])\n",
        "#axes[3].set_xlabel('Date and Time')  # Only the last plot needs an X-axis label\n",
        "\n",
        "# Adjusting spacing between plots\n",
        "plt.tight_layout()  # Adjust spacing between subplots\n",
        "plt.show()"
      ]
    },
    {
      "cell_type": "markdown",
      "metadata": {},
      "source": [
        "## Target feature and implementation of Sliding Window"
      ]
    },
    {
      "cell_type": "code",
      "execution_count": null,
      "metadata": {},
      "outputs": [],
      "source": [
        "client2_df.head()"
      ]
    },
    {
      "cell_type": "code",
      "execution_count": null,
      "metadata": {},
      "outputs": [],
      "source": [
        "# Changing the position of the \"Data e Hora Datetime\" column in the dataframe\n",
        "column = 'Chuva (mm)'\n",
        "removed_column = client2_df.pop(column)          # remove the column\n",
        "client2_df.insert(0, column, removed_column)     # insert the column in the new position\n",
        "\n",
        "# Display the DataFrame format and the resulting DataFrame\n",
        "print(\"DataFrame format:\")\n",
        "print(client2_df.shape)\n",
        "\n",
        "client2_df.head()"
      ]
    },
    {
      "cell_type": "code",
      "execution_count": null,
      "metadata": {},
      "outputs": [],
      "source": [
        "# ----------------------------------------------------------------------\n",
        "# Creating the Target feature 'Chuva (mm) (t+1)'\n",
        "# ----------------------------------------------------------------------\n",
        "\n",
        "client2_df['Chuva (mm) (t+1)'] = client2_df['Chuva (mm)'].shift(-1)\n",
        "\n",
        "# Shift the new target column to the beginning of the DataFrame\n",
        "target_column = 'Chuva (mm) (t+1)'\n",
        "removed_target_column = client2_df.pop(target_column)\n",
        "client2_df.insert(0, target_column, removed_target_column)\n",
        "\n",
        "# Remove NaN value from target\n",
        "client2_df.dropna(subset=['Chuva (mm) (t+1)'], inplace=True)\n",
        "\n",
        "client2_df.tail()"
      ]
    },
    {
      "cell_type": "markdown",
      "metadata": {},
      "source": [
        "## Saving data as `.csv`"
      ]
    },
    {
      "cell_type": "code",
      "execution_count": null,
      "metadata": {},
      "outputs": [],
      "source": [
        "# ------------------------\n",
        "# Showing Dataset features\n",
        "# ------------------------\n",
        "\n",
        "# Plota cada coluna individualmente\n",
        "for col in client2_df.columns:\n",
        "    plt.figure(figsize=(12, 4))\n",
        "    plt.plot(client2_df.index, client2_df[col])\n",
        "    plt.title(col)\n",
        "    plt.xlabel('Data e Hora (datetime)')\n",
        "    plt.ylabel(col)\n",
        "    plt.grid(True)\n",
        "    plt.show()\n",
        "\n",
        "client2_df.info()"
      ]
    },
    {
      "cell_type": "code",
      "execution_count": null,
      "metadata": {},
      "outputs": [],
      "source": [
        "# ------------------------\n",
        "# Saving data as CSV file\n",
        "# ------------------------\n",
        "import os\n",
        "\n",
        "# output_dir = '/content/drive/MyDrive/Colab Notebooks/(Researchs)/IC - Pessoal/1 - Modelos (Datasets do INMET de Sorocaba e região)/Datasets tratados/2024'\n",
        "output_dir = 'Datasets tratados/2024'\n",
        "\n",
        "os.makedirs(output_dir, exist_ok=True)\n",
        "\n",
        "client2_df.to_csv(os.path.join(output_dir, 'Processed_Data_2024-Client-10_V0533_Sao Roque.csv'), index=False)\n"
      ]
    }
  ],
  "metadata": {
    "colab": {
      "provenance": [],
      "toc_visible": true
    },
    "kernelspec": {
      "display_name": "DL_env",
      "language": "python",
      "name": "python3"
    },
    "language_info": {
      "codemirror_mode": {
        "name": "ipython",
        "version": 3
      },
      "file_extension": ".py",
      "mimetype": "text/x-python",
      "name": "python",
      "nbconvert_exporter": "python",
      "pygments_lexer": "ipython3",
      "version": "3.10.18"
    }
  },
  "nbformat": 4,
  "nbformat_minor": 0
}
